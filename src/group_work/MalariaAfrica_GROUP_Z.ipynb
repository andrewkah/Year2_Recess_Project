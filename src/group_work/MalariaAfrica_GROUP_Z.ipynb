{
 "cells": [
  {
   "cell_type": "code",
   "execution_count": 30,
   "metadata": {},
   "outputs": [],
   "source": [
    "# importing common libraries\n",
    "import matplotlib.pyplot as plt\n",
    "import pandas as pd\n",
    "import numpy as np\n",
    "import seaborn as sns\n",
    "from sklearn.linear_model import LinearRegression\n",
    "from sklearn.metrics import mean_squared_error, r2_score\n",
    "from mlxtend.frequent_patterns import apriori, association_rules\n",
    "from sklearn.model_selection import train_test_split\n",
    "\n",
    "\n",
    "# warnings\n",
    "import warnings\n",
    "warnings.filterwarnings('ignore')"
   ]
  },
  {
   "cell_type": "code",
   "execution_count": null,
   "metadata": {},
   "outputs": [],
   "source": []
  },
  {
   "cell_type": "code",
   "execution_count": 31,
   "metadata": {},
   "outputs": [
    {
     "data": {
      "text/html": [
       "<div>\n",
       "<style scoped>\n",
       "    .dataframe tbody tr th:only-of-type {\n",
       "        vertical-align: middle;\n",
       "    }\n",
       "\n",
       "    .dataframe tbody tr th {\n",
       "        vertical-align: top;\n",
       "    }\n",
       "\n",
       "    .dataframe thead th {\n",
       "        text-align: right;\n",
       "    }\n",
       "</style>\n",
       "<table border=\"1\" class=\"dataframe\">\n",
       "  <thead>\n",
       "    <tr style=\"text-align: right;\">\n",
       "      <th></th>\n",
       "      <th>Country Name</th>\n",
       "      <th>Year</th>\n",
       "      <th>Country Code</th>\n",
       "      <th>Incidence of malaria (per 1,000 population at risk)</th>\n",
       "      <th>Malaria cases reported</th>\n",
       "      <th>Use of insecticide-treated bed nets (% of under-5 population)</th>\n",
       "      <th>Children with fever receiving antimalarial drugs (% of children under age 5 with fever)</th>\n",
       "      <th>Intermittent preventive treatment (IPT) of malaria in pregnancy (% of pregnant women)</th>\n",
       "      <th>People using safely managed drinking water services (% of population)</th>\n",
       "      <th>People using safely managed drinking water services, rural (% of rural population)</th>\n",
       "      <th>...</th>\n",
       "      <th>Urban population growth (annual %)</th>\n",
       "      <th>People using at least basic drinking water services (% of population)</th>\n",
       "      <th>People using at least basic drinking water services, rural (% of rural population)</th>\n",
       "      <th>People using at least basic drinking water services, urban (% of urban population)</th>\n",
       "      <th>People using at least basic sanitation services (% of population)</th>\n",
       "      <th>People using at least basic sanitation services, rural (% of rural population)</th>\n",
       "      <th>People using at least basic sanitation services, urban  (% of urban population)</th>\n",
       "      <th>latitude</th>\n",
       "      <th>longitude</th>\n",
       "      <th>geometry</th>\n",
       "    </tr>\n",
       "  </thead>\n",
       "  <tbody>\n",
       "    <tr>\n",
       "      <th>0</th>\n",
       "      <td>Algeria</td>\n",
       "      <td>2007</td>\n",
       "      <td>DZA</td>\n",
       "      <td>0.01</td>\n",
       "      <td>26.0</td>\n",
       "      <td>NaN</td>\n",
       "      <td>NaN</td>\n",
       "      <td>NaN</td>\n",
       "      <td>NaN</td>\n",
       "      <td>NaN</td>\n",
       "      <td>...</td>\n",
       "      <td>2.71</td>\n",
       "      <td>91.68</td>\n",
       "      <td>85.83</td>\n",
       "      <td>94.78</td>\n",
       "      <td>85.85</td>\n",
       "      <td>76.94</td>\n",
       "      <td>90.57</td>\n",
       "      <td>28.033886</td>\n",
       "      <td>1.659626</td>\n",
       "      <td>POINT (28.033886 1.659626)</td>\n",
       "    </tr>\n",
       "    <tr>\n",
       "      <th>1</th>\n",
       "      <td>Angola</td>\n",
       "      <td>2007</td>\n",
       "      <td>AGO</td>\n",
       "      <td>286.72</td>\n",
       "      <td>1533485.0</td>\n",
       "      <td>18.0</td>\n",
       "      <td>29.8</td>\n",
       "      <td>1.5</td>\n",
       "      <td>NaN</td>\n",
       "      <td>NaN</td>\n",
       "      <td>...</td>\n",
       "      <td>5.01</td>\n",
       "      <td>47.96</td>\n",
       "      <td>23.77</td>\n",
       "      <td>65.83</td>\n",
       "      <td>37.26</td>\n",
       "      <td>14.00</td>\n",
       "      <td>54.44</td>\n",
       "      <td>-11.202692</td>\n",
       "      <td>17.873887</td>\n",
       "      <td>POINT (-11.202692 17.873887)</td>\n",
       "    </tr>\n",
       "    <tr>\n",
       "      <th>2</th>\n",
       "      <td>Benin</td>\n",
       "      <td>2007</td>\n",
       "      <td>BEN</td>\n",
       "      <td>480.24</td>\n",
       "      <td>0.0</td>\n",
       "      <td>NaN</td>\n",
       "      <td>NaN</td>\n",
       "      <td>NaN</td>\n",
       "      <td>NaN</td>\n",
       "      <td>NaN</td>\n",
       "      <td>...</td>\n",
       "      <td>4.09</td>\n",
       "      <td>63.78</td>\n",
       "      <td>54.92</td>\n",
       "      <td>76.24</td>\n",
       "      <td>11.80</td>\n",
       "      <td>4.29</td>\n",
       "      <td>22.36</td>\n",
       "      <td>9.307690</td>\n",
       "      <td>2.315834</td>\n",
       "      <td>POINT (9.307689999999999 2.315834)</td>\n",
       "    </tr>\n",
       "    <tr>\n",
       "      <th>3</th>\n",
       "      <td>Botswana</td>\n",
       "      <td>2007</td>\n",
       "      <td>BWA</td>\n",
       "      <td>1.03</td>\n",
       "      <td>390.0</td>\n",
       "      <td>NaN</td>\n",
       "      <td>NaN</td>\n",
       "      <td>NaN</td>\n",
       "      <td>NaN</td>\n",
       "      <td>NaN</td>\n",
       "      <td>...</td>\n",
       "      <td>4.80</td>\n",
       "      <td>78.89</td>\n",
       "      <td>57.60</td>\n",
       "      <td>94.35</td>\n",
       "      <td>61.60</td>\n",
       "      <td>39.99</td>\n",
       "      <td>77.30</td>\n",
       "      <td>-22.328474</td>\n",
       "      <td>24.684866</td>\n",
       "      <td>POINT (-22.328474 24.684866)</td>\n",
       "    </tr>\n",
       "    <tr>\n",
       "      <th>4</th>\n",
       "      <td>Burkina Faso</td>\n",
       "      <td>2007</td>\n",
       "      <td>BFA</td>\n",
       "      <td>503.80</td>\n",
       "      <td>44246.0</td>\n",
       "      <td>NaN</td>\n",
       "      <td>NaN</td>\n",
       "      <td>NaN</td>\n",
       "      <td>NaN</td>\n",
       "      <td>NaN</td>\n",
       "      <td>...</td>\n",
       "      <td>5.91</td>\n",
       "      <td>52.27</td>\n",
       "      <td>45.13</td>\n",
       "      <td>76.15</td>\n",
       "      <td>15.60</td>\n",
       "      <td>6.38</td>\n",
       "      <td>46.49</td>\n",
       "      <td>12.238333</td>\n",
       "      <td>-1.561593</td>\n",
       "      <td>POINT (12.238333 -1.561593)</td>\n",
       "    </tr>\n",
       "    <tr>\n",
       "      <th>5</th>\n",
       "      <td>Burundi</td>\n",
       "      <td>2007</td>\n",
       "      <td>BDI</td>\n",
       "      <td>222.92</td>\n",
       "      <td>1101644.0</td>\n",
       "      <td>NaN</td>\n",
       "      <td>NaN</td>\n",
       "      <td>NaN</td>\n",
       "      <td>NaN</td>\n",
       "      <td>NaN</td>\n",
       "      <td>...</td>\n",
       "      <td>5.82</td>\n",
       "      <td>54.73</td>\n",
       "      <td>51.39</td>\n",
       "      <td>85.24</td>\n",
       "      <td>45.91</td>\n",
       "      <td>46.26</td>\n",
       "      <td>42.78</td>\n",
       "      <td>-3.373056</td>\n",
       "      <td>29.918886</td>\n",
       "      <td>POINT (-3.373056 29.918886)</td>\n",
       "    </tr>\n",
       "    <tr>\n",
       "      <th>6</th>\n",
       "      <td>Cabo Verde</td>\n",
       "      <td>2007</td>\n",
       "      <td>CPV</td>\n",
       "      <td>0.15</td>\n",
       "      <td>18.0</td>\n",
       "      <td>NaN</td>\n",
       "      <td>NaN</td>\n",
       "      <td>NaN</td>\n",
       "      <td>NaN</td>\n",
       "      <td>NaN</td>\n",
       "      <td>...</td>\n",
       "      <td>2.66</td>\n",
       "      <td>81.39</td>\n",
       "      <td>71.02</td>\n",
       "      <td>88.48</td>\n",
       "      <td>54.85</td>\n",
       "      <td>38.90</td>\n",
       "      <td>65.77</td>\n",
       "      <td>16.002082</td>\n",
       "      <td>-24.013197</td>\n",
       "      <td>POINT (16.002082 -24.013197)</td>\n",
       "    </tr>\n",
       "    <tr>\n",
       "      <th>7</th>\n",
       "      <td>Cameroon</td>\n",
       "      <td>2007</td>\n",
       "      <td>CMR</td>\n",
       "      <td>386.68</td>\n",
       "      <td>0.0</td>\n",
       "      <td>NaN</td>\n",
       "      <td>NaN</td>\n",
       "      <td>NaN</td>\n",
       "      <td>NaN</td>\n",
       "      <td>NaN</td>\n",
       "      <td>...</td>\n",
       "      <td>3.96</td>\n",
       "      <td>60.09</td>\n",
       "      <td>38.85</td>\n",
       "      <td>81.55</td>\n",
       "      <td>39.25</td>\n",
       "      <td>23.01</td>\n",
       "      <td>55.66</td>\n",
       "      <td>7.369722</td>\n",
       "      <td>12.354722</td>\n",
       "      <td>POINT (7.369722 12.354722)</td>\n",
       "    </tr>\n",
       "    <tr>\n",
       "      <th>8</th>\n",
       "      <td>Central African Republic</td>\n",
       "      <td>2007</td>\n",
       "      <td>CAF</td>\n",
       "      <td>471.11</td>\n",
       "      <td>0.0</td>\n",
       "      <td>NaN</td>\n",
       "      <td>NaN</td>\n",
       "      <td>NaN</td>\n",
       "      <td>NaN</td>\n",
       "      <td>NaN</td>\n",
       "      <td>...</td>\n",
       "      <td>2.30</td>\n",
       "      <td>51.10</td>\n",
       "      <td>38.18</td>\n",
       "      <td>71.87</td>\n",
       "      <td>20.55</td>\n",
       "      <td>8.76</td>\n",
       "      <td>39.50</td>\n",
       "      <td>6.611111</td>\n",
       "      <td>20.939444</td>\n",
       "      <td>POINT (6.611111 20.939444)</td>\n",
       "    </tr>\n",
       "    <tr>\n",
       "      <th>9</th>\n",
       "      <td>Chad</td>\n",
       "      <td>2007</td>\n",
       "      <td>TCD</td>\n",
       "      <td>210.71</td>\n",
       "      <td>48288.0</td>\n",
       "      <td>NaN</td>\n",
       "      <td>NaN</td>\n",
       "      <td>NaN</td>\n",
       "      <td>NaN</td>\n",
       "      <td>NaN</td>\n",
       "      <td>...</td>\n",
       "      <td>3.55</td>\n",
       "      <td>40.34</td>\n",
       "      <td>30.88</td>\n",
       "      <td>74.12</td>\n",
       "      <td>11.15</td>\n",
       "      <td>5.75</td>\n",
       "      <td>30.45</td>\n",
       "      <td>15.454166</td>\n",
       "      <td>18.732207</td>\n",
       "      <td>POINT (15.454166 18.732207)</td>\n",
       "    </tr>\n",
       "  </tbody>\n",
       "</table>\n",
       "<p>10 rows × 27 columns</p>\n",
       "</div>"
      ],
      "text/plain": [
       "               Country Name  Year Country Code  \\\n",
       "0                   Algeria  2007          DZA   \n",
       "1                    Angola  2007          AGO   \n",
       "2                     Benin  2007          BEN   \n",
       "3                  Botswana  2007          BWA   \n",
       "4              Burkina Faso  2007          BFA   \n",
       "5                   Burundi  2007          BDI   \n",
       "6                Cabo Verde  2007          CPV   \n",
       "7                  Cameroon  2007          CMR   \n",
       "8  Central African Republic  2007          CAF   \n",
       "9                      Chad  2007          TCD   \n",
       "\n",
       "   Incidence of malaria (per 1,000 population at risk)  \\\n",
       "0                                               0.01     \n",
       "1                                             286.72     \n",
       "2                                             480.24     \n",
       "3                                               1.03     \n",
       "4                                             503.80     \n",
       "5                                             222.92     \n",
       "6                                               0.15     \n",
       "7                                             386.68     \n",
       "8                                             471.11     \n",
       "9                                             210.71     \n",
       "\n",
       "   Malaria cases reported  \\\n",
       "0                    26.0   \n",
       "1               1533485.0   \n",
       "2                     0.0   \n",
       "3                   390.0   \n",
       "4                 44246.0   \n",
       "5               1101644.0   \n",
       "6                    18.0   \n",
       "7                     0.0   \n",
       "8                     0.0   \n",
       "9                 48288.0   \n",
       "\n",
       "   Use of insecticide-treated bed nets (% of under-5 population)  \\\n",
       "0                                                NaN               \n",
       "1                                               18.0               \n",
       "2                                                NaN               \n",
       "3                                                NaN               \n",
       "4                                                NaN               \n",
       "5                                                NaN               \n",
       "6                                                NaN               \n",
       "7                                                NaN               \n",
       "8                                                NaN               \n",
       "9                                                NaN               \n",
       "\n",
       "   Children with fever receiving antimalarial drugs (% of children under age 5 with fever)  \\\n",
       "0                                                NaN                                         \n",
       "1                                               29.8                                         \n",
       "2                                                NaN                                         \n",
       "3                                                NaN                                         \n",
       "4                                                NaN                                         \n",
       "5                                                NaN                                         \n",
       "6                                                NaN                                         \n",
       "7                                                NaN                                         \n",
       "8                                                NaN                                         \n",
       "9                                                NaN                                         \n",
       "\n",
       "   Intermittent preventive treatment (IPT) of malaria in pregnancy (% of pregnant women)  \\\n",
       "0                                                NaN                                       \n",
       "1                                                1.5                                       \n",
       "2                                                NaN                                       \n",
       "3                                                NaN                                       \n",
       "4                                                NaN                                       \n",
       "5                                                NaN                                       \n",
       "6                                                NaN                                       \n",
       "7                                                NaN                                       \n",
       "8                                                NaN                                       \n",
       "9                                                NaN                                       \n",
       "\n",
       "   People using safely managed drinking water services (% of population)  \\\n",
       "0                                                NaN                       \n",
       "1                                                NaN                       \n",
       "2                                                NaN                       \n",
       "3                                                NaN                       \n",
       "4                                                NaN                       \n",
       "5                                                NaN                       \n",
       "6                                                NaN                       \n",
       "7                                                NaN                       \n",
       "8                                                NaN                       \n",
       "9                                                NaN                       \n",
       "\n",
       "   People using safely managed drinking water services, rural (% of rural population)  \\\n",
       "0                                                NaN                                    \n",
       "1                                                NaN                                    \n",
       "2                                                NaN                                    \n",
       "3                                                NaN                                    \n",
       "4                                                NaN                                    \n",
       "5                                                NaN                                    \n",
       "6                                                NaN                                    \n",
       "7                                                NaN                                    \n",
       "8                                                NaN                                    \n",
       "9                                                NaN                                    \n",
       "\n",
       "   ...  Urban population growth (annual %)  \\\n",
       "0  ...                                2.71   \n",
       "1  ...                                5.01   \n",
       "2  ...                                4.09   \n",
       "3  ...                                4.80   \n",
       "4  ...                                5.91   \n",
       "5  ...                                5.82   \n",
       "6  ...                                2.66   \n",
       "7  ...                                3.96   \n",
       "8  ...                                2.30   \n",
       "9  ...                                3.55   \n",
       "\n",
       "   People using at least basic drinking water services (% of population)  \\\n",
       "0                                              91.68                       \n",
       "1                                              47.96                       \n",
       "2                                              63.78                       \n",
       "3                                              78.89                       \n",
       "4                                              52.27                       \n",
       "5                                              54.73                       \n",
       "6                                              81.39                       \n",
       "7                                              60.09                       \n",
       "8                                              51.10                       \n",
       "9                                              40.34                       \n",
       "\n",
       "   People using at least basic drinking water services, rural (% of rural population)  \\\n",
       "0                                              85.83                                    \n",
       "1                                              23.77                                    \n",
       "2                                              54.92                                    \n",
       "3                                              57.60                                    \n",
       "4                                              45.13                                    \n",
       "5                                              51.39                                    \n",
       "6                                              71.02                                    \n",
       "7                                              38.85                                    \n",
       "8                                              38.18                                    \n",
       "9                                              30.88                                    \n",
       "\n",
       "   People using at least basic drinking water services, urban (% of urban population)  \\\n",
       "0                                              94.78                                    \n",
       "1                                              65.83                                    \n",
       "2                                              76.24                                    \n",
       "3                                              94.35                                    \n",
       "4                                              76.15                                    \n",
       "5                                              85.24                                    \n",
       "6                                              88.48                                    \n",
       "7                                              81.55                                    \n",
       "8                                              71.87                                    \n",
       "9                                              74.12                                    \n",
       "\n",
       "   People using at least basic sanitation services (% of population)  \\\n",
       "0                                              85.85                   \n",
       "1                                              37.26                   \n",
       "2                                              11.80                   \n",
       "3                                              61.60                   \n",
       "4                                              15.60                   \n",
       "5                                              45.91                   \n",
       "6                                              54.85                   \n",
       "7                                              39.25                   \n",
       "8                                              20.55                   \n",
       "9                                              11.15                   \n",
       "\n",
       "   People using at least basic sanitation services, rural (% of rural population)  \\\n",
       "0                                              76.94                                \n",
       "1                                              14.00                                \n",
       "2                                               4.29                                \n",
       "3                                              39.99                                \n",
       "4                                               6.38                                \n",
       "5                                              46.26                                \n",
       "6                                              38.90                                \n",
       "7                                              23.01                                \n",
       "8                                               8.76                                \n",
       "9                                               5.75                                \n",
       "\n",
       "   People using at least basic sanitation services, urban  (% of urban population)  \\\n",
       "0                                              90.57                                 \n",
       "1                                              54.44                                 \n",
       "2                                              22.36                                 \n",
       "3                                              77.30                                 \n",
       "4                                              46.49                                 \n",
       "5                                              42.78                                 \n",
       "6                                              65.77                                 \n",
       "7                                              55.66                                 \n",
       "8                                              39.50                                 \n",
       "9                                              30.45                                 \n",
       "\n",
       "    latitude  longitude                            geometry  \n",
       "0  28.033886   1.659626          POINT (28.033886 1.659626)  \n",
       "1 -11.202692  17.873887        POINT (-11.202692 17.873887)  \n",
       "2   9.307690   2.315834  POINT (9.307689999999999 2.315834)  \n",
       "3 -22.328474  24.684866        POINT (-22.328474 24.684866)  \n",
       "4  12.238333  -1.561593         POINT (12.238333 -1.561593)  \n",
       "5  -3.373056  29.918886         POINT (-3.373056 29.918886)  \n",
       "6  16.002082 -24.013197        POINT (16.002082 -24.013197)  \n",
       "7   7.369722  12.354722          POINT (7.369722 12.354722)  \n",
       "8   6.611111  20.939444          POINT (6.611111 20.939444)  \n",
       "9  15.454166  18.732207         POINT (15.454166 18.732207)  \n",
       "\n",
       "[10 rows x 27 columns]"
      ]
     },
     "execution_count": 31,
     "metadata": {},
     "output_type": "execute_result"
    }
   ],
   "source": [
    "# load dataset\n",
    "\n",
    "dataset = pd.read_csv(\"../../resources/datasets/MalariaAfricaDataset.csv\")\n",
    "df = pd.DataFrame(dataset)\n",
    "df.head(10)"
   ]
  },
  {
   "cell_type": "code",
   "execution_count": 32,
   "metadata": {},
   "outputs": [
    {
     "name": "stdout",
     "output_type": "stream",
     "text": [
      "Number of columns: 27\n",
      "Number of rows: 594\n"
     ]
    }
   ],
   "source": [
    "# number of rows and columns\n",
    "number_of_columns = df.shape[1]\n",
    "number_of_rows = df.shape[0]\n",
    "print(f'Number of columns: {number_of_columns}')\n",
    "print(f'Number of rows: {number_of_rows}')"
   ]
  },
  {
   "cell_type": "code",
   "execution_count": 33,
   "metadata": {},
   "outputs": [
    {
     "data": {
      "text/plain": [
       "Index(['Country Name', 'Year', 'Country Code',\n",
       "       'Incidence of malaria (per 1,000 population at risk)',\n",
       "       'Malaria cases reported',\n",
       "       'Use of insecticide-treated bed nets (% of under-5 population)',\n",
       "       'Children with fever receiving antimalarial drugs (% of children under age 5 with fever)',\n",
       "       'Intermittent preventive treatment (IPT) of malaria in pregnancy (% of pregnant women)',\n",
       "       'People using safely managed drinking water services (% of population)',\n",
       "       'People using safely managed drinking water services, rural (% of rural population)',\n",
       "       'People using safely managed drinking water services, urban (% of urban population)',\n",
       "       'People using safely managed sanitation services (% of population)',\n",
       "       'People using safely managed sanitation services, rural (% of rural population)',\n",
       "       'People using safely managed sanitation services, urban  (% of urban population)',\n",
       "       'Rural population (% of total population)',\n",
       "       'Rural population growth (annual %)',\n",
       "       'Urban population (% of total population)',\n",
       "       'Urban population growth (annual %)',\n",
       "       'People using at least basic drinking water services (% of population)',\n",
       "       'People using at least basic drinking water services, rural (% of rural population)',\n",
       "       'People using at least basic drinking water services, urban (% of urban population)',\n",
       "       'People using at least basic sanitation services (% of population)',\n",
       "       'People using at least basic sanitation services, rural (% of rural population)',\n",
       "       'People using at least basic sanitation services, urban  (% of urban population)',\n",
       "       'latitude', 'longitude', 'geometry'],\n",
       "      dtype='object')"
      ]
     },
     "execution_count": 33,
     "metadata": {},
     "output_type": "execute_result"
    }
   ],
   "source": [
    "# Column names\n",
    "df.columns"
   ]
  },
  {
   "cell_type": "code",
   "execution_count": 34,
   "metadata": {},
   "outputs": [
    {
     "data": {
      "text/plain": [
       "Country Name                                                                                object\n",
       "Year                                                                                         int64\n",
       "Country Code                                                                                object\n",
       "Incidence of malaria (per 1,000 population at risk)                                        float64\n",
       "Malaria cases reported                                                                     float64\n",
       "Use of insecticide-treated bed nets (% of under-5 population)                              float64\n",
       "Children with fever receiving antimalarial drugs (% of children under age 5 with fever)    float64\n",
       "Intermittent preventive treatment (IPT) of malaria in pregnancy (% of pregnant women)      float64\n",
       "People using safely managed drinking water services (% of population)                      float64\n",
       "People using safely managed drinking water services, rural (% of rural population)         float64\n",
       "People using safely managed drinking water services, urban (% of urban population)         float64\n",
       "People using safely managed sanitation services (% of population)                          float64\n",
       "People using safely managed sanitation services, rural (% of rural population)             float64\n",
       "People using safely managed sanitation services, urban  (% of urban population)            float64\n",
       "Rural population (% of total population)                                                   float64\n",
       "Rural population growth (annual %)                                                         float64\n",
       "Urban population (% of total population)                                                   float64\n",
       "Urban population growth (annual %)                                                         float64\n",
       "People using at least basic drinking water services (% of population)                      float64\n",
       "People using at least basic drinking water services, rural (% of rural population)         float64\n",
       "People using at least basic drinking water services, urban (% of urban population)         float64\n",
       "People using at least basic sanitation services (% of population)                          float64\n",
       "People using at least basic sanitation services, rural (% of rural population)             float64\n",
       "People using at least basic sanitation services, urban  (% of urban population)            float64\n",
       "latitude                                                                                   float64\n",
       "longitude                                                                                  float64\n",
       "geometry                                                                                    object\n",
       "dtype: object"
      ]
     },
     "execution_count": 34,
     "metadata": {},
     "output_type": "execute_result"
    }
   ],
   "source": [
    "# column datatypes\n",
    "df.dtypes"
   ]
  },
  {
   "cell_type": "code",
   "execution_count": 35,
   "metadata": {},
   "outputs": [
    {
     "data": {
      "text/plain": [
       "Country Name                                                                                object\n",
       "Year                                                                                         int32\n",
       "Country Code                                                                                object\n",
       "Incidence of malaria (per 1,000 population at risk)                                        float64\n",
       "Malaria cases reported                                                                     float64\n",
       "Use of insecticide-treated bed nets (% of under-5 population)                              float64\n",
       "Children with fever receiving antimalarial drugs (% of children under age 5 with fever)    float64\n",
       "Intermittent preventive treatment (IPT) of malaria in pregnancy (% of pregnant women)      float64\n",
       "People using safely managed drinking water services (% of population)                      float64\n",
       "People using safely managed drinking water services, rural (% of rural population)         float64\n",
       "People using safely managed drinking water services, urban (% of urban population)         float64\n",
       "People using safely managed sanitation services (% of population)                          float64\n",
       "People using safely managed sanitation services, rural (% of rural population)             float64\n",
       "People using safely managed sanitation services, urban  (% of urban population)            float64\n",
       "Rural population (% of total population)                                                   float64\n",
       "Rural population growth (annual %)                                                         float64\n",
       "Urban population (% of total population)                                                   float64\n",
       "Urban population growth (annual %)                                                         float64\n",
       "People using at least basic drinking water services (% of population)                      float64\n",
       "People using at least basic drinking water services, rural (% of rural population)         float64\n",
       "People using at least basic drinking water services, urban (% of urban population)         float64\n",
       "People using at least basic sanitation services (% of population)                          float64\n",
       "People using at least basic sanitation services, rural (% of rural population)             float64\n",
       "People using at least basic sanitation services, urban  (% of urban population)            float64\n",
       "latitude                                                                                   float64\n",
       "longitude                                                                                  float64\n",
       "geometry                                                                                    object\n",
       "dtype: object"
      ]
     },
     "execution_count": 35,
     "metadata": {},
     "output_type": "execute_result"
    }
   ],
   "source": [
    "# Converting year datatype to datetime\n",
    "df['Year'] = pd.to_datetime(df.Year,format='%Y').dt.year\n",
    "df.dtypes"
   ]
  },
  {
   "cell_type": "code",
   "execution_count": 36,
   "metadata": {},
   "outputs": [],
   "source": [
    "# Renaming columns\n",
    "new_column_names = {\n",
    "    'Country Name': 'Country',\n",
    "    'Year': 'Year',\n",
    "    'Country code': 'Country_code',\n",
    "    'Malaria cases reported': 'Reported_cases',\n",
    "    'Incidence of malaria (per 1,000 population at risk)': 'Incidences_per_1000_population_at_risk',\n",
    "    'Intermittent preventive treatment (IPT) of malaria in pregnancy (% of pregnant women)': '%_of_pregnant_women_using_IPT',\n",
    "    'Use of insecticide-treated bed nets (% of under-5 population)': '%_using_IBNs',\n",
    "    'Children with fever receiving antimalarial drugs (% of children under age 5 with fever)': '%_of_children_under_age_5_with_fever',\n",
    "    'Rural population (% of total population)': '%_of_rural_population',\n",
    "    'Urban population (% of total population)': '%_of_urban_population',\n",
    "    'Rural population growth (annual %)': 'annual_%_growth_of_rural_population',\n",
    "    'Urban population growth (annual %)': 'annual_%_growth_of_urban_population',\n",
    "    'People using safely managed sanitation services (% of population)': '%_using_safe_sanity_services',\n",
    "    'People using safely managed sanitation services, urban  (% of urban population)': '%_of_urban_using_safe_sanity_services',\n",
    "    'People using safely managed sanitation services, rural (% of rural population)': '%_of_rural_using_safe_sanity_services',\n",
    "    'People using at least basic sanitation services (% of population)': '%_using_atleast_basic_sanity_services',\n",
    "    'People using at least basic sanitation services, urban  (% of urban population)': '%_of_urban_using_atleast_basic_sanity_services',\n",
    "    'People using at least basic sanitation services, rural (% of rural population)': '%_of_rural_using_atleast_basic_sanity_services',\n",
    "    'People using at least basic drinking water services (% of population)': '%_using_atleast_basic_drinking_water_services',\n",
    "    'People using at least basic drinking water services, urban (% of urban population)': '%_of_urban_using_atleast_basic_drinking_water_services',\n",
    "    'People using at least basic drinking water services, rural (% of rural population)': '%_of_rural_using_atleast_basic_drinking_water_services',\n",
    "    'People using safely managed drinking water services (% of population)': '%_using_safe_drinking_water_services',\n",
    "    'People using safely managed drinking water services, urban (% of urban population)': '%_of_urban_using_safe_drinking_water_services',\n",
    "    'People using safely managed drinking water services, rural (% of rural population)': '%_of_rural_using_safe_drinking_water_services',\n",
    "    'longitude': 'longitude',\n",
    "    'latitude': 'latitude',\n",
    "    'geometry': 'geometry'\n",
    "}\n",
    "\n",
    "df.rename(columns=new_column_names, inplace=True)\n"
   ]
  },
  {
   "cell_type": "code",
   "execution_count": 37,
   "metadata": {},
   "outputs": [
    {
     "data": {
      "text/plain": [
       "Index(['Country', 'Year', 'Country Code',\n",
       "       'Incidences_per_1000_population_at_risk', 'Reported_cases',\n",
       "       '%_using_IBNs', '%_of_children_under_age_5_with_fever',\n",
       "       '%_of_pregnant_women_using_IPT', '%_using_safe_drinking_water_services',\n",
       "       '%_of_rural_using_safe_drinking_water_services',\n",
       "       '%_of_urban_using_safe_drinking_water_services',\n",
       "       '%_using_safe_sanity_services', '%_of_rural_using_safe_sanity_services',\n",
       "       '%_of_urban_using_safe_sanity_services', '%_of_rural_population',\n",
       "       'annual_%_growth_of_rural_population', '%_of_urban_population',\n",
       "       'annual_%_growth_of_urban_population',\n",
       "       '%_using_atleast_basic_drinking_water_services',\n",
       "       '%_of_rural_using_atleast_basic_drinking_water_services',\n",
       "       '%_of_urban_using_atleast_basic_drinking_water_services',\n",
       "       '%_using_atleast_basic_sanity_services',\n",
       "       '%_of_rural_using_atleast_basic_sanity_services',\n",
       "       '%_of_urban_using_atleast_basic_sanity_services', 'latitude',\n",
       "       'longitude', 'geometry'],\n",
       "      dtype='object')"
      ]
     },
     "execution_count": 37,
     "metadata": {},
     "output_type": "execute_result"
    }
   ],
   "source": [
    "# Review changes\n",
    "df.columns"
   ]
  },
  {
   "cell_type": "code",
   "execution_count": 38,
   "metadata": {},
   "outputs": [
    {
     "data": {
      "text/plain": [
       "%_of_rural_using_safe_drinking_water_services             506\n",
       "%_using_safe_drinking_water_services                      495\n",
       "%_of_pregnant_women_using_IPT                             488\n",
       "%_of_rural_using_safe_sanity_services                     484\n",
       "%_of_children_under_age_5_with_fever                      472\n",
       "%_of_urban_using_safe_sanity_services                     462\n",
       "%_using_safe_sanity_services                              462\n",
       "%_using_IBNs                                              462\n",
       "%_of_urban_using_safe_drinking_water_services             418\n",
       "Reported_cases                                             44\n",
       "Incidences_per_1000_population_at_risk                     44\n",
       "%_of_urban_using_atleast_basic_sanity_services             28\n",
       "%_of_rural_using_atleast_basic_drinking_water_services     28\n",
       "%_of_urban_using_atleast_basic_drinking_water_services     28\n",
       "%_of_rural_using_atleast_basic_sanity_services             28\n",
       "%_of_rural_population                                       6\n",
       "annual_%_growth_of_rural_population                         6\n",
       "%_of_urban_population                                       6\n",
       "annual_%_growth_of_urban_population                         6\n",
       "%_using_atleast_basic_drinking_water_services               6\n",
       "%_using_atleast_basic_sanity_services                       6\n",
       "longitude                                                   0\n",
       "latitude                                                    0\n",
       "Country                                                     0\n",
       "Year                                                        0\n",
       "Country Code                                                0\n",
       "geometry                                                    0\n",
       "dtype: int64"
      ]
     },
     "execution_count": 38,
     "metadata": {},
     "output_type": "execute_result"
    }
   ],
   "source": [
    "# number of missing values per column in descending order\n",
    "number_of_missing_values = df.isnull().sum().sort_values(ascending=False)\n",
    "number_of_missing_values"
   ]
  },
  {
   "cell_type": "code",
   "execution_count": 39,
   "metadata": {},
   "outputs": [
    {
     "data": {
      "text/plain": [
       "%_of_rural_using_safe_drinking_water_services             85.19%\n",
       "%_using_safe_drinking_water_services                      83.33%\n",
       "%_of_pregnant_women_using_IPT                             82.15%\n",
       "%_of_rural_using_safe_sanity_services                     81.48%\n",
       "%_of_children_under_age_5_with_fever                      79.46%\n",
       "%_of_urban_using_safe_sanity_services                     77.78%\n",
       "%_using_safe_sanity_services                              77.78%\n",
       "%_using_IBNs                                              77.78%\n",
       "%_of_urban_using_safe_drinking_water_services             70.37%\n",
       "Reported_cases                                             7.41%\n",
       "Incidences_per_1000_population_at_risk                     7.41%\n",
       "%_of_urban_using_atleast_basic_sanity_services             4.71%\n",
       "%_of_rural_using_atleast_basic_drinking_water_services     4.71%\n",
       "%_of_urban_using_atleast_basic_drinking_water_services     4.71%\n",
       "%_of_rural_using_atleast_basic_sanity_services             4.71%\n",
       "%_of_rural_population                                      1.01%\n",
       "annual_%_growth_of_rural_population                        1.01%\n",
       "%_of_urban_population                                      1.01%\n",
       "annual_%_growth_of_urban_population                        1.01%\n",
       "%_using_atleast_basic_drinking_water_services              1.01%\n",
       "%_using_atleast_basic_sanity_services                      1.01%\n",
       "longitude                                                  0.00%\n",
       "latitude                                                   0.00%\n",
       "Country                                                    0.00%\n",
       "Year                                                       0.00%\n",
       "Country Code                                               0.00%\n",
       "geometry                                                   0.00%\n",
       "dtype: object"
      ]
     },
     "execution_count": 39,
     "metadata": {},
     "output_type": "execute_result"
    }
   ],
   "source": [
    "# Percentage of null values per column in descending order\n",
    "percentage_of_missing_values = (df.isnull().sum()/df.shape[0]*100).sort_values(ascending=False)\n",
    "percentage_of_missing_values = percentage_of_missing_values.apply(lambda x: f'{x:.2f}%')\n",
    "percentage_of_missing_values"
   ]
  },
  {
   "cell_type": "markdown",
   "metadata": {},
   "source": [
    "Checking for rows where the sum of '%_of_rural_population' and '%_of_urban_population' is not equal to 100"
   ]
  },
  {
   "cell_type": "code",
   "execution_count": 40,
   "metadata": {},
   "outputs": [
    {
     "name": "stdout",
     "output_type": "stream",
     "text": [
      "Number of such rows: 45\n"
     ]
    },
    {
     "data": {
      "text/html": [
       "<div>\n",
       "<style scoped>\n",
       "    .dataframe tbody tr th:only-of-type {\n",
       "        vertical-align: middle;\n",
       "    }\n",
       "\n",
       "    .dataframe tbody tr th {\n",
       "        vertical-align: top;\n",
       "    }\n",
       "\n",
       "    .dataframe thead th {\n",
       "        text-align: right;\n",
       "    }\n",
       "</style>\n",
       "<table border=\"1\" class=\"dataframe\">\n",
       "  <thead>\n",
       "    <tr style=\"text-align: right;\">\n",
       "      <th></th>\n",
       "      <th>Country</th>\n",
       "      <th>Year</th>\n",
       "      <th>%_of_rural_population</th>\n",
       "      <th>%_of_urban_population</th>\n",
       "      <th>%_of_total_population</th>\n",
       "    </tr>\n",
       "  </thead>\n",
       "  <tbody>\n",
       "    <tr>\n",
       "      <th>0</th>\n",
       "      <td>Malawi</td>\n",
       "      <td>2007</td>\n",
       "      <td>84.77</td>\n",
       "      <td>15.24</td>\n",
       "      <td>100.01</td>\n",
       "    </tr>\n",
       "    <tr>\n",
       "      <th>1</th>\n",
       "      <td>Senegal</td>\n",
       "      <td>2007</td>\n",
       "      <td>57.47</td>\n",
       "      <td>42.54</td>\n",
       "      <td>100.01</td>\n",
       "    </tr>\n",
       "    <tr>\n",
       "      <th>2</th>\n",
       "      <td>Seychelles</td>\n",
       "      <td>2007</td>\n",
       "      <td>47.72</td>\n",
       "      <td>52.29</td>\n",
       "      <td>100.01</td>\n",
       "    </tr>\n",
       "    <tr>\n",
       "      <th>3</th>\n",
       "      <td>Equatorial Guinea</td>\n",
       "      <td>2008</td>\n",
       "      <td>37.26</td>\n",
       "      <td>62.75</td>\n",
       "      <td>100.01</td>\n",
       "    </tr>\n",
       "    <tr>\n",
       "      <th>4</th>\n",
       "      <td>Eswatini</td>\n",
       "      <td>2008</td>\n",
       "      <td>77.96</td>\n",
       "      <td>22.05</td>\n",
       "      <td>100.01</td>\n",
       "    </tr>\n",
       "    <tr>\n",
       "      <th>5</th>\n",
       "      <td>Guinea-Bissau</td>\n",
       "      <td>2008</td>\n",
       "      <td>60.68</td>\n",
       "      <td>39.33</td>\n",
       "      <td>100.01</td>\n",
       "    </tr>\n",
       "    <tr>\n",
       "      <th>6</th>\n",
       "      <td>Rwanda</td>\n",
       "      <td>2008</td>\n",
       "      <td>83.08</td>\n",
       "      <td>16.93</td>\n",
       "      <td>100.01</td>\n",
       "    </tr>\n",
       "    <tr>\n",
       "      <th>7</th>\n",
       "      <td>South Sudan</td>\n",
       "      <td>2008</td>\n",
       "      <td>82.45</td>\n",
       "      <td>17.56</td>\n",
       "      <td>100.01</td>\n",
       "    </tr>\n",
       "    <tr>\n",
       "      <th>8</th>\n",
       "      <td>Gabon</td>\n",
       "      <td>2009</td>\n",
       "      <td>15.05</td>\n",
       "      <td>84.96</td>\n",
       "      <td>100.01</td>\n",
       "    </tr>\n",
       "    <tr>\n",
       "      <th>9</th>\n",
       "      <td>Liberia</td>\n",
       "      <td>2009</td>\n",
       "      <td>52.56</td>\n",
       "      <td>47.45</td>\n",
       "      <td>100.01</td>\n",
       "    </tr>\n",
       "    <tr>\n",
       "      <th>10</th>\n",
       "      <td>Niger</td>\n",
       "      <td>2009</td>\n",
       "      <td>83.78</td>\n",
       "      <td>16.23</td>\n",
       "      <td>100.01</td>\n",
       "    </tr>\n",
       "    <tr>\n",
       "      <th>11</th>\n",
       "      <td>Somalia</td>\n",
       "      <td>2009</td>\n",
       "      <td>62.36</td>\n",
       "      <td>37.65</td>\n",
       "      <td>100.01</td>\n",
       "    </tr>\n",
       "    <tr>\n",
       "      <th>12</th>\n",
       "      <td>Chad</td>\n",
       "      <td>2010</td>\n",
       "      <td>78.02</td>\n",
       "      <td>21.99</td>\n",
       "      <td>100.01</td>\n",
       "    </tr>\n",
       "    <tr>\n",
       "      <th>13</th>\n",
       "      <td>Eritrea</td>\n",
       "      <td>2010</td>\n",
       "      <td>64.83</td>\n",
       "      <td>35.18</td>\n",
       "      <td>100.01</td>\n",
       "    </tr>\n",
       "    <tr>\n",
       "      <th>14</th>\n",
       "      <td>Mauritius</td>\n",
       "      <td>2010</td>\n",
       "      <td>58.45</td>\n",
       "      <td>41.56</td>\n",
       "      <td>100.01</td>\n",
       "    </tr>\n",
       "    <tr>\n",
       "      <th>15</th>\n",
       "      <td>Zambia</td>\n",
       "      <td>2010</td>\n",
       "      <td>60.65</td>\n",
       "      <td>39.36</td>\n",
       "      <td>100.01</td>\n",
       "    </tr>\n",
       "    <tr>\n",
       "      <th>16</th>\n",
       "      <td>Botswana</td>\n",
       "      <td>2011</td>\n",
       "      <td>36.14</td>\n",
       "      <td>63.87</td>\n",
       "      <td>100.01</td>\n",
       "    </tr>\n",
       "    <tr>\n",
       "      <th>17</th>\n",
       "      <td>Burundi</td>\n",
       "      <td>2011</td>\n",
       "      <td>89.09</td>\n",
       "      <td>10.92</td>\n",
       "      <td>100.01</td>\n",
       "    </tr>\n",
       "    <tr>\n",
       "      <th>18</th>\n",
       "      <td>Central African Republic</td>\n",
       "      <td>2011</td>\n",
       "      <td>60.87</td>\n",
       "      <td>39.14</td>\n",
       "      <td>100.01</td>\n",
       "    </tr>\n",
       "    <tr>\n",
       "      <th>19</th>\n",
       "      <td>Ethiopia</td>\n",
       "      <td>2011</td>\n",
       "      <td>82.27</td>\n",
       "      <td>17.74</td>\n",
       "      <td>100.01</td>\n",
       "    </tr>\n",
       "    <tr>\n",
       "      <th>20</th>\n",
       "      <td>Zimbabwe</td>\n",
       "      <td>2011</td>\n",
       "      <td>66.99</td>\n",
       "      <td>33.02</td>\n",
       "      <td>100.01</td>\n",
       "    </tr>\n",
       "    <tr>\n",
       "      <th>21</th>\n",
       "      <td>Benin</td>\n",
       "      <td>2012</td>\n",
       "      <td>55.88</td>\n",
       "      <td>44.13</td>\n",
       "      <td>100.01</td>\n",
       "    </tr>\n",
       "    <tr>\n",
       "      <th>22</th>\n",
       "      <td>Gambia, The</td>\n",
       "      <td>2012</td>\n",
       "      <td>42.90</td>\n",
       "      <td>57.11</td>\n",
       "      <td>100.01</td>\n",
       "    </tr>\n",
       "    <tr>\n",
       "      <th>23</th>\n",
       "      <td>Guinea</td>\n",
       "      <td>2012</td>\n",
       "      <td>65.75</td>\n",
       "      <td>34.26</td>\n",
       "      <td>100.01</td>\n",
       "    </tr>\n",
       "    <tr>\n",
       "      <th>24</th>\n",
       "      <td>Ethiopia</td>\n",
       "      <td>2013</td>\n",
       "      <td>81.43</td>\n",
       "      <td>18.58</td>\n",
       "      <td>100.01</td>\n",
       "    </tr>\n",
       "    <tr>\n",
       "      <th>25</th>\n",
       "      <td>Guinea</td>\n",
       "      <td>2013</td>\n",
       "      <td>65.46</td>\n",
       "      <td>34.55</td>\n",
       "      <td>100.01</td>\n",
       "    </tr>\n",
       "    <tr>\n",
       "      <th>26</th>\n",
       "      <td>Liberia</td>\n",
       "      <td>2013</td>\n",
       "      <td>51.02</td>\n",
       "      <td>48.99</td>\n",
       "      <td>100.01</td>\n",
       "    </tr>\n",
       "    <tr>\n",
       "      <th>27</th>\n",
       "      <td>South Sudan</td>\n",
       "      <td>2013</td>\n",
       "      <td>81.59</td>\n",
       "      <td>18.42</td>\n",
       "      <td>100.01</td>\n",
       "    </tr>\n",
       "    <tr>\n",
       "      <th>28</th>\n",
       "      <td>Tunisia</td>\n",
       "      <td>2013</td>\n",
       "      <td>32.51</td>\n",
       "      <td>67.50</td>\n",
       "      <td>100.01</td>\n",
       "    </tr>\n",
       "    <tr>\n",
       "      <th>29</th>\n",
       "      <td>Zambia</td>\n",
       "      <td>2013</td>\n",
       "      <td>59.14</td>\n",
       "      <td>40.87</td>\n",
       "      <td>100.01</td>\n",
       "    </tr>\n",
       "    <tr>\n",
       "      <th>30</th>\n",
       "      <td>Congo, Rep.</td>\n",
       "      <td>2014</td>\n",
       "      <td>34.92</td>\n",
       "      <td>65.09</td>\n",
       "      <td>100.01</td>\n",
       "    </tr>\n",
       "    <tr>\n",
       "      <th>31</th>\n",
       "      <td>Guinea-Bissau</td>\n",
       "      <td>2014</td>\n",
       "      <td>58.29</td>\n",
       "      <td>41.72</td>\n",
       "      <td>100.01</td>\n",
       "    </tr>\n",
       "    <tr>\n",
       "      <th>32</th>\n",
       "      <td>Benin</td>\n",
       "      <td>2015</td>\n",
       "      <td>54.31</td>\n",
       "      <td>45.70</td>\n",
       "      <td>100.01</td>\n",
       "    </tr>\n",
       "    <tr>\n",
       "      <th>33</th>\n",
       "      <td>Botswana</td>\n",
       "      <td>2015</td>\n",
       "      <td>32.85</td>\n",
       "      <td>67.16</td>\n",
       "      <td>100.01</td>\n",
       "    </tr>\n",
       "    <tr>\n",
       "      <th>34</th>\n",
       "      <td>Chad</td>\n",
       "      <td>2015</td>\n",
       "      <td>77.49</td>\n",
       "      <td>22.52</td>\n",
       "      <td>100.01</td>\n",
       "    </tr>\n",
       "    <tr>\n",
       "      <th>35</th>\n",
       "      <td>Egypt, Arab Rep.</td>\n",
       "      <td>2015</td>\n",
       "      <td>57.22</td>\n",
       "      <td>42.79</td>\n",
       "      <td>100.01</td>\n",
       "    </tr>\n",
       "    <tr>\n",
       "      <th>36</th>\n",
       "      <td>Somalia</td>\n",
       "      <td>2015</td>\n",
       "      <td>56.76</td>\n",
       "      <td>43.25</td>\n",
       "      <td>100.01</td>\n",
       "    </tr>\n",
       "    <tr>\n",
       "      <th>37</th>\n",
       "      <td>Zimbabwe</td>\n",
       "      <td>2015</td>\n",
       "      <td>67.62</td>\n",
       "      <td>32.39</td>\n",
       "      <td>100.01</td>\n",
       "    </tr>\n",
       "    <tr>\n",
       "      <th>38</th>\n",
       "      <td>Kenya</td>\n",
       "      <td>2016</td>\n",
       "      <td>73.90</td>\n",
       "      <td>26.11</td>\n",
       "      <td>100.01</td>\n",
       "    </tr>\n",
       "    <tr>\n",
       "      <th>39</th>\n",
       "      <td>Egypt, Arab Rep.</td>\n",
       "      <td>2017</td>\n",
       "      <td>57.30</td>\n",
       "      <td>42.71</td>\n",
       "      <td>100.01</td>\n",
       "    </tr>\n",
       "    <tr>\n",
       "      <th>40</th>\n",
       "      <td>Eswatini</td>\n",
       "      <td>2017</td>\n",
       "      <td>76.38</td>\n",
       "      <td>23.63</td>\n",
       "      <td>100.01</td>\n",
       "    </tr>\n",
       "    <tr>\n",
       "      <th>41</th>\n",
       "      <td>Guinea-Bissau</td>\n",
       "      <td>2017</td>\n",
       "      <td>57.06</td>\n",
       "      <td>42.95</td>\n",
       "      <td>100.01</td>\n",
       "    </tr>\n",
       "    <tr>\n",
       "      <th>42</th>\n",
       "      <td>Mozambique</td>\n",
       "      <td>2017</td>\n",
       "      <td>64.55</td>\n",
       "      <td>35.46</td>\n",
       "      <td>100.01</td>\n",
       "    </tr>\n",
       "    <tr>\n",
       "      <th>43</th>\n",
       "      <td>Namibia</td>\n",
       "      <td>2017</td>\n",
       "      <td>51.00</td>\n",
       "      <td>49.01</td>\n",
       "      <td>100.01</td>\n",
       "    </tr>\n",
       "    <tr>\n",
       "      <th>44</th>\n",
       "      <td>Rwanda</td>\n",
       "      <td>2017</td>\n",
       "      <td>82.88</td>\n",
       "      <td>17.13</td>\n",
       "      <td>100.01</td>\n",
       "    </tr>\n",
       "  </tbody>\n",
       "</table>\n",
       "</div>"
      ],
      "text/plain": [
       "                     Country  Year  %_of_rural_population  \\\n",
       "0                     Malawi  2007                  84.77   \n",
       "1                    Senegal  2007                  57.47   \n",
       "2                 Seychelles  2007                  47.72   \n",
       "3          Equatorial Guinea  2008                  37.26   \n",
       "4                   Eswatini  2008                  77.96   \n",
       "5              Guinea-Bissau  2008                  60.68   \n",
       "6                     Rwanda  2008                  83.08   \n",
       "7                South Sudan  2008                  82.45   \n",
       "8                      Gabon  2009                  15.05   \n",
       "9                    Liberia  2009                  52.56   \n",
       "10                     Niger  2009                  83.78   \n",
       "11                   Somalia  2009                  62.36   \n",
       "12                      Chad  2010                  78.02   \n",
       "13                   Eritrea  2010                  64.83   \n",
       "14                 Mauritius  2010                  58.45   \n",
       "15                    Zambia  2010                  60.65   \n",
       "16                  Botswana  2011                  36.14   \n",
       "17                   Burundi  2011                  89.09   \n",
       "18  Central African Republic  2011                  60.87   \n",
       "19                  Ethiopia  2011                  82.27   \n",
       "20                  Zimbabwe  2011                  66.99   \n",
       "21                     Benin  2012                  55.88   \n",
       "22               Gambia, The  2012                  42.90   \n",
       "23                    Guinea  2012                  65.75   \n",
       "24                  Ethiopia  2013                  81.43   \n",
       "25                    Guinea  2013                  65.46   \n",
       "26                   Liberia  2013                  51.02   \n",
       "27               South Sudan  2013                  81.59   \n",
       "28                   Tunisia  2013                  32.51   \n",
       "29                    Zambia  2013                  59.14   \n",
       "30               Congo, Rep.  2014                  34.92   \n",
       "31             Guinea-Bissau  2014                  58.29   \n",
       "32                     Benin  2015                  54.31   \n",
       "33                  Botswana  2015                  32.85   \n",
       "34                      Chad  2015                  77.49   \n",
       "35          Egypt, Arab Rep.  2015                  57.22   \n",
       "36                   Somalia  2015                  56.76   \n",
       "37                  Zimbabwe  2015                  67.62   \n",
       "38                     Kenya  2016                  73.90   \n",
       "39          Egypt, Arab Rep.  2017                  57.30   \n",
       "40                  Eswatini  2017                  76.38   \n",
       "41             Guinea-Bissau  2017                  57.06   \n",
       "42                Mozambique  2017                  64.55   \n",
       "43                   Namibia  2017                  51.00   \n",
       "44                    Rwanda  2017                  82.88   \n",
       "\n",
       "    %_of_urban_population  %_of_total_population  \n",
       "0                   15.24                 100.01  \n",
       "1                   42.54                 100.01  \n",
       "2                   52.29                 100.01  \n",
       "3                   62.75                 100.01  \n",
       "4                   22.05                 100.01  \n",
       "5                   39.33                 100.01  \n",
       "6                   16.93                 100.01  \n",
       "7                   17.56                 100.01  \n",
       "8                   84.96                 100.01  \n",
       "9                   47.45                 100.01  \n",
       "10                  16.23                 100.01  \n",
       "11                  37.65                 100.01  \n",
       "12                  21.99                 100.01  \n",
       "13                  35.18                 100.01  \n",
       "14                  41.56                 100.01  \n",
       "15                  39.36                 100.01  \n",
       "16                  63.87                 100.01  \n",
       "17                  10.92                 100.01  \n",
       "18                  39.14                 100.01  \n",
       "19                  17.74                 100.01  \n",
       "20                  33.02                 100.01  \n",
       "21                  44.13                 100.01  \n",
       "22                  57.11                 100.01  \n",
       "23                  34.26                 100.01  \n",
       "24                  18.58                 100.01  \n",
       "25                  34.55                 100.01  \n",
       "26                  48.99                 100.01  \n",
       "27                  18.42                 100.01  \n",
       "28                  67.50                 100.01  \n",
       "29                  40.87                 100.01  \n",
       "30                  65.09                 100.01  \n",
       "31                  41.72                 100.01  \n",
       "32                  45.70                 100.01  \n",
       "33                  67.16                 100.01  \n",
       "34                  22.52                 100.01  \n",
       "35                  42.79                 100.01  \n",
       "36                  43.25                 100.01  \n",
       "37                  32.39                 100.01  \n",
       "38                  26.11                 100.01  \n",
       "39                  42.71                 100.01  \n",
       "40                  23.63                 100.01  \n",
       "41                  42.95                 100.01  \n",
       "42                  35.46                 100.01  \n",
       "43                  49.01                 100.01  \n",
       "44                  17.13                 100.01  "
      ]
     },
     "execution_count": 40,
     "metadata": {},
     "output_type": "execute_result"
    }
   ],
   "source": [
    "# Obtain sum of %_of_rural_population and %_of_urban_population\n",
    "df['%_of_total_population'] = df[['%_of_rural_population', '%_of_urban_population']].sum(axis=1)\n",
    "# Checking for rows where %_of_rural_population + %_of_urban_population is not equal to 100\n",
    "invalid_total_population = df[(df['%_of_rural_population'].notnull()) & (df['%_of_urban_population'].notnull()) &\n",
    "                             (df['%_of_rural_population'] + df['%_of_urban_population'] != 100)].reset_index(drop=True)\n",
    "\n",
    "print(f'Number of such rows: {invalid_total_population.shape[0]}')\n",
    "    \n",
    "invalid_total_population[['Country', 'Year', '%_of_rural_population', '%_of_urban_population', '%_of_total_population']]"
   ]
  },
  {
   "cell_type": "markdown",
   "metadata": {},
   "source": [
    "Algorithm to normalize the '%_of_rural_population' and '%_of_urban_population' columns for rows where the sum is not 100."
   ]
  },
  {
   "cell_type": "code",
   "execution_count": 41,
   "metadata": {},
   "outputs": [],
   "source": [
    "# Algorithm to normalize %_of_rural_population and %_of_urban_population where the total population percentage is not 100\n",
    "def normalize_percentages(df):\n",
    "    for index, row in df.iterrows():\n",
    "        if pd.notnull(row['%_of_rural_population']) and pd.notnull(row['%_of_urban_population']) and \\\n",
    "                (row['%_of_rural_population'] + row['%_of_urban_population'] != 100):\n",
    "            # Calculate normalized values\n",
    "            normalized_rural_percentage = (row['%_of_rural_population'] / (row['%_of_rural_population'] + row['%_of_urban_population'])) * 100\n",
    "            normalized_urban_percentage = (row['%_of_urban_population'] / (row['%_of_rural_population'] + row['%_of_urban_population'])) * 100\n",
    "            # Round to 2 decimal places\n",
    "            normalized_rural_percentage = round(normalized_rural_percentage, 2)\n",
    "            normalized_urban_percentage = round(normalized_urban_percentage, 2)\n",
    "            # Assign the values to new columns\n",
    "            df.at[index, '%_of_rural_population'] = normalized_rural_percentage\n",
    "            df.at[index, '%_of_urban_population'] = normalized_urban_percentage\n",
    "    return df\n",
    "\n",
    "df = normalize_percentages(df)"
   ]
  },
  {
   "cell_type": "markdown",
   "metadata": {},
   "source": [
    "Review normalization results"
   ]
  },
  {
   "cell_type": "code",
   "execution_count": 42,
   "metadata": {},
   "outputs": [
    {
     "name": "stdout",
     "output_type": "stream",
     "text": [
      "Number of such rows: 0\n"
     ]
    },
    {
     "data": {
      "text/html": [
       "<div>\n",
       "<style scoped>\n",
       "    .dataframe tbody tr th:only-of-type {\n",
       "        vertical-align: middle;\n",
       "    }\n",
       "\n",
       "    .dataframe tbody tr th {\n",
       "        vertical-align: top;\n",
       "    }\n",
       "\n",
       "    .dataframe thead th {\n",
       "        text-align: right;\n",
       "    }\n",
       "</style>\n",
       "<table border=\"1\" class=\"dataframe\">\n",
       "  <thead>\n",
       "    <tr style=\"text-align: right;\">\n",
       "      <th></th>\n",
       "      <th>Country</th>\n",
       "      <th>Year</th>\n",
       "      <th>%_of_rural_population</th>\n",
       "      <th>%_of_urban_population</th>\n",
       "      <th>%_of_total_population</th>\n",
       "    </tr>\n",
       "  </thead>\n",
       "  <tbody>\n",
       "  </tbody>\n",
       "</table>\n",
       "</div>"
      ],
      "text/plain": [
       "Empty DataFrame\n",
       "Columns: [Country, Year, %_of_rural_population, %_of_urban_population, %_of_total_population]\n",
       "Index: []"
      ]
     },
     "execution_count": 42,
     "metadata": {},
     "output_type": "execute_result"
    }
   ],
   "source": [
    "# Checking for rows where %_of_rural_population + %_of_urban_population is not equal to 100\n",
    "new_invalid_total_population = df[(df['%_of_rural_population'].notnull()) & (df['%_of_urban_population'].notnull()) &\n",
    "                             (df['%_of_rural_population'] + df['%_of_urban_population'] != 100)].reset_index(drop=True)\n",
    "\n",
    "print(f'Number of such rows: {new_invalid_total_population.shape[0]}')\n",
    "    \n",
    "new_invalid_total_population[['Country', 'Year', '%_of_rural_population', '%_of_urban_population', '%_of_total_population']]"
   ]
  },
  {
   "cell_type": "markdown",
   "metadata": {},
   "source": [
    "Fill cells where values are \"Missing At Random\", which means that their values can be determined using values from other columns.\n",
    "\n",
    "The algorithm is based off of four equations which represent a mathematical relationship between some of the columns as shown below.\n",
    "1. %_using_safe_sanity_services = (%_of_rural_using_safe_sanity_services * %_of_rural_population) + (%_of_urban_using_safe_sanity_services * %_of_urban_population)/100\n",
    "\n",
    "2. %_using_atleast_basic_drinking_water_services = (%_of_rural_using_atleast_basic_drinking_water_services * %_of_rural_population) + (%_of_urban_using_atleast_basic_drinking_water_services * %_of_urban_population)/100\n",
    "\n",
    "3. %_using_atleast_basic_sanity_services = (%_of_rural_using_atleast_basic_sanity_services * %_of_rural_population) + (%_of_urban_using_atleast_basic_sanity_services * %_of_urban_population)/100\n",
    "\n",
    "4. %_using_safe_drinking_water_services = (%_of_rural_using_safe_drinking_water_services * %_of_rural_population) + (%_of_urban_using_safe_drinking_water_services * %_of_urban_population)/100\n",
    "\n",
    "Eritrea is the only country with null values in the '%_of_rural_population' and '%_of_urban_population' columns, which can be calculated using values provided in the columns '%_using_atleast_basic_sanity_services', '%_of_rural_using_atleast_basic_sanity_services', '%_of_urban_using_atleast_basic_sanity_services', '%_using_atleast_basic_drinking_water_services', '%_of_rural_using_atleast_basic_drinking_water_services', and '%_of_urban_using_atleast_basic_drinking_water_services'\n",
    "\n",
    "Eritrea is also the only contry with null values in the 'annual_&#37;\\_growth_of_rural_population' and 'annual\\_&#37;_growth_of_urban_population' columns\n",
    " "
   ]
  },
  {
   "cell_type": "code",
   "execution_count": 43,
   "metadata": {},
   "outputs": [
    {
     "data": {
      "text/html": [
       "<div>\n",
       "<style scoped>\n",
       "    .dataframe tbody tr th:only-of-type {\n",
       "        vertical-align: middle;\n",
       "    }\n",
       "\n",
       "    .dataframe tbody tr th {\n",
       "        vertical-align: top;\n",
       "    }\n",
       "\n",
       "    .dataframe thead th {\n",
       "        text-align: right;\n",
       "    }\n",
       "</style>\n",
       "<table border=\"1\" class=\"dataframe\">\n",
       "  <thead>\n",
       "    <tr style=\"text-align: right;\">\n",
       "      <th></th>\n",
       "      <th>Country</th>\n",
       "      <th>Year</th>\n",
       "      <th>%_of_rural_population</th>\n",
       "      <th>%_of_urban_population</th>\n",
       "      <th>annual_%_growth_of_rural_population</th>\n",
       "      <th>annual_%_growth_of_urban_population</th>\n",
       "    </tr>\n",
       "  </thead>\n",
       "  <tbody>\n",
       "    <tr>\n",
       "      <th>0</th>\n",
       "      <td>Eritrea</td>\n",
       "      <td>2007</td>\n",
       "      <td>66.98</td>\n",
       "      <td>33.02</td>\n",
       "      <td>1.22</td>\n",
       "      <td>5.62</td>\n",
       "    </tr>\n",
       "    <tr>\n",
       "      <th>1</th>\n",
       "      <td>Eritrea</td>\n",
       "      <td>2008</td>\n",
       "      <td>66.00</td>\n",
       "      <td>34.00</td>\n",
       "      <td>0.71</td>\n",
       "      <td>5.12</td>\n",
       "    </tr>\n",
       "    <tr>\n",
       "      <th>2</th>\n",
       "      <td>Eritrea</td>\n",
       "      <td>2009</td>\n",
       "      <td>65.41</td>\n",
       "      <td>34.59</td>\n",
       "      <td>0.96</td>\n",
       "      <td>3.55</td>\n",
       "    </tr>\n",
       "    <tr>\n",
       "      <th>3</th>\n",
       "      <td>Eritrea</td>\n",
       "      <td>2010</td>\n",
       "      <td>64.82</td>\n",
       "      <td>35.18</td>\n",
       "      <td>0.70</td>\n",
       "      <td>3.30</td>\n",
       "    </tr>\n",
       "    <tr>\n",
       "      <th>4</th>\n",
       "      <td>Eritrea</td>\n",
       "      <td>2011</td>\n",
       "      <td>64.23</td>\n",
       "      <td>35.77</td>\n",
       "      <td>0.44</td>\n",
       "      <td>3.04</td>\n",
       "    </tr>\n",
       "    <tr>\n",
       "      <th>5</th>\n",
       "      <td>Eritrea</td>\n",
       "      <td>2012</td>\n",
       "      <td>NaN</td>\n",
       "      <td>NaN</td>\n",
       "      <td>NaN</td>\n",
       "      <td>NaN</td>\n",
       "    </tr>\n",
       "    <tr>\n",
       "      <th>6</th>\n",
       "      <td>Eritrea</td>\n",
       "      <td>2013</td>\n",
       "      <td>NaN</td>\n",
       "      <td>NaN</td>\n",
       "      <td>NaN</td>\n",
       "      <td>NaN</td>\n",
       "    </tr>\n",
       "    <tr>\n",
       "      <th>7</th>\n",
       "      <td>Eritrea</td>\n",
       "      <td>2014</td>\n",
       "      <td>NaN</td>\n",
       "      <td>NaN</td>\n",
       "      <td>NaN</td>\n",
       "      <td>NaN</td>\n",
       "    </tr>\n",
       "    <tr>\n",
       "      <th>8</th>\n",
       "      <td>Eritrea</td>\n",
       "      <td>2015</td>\n",
       "      <td>NaN</td>\n",
       "      <td>NaN</td>\n",
       "      <td>NaN</td>\n",
       "      <td>NaN</td>\n",
       "    </tr>\n",
       "    <tr>\n",
       "      <th>9</th>\n",
       "      <td>Eritrea</td>\n",
       "      <td>2016</td>\n",
       "      <td>NaN</td>\n",
       "      <td>NaN</td>\n",
       "      <td>NaN</td>\n",
       "      <td>NaN</td>\n",
       "    </tr>\n",
       "    <tr>\n",
       "      <th>10</th>\n",
       "      <td>Eritrea</td>\n",
       "      <td>2017</td>\n",
       "      <td>NaN</td>\n",
       "      <td>NaN</td>\n",
       "      <td>NaN</td>\n",
       "      <td>NaN</td>\n",
       "    </tr>\n",
       "  </tbody>\n",
       "</table>\n",
       "</div>"
      ],
      "text/plain": [
       "    Country  Year  %_of_rural_population  %_of_urban_population  \\\n",
       "0   Eritrea  2007                  66.98                  33.02   \n",
       "1   Eritrea  2008                  66.00                  34.00   \n",
       "2   Eritrea  2009                  65.41                  34.59   \n",
       "3   Eritrea  2010                  64.82                  35.18   \n",
       "4   Eritrea  2011                  64.23                  35.77   \n",
       "5   Eritrea  2012                    NaN                    NaN   \n",
       "6   Eritrea  2013                    NaN                    NaN   \n",
       "7   Eritrea  2014                    NaN                    NaN   \n",
       "8   Eritrea  2015                    NaN                    NaN   \n",
       "9   Eritrea  2016                    NaN                    NaN   \n",
       "10  Eritrea  2017                    NaN                    NaN   \n",
       "\n",
       "    annual_%_growth_of_rural_population  annual_%_growth_of_urban_population  \n",
       "0                                  1.22                                 5.62  \n",
       "1                                  0.71                                 5.12  \n",
       "2                                  0.96                                 3.55  \n",
       "3                                  0.70                                 3.30  \n",
       "4                                  0.44                                 3.04  \n",
       "5                                   NaN                                  NaN  \n",
       "6                                   NaN                                  NaN  \n",
       "7                                   NaN                                  NaN  \n",
       "8                                   NaN                                  NaN  \n",
       "9                                   NaN                                  NaN  \n",
       "10                                  NaN                                  NaN  "
      ]
     },
     "execution_count": 43,
     "metadata": {},
     "output_type": "execute_result"
    }
   ],
   "source": [
    "# Obtain rows where the country is Eritrea\n",
    "eritrea = df[df['Country'] == 'Eritrea'].reset_index(drop=True)\n",
    "# Display population percentages\n",
    "eritrea[['Country', 'Year', '%_of_rural_population', '%_of_urban_population', 'annual_%_growth_of_rural_population', 'annual_%_growth_of_urban_population']]\n"
   ]
  },
  {
   "cell_type": "markdown",
   "metadata": {},
   "source": [
    "Algorithm to fill the %_of_rural_population and %_of_urban_population columns."
   ]
  },
  {
   "cell_type": "code",
   "execution_count": 44,
   "metadata": {},
   "outputs": [],
   "source": [
    "\n",
    "def fill_missing_percentage_population(df):\n",
    "    for index, row in df.iterrows():\n",
    "        if pd.notnull(row['%_using_atleast_basic_drinking_water_services']) and pd.notnull(row['%_of_rural_using_atleast_basic_drinking_water_services']) \\\n",
    "            and pd.notnull(row['%_of_urban_using_atleast_basic_drinking_water_services']) and pd.notnull(row['%_using_atleast_basic_sanity_services']) \\\n",
    "            and pd.notnull(row['%_of_rural_using_atleast_basic_sanity_services']) and pd.notnull(row['%_of_urban_using_atleast_basic_sanity_services']) and \\\n",
    "            pd.isnull(row['%_of_rural_population']) and pd.isnull(row['%_of_urban_population']):\n",
    "\n",
    "            coefficients = [[row['%_of_rural_using_atleast_basic_drinking_water_services']/100, row['%_of_urban_using_atleast_basic_drinking_water_services']/100],\n",
    "                                     [row['%_of_rural_using_atleast_basic_sanity_services']/100, row['%_of_urban_using_atleast_basic_sanity_services']/100]]\n",
    "            constants = [row['%_using_atleast_basic_drinking_water_services'], row['%_using_atleast_basic_sanity_services']]\n",
    "            \n",
    "            try:\n",
    "                # Try to solve the system using the regular solve() function\n",
    "                solution = np.linalg.solve(coefficients, constants)\n",
    "                rural_population_percentage = float(format(solution[0], '.2f'))\n",
    "                urban_population_percentage = float(format(solution[1], '.2f'))\n",
    "\n",
    "            except np.linalg.LinAlgError as e:\n",
    "                # If the matrix is singular, use the inverse instead\n",
    "                print(f\"Warning: {e}\")\n",
    "                inverse = np.linalg.pinv(coefficients)\n",
    "                solution = np.dot(inverse, constants)\n",
    "                rural_population_percentage = float(format(solution[0], '.2f'))\n",
    "                urban_population_percentage = float(format(solution[1], '.2f'))\n",
    "\n",
    "            if (rural_population_percentage + urban_population_percentage) != 100:\n",
    "                 # Calculate normalized values\n",
    "                normalized_rural_percentage = (rural_population_percentage / (rural_population_percentage + urban_population_percentage)) * 100\n",
    "                normalized_urban_percentage = (urban_population_percentage / (rural_population_percentage + urban_population_percentage)) * 100\n",
    "                # Round to 2 decimal places\n",
    "                normalized_rural_percentage = round(normalized_rural_percentage, 2)\n",
    "                normalized_urban_percentage = round(normalized_urban_percentage, 2)\n",
    "                # Assign the values to new columns\n",
    "                df.at[index, '%_of_rural_population'] = normalized_rural_percentage\n",
    "                df.at[index, '%_of_urban_population'] = normalized_urban_percentage\n",
    "            else:\n",
    "                df.at[index, '%_of_rural_population'] = rural_population_percentage\n",
    "                df.at[index, '%_of_urban_population'] = urban_population_percentage\n",
    "        \n",
    "        # For rows with no values for '%_of_rural_using_atleast_basic_drinking_water_services', '%_of_urban_using_atleast_basic_drinking_water_services',\n",
    "        # '%_of_rural_using_atleast_basic_sanity_services', and '%_of_urban_using_atleast_basic_sanity_services' insert 0's because they can't be calculated\n",
    "        if pd.notnull(row['%_using_atleast_basic_drinking_water_services']) and pd.isnull(row['%_of_rural_using_atleast_basic_drinking_water_services']) \\\n",
    "            and pd.isnull(row['%_of_urban_using_atleast_basic_drinking_water_services']) and pd.notnull(row['%_using_atleast_basic_sanity_services']) \\\n",
    "            and pd.isnull(row['%_of_rural_using_atleast_basic_sanity_services']) and pd.isnull(row['%_of_urban_using_atleast_basic_sanity_services']) and \\\n",
    "            pd.notnull(row['%_of_rural_population']) and pd.notnull(row['%_of_urban_population']):\n",
    "\n",
    "            df.at[index, '%_of_rural_using_atleast_basic_drinking_water_services'] = 0.00\n",
    "            df.at[index, '%_of_urban_using_atleast_basic_drinking_water_services'] = 0.00\n",
    "            df.at[index, '%_of_rural_using_atleast_basic_sanity_services'] = 0.00\n",
    "            df.at[index, '%_of_urban_using_atleast_basic_sanity_services'] = 0.00\n",
    "\n",
    "    return df        \n",
    "\n",
    "            \n",
    "df = fill_missing_percentage_population(df)"
   ]
  },
  {
   "cell_type": "markdown",
   "metadata": {},
   "source": [
    "We can now see that '%_of_rural_population' and '%_of_urban_population' have been filled.\n",
    "\n",
    "The last row, however, still has null values because '%_using_atleast_basic_drinking_water_services', '%_of_rural_using_atleast_basic_drinking_water_services', '%_of_urban_using_atleast_basic_drinking_water_services', '%_using_atleast_basic_sanity_services', '%_of_rural_using_atleast_basic_sanity_services', '%_of_urban_using_atleast_basic_sanity_services' are null and yet these are the values required by the algorithm to calculate the '%_of_rural_population' and '%_of_urban_population'"
   ]
  },
  {
   "cell_type": "code",
   "execution_count": 45,
   "metadata": {},
   "outputs": [
    {
     "name": "stdout",
     "output_type": "stream",
     "text": [
      "One row still has null values for '%_of_rural_population' and '%_of_urban_population' because the columns whose values are used to calculate them were null\n"
     ]
    },
    {
     "data": {
      "text/html": [
       "<div>\n",
       "<style scoped>\n",
       "    .dataframe tbody tr th:only-of-type {\n",
       "        vertical-align: middle;\n",
       "    }\n",
       "\n",
       "    .dataframe tbody tr th {\n",
       "        vertical-align: top;\n",
       "    }\n",
       "\n",
       "    .dataframe thead th {\n",
       "        text-align: right;\n",
       "    }\n",
       "</style>\n",
       "<table border=\"1\" class=\"dataframe\">\n",
       "  <thead>\n",
       "    <tr style=\"text-align: right;\">\n",
       "      <th></th>\n",
       "      <th>Country</th>\n",
       "      <th>Year</th>\n",
       "      <th>%_of_rural_population</th>\n",
       "      <th>%_of_urban_population</th>\n",
       "      <th>annual_%_growth_of_rural_population</th>\n",
       "      <th>annual_%_growth_of_urban_population</th>\n",
       "    </tr>\n",
       "  </thead>\n",
       "  <tbody>\n",
       "    <tr>\n",
       "      <th>0</th>\n",
       "      <td>Eritrea</td>\n",
       "      <td>2007</td>\n",
       "      <td>66.98</td>\n",
       "      <td>33.02</td>\n",
       "      <td>1.22</td>\n",
       "      <td>5.62</td>\n",
       "    </tr>\n",
       "    <tr>\n",
       "      <th>1</th>\n",
       "      <td>Eritrea</td>\n",
       "      <td>2008</td>\n",
       "      <td>66.00</td>\n",
       "      <td>34.00</td>\n",
       "      <td>0.71</td>\n",
       "      <td>5.12</td>\n",
       "    </tr>\n",
       "    <tr>\n",
       "      <th>2</th>\n",
       "      <td>Eritrea</td>\n",
       "      <td>2009</td>\n",
       "      <td>65.41</td>\n",
       "      <td>34.59</td>\n",
       "      <td>0.96</td>\n",
       "      <td>3.55</td>\n",
       "    </tr>\n",
       "    <tr>\n",
       "      <th>3</th>\n",
       "      <td>Eritrea</td>\n",
       "      <td>2010</td>\n",
       "      <td>64.82</td>\n",
       "      <td>35.18</td>\n",
       "      <td>0.70</td>\n",
       "      <td>3.30</td>\n",
       "    </tr>\n",
       "    <tr>\n",
       "      <th>4</th>\n",
       "      <td>Eritrea</td>\n",
       "      <td>2011</td>\n",
       "      <td>64.23</td>\n",
       "      <td>35.77</td>\n",
       "      <td>0.44</td>\n",
       "      <td>3.04</td>\n",
       "    </tr>\n",
       "    <tr>\n",
       "      <th>5</th>\n",
       "      <td>Eritrea</td>\n",
       "      <td>2012</td>\n",
       "      <td>63.46</td>\n",
       "      <td>36.54</td>\n",
       "      <td>NaN</td>\n",
       "      <td>NaN</td>\n",
       "    </tr>\n",
       "    <tr>\n",
       "      <th>6</th>\n",
       "      <td>Eritrea</td>\n",
       "      <td>2013</td>\n",
       "      <td>62.88</td>\n",
       "      <td>37.12</td>\n",
       "      <td>NaN</td>\n",
       "      <td>NaN</td>\n",
       "    </tr>\n",
       "    <tr>\n",
       "      <th>7</th>\n",
       "      <td>Eritrea</td>\n",
       "      <td>2014</td>\n",
       "      <td>62.20</td>\n",
       "      <td>37.80</td>\n",
       "      <td>NaN</td>\n",
       "      <td>NaN</td>\n",
       "    </tr>\n",
       "    <tr>\n",
       "      <th>8</th>\n",
       "      <td>Eritrea</td>\n",
       "      <td>2015</td>\n",
       "      <td>61.72</td>\n",
       "      <td>38.28</td>\n",
       "      <td>NaN</td>\n",
       "      <td>NaN</td>\n",
       "    </tr>\n",
       "    <tr>\n",
       "      <th>9</th>\n",
       "      <td>Eritrea</td>\n",
       "      <td>2016</td>\n",
       "      <td>61.15</td>\n",
       "      <td>38.85</td>\n",
       "      <td>NaN</td>\n",
       "      <td>NaN</td>\n",
       "    </tr>\n",
       "    <tr>\n",
       "      <th>10</th>\n",
       "      <td>Eritrea</td>\n",
       "      <td>2017</td>\n",
       "      <td>NaN</td>\n",
       "      <td>NaN</td>\n",
       "      <td>NaN</td>\n",
       "      <td>NaN</td>\n",
       "    </tr>\n",
       "  </tbody>\n",
       "</table>\n",
       "</div>"
      ],
      "text/plain": [
       "    Country  Year  %_of_rural_population  %_of_urban_population  \\\n",
       "0   Eritrea  2007                  66.98                  33.02   \n",
       "1   Eritrea  2008                  66.00                  34.00   \n",
       "2   Eritrea  2009                  65.41                  34.59   \n",
       "3   Eritrea  2010                  64.82                  35.18   \n",
       "4   Eritrea  2011                  64.23                  35.77   \n",
       "5   Eritrea  2012                  63.46                  36.54   \n",
       "6   Eritrea  2013                  62.88                  37.12   \n",
       "7   Eritrea  2014                  62.20                  37.80   \n",
       "8   Eritrea  2015                  61.72                  38.28   \n",
       "9   Eritrea  2016                  61.15                  38.85   \n",
       "10  Eritrea  2017                    NaN                    NaN   \n",
       "\n",
       "    annual_%_growth_of_rural_population  annual_%_growth_of_urban_population  \n",
       "0                                  1.22                                 5.62  \n",
       "1                                  0.71                                 5.12  \n",
       "2                                  0.96                                 3.55  \n",
       "3                                  0.70                                 3.30  \n",
       "4                                  0.44                                 3.04  \n",
       "5                                   NaN                                  NaN  \n",
       "6                                   NaN                                  NaN  \n",
       "7                                   NaN                                  NaN  \n",
       "8                                   NaN                                  NaN  \n",
       "9                                   NaN                                  NaN  \n",
       "10                                  NaN                                  NaN  "
      ]
     },
     "execution_count": 45,
     "metadata": {},
     "output_type": "execute_result"
    }
   ],
   "source": [
    "# Obtain rows where the country is Eritrea\n",
    "eritrea = df[df['Country'] == 'Eritrea'].reset_index(drop=True)\n",
    "# Display population percentages\n",
    "print(\"One row still has null values for '%_of_rural_population' and '%_of_urban_population' because the columns whose values are used to calculate them were null\")\n",
    "eritrea[['Country', 'Year', '%_of_rural_population', '%_of_urban_population', 'annual_%_growth_of_rural_population', 'annual_%_growth_of_urban_population']]"
   ]
  },
  {
   "cell_type": "markdown",
   "metadata": {},
   "source": [
    "We realised that we are working with time-series data, which means that the data contains trends or patterns which are clearly visible to the naked eye.\n",
    "\n",
    "Mean and mode imputation were therefore not an option because they would introduce biases and affect existing trends or patterns.\n",
    "\n",
    "We developed an algorithm that utilises regression, to predict and fill the missing values."
   ]
  },
  {
   "cell_type": "code",
   "execution_count": 46,
   "metadata": {},
   "outputs": [
    {
     "name": "stdout",
     "output_type": "stream",
     "text": [
      "The Mean Squared Error for the model used to predict %_of_rural_population values is: 0.01\n",
      "The r_squared for the model used to predict %_of_rural_population values is: 1.0\n",
      "\n",
      "The Mean Squared Error for the model used to predict %_of_urban_population values is: 0.01\n",
      "The r_squared for the model used to predict %_of_urban_population values is: 1.0\n",
      "\n",
      "The Mean Squared Error for the model used to predict annual_%_growth_of_rural_population values is: 0.02\n",
      "The r_squared for the model used to predict annual_%_growth_of_rural_population values is: 0.71\n",
      "\n",
      "The Mean Squared Error for the model used to predict annual_%_growth_of_urban_population values is: 0.11\n",
      "The r_squared for the model used to predict annual_%_growth_of_urban_population values is: 0.9\n",
      "\n",
      "All missing values have been filled\n"
     ]
    },
    {
     "data": {
      "text/html": [
       "<div>\n",
       "<style scoped>\n",
       "    .dataframe tbody tr th:only-of-type {\n",
       "        vertical-align: middle;\n",
       "    }\n",
       "\n",
       "    .dataframe tbody tr th {\n",
       "        vertical-align: top;\n",
       "    }\n",
       "\n",
       "    .dataframe thead th {\n",
       "        text-align: right;\n",
       "    }\n",
       "</style>\n",
       "<table border=\"1\" class=\"dataframe\">\n",
       "  <thead>\n",
       "    <tr style=\"text-align: right;\">\n",
       "      <th></th>\n",
       "      <th>Country</th>\n",
       "      <th>Year</th>\n",
       "      <th>%_of_rural_population</th>\n",
       "      <th>%_of_urban_population</th>\n",
       "      <th>annual_%_growth_of_rural_population</th>\n",
       "      <th>annual_%_growth_of_urban_population</th>\n",
       "    </tr>\n",
       "  </thead>\n",
       "  <tbody>\n",
       "    <tr>\n",
       "      <th>0</th>\n",
       "      <td>Eritrea</td>\n",
       "      <td>2007</td>\n",
       "      <td>66.98</td>\n",
       "      <td>33.02</td>\n",
       "      <td>1.22</td>\n",
       "      <td>5.62</td>\n",
       "    </tr>\n",
       "    <tr>\n",
       "      <th>1</th>\n",
       "      <td>Eritrea</td>\n",
       "      <td>2008</td>\n",
       "      <td>66.00</td>\n",
       "      <td>34.00</td>\n",
       "      <td>0.71</td>\n",
       "      <td>5.12</td>\n",
       "    </tr>\n",
       "    <tr>\n",
       "      <th>2</th>\n",
       "      <td>Eritrea</td>\n",
       "      <td>2009</td>\n",
       "      <td>65.41</td>\n",
       "      <td>34.59</td>\n",
       "      <td>0.96</td>\n",
       "      <td>3.55</td>\n",
       "    </tr>\n",
       "    <tr>\n",
       "      <th>3</th>\n",
       "      <td>Eritrea</td>\n",
       "      <td>2010</td>\n",
       "      <td>64.82</td>\n",
       "      <td>35.18</td>\n",
       "      <td>0.70</td>\n",
       "      <td>3.30</td>\n",
       "    </tr>\n",
       "    <tr>\n",
       "      <th>4</th>\n",
       "      <td>Eritrea</td>\n",
       "      <td>2011</td>\n",
       "      <td>64.23</td>\n",
       "      <td>35.77</td>\n",
       "      <td>0.44</td>\n",
       "      <td>3.04</td>\n",
       "    </tr>\n",
       "    <tr>\n",
       "      <th>5</th>\n",
       "      <td>Eritrea</td>\n",
       "      <td>2012</td>\n",
       "      <td>63.46</td>\n",
       "      <td>36.54</td>\n",
       "      <td>0.33</td>\n",
       "      <td>2.03</td>\n",
       "    </tr>\n",
       "    <tr>\n",
       "      <th>6</th>\n",
       "      <td>Eritrea</td>\n",
       "      <td>2013</td>\n",
       "      <td>62.88</td>\n",
       "      <td>37.12</td>\n",
       "      <td>0.18</td>\n",
       "      <td>1.33</td>\n",
       "    </tr>\n",
       "    <tr>\n",
       "      <th>7</th>\n",
       "      <td>Eritrea</td>\n",
       "      <td>2014</td>\n",
       "      <td>62.20</td>\n",
       "      <td>37.80</td>\n",
       "      <td>0.02</td>\n",
       "      <td>0.64</td>\n",
       "    </tr>\n",
       "    <tr>\n",
       "      <th>8</th>\n",
       "      <td>Eritrea</td>\n",
       "      <td>2015</td>\n",
       "      <td>61.72</td>\n",
       "      <td>38.28</td>\n",
       "      <td>-0.14</td>\n",
       "      <td>-0.06</td>\n",
       "    </tr>\n",
       "    <tr>\n",
       "      <th>9</th>\n",
       "      <td>Eritrea</td>\n",
       "      <td>2016</td>\n",
       "      <td>61.15</td>\n",
       "      <td>38.85</td>\n",
       "      <td>-0.29</td>\n",
       "      <td>-0.76</td>\n",
       "    </tr>\n",
       "    <tr>\n",
       "      <th>10</th>\n",
       "      <td>Eritrea</td>\n",
       "      <td>2017</td>\n",
       "      <td>60.38</td>\n",
       "      <td>39.62</td>\n",
       "      <td>-0.45</td>\n",
       "      <td>-1.46</td>\n",
       "    </tr>\n",
       "  </tbody>\n",
       "</table>\n",
       "</div>"
      ],
      "text/plain": [
       "    Country  Year  %_of_rural_population  %_of_urban_population  \\\n",
       "0   Eritrea  2007                  66.98                  33.02   \n",
       "1   Eritrea  2008                  66.00                  34.00   \n",
       "2   Eritrea  2009                  65.41                  34.59   \n",
       "3   Eritrea  2010                  64.82                  35.18   \n",
       "4   Eritrea  2011                  64.23                  35.77   \n",
       "5   Eritrea  2012                  63.46                  36.54   \n",
       "6   Eritrea  2013                  62.88                  37.12   \n",
       "7   Eritrea  2014                  62.20                  37.80   \n",
       "8   Eritrea  2015                  61.72                  38.28   \n",
       "9   Eritrea  2016                  61.15                  38.85   \n",
       "10  Eritrea  2017                  60.38                  39.62   \n",
       "\n",
       "    annual_%_growth_of_rural_population  annual_%_growth_of_urban_population  \n",
       "0                                  1.22                                 5.62  \n",
       "1                                  0.71                                 5.12  \n",
       "2                                  0.96                                 3.55  \n",
       "3                                  0.70                                 3.30  \n",
       "4                                  0.44                                 3.04  \n",
       "5                                  0.33                                 2.03  \n",
       "6                                  0.18                                 1.33  \n",
       "7                                  0.02                                 0.64  \n",
       "8                                 -0.14                                -0.06  \n",
       "9                                 -0.29                                -0.76  \n",
       "10                                -0.45                                -1.46  "
      ]
     },
     "execution_count": 46,
     "metadata": {},
     "output_type": "execute_result"
    }
   ],
   "source": [
    "all_columns = df.columns\n",
    "def fill_with_regression(original_dataframe, new_dataframe, target_column, feature_column):\n",
    "    # Filter rows with available data to train the model\n",
    "    df_train = new_dataframe.dropna(subset=[target_column])\n",
    "\n",
    "    # Create a linear regression model\n",
    "    model = LinearRegression()\n",
    "\n",
    "    # Fit the model\n",
    "    X_train = df_train[feature_column].to_numpy().reshape(-1, 1)\n",
    "    y_train = df_train[target_column].to_numpy()\n",
    "    model.fit(X_train, y_train)\n",
    "\n",
    "    # Predict the missing values\n",
    "    X_pred = new_dataframe[new_dataframe[target_column].isnull()][feature_column].to_numpy().reshape(-1, 1)\n",
    "    y_pred = model.predict(X_pred)\n",
    "\n",
    "    # Update the DataFrame with the rounded predicted values\n",
    "    new_dataframe.loc[new_dataframe[target_column].isnull(), target_column] = y_pred\n",
    "\n",
    "    # Round off to 2 decimal places\n",
    "    new_dataframe[target_column] = new_dataframe[target_column].round(2)\n",
    "\n",
    "    # merging the original dataframe with the dataframe containing filled in values \n",
    "    merged_df = pd.merge(original_dataframe, new_dataframe, on=['Country', \"Country Code\", 'Year'], how='left')\n",
    "\n",
    "    exclude_columns = ['Country', 'Year', 'Country Code']\n",
    "\n",
    "    for column in all_columns:\n",
    "        if column not in exclude_columns:\n",
    "            # Add data from the eritrea dataframe where it is missing in the original dataframe\n",
    "            merged_df[column] = np.where(\n",
    "            (merged_df[column + '_x'].isnull()) &\n",
    "            (~merged_df[column + '_y'].isnull()),\n",
    "            merged_df[column + '_y'],\n",
    "            merged_df[column + '_x']\n",
    "            )\n",
    "            # Delete the unnecessary columns\n",
    "            merged_df = merged_df.drop([column + '_x', column + '_y'], axis=1)\n",
    "\n",
    "    # Calculate MSE and R-squared for the model\n",
    "    mse = round(mean_squared_error(y_train, model.predict(X_train)), 2)\n",
    "    r_squared = round(r2_score(y_train, model.predict(X_train)), 2)\n",
    "\n",
    "    return merged_df, mse, r_squared, target_column\n",
    "\n",
    "eritrea_columns = ['%_of_rural_population', '%_of_urban_population','annual_%_growth_of_rural_population', 'annual_%_growth_of_urban_population']\n",
    "\n",
    "for column in eritrea_columns:\n",
    "    df, mse, r_squared, target_column = fill_with_regression(df, eritrea, column, 'Year')\n",
    "    print(f'The Mean Squared Error for the model used to predict {target_column} values is: {mse}')\n",
    "    print(f'The r_squared for the model used to predict {target_column} values is: {r_squared}')\n",
    "    print(\"\")\n",
    "\n",
    "print('All missing values have been filled')\n",
    "\n",
    "eritrea[['Country', 'Year', '%_of_rural_population', '%_of_urban_population', 'annual_%_growth_of_rural_population', 'annual_%_growth_of_urban_population']]\n"
   ]
  },
  {
   "cell_type": "markdown",
   "metadata": {},
   "source": [
    "Missing values for '%\\_of_rural_population', '%\\_of_rural_population', 'annual_%\\_growth_of_rural_population' and 'annual\\_%_growth_of_urban_population' have been filled.\n",
    "\n",
    "We then went ahead to fill missing values for '%\\_of_urban_using_atleast_basic_sanity_services', '%\\_of_rural_using_atleast_basic_drinking_water_services', '%\\_of_urban_using_atleast_basic_drinking_water_services', '%\\_of_rural_using_atleast_basic_sanity_services', '%_using_atleast_basic_drinking_water_services', '%_using_atleast_basic_sanity_services'   \n",
    "\n",
    "South Sudan, Eritrea and Central African Republic have rows with no data for these columns.\n",
    "\n",
    "We again noticed trends in this data and therefore, regression imputation was used.\n",
    "\n",
    "    "
   ]
  },
  {
   "cell_type": "code",
   "execution_count": 47,
   "metadata": {},
   "outputs": [
    {
     "data": {
      "text/html": [
       "<div>\n",
       "<style scoped>\n",
       "    .dataframe tbody tr th:only-of-type {\n",
       "        vertical-align: middle;\n",
       "    }\n",
       "\n",
       "    .dataframe tbody tr th {\n",
       "        vertical-align: top;\n",
       "    }\n",
       "\n",
       "    .dataframe thead th {\n",
       "        text-align: right;\n",
       "    }\n",
       "</style>\n",
       "<table border=\"1\" class=\"dataframe\">\n",
       "  <thead>\n",
       "    <tr style=\"text-align: right;\">\n",
       "      <th></th>\n",
       "      <th>Country</th>\n",
       "      <th>%_using_atleast_basic_sanity_services</th>\n",
       "      <th>%_using_atleast_basic_drinking_water_services</th>\n",
       "      <th>%_of_rural_using_atleast_basic_drinking_water_services</th>\n",
       "      <th>%_of_urban_using_atleast_basic_drinking_water_services</th>\n",
       "      <th>%_of_rural_using_atleast_basic_sanity_services</th>\n",
       "      <th>%_of_urban_using_atleast_basic_sanity_services</th>\n",
       "    </tr>\n",
       "  </thead>\n",
       "  <tbody>\n",
       "    <tr>\n",
       "      <th>0</th>\n",
       "      <td>South Sudan</td>\n",
       "      <td>NaN</td>\n",
       "      <td>NaN</td>\n",
       "      <td>NaN</td>\n",
       "      <td>NaN</td>\n",
       "      <td>NaN</td>\n",
       "      <td>NaN</td>\n",
       "    </tr>\n",
       "    <tr>\n",
       "      <th>1</th>\n",
       "      <td>South Sudan</td>\n",
       "      <td>NaN</td>\n",
       "      <td>NaN</td>\n",
       "      <td>NaN</td>\n",
       "      <td>NaN</td>\n",
       "      <td>NaN</td>\n",
       "      <td>NaN</td>\n",
       "    </tr>\n",
       "    <tr>\n",
       "      <th>2</th>\n",
       "      <td>South Sudan</td>\n",
       "      <td>NaN</td>\n",
       "      <td>NaN</td>\n",
       "      <td>NaN</td>\n",
       "      <td>NaN</td>\n",
       "      <td>NaN</td>\n",
       "      <td>NaN</td>\n",
       "    </tr>\n",
       "    <tr>\n",
       "      <th>3</th>\n",
       "      <td>South Sudan</td>\n",
       "      <td>NaN</td>\n",
       "      <td>NaN</td>\n",
       "      <td>NaN</td>\n",
       "      <td>NaN</td>\n",
       "      <td>NaN</td>\n",
       "      <td>NaN</td>\n",
       "    </tr>\n",
       "    <tr>\n",
       "      <th>4</th>\n",
       "      <td>South Sudan</td>\n",
       "      <td>6.63</td>\n",
       "      <td>41.09</td>\n",
       "      <td>38.68</td>\n",
       "      <td>52.01</td>\n",
       "      <td>3.95</td>\n",
       "      <td>18.81</td>\n",
       "    </tr>\n",
       "    <tr>\n",
       "      <th>5</th>\n",
       "      <td>South Sudan</td>\n",
       "      <td>7.31</td>\n",
       "      <td>41.09</td>\n",
       "      <td>38.21</td>\n",
       "      <td>54.05</td>\n",
       "      <td>4.16</td>\n",
       "      <td>21.50</td>\n",
       "    </tr>\n",
       "    <tr>\n",
       "      <th>6</th>\n",
       "      <td>South Sudan</td>\n",
       "      <td>8.04</td>\n",
       "      <td>41.07</td>\n",
       "      <td>37.67</td>\n",
       "      <td>56.13</td>\n",
       "      <td>4.36</td>\n",
       "      <td>24.31</td>\n",
       "    </tr>\n",
       "    <tr>\n",
       "      <th>7</th>\n",
       "      <td>South Sudan</td>\n",
       "      <td>8.80</td>\n",
       "      <td>41.01</td>\n",
       "      <td>37.07</td>\n",
       "      <td>58.24</td>\n",
       "      <td>4.57</td>\n",
       "      <td>27.26</td>\n",
       "    </tr>\n",
       "    <tr>\n",
       "      <th>8</th>\n",
       "      <td>South Sudan</td>\n",
       "      <td>9.60</td>\n",
       "      <td>40.93</td>\n",
       "      <td>36.40</td>\n",
       "      <td>60.40</td>\n",
       "      <td>4.78</td>\n",
       "      <td>30.33</td>\n",
       "    </tr>\n",
       "    <tr>\n",
       "      <th>9</th>\n",
       "      <td>South Sudan</td>\n",
       "      <td>10.44</td>\n",
       "      <td>40.81</td>\n",
       "      <td>35.67</td>\n",
       "      <td>62.59</td>\n",
       "      <td>4.99</td>\n",
       "      <td>33.53</td>\n",
       "    </tr>\n",
       "    <tr>\n",
       "      <th>10</th>\n",
       "      <td>South Sudan</td>\n",
       "      <td>11.32</td>\n",
       "      <td>40.68</td>\n",
       "      <td>34.88</td>\n",
       "      <td>64.83</td>\n",
       "      <td>5.19</td>\n",
       "      <td>36.87</td>\n",
       "    </tr>\n",
       "  </tbody>\n",
       "</table>\n",
       "</div>"
      ],
      "text/plain": [
       "        Country  %_using_atleast_basic_sanity_services  \\\n",
       "0   South Sudan                                    NaN   \n",
       "1   South Sudan                                    NaN   \n",
       "2   South Sudan                                    NaN   \n",
       "3   South Sudan                                    NaN   \n",
       "4   South Sudan                                   6.63   \n",
       "5   South Sudan                                   7.31   \n",
       "6   South Sudan                                   8.04   \n",
       "7   South Sudan                                   8.80   \n",
       "8   South Sudan                                   9.60   \n",
       "9   South Sudan                                  10.44   \n",
       "10  South Sudan                                  11.32   \n",
       "\n",
       "    %_using_atleast_basic_drinking_water_services  \\\n",
       "0                                             NaN   \n",
       "1                                             NaN   \n",
       "2                                             NaN   \n",
       "3                                             NaN   \n",
       "4                                           41.09   \n",
       "5                                           41.09   \n",
       "6                                           41.07   \n",
       "7                                           41.01   \n",
       "8                                           40.93   \n",
       "9                                           40.81   \n",
       "10                                          40.68   \n",
       "\n",
       "    %_of_rural_using_atleast_basic_drinking_water_services  \\\n",
       "0                                                 NaN        \n",
       "1                                                 NaN        \n",
       "2                                                 NaN        \n",
       "3                                                 NaN        \n",
       "4                                               38.68        \n",
       "5                                               38.21        \n",
       "6                                               37.67        \n",
       "7                                               37.07        \n",
       "8                                               36.40        \n",
       "9                                               35.67        \n",
       "10                                              34.88        \n",
       "\n",
       "    %_of_urban_using_atleast_basic_drinking_water_services  \\\n",
       "0                                                 NaN        \n",
       "1                                                 NaN        \n",
       "2                                                 NaN        \n",
       "3                                                 NaN        \n",
       "4                                               52.01        \n",
       "5                                               54.05        \n",
       "6                                               56.13        \n",
       "7                                               58.24        \n",
       "8                                               60.40        \n",
       "9                                               62.59        \n",
       "10                                              64.83        \n",
       "\n",
       "    %_of_rural_using_atleast_basic_sanity_services  \\\n",
       "0                                              NaN   \n",
       "1                                              NaN   \n",
       "2                                              NaN   \n",
       "3                                              NaN   \n",
       "4                                             3.95   \n",
       "5                                             4.16   \n",
       "6                                             4.36   \n",
       "7                                             4.57   \n",
       "8                                             4.78   \n",
       "9                                             4.99   \n",
       "10                                            5.19   \n",
       "\n",
       "    %_of_urban_using_atleast_basic_sanity_services  \n",
       "0                                              NaN  \n",
       "1                                              NaN  \n",
       "2                                              NaN  \n",
       "3                                              NaN  \n",
       "4                                            18.81  \n",
       "5                                            21.50  \n",
       "6                                            24.31  \n",
       "7                                            27.26  \n",
       "8                                            30.33  \n",
       "9                                            33.53  \n",
       "10                                           36.87  "
      ]
     },
     "execution_count": 47,
     "metadata": {},
     "output_type": "execute_result"
    }
   ],
   "source": [
    "South_Sudan = df[df['Country'] == \"South Sudan\"]\n",
    "South_Sudan[['Country', '%_using_atleast_basic_sanity_services', '%_using_atleast_basic_drinking_water_services', '%_of_rural_using_atleast_basic_drinking_water_services', '%_of_urban_using_atleast_basic_drinking_water_services', '%_of_rural_using_atleast_basic_sanity_services', '%_of_urban_using_atleast_basic_sanity_services']].reset_index(drop=True)"
   ]
  },
  {
   "cell_type": "code",
   "execution_count": 48,
   "metadata": {},
   "outputs": [
    {
     "name": "stdout",
     "output_type": "stream",
     "text": [
      "The Mean Squared Error for the model used to predict %_using_atleast_basic_drinking_water_services values is: 0.0\n",
      "The r_squared for the model used to predict %_using_atleast_basic_drinking_water_services values is: 0.89\n",
      "\n",
      "The Mean Squared Error for the model used to predict %_using_atleast_basic_sanity_services values is: 0.0\n",
      "The r_squared for the model used to predict %_using_atleast_basic_sanity_services values is: 1.0\n",
      "\n",
      "The Mean Squared Error for the model used to predict %_of_rural_using_atleast_basic_drinking_water_services values is: 0.01\n",
      "The r_squared for the model used to predict %_of_rural_using_atleast_basic_drinking_water_services values is: 0.99\n",
      "\n",
      "The Mean Squared Error for the model used to predict %_of_urban_using_atleast_basic_drinking_water_services values is: 0.0\n",
      "The r_squared for the model used to predict %_of_urban_using_atleast_basic_drinking_water_services values is: 1.0\n",
      "\n",
      "The Mean Squared Error for the model used to predict %_of_rural_using_atleast_basic_sanity_services values is: 0.0\n",
      "The r_squared for the model used to predict %_of_rural_using_atleast_basic_sanity_services values is: 1.0\n",
      "\n",
      "The Mean Squared Error for the model used to predict %_of_urban_using_atleast_basic_sanity_services values is: 0.05\n",
      "The r_squared for the model used to predict %_of_urban_using_atleast_basic_sanity_services values is: 1.0\n",
      "\n",
      "All specified columns with missing values have been filled \n"
     ]
    },
    {
     "data": {
      "text/html": [
       "<div>\n",
       "<style scoped>\n",
       "    .dataframe tbody tr th:only-of-type {\n",
       "        vertical-align: middle;\n",
       "    }\n",
       "\n",
       "    .dataframe tbody tr th {\n",
       "        vertical-align: top;\n",
       "    }\n",
       "\n",
       "    .dataframe thead th {\n",
       "        text-align: right;\n",
       "    }\n",
       "</style>\n",
       "<table border=\"1\" class=\"dataframe\">\n",
       "  <thead>\n",
       "    <tr style=\"text-align: right;\">\n",
       "      <th></th>\n",
       "      <th>Country</th>\n",
       "      <th>%_using_atleast_basic_sanity_services</th>\n",
       "      <th>%_using_atleast_basic_drinking_water_services</th>\n",
       "      <th>%_of_rural_using_atleast_basic_drinking_water_services</th>\n",
       "      <th>%_of_urban_using_atleast_basic_drinking_water_services</th>\n",
       "      <th>%_of_rural_using_atleast_basic_sanity_services</th>\n",
       "      <th>%_of_urban_using_atleast_basic_sanity_services</th>\n",
       "    </tr>\n",
       "  </thead>\n",
       "  <tbody>\n",
       "    <tr>\n",
       "      <th>0</th>\n",
       "      <td>South Sudan</td>\n",
       "      <td>3.40</td>\n",
       "      <td>41.44</td>\n",
       "      <td>41.38</td>\n",
       "      <td>43.37</td>\n",
       "      <td>3.12</td>\n",
       "      <td>6.45</td>\n",
       "    </tr>\n",
       "    <tr>\n",
       "      <th>1</th>\n",
       "      <td>South Sudan</td>\n",
       "      <td>4.19</td>\n",
       "      <td>41.37</td>\n",
       "      <td>40.74</td>\n",
       "      <td>45.51</td>\n",
       "      <td>3.33</td>\n",
       "      <td>9.46</td>\n",
       "    </tr>\n",
       "    <tr>\n",
       "      <th>2</th>\n",
       "      <td>South Sudan</td>\n",
       "      <td>4.97</td>\n",
       "      <td>41.30</td>\n",
       "      <td>40.11</td>\n",
       "      <td>47.64</td>\n",
       "      <td>3.54</td>\n",
       "      <td>12.47</td>\n",
       "    </tr>\n",
       "    <tr>\n",
       "      <th>3</th>\n",
       "      <td>South Sudan</td>\n",
       "      <td>5.75</td>\n",
       "      <td>41.23</td>\n",
       "      <td>39.48</td>\n",
       "      <td>49.78</td>\n",
       "      <td>3.74</td>\n",
       "      <td>15.48</td>\n",
       "    </tr>\n",
       "    <tr>\n",
       "      <th>4</th>\n",
       "      <td>South Sudan</td>\n",
       "      <td>6.63</td>\n",
       "      <td>41.09</td>\n",
       "      <td>38.68</td>\n",
       "      <td>52.01</td>\n",
       "      <td>3.95</td>\n",
       "      <td>18.81</td>\n",
       "    </tr>\n",
       "    <tr>\n",
       "      <th>5</th>\n",
       "      <td>South Sudan</td>\n",
       "      <td>7.31</td>\n",
       "      <td>41.09</td>\n",
       "      <td>38.21</td>\n",
       "      <td>54.05</td>\n",
       "      <td>4.16</td>\n",
       "      <td>21.50</td>\n",
       "    </tr>\n",
       "    <tr>\n",
       "      <th>6</th>\n",
       "      <td>South Sudan</td>\n",
       "      <td>8.04</td>\n",
       "      <td>41.07</td>\n",
       "      <td>37.67</td>\n",
       "      <td>56.13</td>\n",
       "      <td>4.36</td>\n",
       "      <td>24.31</td>\n",
       "    </tr>\n",
       "    <tr>\n",
       "      <th>7</th>\n",
       "      <td>South Sudan</td>\n",
       "      <td>8.80</td>\n",
       "      <td>41.01</td>\n",
       "      <td>37.07</td>\n",
       "      <td>58.24</td>\n",
       "      <td>4.57</td>\n",
       "      <td>27.26</td>\n",
       "    </tr>\n",
       "    <tr>\n",
       "      <th>8</th>\n",
       "      <td>South Sudan</td>\n",
       "      <td>9.60</td>\n",
       "      <td>40.93</td>\n",
       "      <td>36.40</td>\n",
       "      <td>60.40</td>\n",
       "      <td>4.78</td>\n",
       "      <td>30.33</td>\n",
       "    </tr>\n",
       "    <tr>\n",
       "      <th>9</th>\n",
       "      <td>South Sudan</td>\n",
       "      <td>10.44</td>\n",
       "      <td>40.81</td>\n",
       "      <td>35.67</td>\n",
       "      <td>62.59</td>\n",
       "      <td>4.99</td>\n",
       "      <td>33.53</td>\n",
       "    </tr>\n",
       "    <tr>\n",
       "      <th>10</th>\n",
       "      <td>South Sudan</td>\n",
       "      <td>11.32</td>\n",
       "      <td>40.68</td>\n",
       "      <td>34.88</td>\n",
       "      <td>64.83</td>\n",
       "      <td>5.19</td>\n",
       "      <td>36.87</td>\n",
       "    </tr>\n",
       "  </tbody>\n",
       "</table>\n",
       "</div>"
      ],
      "text/plain": [
       "        Country  %_using_atleast_basic_sanity_services  \\\n",
       "0   South Sudan                                   3.40   \n",
       "1   South Sudan                                   4.19   \n",
       "2   South Sudan                                   4.97   \n",
       "3   South Sudan                                   5.75   \n",
       "4   South Sudan                                   6.63   \n",
       "5   South Sudan                                   7.31   \n",
       "6   South Sudan                                   8.04   \n",
       "7   South Sudan                                   8.80   \n",
       "8   South Sudan                                   9.60   \n",
       "9   South Sudan                                  10.44   \n",
       "10  South Sudan                                  11.32   \n",
       "\n",
       "    %_using_atleast_basic_drinking_water_services  \\\n",
       "0                                           41.44   \n",
       "1                                           41.37   \n",
       "2                                           41.30   \n",
       "3                                           41.23   \n",
       "4                                           41.09   \n",
       "5                                           41.09   \n",
       "6                                           41.07   \n",
       "7                                           41.01   \n",
       "8                                           40.93   \n",
       "9                                           40.81   \n",
       "10                                          40.68   \n",
       "\n",
       "    %_of_rural_using_atleast_basic_drinking_water_services  \\\n",
       "0                                               41.38        \n",
       "1                                               40.74        \n",
       "2                                               40.11        \n",
       "3                                               39.48        \n",
       "4                                               38.68        \n",
       "5                                               38.21        \n",
       "6                                               37.67        \n",
       "7                                               37.07        \n",
       "8                                               36.40        \n",
       "9                                               35.67        \n",
       "10                                              34.88        \n",
       "\n",
       "    %_of_urban_using_atleast_basic_drinking_water_services  \\\n",
       "0                                               43.37        \n",
       "1                                               45.51        \n",
       "2                                               47.64        \n",
       "3                                               49.78        \n",
       "4                                               52.01        \n",
       "5                                               54.05        \n",
       "6                                               56.13        \n",
       "7                                               58.24        \n",
       "8                                               60.40        \n",
       "9                                               62.59        \n",
       "10                                              64.83        \n",
       "\n",
       "    %_of_rural_using_atleast_basic_sanity_services  \\\n",
       "0                                             3.12   \n",
       "1                                             3.33   \n",
       "2                                             3.54   \n",
       "3                                             3.74   \n",
       "4                                             3.95   \n",
       "5                                             4.16   \n",
       "6                                             4.36   \n",
       "7                                             4.57   \n",
       "8                                             4.78   \n",
       "9                                             4.99   \n",
       "10                                            5.19   \n",
       "\n",
       "    %_of_urban_using_atleast_basic_sanity_services  \n",
       "0                                             6.45  \n",
       "1                                             9.46  \n",
       "2                                            12.47  \n",
       "3                                            15.48  \n",
       "4                                            18.81  \n",
       "5                                            21.50  \n",
       "6                                            24.31  \n",
       "7                                            27.26  \n",
       "8                                            30.33  \n",
       "9                                            33.53  \n",
       "10                                           36.87  "
      ]
     },
     "execution_count": 48,
     "metadata": {},
     "output_type": "execute_result"
    }
   ],
   "source": [
    "\n",
    "null_columns = ['%_using_atleast_basic_drinking_water_services', '%_using_atleast_basic_sanity_services', '%_of_rural_using_atleast_basic_drinking_water_services', '%_of_urban_using_atleast_basic_drinking_water_services',\n",
    "               '%_of_rural_using_atleast_basic_sanity_services', '%_of_urban_using_atleast_basic_sanity_services']\n",
    "for column in null_columns:\n",
    "    df, mse, r_squared, target_column = fill_with_regression(df, South_Sudan, column, 'Year')\n",
    "    print(f'The Mean Squared Error for the model used to predict {target_column} values is: {mse}')\n",
    "    print(f'The r_squared for the model used to predict {target_column} values is: {r_squared}')\n",
    "    print('')\n",
    "\n",
    "print(\"All specified columns with missing values have been filled \")\n",
    "\n",
    "South_Sudan[['Country', '%_using_atleast_basic_sanity_services', '%_using_atleast_basic_drinking_water_services', '%_of_rural_using_atleast_basic_drinking_water_services', '%_of_urban_using_atleast_basic_drinking_water_services', \n",
    "             '%_of_rural_using_atleast_basic_sanity_services', '%_of_urban_using_atleast_basic_sanity_services']].reset_index(drop=True)"
   ]
  },
  {
   "cell_type": "code",
   "execution_count": 49,
   "metadata": {},
   "outputs": [
    {
     "name": "stdout",
     "output_type": "stream",
     "text": [
      "One row has null values for these columns\n"
     ]
    },
    {
     "data": {
      "text/html": [
       "<div>\n",
       "<style scoped>\n",
       "    .dataframe tbody tr th:only-of-type {\n",
       "        vertical-align: middle;\n",
       "    }\n",
       "\n",
       "    .dataframe tbody tr th {\n",
       "        vertical-align: top;\n",
       "    }\n",
       "\n",
       "    .dataframe thead th {\n",
       "        text-align: right;\n",
       "    }\n",
       "</style>\n",
       "<table border=\"1\" class=\"dataframe\">\n",
       "  <thead>\n",
       "    <tr style=\"text-align: right;\">\n",
       "      <th></th>\n",
       "      <th>Country</th>\n",
       "      <th>Year</th>\n",
       "      <th>%_using_atleast_basic_sanity_services</th>\n",
       "      <th>%_using_atleast_basic_drinking_water_services</th>\n",
       "      <th>%_of_rural_using_atleast_basic_drinking_water_services</th>\n",
       "      <th>%_of_urban_using_atleast_basic_drinking_water_services</th>\n",
       "      <th>%_of_rural_using_atleast_basic_sanity_services</th>\n",
       "      <th>%_of_urban_using_atleast_basic_sanity_services</th>\n",
       "    </tr>\n",
       "  </thead>\n",
       "  <tbody>\n",
       "    <tr>\n",
       "      <th>0</th>\n",
       "      <td>Eritrea</td>\n",
       "      <td>2007</td>\n",
       "      <td>10.56</td>\n",
       "      <td>49.25</td>\n",
       "      <td>29.13</td>\n",
       "      <td>90.06</td>\n",
       "      <td>3.82</td>\n",
       "      <td>24.21</td>\n",
       "    </tr>\n",
       "    <tr>\n",
       "      <th>1</th>\n",
       "      <td>Eritrea</td>\n",
       "      <td>2008</td>\n",
       "      <td>10.83</td>\n",
       "      <td>49.65</td>\n",
       "      <td>28.86</td>\n",
       "      <td>89.99</td>\n",
       "      <td>4.17</td>\n",
       "      <td>23.77</td>\n",
       "    </tr>\n",
       "    <tr>\n",
       "      <th>2</th>\n",
       "      <td>Eritrea</td>\n",
       "      <td>2009</td>\n",
       "      <td>11.02</td>\n",
       "      <td>49.81</td>\n",
       "      <td>28.60</td>\n",
       "      <td>89.93</td>\n",
       "      <td>4.52</td>\n",
       "      <td>23.33</td>\n",
       "    </tr>\n",
       "    <tr>\n",
       "      <th>3</th>\n",
       "      <td>Eritrea</td>\n",
       "      <td>2010</td>\n",
       "      <td>11.20</td>\n",
       "      <td>49.98</td>\n",
       "      <td>28.33</td>\n",
       "      <td>89.87</td>\n",
       "      <td>4.86</td>\n",
       "      <td>22.88</td>\n",
       "    </tr>\n",
       "    <tr>\n",
       "      <th>4</th>\n",
       "      <td>Eritrea</td>\n",
       "      <td>2011</td>\n",
       "      <td>11.37</td>\n",
       "      <td>50.15</td>\n",
       "      <td>28.07</td>\n",
       "      <td>89.80</td>\n",
       "      <td>5.21</td>\n",
       "      <td>22.44</td>\n",
       "    </tr>\n",
       "    <tr>\n",
       "      <th>5</th>\n",
       "      <td>Eritrea</td>\n",
       "      <td>2012</td>\n",
       "      <td>11.54</td>\n",
       "      <td>50.33</td>\n",
       "      <td>27.80</td>\n",
       "      <td>89.74</td>\n",
       "      <td>5.56</td>\n",
       "      <td>21.99</td>\n",
       "    </tr>\n",
       "    <tr>\n",
       "      <th>6</th>\n",
       "      <td>Eritrea</td>\n",
       "      <td>2013</td>\n",
       "      <td>11.64</td>\n",
       "      <td>50.71</td>\n",
       "      <td>27.80</td>\n",
       "      <td>89.74</td>\n",
       "      <td>5.56</td>\n",
       "      <td>21.99</td>\n",
       "    </tr>\n",
       "    <tr>\n",
       "      <th>7</th>\n",
       "      <td>Eritrea</td>\n",
       "      <td>2014</td>\n",
       "      <td>11.74</td>\n",
       "      <td>51.08</td>\n",
       "      <td>27.80</td>\n",
       "      <td>89.74</td>\n",
       "      <td>5.56</td>\n",
       "      <td>21.99</td>\n",
       "    </tr>\n",
       "    <tr>\n",
       "      <th>8</th>\n",
       "      <td>Eritrea</td>\n",
       "      <td>2015</td>\n",
       "      <td>11.84</td>\n",
       "      <td>51.47</td>\n",
       "      <td>27.80</td>\n",
       "      <td>89.74</td>\n",
       "      <td>5.56</td>\n",
       "      <td>21.99</td>\n",
       "    </tr>\n",
       "    <tr>\n",
       "      <th>9</th>\n",
       "      <td>Eritrea</td>\n",
       "      <td>2016</td>\n",
       "      <td>11.94</td>\n",
       "      <td>51.85</td>\n",
       "      <td>27.80</td>\n",
       "      <td>89.74</td>\n",
       "      <td>5.56</td>\n",
       "      <td>21.99</td>\n",
       "    </tr>\n",
       "    <tr>\n",
       "      <th>10</th>\n",
       "      <td>Eritrea</td>\n",
       "      <td>2017</td>\n",
       "      <td>NaN</td>\n",
       "      <td>NaN</td>\n",
       "      <td>NaN</td>\n",
       "      <td>NaN</td>\n",
       "      <td>NaN</td>\n",
       "      <td>NaN</td>\n",
       "    </tr>\n",
       "  </tbody>\n",
       "</table>\n",
       "</div>"
      ],
      "text/plain": [
       "    Country  Year  %_using_atleast_basic_sanity_services  \\\n",
       "0   Eritrea  2007                                  10.56   \n",
       "1   Eritrea  2008                                  10.83   \n",
       "2   Eritrea  2009                                  11.02   \n",
       "3   Eritrea  2010                                  11.20   \n",
       "4   Eritrea  2011                                  11.37   \n",
       "5   Eritrea  2012                                  11.54   \n",
       "6   Eritrea  2013                                  11.64   \n",
       "7   Eritrea  2014                                  11.74   \n",
       "8   Eritrea  2015                                  11.84   \n",
       "9   Eritrea  2016                                  11.94   \n",
       "10  Eritrea  2017                                    NaN   \n",
       "\n",
       "    %_using_atleast_basic_drinking_water_services  \\\n",
       "0                                           49.25   \n",
       "1                                           49.65   \n",
       "2                                           49.81   \n",
       "3                                           49.98   \n",
       "4                                           50.15   \n",
       "5                                           50.33   \n",
       "6                                           50.71   \n",
       "7                                           51.08   \n",
       "8                                           51.47   \n",
       "9                                           51.85   \n",
       "10                                            NaN   \n",
       "\n",
       "    %_of_rural_using_atleast_basic_drinking_water_services  \\\n",
       "0                                               29.13        \n",
       "1                                               28.86        \n",
       "2                                               28.60        \n",
       "3                                               28.33        \n",
       "4                                               28.07        \n",
       "5                                               27.80        \n",
       "6                                               27.80        \n",
       "7                                               27.80        \n",
       "8                                               27.80        \n",
       "9                                               27.80        \n",
       "10                                                NaN        \n",
       "\n",
       "    %_of_urban_using_atleast_basic_drinking_water_services  \\\n",
       "0                                               90.06        \n",
       "1                                               89.99        \n",
       "2                                               89.93        \n",
       "3                                               89.87        \n",
       "4                                               89.80        \n",
       "5                                               89.74        \n",
       "6                                               89.74        \n",
       "7                                               89.74        \n",
       "8                                               89.74        \n",
       "9                                               89.74        \n",
       "10                                                NaN        \n",
       "\n",
       "    %_of_rural_using_atleast_basic_sanity_services  \\\n",
       "0                                             3.82   \n",
       "1                                             4.17   \n",
       "2                                             4.52   \n",
       "3                                             4.86   \n",
       "4                                             5.21   \n",
       "5                                             5.56   \n",
       "6                                             5.56   \n",
       "7                                             5.56   \n",
       "8                                             5.56   \n",
       "9                                             5.56   \n",
       "10                                             NaN   \n",
       "\n",
       "    %_of_urban_using_atleast_basic_sanity_services  \n",
       "0                                            24.21  \n",
       "1                                            23.77  \n",
       "2                                            23.33  \n",
       "3                                            22.88  \n",
       "4                                            22.44  \n",
       "5                                            21.99  \n",
       "6                                            21.99  \n",
       "7                                            21.99  \n",
       "8                                            21.99  \n",
       "9                                            21.99  \n",
       "10                                             NaN  "
      ]
     },
     "execution_count": 49,
     "metadata": {},
     "output_type": "execute_result"
    }
   ],
   "source": [
    "# Obtain rows where the country is Eritrea\n",
    "eritrea = df[df['Country'] == 'Eritrea'].reset_index(drop=True)\n",
    "# Display population percentages\n",
    "print(\"One row has null values for these columns\")\n",
    "eritrea[['Country', 'Year', '%_using_atleast_basic_sanity_services', '%_using_atleast_basic_drinking_water_services', '%_of_rural_using_atleast_basic_drinking_water_services', '%_of_urban_using_atleast_basic_drinking_water_services',\n",
    "          '%_of_rural_using_atleast_basic_sanity_services', '%_of_urban_using_atleast_basic_sanity_services']]"
   ]
  },
  {
   "cell_type": "code",
   "execution_count": 50,
   "metadata": {},
   "outputs": [
    {
     "name": "stdout",
     "output_type": "stream",
     "text": [
      "The Mean Squared Error for the model used to predict %_using_atleast_basic_drinking_water_services values is: 0.02\n",
      "The r_squared for the model used to predict %_using_atleast_basic_drinking_water_services values is: 0.97\n",
      "\n",
      "The Mean Squared Error for the model used to predict %_using_atleast_basic_sanity_services values is: 0.01\n",
      "The r_squared for the model used to predict %_using_atleast_basic_sanity_services values is: 0.97\n",
      "\n",
      "The Mean Squared Error for the model used to predict %_of_rural_using_atleast_basic_drinking_water_services values is: 0.04\n",
      "The r_squared for the model used to predict %_of_rural_using_atleast_basic_drinking_water_services values is: 0.84\n",
      "\n",
      "The Mean Squared Error for the model used to predict %_of_urban_using_atleast_basic_drinking_water_services values is: 0.0\n",
      "The r_squared for the model used to predict %_of_urban_using_atleast_basic_drinking_water_services values is: 0.84\n",
      "\n",
      "The Mean Squared Error for the model used to predict %_of_rural_using_atleast_basic_sanity_services values is: 0.06\n",
      "The r_squared for the model used to predict %_of_rural_using_atleast_basic_sanity_services values is: 0.84\n",
      "\n",
      "The Mean Squared Error for the model used to predict %_of_urban_using_atleast_basic_sanity_services values is: 0.1\n",
      "The r_squared for the model used to predict %_of_urban_using_atleast_basic_sanity_services values is: 0.84\n",
      "\n",
      "All specified columns with missing values have been filled using regression\n"
     ]
    },
    {
     "data": {
      "text/html": [
       "<div>\n",
       "<style scoped>\n",
       "    .dataframe tbody tr th:only-of-type {\n",
       "        vertical-align: middle;\n",
       "    }\n",
       "\n",
       "    .dataframe tbody tr th {\n",
       "        vertical-align: top;\n",
       "    }\n",
       "\n",
       "    .dataframe thead th {\n",
       "        text-align: right;\n",
       "    }\n",
       "</style>\n",
       "<table border=\"1\" class=\"dataframe\">\n",
       "  <thead>\n",
       "    <tr style=\"text-align: right;\">\n",
       "      <th></th>\n",
       "      <th>Country</th>\n",
       "      <th>%_using_atleast_basic_sanity_services</th>\n",
       "      <th>%_using_atleast_basic_drinking_water_services</th>\n",
       "      <th>%_of_rural_using_atleast_basic_drinking_water_services</th>\n",
       "      <th>%_of_urban_using_atleast_basic_drinking_water_services</th>\n",
       "      <th>%_of_rural_using_atleast_basic_sanity_services</th>\n",
       "      <th>%_of_urban_using_atleast_basic_sanity_services</th>\n",
       "    </tr>\n",
       "  </thead>\n",
       "  <tbody>\n",
       "    <tr>\n",
       "      <th>0</th>\n",
       "      <td>Eritrea</td>\n",
       "      <td>10.56</td>\n",
       "      <td>49.25</td>\n",
       "      <td>29.13</td>\n",
       "      <td>90.06</td>\n",
       "      <td>3.82</td>\n",
       "      <td>24.21</td>\n",
       "    </tr>\n",
       "    <tr>\n",
       "      <th>1</th>\n",
       "      <td>Eritrea</td>\n",
       "      <td>10.83</td>\n",
       "      <td>49.65</td>\n",
       "      <td>28.86</td>\n",
       "      <td>89.99</td>\n",
       "      <td>4.17</td>\n",
       "      <td>23.77</td>\n",
       "    </tr>\n",
       "    <tr>\n",
       "      <th>2</th>\n",
       "      <td>Eritrea</td>\n",
       "      <td>11.02</td>\n",
       "      <td>49.81</td>\n",
       "      <td>28.60</td>\n",
       "      <td>89.93</td>\n",
       "      <td>4.52</td>\n",
       "      <td>23.33</td>\n",
       "    </tr>\n",
       "    <tr>\n",
       "      <th>3</th>\n",
       "      <td>Eritrea</td>\n",
       "      <td>11.20</td>\n",
       "      <td>49.98</td>\n",
       "      <td>28.33</td>\n",
       "      <td>89.87</td>\n",
       "      <td>4.86</td>\n",
       "      <td>22.88</td>\n",
       "    </tr>\n",
       "    <tr>\n",
       "      <th>4</th>\n",
       "      <td>Eritrea</td>\n",
       "      <td>11.37</td>\n",
       "      <td>50.15</td>\n",
       "      <td>28.07</td>\n",
       "      <td>89.80</td>\n",
       "      <td>5.21</td>\n",
       "      <td>22.44</td>\n",
       "    </tr>\n",
       "    <tr>\n",
       "      <th>5</th>\n",
       "      <td>Eritrea</td>\n",
       "      <td>11.54</td>\n",
       "      <td>50.33</td>\n",
       "      <td>27.80</td>\n",
       "      <td>89.74</td>\n",
       "      <td>5.56</td>\n",
       "      <td>21.99</td>\n",
       "    </tr>\n",
       "    <tr>\n",
       "      <th>6</th>\n",
       "      <td>Eritrea</td>\n",
       "      <td>11.64</td>\n",
       "      <td>50.71</td>\n",
       "      <td>27.80</td>\n",
       "      <td>89.74</td>\n",
       "      <td>5.56</td>\n",
       "      <td>21.99</td>\n",
       "    </tr>\n",
       "    <tr>\n",
       "      <th>7</th>\n",
       "      <td>Eritrea</td>\n",
       "      <td>11.74</td>\n",
       "      <td>51.08</td>\n",
       "      <td>27.80</td>\n",
       "      <td>89.74</td>\n",
       "      <td>5.56</td>\n",
       "      <td>21.99</td>\n",
       "    </tr>\n",
       "    <tr>\n",
       "      <th>8</th>\n",
       "      <td>Eritrea</td>\n",
       "      <td>11.84</td>\n",
       "      <td>51.47</td>\n",
       "      <td>27.80</td>\n",
       "      <td>89.74</td>\n",
       "      <td>5.56</td>\n",
       "      <td>21.99</td>\n",
       "    </tr>\n",
       "    <tr>\n",
       "      <th>9</th>\n",
       "      <td>Eritrea</td>\n",
       "      <td>11.94</td>\n",
       "      <td>51.85</td>\n",
       "      <td>27.80</td>\n",
       "      <td>89.74</td>\n",
       "      <td>5.56</td>\n",
       "      <td>21.99</td>\n",
       "    </tr>\n",
       "    <tr>\n",
       "      <th>10</th>\n",
       "      <td>Eritrea</td>\n",
       "      <td>12.19</td>\n",
       "      <td>51.92</td>\n",
       "      <td>27.36</td>\n",
       "      <td>89.63</td>\n",
       "      <td>6.14</td>\n",
       "      <td>21.25</td>\n",
       "    </tr>\n",
       "  </tbody>\n",
       "</table>\n",
       "</div>"
      ],
      "text/plain": [
       "    Country  %_using_atleast_basic_sanity_services  \\\n",
       "0   Eritrea                                  10.56   \n",
       "1   Eritrea                                  10.83   \n",
       "2   Eritrea                                  11.02   \n",
       "3   Eritrea                                  11.20   \n",
       "4   Eritrea                                  11.37   \n",
       "5   Eritrea                                  11.54   \n",
       "6   Eritrea                                  11.64   \n",
       "7   Eritrea                                  11.74   \n",
       "8   Eritrea                                  11.84   \n",
       "9   Eritrea                                  11.94   \n",
       "10  Eritrea                                  12.19   \n",
       "\n",
       "    %_using_atleast_basic_drinking_water_services  \\\n",
       "0                                           49.25   \n",
       "1                                           49.65   \n",
       "2                                           49.81   \n",
       "3                                           49.98   \n",
       "4                                           50.15   \n",
       "5                                           50.33   \n",
       "6                                           50.71   \n",
       "7                                           51.08   \n",
       "8                                           51.47   \n",
       "9                                           51.85   \n",
       "10                                          51.92   \n",
       "\n",
       "    %_of_rural_using_atleast_basic_drinking_water_services  \\\n",
       "0                                               29.13        \n",
       "1                                               28.86        \n",
       "2                                               28.60        \n",
       "3                                               28.33        \n",
       "4                                               28.07        \n",
       "5                                               27.80        \n",
       "6                                               27.80        \n",
       "7                                               27.80        \n",
       "8                                               27.80        \n",
       "9                                               27.80        \n",
       "10                                              27.36        \n",
       "\n",
       "    %_of_urban_using_atleast_basic_drinking_water_services  \\\n",
       "0                                               90.06        \n",
       "1                                               89.99        \n",
       "2                                               89.93        \n",
       "3                                               89.87        \n",
       "4                                               89.80        \n",
       "5                                               89.74        \n",
       "6                                               89.74        \n",
       "7                                               89.74        \n",
       "8                                               89.74        \n",
       "9                                               89.74        \n",
       "10                                              89.63        \n",
       "\n",
       "    %_of_rural_using_atleast_basic_sanity_services  \\\n",
       "0                                             3.82   \n",
       "1                                             4.17   \n",
       "2                                             4.52   \n",
       "3                                             4.86   \n",
       "4                                             5.21   \n",
       "5                                             5.56   \n",
       "6                                             5.56   \n",
       "7                                             5.56   \n",
       "8                                             5.56   \n",
       "9                                             5.56   \n",
       "10                                            6.14   \n",
       "\n",
       "    %_of_urban_using_atleast_basic_sanity_services  \n",
       "0                                            24.21  \n",
       "1                                            23.77  \n",
       "2                                            23.33  \n",
       "3                                            22.88  \n",
       "4                                            22.44  \n",
       "5                                            21.99  \n",
       "6                                            21.99  \n",
       "7                                            21.99  \n",
       "8                                            21.99  \n",
       "9                                            21.99  \n",
       "10                                           21.25  "
      ]
     },
     "execution_count": 50,
     "metadata": {},
     "output_type": "execute_result"
    }
   ],
   "source": [
    "for column in null_columns:\n",
    "    df, mse, r_squared, target_column = fill_with_regression(df, eritrea, column, 'Year')\n",
    "    print(f'The Mean Squared Error for the model used to predict {target_column} values is: {mse}')\n",
    "    print(f'The r_squared for the model used to predict {target_column} values is: {r_squared}')\n",
    "    print('')\n",
    "    \n",
    "print(\"All specified columns with missing values have been filled using regression\")\n",
    "\n",
    "eritrea[['Country', '%_using_atleast_basic_sanity_services', '%_using_atleast_basic_drinking_water_services', '%_of_rural_using_atleast_basic_drinking_water_services', '%_of_urban_using_atleast_basic_drinking_water_services', \n",
    "             '%_of_rural_using_atleast_basic_sanity_services', '%_of_urban_using_atleast_basic_sanity_services']].reset_index(drop=True)"
   ]
  },
  {
   "cell_type": "code",
   "execution_count": 51,
   "metadata": {},
   "outputs": [
    {
     "name": "stdout",
     "output_type": "stream",
     "text": [
      "One row has null values for these columns\n"
     ]
    },
    {
     "data": {
      "text/html": [
       "<div>\n",
       "<style scoped>\n",
       "    .dataframe tbody tr th:only-of-type {\n",
       "        vertical-align: middle;\n",
       "    }\n",
       "\n",
       "    .dataframe tbody tr th {\n",
       "        vertical-align: top;\n",
       "    }\n",
       "\n",
       "    .dataframe thead th {\n",
       "        text-align: right;\n",
       "    }\n",
       "</style>\n",
       "<table border=\"1\" class=\"dataframe\">\n",
       "  <thead>\n",
       "    <tr style=\"text-align: right;\">\n",
       "      <th></th>\n",
       "      <th>Country</th>\n",
       "      <th>Year</th>\n",
       "      <th>%_using_atleast_basic_sanity_services</th>\n",
       "      <th>%_using_atleast_basic_drinking_water_services</th>\n",
       "      <th>%_of_rural_using_atleast_basic_drinking_water_services</th>\n",
       "      <th>%_of_urban_using_atleast_basic_drinking_water_services</th>\n",
       "      <th>%_of_rural_using_atleast_basic_sanity_services</th>\n",
       "      <th>%_of_urban_using_atleast_basic_sanity_services</th>\n",
       "    </tr>\n",
       "  </thead>\n",
       "  <tbody>\n",
       "    <tr>\n",
       "      <th>0</th>\n",
       "      <td>Central African Republic</td>\n",
       "      <td>2007</td>\n",
       "      <td>20.55</td>\n",
       "      <td>51.10</td>\n",
       "      <td>38.18</td>\n",
       "      <td>71.87</td>\n",
       "      <td>8.76</td>\n",
       "      <td>39.50</td>\n",
       "    </tr>\n",
       "    <tr>\n",
       "      <th>1</th>\n",
       "      <td>Central African Republic</td>\n",
       "      <td>2008</td>\n",
       "      <td>21.37</td>\n",
       "      <td>50.07</td>\n",
       "      <td>37.31</td>\n",
       "      <td>70.44</td>\n",
       "      <td>8.82</td>\n",
       "      <td>41.42</td>\n",
       "    </tr>\n",
       "    <tr>\n",
       "      <th>2</th>\n",
       "      <td>Central African Republic</td>\n",
       "      <td>2009</td>\n",
       "      <td>22.21</td>\n",
       "      <td>49.04</td>\n",
       "      <td>36.43</td>\n",
       "      <td>69.01</td>\n",
       "      <td>8.88</td>\n",
       "      <td>43.34</td>\n",
       "    </tr>\n",
       "    <tr>\n",
       "      <th>3</th>\n",
       "      <td>Central African Republic</td>\n",
       "      <td>2010</td>\n",
       "      <td>23.07</td>\n",
       "      <td>48.01</td>\n",
       "      <td>35.55</td>\n",
       "      <td>67.59</td>\n",
       "      <td>8.94</td>\n",
       "      <td>45.26</td>\n",
       "    </tr>\n",
       "    <tr>\n",
       "      <th>4</th>\n",
       "      <td>Central African Republic</td>\n",
       "      <td>2011</td>\n",
       "      <td>23.94</td>\n",
       "      <td>46.98</td>\n",
       "      <td>34.65</td>\n",
       "      <td>66.16</td>\n",
       "      <td>9.00</td>\n",
       "      <td>47.18</td>\n",
       "    </tr>\n",
       "    <tr>\n",
       "      <th>5</th>\n",
       "      <td>Central African Republic</td>\n",
       "      <td>2012</td>\n",
       "      <td>24.83</td>\n",
       "      <td>45.95</td>\n",
       "      <td>33.75</td>\n",
       "      <td>64.74</td>\n",
       "      <td>9.05</td>\n",
       "      <td>49.10</td>\n",
       "    </tr>\n",
       "    <tr>\n",
       "      <th>6</th>\n",
       "      <td>Central African Republic</td>\n",
       "      <td>2013</td>\n",
       "      <td>24.94</td>\n",
       "      <td>46.04</td>\n",
       "      <td>33.75</td>\n",
       "      <td>64.74</td>\n",
       "      <td>9.05</td>\n",
       "      <td>49.10</td>\n",
       "    </tr>\n",
       "    <tr>\n",
       "      <th>7</th>\n",
       "      <td>Central African Republic</td>\n",
       "      <td>2014</td>\n",
       "      <td>25.06</td>\n",
       "      <td>46.13</td>\n",
       "      <td>33.75</td>\n",
       "      <td>64.74</td>\n",
       "      <td>9.05</td>\n",
       "      <td>49.10</td>\n",
       "    </tr>\n",
       "    <tr>\n",
       "      <th>8</th>\n",
       "      <td>Central African Republic</td>\n",
       "      <td>2015</td>\n",
       "      <td>25.18</td>\n",
       "      <td>46.23</td>\n",
       "      <td>33.75</td>\n",
       "      <td>64.74</td>\n",
       "      <td>9.05</td>\n",
       "      <td>49.10</td>\n",
       "    </tr>\n",
       "    <tr>\n",
       "      <th>9</th>\n",
       "      <td>Central African Republic</td>\n",
       "      <td>2016</td>\n",
       "      <td>25.32</td>\n",
       "      <td>46.33</td>\n",
       "      <td>33.75</td>\n",
       "      <td>64.74</td>\n",
       "      <td>9.05</td>\n",
       "      <td>49.10</td>\n",
       "    </tr>\n",
       "    <tr>\n",
       "      <th>10</th>\n",
       "      <td>Central African Republic</td>\n",
       "      <td>2017</td>\n",
       "      <td>NaN</td>\n",
       "      <td>NaN</td>\n",
       "      <td>NaN</td>\n",
       "      <td>NaN</td>\n",
       "      <td>NaN</td>\n",
       "      <td>NaN</td>\n",
       "    </tr>\n",
       "  </tbody>\n",
       "</table>\n",
       "</div>"
      ],
      "text/plain": [
       "                     Country  Year  %_using_atleast_basic_sanity_services  \\\n",
       "0   Central African Republic  2007                                  20.55   \n",
       "1   Central African Republic  2008                                  21.37   \n",
       "2   Central African Republic  2009                                  22.21   \n",
       "3   Central African Republic  2010                                  23.07   \n",
       "4   Central African Republic  2011                                  23.94   \n",
       "5   Central African Republic  2012                                  24.83   \n",
       "6   Central African Republic  2013                                  24.94   \n",
       "7   Central African Republic  2014                                  25.06   \n",
       "8   Central African Republic  2015                                  25.18   \n",
       "9   Central African Republic  2016                                  25.32   \n",
       "10  Central African Republic  2017                                    NaN   \n",
       "\n",
       "    %_using_atleast_basic_drinking_water_services  \\\n",
       "0                                           51.10   \n",
       "1                                           50.07   \n",
       "2                                           49.04   \n",
       "3                                           48.01   \n",
       "4                                           46.98   \n",
       "5                                           45.95   \n",
       "6                                           46.04   \n",
       "7                                           46.13   \n",
       "8                                           46.23   \n",
       "9                                           46.33   \n",
       "10                                            NaN   \n",
       "\n",
       "    %_of_rural_using_atleast_basic_drinking_water_services  \\\n",
       "0                                               38.18        \n",
       "1                                               37.31        \n",
       "2                                               36.43        \n",
       "3                                               35.55        \n",
       "4                                               34.65        \n",
       "5                                               33.75        \n",
       "6                                               33.75        \n",
       "7                                               33.75        \n",
       "8                                               33.75        \n",
       "9                                               33.75        \n",
       "10                                                NaN        \n",
       "\n",
       "    %_of_urban_using_atleast_basic_drinking_water_services  \\\n",
       "0                                               71.87        \n",
       "1                                               70.44        \n",
       "2                                               69.01        \n",
       "3                                               67.59        \n",
       "4                                               66.16        \n",
       "5                                               64.74        \n",
       "6                                               64.74        \n",
       "7                                               64.74        \n",
       "8                                               64.74        \n",
       "9                                               64.74        \n",
       "10                                                NaN        \n",
       "\n",
       "    %_of_rural_using_atleast_basic_sanity_services  \\\n",
       "0                                             8.76   \n",
       "1                                             8.82   \n",
       "2                                             8.88   \n",
       "3                                             8.94   \n",
       "4                                             9.00   \n",
       "5                                             9.05   \n",
       "6                                             9.05   \n",
       "7                                             9.05   \n",
       "8                                             9.05   \n",
       "9                                             9.05   \n",
       "10                                             NaN   \n",
       "\n",
       "    %_of_urban_using_atleast_basic_sanity_services  \n",
       "0                                            39.50  \n",
       "1                                            41.42  \n",
       "2                                            43.34  \n",
       "3                                            45.26  \n",
       "4                                            47.18  \n",
       "5                                            49.10  \n",
       "6                                            49.10  \n",
       "7                                            49.10  \n",
       "8                                            49.10  \n",
       "9                                            49.10  \n",
       "10                                             NaN  "
      ]
     },
     "execution_count": 51,
     "metadata": {},
     "output_type": "execute_result"
    }
   ],
   "source": [
    "central_african_republic = df[df['Country'] == 'Central African Republic'].reset_index(drop=True)\n",
    "# Display population percentages\n",
    "print(\"One row has null values for these columns\")\n",
    "central_african_republic[['Country', 'Year', '%_using_atleast_basic_sanity_services', '%_using_atleast_basic_drinking_water_services', '%_of_rural_using_atleast_basic_drinking_water_services', '%_of_urban_using_atleast_basic_drinking_water_services',\n",
    "          '%_of_rural_using_atleast_basic_sanity_services', '%_of_urban_using_atleast_basic_sanity_services']]"
   ]
  },
  {
   "cell_type": "code",
   "execution_count": 52,
   "metadata": {},
   "outputs": [
    {
     "name": "stdout",
     "output_type": "stream",
     "text": [
      "The Mean Squared Error for the model used to predict %_using_atleast_basic_drinking_water_services values is: 0.65\n",
      "The r_squared for the model used to predict %_using_atleast_basic_drinking_water_services values is: 0.79\n",
      "\n",
      "The Mean Squared Error for the model used to predict %_using_atleast_basic_sanity_services values is: 0.27\n",
      "The r_squared for the model used to predict %_using_atleast_basic_sanity_services values is: 0.9\n",
      "\n",
      "The Mean Squared Error for the model used to predict %_of_rural_using_atleast_basic_drinking_water_services values is: 0.4\n",
      "The r_squared for the model used to predict %_of_rural_using_atleast_basic_drinking_water_services values is: 0.84\n",
      "\n",
      "The Mean Squared Error for the model used to predict %_of_urban_using_atleast_basic_drinking_water_services values is: 1.05\n",
      "The r_squared for the model used to predict %_of_urban_using_atleast_basic_drinking_water_services values is: 0.84\n",
      "\n",
      "The Mean Squared Error for the model used to predict %_of_rural_using_atleast_basic_sanity_services values is: 0.0\n",
      "The r_squared for the model used to predict %_of_rural_using_atleast_basic_sanity_services values is: 0.83\n",
      "\n",
      "The Mean Squared Error for the model used to predict %_of_urban_using_atleast_basic_sanity_services values is: 1.9\n",
      "The r_squared for the model used to predict %_of_urban_using_atleast_basic_sanity_services values is: 0.84\n",
      "\n",
      "All specified columns with missing values have been filled using regression\n"
     ]
    },
    {
     "data": {
      "text/html": [
       "<div>\n",
       "<style scoped>\n",
       "    .dataframe tbody tr th:only-of-type {\n",
       "        vertical-align: middle;\n",
       "    }\n",
       "\n",
       "    .dataframe tbody tr th {\n",
       "        vertical-align: top;\n",
       "    }\n",
       "\n",
       "    .dataframe thead th {\n",
       "        text-align: right;\n",
       "    }\n",
       "</style>\n",
       "<table border=\"1\" class=\"dataframe\">\n",
       "  <thead>\n",
       "    <tr style=\"text-align: right;\">\n",
       "      <th></th>\n",
       "      <th>Country</th>\n",
       "      <th>%_using_atleast_basic_sanity_services</th>\n",
       "      <th>%_using_atleast_basic_drinking_water_services</th>\n",
       "      <th>%_of_rural_using_atleast_basic_drinking_water_services</th>\n",
       "      <th>%_of_urban_using_atleast_basic_drinking_water_services</th>\n",
       "      <th>%_of_rural_using_atleast_basic_sanity_services</th>\n",
       "      <th>%_of_urban_using_atleast_basic_sanity_services</th>\n",
       "    </tr>\n",
       "  </thead>\n",
       "  <tbody>\n",
       "    <tr>\n",
       "      <th>0</th>\n",
       "      <td>Central African Republic</td>\n",
       "      <td>20.55</td>\n",
       "      <td>51.10</td>\n",
       "      <td>38.18</td>\n",
       "      <td>71.87</td>\n",
       "      <td>8.76</td>\n",
       "      <td>39.50</td>\n",
       "    </tr>\n",
       "    <tr>\n",
       "      <th>1</th>\n",
       "      <td>Central African Republic</td>\n",
       "      <td>21.37</td>\n",
       "      <td>50.07</td>\n",
       "      <td>37.31</td>\n",
       "      <td>70.44</td>\n",
       "      <td>8.82</td>\n",
       "      <td>41.42</td>\n",
       "    </tr>\n",
       "    <tr>\n",
       "      <th>2</th>\n",
       "      <td>Central African Republic</td>\n",
       "      <td>22.21</td>\n",
       "      <td>49.04</td>\n",
       "      <td>36.43</td>\n",
       "      <td>69.01</td>\n",
       "      <td>8.88</td>\n",
       "      <td>43.34</td>\n",
       "    </tr>\n",
       "    <tr>\n",
       "      <th>3</th>\n",
       "      <td>Central African Republic</td>\n",
       "      <td>23.07</td>\n",
       "      <td>48.01</td>\n",
       "      <td>35.55</td>\n",
       "      <td>67.59</td>\n",
       "      <td>8.94</td>\n",
       "      <td>45.26</td>\n",
       "    </tr>\n",
       "    <tr>\n",
       "      <th>4</th>\n",
       "      <td>Central African Republic</td>\n",
       "      <td>23.94</td>\n",
       "      <td>46.98</td>\n",
       "      <td>34.65</td>\n",
       "      <td>66.16</td>\n",
       "      <td>9.00</td>\n",
       "      <td>47.18</td>\n",
       "    </tr>\n",
       "    <tr>\n",
       "      <th>5</th>\n",
       "      <td>Central African Republic</td>\n",
       "      <td>24.83</td>\n",
       "      <td>45.95</td>\n",
       "      <td>33.75</td>\n",
       "      <td>64.74</td>\n",
       "      <td>9.05</td>\n",
       "      <td>49.10</td>\n",
       "    </tr>\n",
       "    <tr>\n",
       "      <th>6</th>\n",
       "      <td>Central African Republic</td>\n",
       "      <td>24.94</td>\n",
       "      <td>46.04</td>\n",
       "      <td>33.75</td>\n",
       "      <td>64.74</td>\n",
       "      <td>9.05</td>\n",
       "      <td>49.10</td>\n",
       "    </tr>\n",
       "    <tr>\n",
       "      <th>7</th>\n",
       "      <td>Central African Republic</td>\n",
       "      <td>25.06</td>\n",
       "      <td>46.13</td>\n",
       "      <td>33.75</td>\n",
       "      <td>64.74</td>\n",
       "      <td>9.05</td>\n",
       "      <td>49.10</td>\n",
       "    </tr>\n",
       "    <tr>\n",
       "      <th>8</th>\n",
       "      <td>Central African Republic</td>\n",
       "      <td>25.18</td>\n",
       "      <td>46.23</td>\n",
       "      <td>33.75</td>\n",
       "      <td>64.74</td>\n",
       "      <td>9.05</td>\n",
       "      <td>49.10</td>\n",
       "    </tr>\n",
       "    <tr>\n",
       "      <th>9</th>\n",
       "      <td>Central African Republic</td>\n",
       "      <td>25.32</td>\n",
       "      <td>46.33</td>\n",
       "      <td>33.75</td>\n",
       "      <td>64.74</td>\n",
       "      <td>9.05</td>\n",
       "      <td>49.10</td>\n",
       "    </tr>\n",
       "    <tr>\n",
       "      <th>10</th>\n",
       "      <td>Central African Republic</td>\n",
       "      <td>26.66</td>\n",
       "      <td>44.54</td>\n",
       "      <td>32.27</td>\n",
       "      <td>62.36</td>\n",
       "      <td>9.15</td>\n",
       "      <td>52.30</td>\n",
       "    </tr>\n",
       "  </tbody>\n",
       "</table>\n",
       "</div>"
      ],
      "text/plain": [
       "                     Country  %_using_atleast_basic_sanity_services  \\\n",
       "0   Central African Republic                                  20.55   \n",
       "1   Central African Republic                                  21.37   \n",
       "2   Central African Republic                                  22.21   \n",
       "3   Central African Republic                                  23.07   \n",
       "4   Central African Republic                                  23.94   \n",
       "5   Central African Republic                                  24.83   \n",
       "6   Central African Republic                                  24.94   \n",
       "7   Central African Republic                                  25.06   \n",
       "8   Central African Republic                                  25.18   \n",
       "9   Central African Republic                                  25.32   \n",
       "10  Central African Republic                                  26.66   \n",
       "\n",
       "    %_using_atleast_basic_drinking_water_services  \\\n",
       "0                                           51.10   \n",
       "1                                           50.07   \n",
       "2                                           49.04   \n",
       "3                                           48.01   \n",
       "4                                           46.98   \n",
       "5                                           45.95   \n",
       "6                                           46.04   \n",
       "7                                           46.13   \n",
       "8                                           46.23   \n",
       "9                                           46.33   \n",
       "10                                          44.54   \n",
       "\n",
       "    %_of_rural_using_atleast_basic_drinking_water_services  \\\n",
       "0                                               38.18        \n",
       "1                                               37.31        \n",
       "2                                               36.43        \n",
       "3                                               35.55        \n",
       "4                                               34.65        \n",
       "5                                               33.75        \n",
       "6                                               33.75        \n",
       "7                                               33.75        \n",
       "8                                               33.75        \n",
       "9                                               33.75        \n",
       "10                                              32.27        \n",
       "\n",
       "    %_of_urban_using_atleast_basic_drinking_water_services  \\\n",
       "0                                               71.87        \n",
       "1                                               70.44        \n",
       "2                                               69.01        \n",
       "3                                               67.59        \n",
       "4                                               66.16        \n",
       "5                                               64.74        \n",
       "6                                               64.74        \n",
       "7                                               64.74        \n",
       "8                                               64.74        \n",
       "9                                               64.74        \n",
       "10                                              62.36        \n",
       "\n",
       "    %_of_rural_using_atleast_basic_sanity_services  \\\n",
       "0                                             8.76   \n",
       "1                                             8.82   \n",
       "2                                             8.88   \n",
       "3                                             8.94   \n",
       "4                                             9.00   \n",
       "5                                             9.05   \n",
       "6                                             9.05   \n",
       "7                                             9.05   \n",
       "8                                             9.05   \n",
       "9                                             9.05   \n",
       "10                                            9.15   \n",
       "\n",
       "    %_of_urban_using_atleast_basic_sanity_services  \n",
       "0                                            39.50  \n",
       "1                                            41.42  \n",
       "2                                            43.34  \n",
       "3                                            45.26  \n",
       "4                                            47.18  \n",
       "5                                            49.10  \n",
       "6                                            49.10  \n",
       "7                                            49.10  \n",
       "8                                            49.10  \n",
       "9                                            49.10  \n",
       "10                                           52.30  "
      ]
     },
     "execution_count": 52,
     "metadata": {},
     "output_type": "execute_result"
    }
   ],
   "source": [
    "for column in null_columns:\n",
    "    df, mse, r_squared, target_column = fill_with_regression(df, central_african_republic, column, 'Year')\n",
    "    print(f'The Mean Squared Error for the model used to predict {target_column} values is: {mse}')\n",
    "    print(f'The r_squared for the model used to predict {target_column} values is: {r_squared}')\n",
    "    print('')\n",
    "    \n",
    "print(\"All specified columns with missing values have been filled using regression\")\n",
    "\n",
    "central_african_republic[['Country', '%_using_atleast_basic_sanity_services', '%_using_atleast_basic_drinking_water_services', '%_of_rural_using_atleast_basic_drinking_water_services', '%_of_urban_using_atleast_basic_drinking_water_services', \n",
    "             '%_of_rural_using_atleast_basic_sanity_services', '%_of_urban_using_atleast_basic_sanity_services']].reset_index(drop=True)"
   ]
  },
  {
   "cell_type": "markdown",
   "metadata": {},
   "source": [
    "We dropped the columns, '%_of_rural_using_safe_drinking_water_services', '%_of_urban_using_safe_drinking_water_services', '%_using_safe_sanity_services', '%_of_rural_using_safe_sanity_services', '%_of_urban_using_safe_sanity_services' because of the reasons below.\n",
    "\n",
    "1. They have a very high percentage of missing values. This being time-series data(data with patterns or trends), most if not all of the possible imputation methods were not applicable. Regression imputation was not possible because there was no tangible amount of data to train the models and mean or mode imputation would affect underlying trends and introduce bias.\n",
    "\n",
    "2. According to \"World Bank Open Data website\", The percentage of people using at least basic services encompasses both people using basic services as well as those using safely managed services. We then based our analysis on columns with \"People using atleast basic services\" to avoid redundancy in our analysis."
   ]
  },
  {
   "cell_type": "code",
   "execution_count": 53,
   "metadata": {},
   "outputs": [],
   "source": [
    "columns_to_drop = ['%_of_rural_using_safe_drinking_water_services', '%_of_urban_using_safe_drinking_water_services', '%_using_safe_sanity_services', \n",
    "                   '%_of_rural_using_safe_sanity_services', '%_of_urban_using_safe_sanity_services', '%_using_safe_drinking_water_services']\n",
    "\n",
    "df.drop(columns=columns_to_drop, inplace=True)"
   ]
  },
  {
   "cell_type": "markdown",
   "metadata": {},
   "source": [
    "Fill missing values for 'Incidences_per_1000_population_at_risk', 'Reported_cases'.\n",
    "\n",
    "Tunisia,  Mauritius, Lesotho and Libya have no data for these columns. \n",
    "\n",
    "We filled these missing values with 0's because mean, mode or regression imputation were not applicable. Using other countries data to fill missing values for \"Incidences_per_1000_population_at_risk\" and \"Reported_cases\" for another country was not logical."
   ]
  },
  {
   "cell_type": "code",
   "execution_count": 54,
   "metadata": {},
   "outputs": [],
   "source": [
    "# Replace null values in the specified columns with 0\n",
    "columns_to_fill = ['Incidences_per_1000_population_at_risk', 'Reported_cases']\n",
    "df[columns_to_fill] = df[columns_to_fill].fillna(0)\n"
   ]
  },
  {
   "cell_type": "markdown",
   "metadata": {},
   "source": [
    "Filling missing values for '%_using_IBNs', '%_of_children_under_age_5_with_fever', '%_of_pregnant_women_using_IPT'\n",
    "\n",
    "Filling one country's missing values using data from other countries was not logical. \n",
    "\n",
    "Therefore, we grouped each countries rows into a single dataframe, calculated the mean for each column and used it to fill the missing values.\n",
    "\n",
    "For countries with no values for each of the three columns, the missing values were replaced with 0's."
   ]
  },
  {
   "cell_type": "code",
   "execution_count": 55,
   "metadata": {},
   "outputs": [],
   "source": [
    "columns_of_interest = ['%_using_IBNs', '%_of_children_under_age_5_with_fever', '%_of_pregnant_women_using_IPT']\n",
    "for col in columns_of_interest:\n",
    "    df[col] = df[col].fillna(df.groupby('Country')[col].transform('mean'))\n",
    "    df[col] = df[col].round(2)\n",
    "    \n",
    "# Replace NaN with 0 after filling missing values\n",
    "df.fillna(0, inplace=True)"
   ]
  },
  {
   "cell_type": "markdown",
   "metadata": {},
   "source": [
    "Confirming whether all columns have been filled."
   ]
  },
  {
   "cell_type": "code",
   "execution_count": 56,
   "metadata": {},
   "outputs": [
    {
     "data": {
      "text/plain": [
       "Country                                                   0.00%\n",
       "Year                                                      0.00%\n",
       "geometry                                                  0.00%\n",
       "longitude                                                 0.00%\n",
       "latitude                                                  0.00%\n",
       "%_of_urban_using_atleast_basic_sanity_services            0.00%\n",
       "%_of_rural_using_atleast_basic_sanity_services            0.00%\n",
       "%_using_atleast_basic_sanity_services                     0.00%\n",
       "%_of_urban_using_atleast_basic_drinking_water_services    0.00%\n",
       "%_of_rural_using_atleast_basic_drinking_water_services    0.00%\n",
       "%_using_atleast_basic_drinking_water_services             0.00%\n",
       "annual_%_growth_of_urban_population                       0.00%\n",
       "%_of_urban_population                                     0.00%\n",
       "annual_%_growth_of_rural_population                       0.00%\n",
       "%_of_rural_population                                     0.00%\n",
       "%_of_pregnant_women_using_IPT                             0.00%\n",
       "%_of_children_under_age_5_with_fever                      0.00%\n",
       "%_using_IBNs                                              0.00%\n",
       "Reported_cases                                            0.00%\n",
       "Incidences_per_1000_population_at_risk                    0.00%\n",
       "Country Code                                              0.00%\n",
       "%_of_total_population                                     0.00%\n",
       "dtype: object"
      ]
     },
     "execution_count": 56,
     "metadata": {},
     "output_type": "execute_result"
    }
   ],
   "source": [
    "percentage_of_null_values = (df.isnull().sum()/df.shape[0]*100).sort_values(ascending=False)\n",
    "percentage_of_null_values = percentage_of_null_values.apply(lambda x: f'{x:.2f}%')\n",
    "percentage_of_null_values"
   ]
  },
  {
   "cell_type": "markdown",
   "metadata": {},
   "source": [
    "====================================\n",
    "===================================="
   ]
  },
  {
   "cell_type": "markdown",
   "metadata": {},
   "source": [
    "## Pattern Discovery\n",
    "This involves identifying meaningful patterns, associations in any dataset. The goal is to uncover \n",
    "hidden knowledge or interesting relationships previously not evident."
   ]
  },
  {
   "cell_type": "markdown",
   "metadata": {},
   "source": [
    "#### Here are a few hypotheses or patterns you might explore with this data:\n",
    "##### 1. Correlation between sanitation and incidence of malaria: Poor sanitation can create breeding grounds for mosquitoes, increasing the risk of malaria. You might look for a negative correlation between '%_using_atleast_basic_sanity_services' and 'Incidences_per_1000_population_at_risk'."
   ]
  },
  {
   "cell_type": "code",
   "execution_count": 57,
   "metadata": {},
   "outputs": [],
   "source": [
    "def correlation_coefficient(columns):\n",
    "    subset_data = df[columns]\n",
    "    correlation_coefficient = subset_data.corr().iloc[0, 1]\n",
    "    return correlation_coefficient\n",
    "    "
   ]
  },
  {
   "cell_type": "code",
   "execution_count": 58,
   "metadata": {},
   "outputs": [
    {
     "name": "stdout",
     "output_type": "stream",
     "text": [
      "Correlation Coefficient between % using basic sanitation services and Incidences of Malaria:\n",
      "-0.5482479315002189\n"
     ]
    },
    {
     "data": {
      "image/png": "[encoded data removed]",
      "text/plain": [
       "<Figure size 800x600 with 2 Axes>"
      ]
     },
     "metadata": {},
     "output_type": "display_data"
    }
   ],
   "source": [
    "# Select the columns \n",
    "columns = ['%_using_atleast_basic_sanity_services', 'Incidences_per_1000_population_at_risk']\n",
    "subset_data = df[columns]\n",
    "\n",
    "# Correlation coefficient\n",
    "print(\"Correlation Coefficient between % using basic sanitation services and Incidences of Malaria:\")\n",
    "print(correlation_coefficient(columns))\n",
    "\n",
    "# Plot the correlation heatmap\n",
    "correlation_matrix = subset_data.corr()\n",
    "plt.figure(figsize=(8, 6))\n",
    "sns.heatmap(correlation_matrix, annot=True, cmap='coolwarm', fmt='.2f')\n",
    "plt.title(\"Correlation Heatmap\")\n",
    "plt.show()"
   ]
  },
  {
   "cell_type": "markdown",
   "metadata": {},
   "source": [
    "##### 2. Effect of preventative measures on malaria incidence: Look for a negative correlation between '%_using_IBNs' or '%_of_pregnant_women_using_IPT' and 'Incidences_per_1000_population_at_risk'. This would suggest that these preventative measures are effective."
   ]
  },
  {
   "cell_type": "code",
   "execution_count": 61,
   "metadata": {},
   "outputs": [
    {
     "name": "stdout",
     "output_type": "stream",
     "text": [
      "Coefficient correlation between %_using_IBNs and Incidences of Malaria:\n",
      "0.5277680414990794\n",
      "Coefficient correlation between %_of_pregnant_women_using_IPT and Incidences_per_1000_population_at_risk:\n",
      "0.53870221702986\n",
      "There is no strong negative correlation between any two columns.\n"
     ]
    },
    {
     "data": {
      "image/png": "[encoded data removed]",
      "text/plain": [
       "<Figure size 800x600 with 2 Axes>"
      ]
     },
     "metadata": {},
     "output_type": "display_data"
    }
   ],
   "source": [
    "# Correlation Analysis\n",
    "# Select columns of interest\n",
    "columns = ['%_using_IBNs', '%_of_pregnant_women_using_IPT', 'Incidences_per_1000_population_at_risk']\n",
    "subset_data = df[columns]\n",
    "\n",
    "col1_col3_columns = ['%_using_IBNs', 'Incidences_per_1000_population_at_risk']\n",
    "col2_col3_columns = ['%_of_pregnant_women_using_IPT', 'Incidences_per_1000_population_at_risk']\n",
    "\n",
    "# # Calculate the correlation matrix\n",
    "# correlation_matrix = subset_data.corr()\n",
    "\n",
    "# # Extract the correlation coefficients for the three columns of interest\n",
    "# col1_col3_corr = correlation_matrix.loc['%_using_IBNs', 'Incidences_per_1000_population_at_risk']\n",
    "# col2_col3_corr = correlation_matrix.loc['%_of_pregnant_women_using_IPT', 'Incidences_per_1000_population_at_risk']\n",
    "\n",
    "print('Coefficient correlation between %_using_IBNs and Incidences of Malaria:')\n",
    "col1_col3_corr = correlation_coefficient(col1_col3_columns)\n",
    "print(col1_col3_corr)\n",
    "\n",
    "print('Coefficient correlation between %_of_pregnant_women_using_IPT and Incidences_per_1000_population_at_risk:')\n",
    "col2_col3_corr = correlation_coefficient(col2_col3_columns)\n",
    "print(col2_col3_corr)\n",
    "\n",
    "if col1_col3_corr < -0.7 or col2_col3_corr < -0.7:\n",
    "    print(\"There is a strong negative correlation between at least two columns.\")\n",
    "else:\n",
    "    print(\"There is no strong negative correlation between any two columns.\")\n",
    "    \n",
    "# Plot the correlation heatmap\n",
    "correlation_matrix = subset_data.corr()\n",
    "plt.figure(figsize=(8, 6))\n",
    "sns.heatmap(correlation_matrix, annot=True, cmap='coolwarm', fmt='.2f')\n",
    "plt.title(\"Correlation Heatmap\")\n",
    "plt.show()"
   ]
  },
  {
   "cell_type": "markdown",
   "metadata": {},
   "source": [
    "##### 3. Urban vs rural differences: Using the columns '%_of_rural_population', '%_of_urban_population', and their respective water and sanitation services, you could investigate whether there are significant disparities in malaria incidence and access to preventative services between urban and rural populations."
   ]
  },
  {
   "cell_type": "code",
   "execution_count": null,
   "metadata": {},
   "outputs": [
    {
     "name": "stdout",
     "output_type": "stream",
     "text": [
      "T-Statistic (Malaria Incidence): 0.0\n",
      "P-Value (Malaria Incidence): 1.0\n",
      "T-Statistic (Access to Basic Drinking Water Services): 0.0\n",
      "P-Value (Access to Basic Drinking Water Services): 1.0\n",
      "T-Statistic (Access to Basic Sanitation Services): 0.0\n",
      "P-Value (Access to Basic Sanitation Services): 1.0\n"
     ]
    }
   ],
   "source": [
    "import scipy.stats as stats\n",
    "\n",
    "# Select the columns\n",
    "columns = ['%_of_rural_population', '%_of_urban_population',\n",
    "            '%_using_atleast_basic_drinking_water_services', '%_using_atleast_basic_sanity_services',\n",
    "           'Incidences_per_1000_population_at_risk']\n",
    "\n",
    "subset_data = df[columns]\n",
    "\n",
    "# Perform t-test to compare malaria incidence between urban and rural populations\n",
    "urban_data = subset_data[subset_data['%_of_urban_population'] > 0]\n",
    "rural_data = subset_data[subset_data['%_of_rural_population'] > 0]\n",
    "\n",
    "t_stat_incidence, p_value_incidence = stats.ttest_ind(urban_data['Incidences_per_1000_population_at_risk'],\n",
    "                                                      rural_data['Incidences_per_1000_population_at_risk'])\n",
    "\n",
    "print(\"T-Statistic (Malaria Incidence):\", t_stat_incidence)\n",
    "print(\"P-Value (Malaria Incidence):\", p_value_incidence)\n",
    "\n",
    "# Perform t-test to compare access to basic drinking water services between urban and rural populations\n",
    "t_stat_water, p_value_water = stats.ttest_ind(urban_data['%_using_atleast_basic_drinking_water_services'],\n",
    "                                              rural_data['%_using_atleast_basic_drinking_water_services'])\n",
    "\n",
    "print(\"T-Statistic (Access to Basic Drinking Water Services):\", t_stat_water)\n",
    "print(\"P-Value (Access to Basic Drinking Water Services):\", p_value_water)\n",
    "\n",
    "# Perform t-test to compare access to basic sanitation services between urban and rural populations\n",
    "t_stat_sanitation, p_value_sanitation = stats.ttest_ind(urban_data['%_using_atleast_basic_sanity_services'],\n",
    "                                                        rural_data['%_using_atleast_basic_sanity_services'])\n",
    "\n",
    "print(\"T-Statistic (Access to Basic Sanitation Services):\", t_stat_sanitation)\n",
    "print(\"P-Value (Access to Basic Sanitation Services):\", p_value_sanitation)\n"
   ]
  },
  {
   "cell_type": "markdown",
   "metadata": {},
   "source": [
    "##### 4. Impact of basic drinking water services on malaria incidence: While the direct link may not be clear, the availability of basic drinking water services is a general marker of public health infrastructure, which could affect malaria incidence."
   ]
  },
  {
   "cell_type": "code",
   "execution_count": 62,
   "metadata": {},
   "outputs": [
    {
     "name": "stdout",
     "output_type": "stream",
     "text": [
      "Correlation Coefficient between Percentage of people using basic drinking water services and Incidences of Malaria:\n",
      "-0.4695916121323202\n"
     ]
    },
    {
     "data": {
      "image/png": "[encoded data removed]",
      "text/plain": [
       "<Figure size 800x600 with 2 Axes>"
      ]
     },
     "metadata": {},
     "output_type": "display_data"
    }
   ],
   "source": [
    "# Correlation Analysis# Select columns\n",
    "columns = ['%_using_atleast_basic_drinking_water_services',\n",
    "                       'Incidences_per_1000_population_at_risk']\n",
    "subset_data = df[columns]\n",
    "\n",
    "# Print the correlation coefficient\n",
    "print(\"Correlation Coefficient between Percentage of people using basic drinking water services and Incidences of Malaria:\")\n",
    "print(correlation_coefficient(columns))\n",
    "\n",
    "# Plot the correlation heatmap\n",
    "correlation_matrix = subset_data.corr()\n",
    "plt.figure(figsize=(8, 6))\n",
    "sns.heatmap(correlation_matrix, annot=True, cmap='coolwarm', fmt='.2f')\n",
    "plt.title(\"Correlation Heatmap\")\n",
    "plt.show()\n"
   ]
  },
  {
   "cell_type": "markdown",
   "metadata": {},
   "source": [
    "##### 5. Trends over time: Given that 'Year' is one of your columns, you could investigate how these variables have changed over time. Is the incidence of malaria decreasing? Are more people gaining access to preventative measures?"
   ]
  },
  {
   "cell_type": "code",
   "execution_count": null,
   "metadata": {},
   "outputs": [
    {
     "data": {
      "image/png": "[encoded data removed]",
      "text/plain": [
       "<Figure size 1000x600 with 1 Axes>"
      ]
     },
     "metadata": {},
     "output_type": "display_data"
    }
   ],
   "source": [
    "# Time Series Analysis\n",
    "# Select columns\n",
    "columns = ['Year', 'Incidences_per_1000_population_at_risk', '%_using_IBNs',\n",
    "                       '%_of_pregnant_women_using_IPT']\n",
    "subset_data = df[columns]\n",
    "\n",
    "\n",
    "# Plot time series data\n",
    "plt.figure(figsize=(10, 6))\n",
    "plt.plot(subset_data['Year'], subset_data['Incidences_per_1000_population_at_risk'], label='Malaria Incidence')\n",
    "plt.plot(subset_data['Year'], subset_data['%_using_IBNs'], label='% Using IBNs')\n",
    "plt.plot(subset_data['Year'], subset_data['%_of_pregnant_women_using_IPT'], label='% Using IPT for Pregnant Women')\n",
    "plt.xlabel('Year')\n",
    "plt.ylabel('Percentage / Incidence')\n",
    "plt.title('Trends Over Time')\n",
    "plt.legend()\n",
    "plt.grid(True)\n",
    "plt.show()"
   ]
  },
  {
   "cell_type": "markdown",
   "metadata": {},
   "source": [
    "##### 6. Geographical patterns: Latitude and longitude are also provided, which allows you to explore geographical patterns. Are there specific regions or clusters of countries where the incidence of malaria is particularly high or low?"
   ]
  },
  {
   "cell_type": "code",
   "execution_count": null,
   "metadata": {},
   "outputs": [
    {
     "data": {
      "application/vnd.plotly.v1+json": {
       "config": {
        "plotlyServerURL": "https://plot.ly"
       },
       "data": [
        {
         "coloraxis": "coloraxis",
         "geo": "geo",
         "hovertemplate": "Year=2007<br>Country Code=%{location}<br>Incidences_per_1000_population_at_risk=%{z}<extra></extra>",
         "locationmode": "ISO-3",
         "locations": [
          "DZA",
          "AGO",
          "BEN",
          "BWA",
          "BFA",
          "BDI",
          "CPV",
          "CMR",
          "CAF",
          "TCD",
          "COM",
          "COD",
          "COG",
          "CIV",
          "DJI",
          "EGY",
          "GNQ",
          "ERI",
          "SWZ",
          "ETH",
          "GAB",
          "GMB",
          "GHA",
          "GIN",
          "GNB",
          "KEN",
          "LSO",
          "LBR",
          "LBY",
          "MDG",
          "MWI",
          "MLI",
          "MRT",
          "MUS",
          "MAR",
          "MOZ",
          "NAM",
          "NER",
          "NGA",
          "RWA",
          "STP",
          "SEN",
          "SYC",
          "SLE",
          "SOM",
          "ZAF",
          "SSD",
          "SDN",
          "TZA",
          "TGO",
          "TUN",
          "UGA",
          "ZMB",
          "ZWE"
         ],
         "name": "",
         "type": "choropleth",
         "z": [
          0.01,
          286.72,
          480.24,
          1.03,
          503.8,
          222.92,
          0.15,
          386.68,
          471.11,
          210.71,
          60.65,
          481.93,
          281.83,
          509.98,
          3.84,
          0,
          398.15,
          12.54,
          0.29,
          121.69,
          110.66,
          316.01,
          322.33,
          343.69,
          72.81,
          78.02,
          0,
          383.18,
          0,
          22.78,
          370.08,
          388.81,
          70.77,
          0,
          0,
          399.45,
          12.97,
          386.68,
          421.33,
          90.64,
          14.56,
          101.91,
          0,
          379.94,
          100.56,
          1.29,
          276.75,
          41.08,
          184.53,
          434.49,
          0,
          377.94,
          195.74,
          175.12
         ]
        }
       ],
       "frames": [
        {
         "data": [
          {
           "coloraxis": "coloraxis",
           "geo": "geo",
           "hovertemplate": "Year=2007<br>Country Code=%{location}<br>Incidences_per_1000_population_at_risk=%{z}<extra></extra>",
           "locationmode": "ISO-3",
           "locations": [
            "DZA",
            "AGO",
            "BEN",
            "BWA",
            "BFA",
            "BDI",
            "CPV",
            "CMR",
            "CAF",
            "TCD",
            "COM",
            "COD",
            "COG",
            "CIV",
            "DJI",
            "EGY",
            "GNQ",
            "ERI",
            "SWZ",
            "ETH",
            "GAB",
            "GMB",
            "GHA",
            "GIN",
            "GNB",
            "KEN",
            "LSO",
            "LBR",
            "LBY",
            "MDG",
            "MWI",
            "MLI",
            "MRT",
            "MUS",
            "MAR",
            "MOZ",
            "NAM",
            "NER",
            "NGA",
            "RWA",
            "STP",
            "SEN",
            "SYC",
            "SLE",
            "SOM",
            "ZAF",
            "SSD",
            "SDN",
            "TZA",
            "TGO",
            "TUN",
            "UGA",
            "ZMB",
            "ZWE"
           ],
           "name": "",
           "type": "choropleth",
           "z": [
            0.01,
            286.72,
            480.24,
            1.03,
            503.8,
            222.92,
            0.15,
            386.68,
            471.11,
            210.71,
            60.65,
            481.93,
            281.83,
            509.98,
            3.84,
            0,
            398.15,
            12.54,
            0.29,
            121.69,
            110.66,
            316.01,
            322.33,
            343.69,
            72.81,
            78.02,
            0,
            383.18,
            0,
            22.78,
            370.08,
            388.81,
            70.77,
            0,
            0,
            399.45,
            12.97,
            386.68,
            421.33,
            90.64,
            14.56,
            101.91,
            0,
            379.94,
            100.56,
            1.29,
            276.75,
            41.08,
            184.53,
            434.49,
            0,
            377.94,
            195.74,
            175.12
           ]
          }
         ],
         "name": "2007"
        },
        {
         "data": [
          {
           "coloraxis": "coloraxis",
           "geo": "geo",
           "hovertemplate": "Year=2008<br>Country Code=%{location}<br>Incidences_per_1000_population_at_risk=%{z}<extra></extra>",
           "locationmode": "ISO-3",
           "locations": [
            "DZA",
            "AGO",
            "BEN",
            "BWA",
            "BFA",
            "BDI",
            "CPV",
            "CMR",
            "CAF",
            "COM",
            "TCD",
            "COD",
            "COG",
            "CIV",
            "DJI",
            "EGY",
            "GNQ",
            "ERI",
            "SWZ",
            "ETH",
            "GAB",
            "GMB",
            "GHA",
            "GIN",
            "GNB",
            "KEN",
            "LSO",
            "LBR",
            "LBY",
            "MDG",
            "MWI",
            "MLI",
            "MRT",
            "MUS",
            "MAR",
            "MOZ",
            "NAM",
            "NER",
            "NGA",
            "RWA",
            "STP",
            "SEN",
            "SYC",
            "SLE",
            "SOM",
            "ZAF",
            "SSD",
            "SDN",
            "TZA",
            "TGO",
            "TUN",
            "UGA",
            "ZMB",
            "ZWE"
           ],
           "name": "",
           "type": "choropleth",
           "z": [
            0,
            241.19,
            453.17,
            1.93,
            533.39,
            222.77,
            0.28,
            358.72,
            461.79,
            59.21,
            215.1,
            471.43,
            249.16,
            510.08,
            3.74,
            0,
            378.24,
            6.78,
            0.2,
            90.66,
            118.87,
            306.84,
            333.72,
            370.17,
            89.02,
            67.68,
            0,
            383.33,
            0,
            23.47,
            392,
            379.06,
            61.14,
            0,
            0,
            399.79,
            7.46,
            409.1,
            424.66,
            72.03,
            36.57,
            86.42,
            0,
            413.85,
            63.1,
            1.57,
            267.14,
            35.05,
            171,
            379.9,
            0,
            410.46,
            176.72,
            74.73
           ]
          }
         ],
         "name": "2008"
        },
        {
         "data": [
          {
           "coloraxis": "coloraxis",
           "geo": "geo",
           "hovertemplate": "Year=2009<br>Country Code=%{location}<br>Incidences_per_1000_population_at_risk=%{z}<extra></extra>",
           "locationmode": "ISO-3",
           "locations": [
            "DZA",
            "AGO",
            "BEN",
            "BWA",
            "BFA",
            "BDI",
            "CPV",
            "CMR",
            "CAF",
            "TCD",
            "COM",
            "COD",
            "COG",
            "CIV",
            "DJI",
            "EGY",
            "GNQ",
            "ERI",
            "SWZ",
            "ETH",
            "GAB",
            "GMB",
            "GHA",
            "GIN",
            "GNB",
            "KEN",
            "LSO",
            "LBR",
            "LBY",
            "MDG",
            "MWI",
            "MLI",
            "MRT",
            "MUS",
            "MAR",
            "MOZ",
            "NAM",
            "NER",
            "NGA",
            "RWA",
            "STP",
            "SEN",
            "SYC",
            "SLE",
            "SOM",
            "ZAF",
            "SSD",
            "SDN",
            "TZA",
            "TGO",
            "TUN",
            "UGA",
            "ZMB",
            "ZWE"
           ],
           "name": "",
           "type": "choropleth",
           "z": [
            0,
            204.35,
            417.96,
            2.1,
            552.03,
            220.65,
            0.51,
            322.98,
            448.45,
            222.91,
            57.81,
            452.18,
            226.32,
            494.48,
            4.33,
            0,
            351.29,
            8.86,
            0.36,
            123.35,
            145.95,
            297.98,
            351.39,
            398.14,
            113.8,
            67.94,
            0,
            368.81,
            0,
            42.92,
            394.29,
            374.56,
            31.64,
            0,
            0,
            402.3,
            3.36,
            419.1,
            416.59,
            158.16,
            35.15,
            57.12,
            0,
            442.15,
            38.44,
            1.2,
            255.07,
            32.29,
            157.11,
            326.88,
            0,
            433.79,
            172,
            90.5
           ]
          }
         ],
         "name": "2009"
        },
        {
         "data": [
          {
           "coloraxis": "coloraxis",
           "geo": "geo",
           "hovertemplate": "Year=2010<br>Country Code=%{location}<br>Incidences_per_1000_population_at_risk=%{z}<extra></extra>",
           "locationmode": "ISO-3",
           "locations": [
            "DZA",
            "AGO",
            "BEN",
            "BWA",
            "BFA",
            "BDI",
            "CPV",
            "CMR",
            "CAF",
            "TCD",
            "COM",
            "COD",
            "COG",
            "CIV",
            "DJI",
            "EGY",
            "GNQ",
            "ERI",
            "SWZ",
            "ETH",
            "GAB",
            "GMB",
            "GHA",
            "GIN",
            "GNB",
            "KEN",
            "LSO",
            "LBR",
            "LBY",
            "MDG",
            "MWI",
            "MLI",
            "MRT",
            "MUS",
            "MAR",
            "MOZ",
            "NAM",
            "NER",
            "NGA",
            "RWA",
            "STP",
            "SEN",
            "SYC",
            "SLE",
            "SOM",
            "ZAF",
            "SSD",
            "SDN",
            "TZA",
            "TGO",
            "TUN",
            "UGA",
            "ZMB",
            "ZWE"
           ],
           "name": "",
           "type": "choropleth",
           "z": [
            0,
            185.52,
            387.76,
            1.69,
            551.24,
            210.2,
            0.37,
            295.53,
            434.51,
            225.94,
            52.98,
            428.31,
            220.92,
            469.27,
            1.6,
            0,
            339.99,
            26.33,
            0.9,
            128.4,
            177.82,
            289.27,
            364.15,
            414.66,
            134.37,
            67.71,
            0,
            345.77,
            0,
            42.24,
            386.02,
            383.6,
            38.83,
            0,
            0,
            398.41,
            1.54,
            425.64,
            398.9,
            126.31,
            15.19,
            59.28,
            0,
            458.74,
            29.59,
            1.57,
            243.97,
            30.66,
            145.46,
            308.88,
            0,
            417.35,
            177.02,
            109.43
           ]
          }
         ],
         "name": "2010"
        },
        {
         "data": [
          {
           "coloraxis": "coloraxis",
           "geo": "geo",
           "hovertemplate": "Year=2011<br>Country Code=%{location}<br>Incidences_per_1000_population_at_risk=%{z}<extra></extra>",
           "locationmode": "ISO-3",
           "locations": [
            "DZA",
            "AGO",
            "BEN",
            "BWA",
            "BFA",
            "BDI",
            "CPV",
            "CMR",
            "CAF",
            "TCD",
            "COM",
            "COD",
            "COG",
            "CIV",
            "DJI",
            "EGY",
            "GNQ",
            "ERI",
            "SWZ",
            "ETH",
            "GAB",
            "GMB",
            "GHA",
            "GIN",
            "GNB",
            "KEN",
            "LSO",
            "LBR",
            "LBY",
            "MDG",
            "MWI",
            "MLI",
            "MRT",
            "MUS",
            "MAR",
            "MOZ",
            "NAM",
            "NER",
            "NGA",
            "RWA",
            "STP",
            "SEN",
            "SYC",
            "SLE",
            "SOM",
            "ZAF",
            "SSD",
            "SDN",
            "TZA",
            "TGO",
            "TUN",
            "UGA",
            "ZMB",
            "ZWE"
           ],
           "name": "",
           "type": "choropleth",
           "z": [
            0,
            175.99,
            370.11,
            0.51,
            539.56,
            184.15,
            0.05,
            265.1,
            419.33,
            210.48,
            35.18,
            399.59,
            224.38,
            442.11,
            3.42,
            0,
            342.4,
            23.86,
            1.83,
            116.13,
            212.72,
            257.26,
            379.52,
            426.9,
            140.55,
            67.86,
            0,
            330.41,
            0,
            36.55,
            362.78,
            404.73,
            47.58,
            0,
            0,
            389.92,
            2.13,
            427.88,
            372.56,
            39.29,
            45.75,
            49.91,
            0,
            453.65,
            24.35,
            1.9,
            235.87,
            29.97,
            132.48,
            313.4,
            0,
            385.7,
            186.7,
            70.68
           ]
          }
         ],
         "name": "2011"
        },
        {
         "data": [
          {
           "coloraxis": "coloraxis",
           "geo": "geo",
           "hovertemplate": "Year=2012<br>Country Code=%{location}<br>Incidences_per_1000_population_at_risk=%{z}<extra></extra>",
           "locationmode": "ISO-3",
           "locations": [
            "DZA",
            "AGO",
            "BEN",
            "BWA",
            "BFA",
            "BDI",
            "CPV",
            "CMR",
            "CAF",
            "TCD",
            "COM",
            "COD",
            "COG",
            "CIV",
            "DJI",
            "EGY",
            "GNQ",
            "ERI",
            "SWZ",
            "ETH",
            "GAB",
            "GMB",
            "GHA",
            "GIN",
            "GNB",
            "KEN",
            "LSO",
            "LBR",
            "LBY",
            "MDG",
            "MWI",
            "MLI",
            "MRT",
            "MUS",
            "MAR",
            "MOZ",
            "NAM",
            "NER",
            "NGA",
            "RWA",
            "STP",
            "SEN",
            "SYC",
            "SLE",
            "SOM",
            "ZAF",
            "SSD",
            "SDN",
            "TZA",
            "TGO",
            "TUN",
            "UGA",
            "ZMB",
            "ZWE"
           ],
           "name": "",
           "type": "choropleth",
           "z": [
            0.03,
            174.43,
            378.03,
            0.22,
            527.54,
            153.93,
            0.01,
            245.13,
            413.09,
            195.34,
            68.85,
            363,
            224.63,
            396.28,
            3.31,
            0,
            357.75,
            16.15,
            1.86,
            116.19,
            245.53,
            274.82,
            374.29,
            427.8,
            128.75,
            73.36,
            0,
            307.9,
            0,
            71.36,
            314.02,
            435.65,
            28.42,
            0,
            0,
            381.78,
            3.36,
            430.51,
            347.74,
            71.46,
            56.8,
            56.92,
            0,
            447.47,
            24.45,
            1.25,
            232.68,
            30.16,
            116.25,
            349.7,
            0,
            331.77,
            203.08,
            57.22
           ]
          }
         ],
         "name": "2012"
        },
        {
         "data": [
          {
           "coloraxis": "coloraxis",
           "geo": "geo",
           "hovertemplate": "Year=2013<br>Country Code=%{location}<br>Incidences_per_1000_population_at_risk=%{z}<extra></extra>",
           "locationmode": "ISO-3",
           "locations": [
            "DZA",
            "AGO",
            "BEN",
            "BWA",
            "BFA",
            "BDI",
            "CPV",
            "CMR",
            "CAF",
            "TCD",
            "COM",
            "COD",
            "COG",
            "CIV",
            "DJI",
            "EGY",
            "GNQ",
            "ERI",
            "SWZ",
            "ETH",
            "GAB",
            "GMB",
            "GHA",
            "GIN",
            "GNB",
            "KEN",
            "LSO",
            "LBR",
            "LBY",
            "MDG",
            "MWI",
            "MLI",
            "MRT",
            "MUS",
            "MAR",
            "MOZ",
            "NAM",
            "NER",
            "NGA",
            "RWA",
            "STP",
            "SEN",
            "SYC",
            "SLE",
            "SOM",
            "ZAF",
            "SSD",
            "SDN",
            "TZA",
            "TGO",
            "TUN",
            "UGA",
            "ZMB",
            "ZWE"
           ],
           "name": "",
           "type": "choropleth",
           "z": [
            0,
            180.9,
            395,
            0.53,
            487.52,
            140.59,
            0.17,
            243.04,
            406.82,
            179.35,
            71.69,
            327.62,
            231.03,
            338.87,
            2.54,
            0,
            365.75,
            15.03,
            3.16,
            111.6,
            272.83,
            236.99,
            349.28,
            408.08,
            113.39,
            82.48,
            0,
            317.28,
            0,
            65.21,
            267.86,
            452.82,
            33.22,
            0,
            0,
            376.98,
            4.55,
            420.49,
            328.65,
            121.45,
            48.12,
            67.9,
            0,
            432.7,
            28.05,
            1.61,
            234.38,
            31.45,
            111.78,
            385.39,
            0,
            254.24,
            225.77,
            81.95
           ]
          }
         ],
         "name": "2013"
        },
        {
         "data": [
          {
           "coloraxis": "coloraxis",
           "geo": "geo",
           "hovertemplate": "Year=2014<br>Country Code=%{location}<br>Incidences_per_1000_population_at_risk=%{z}<extra></extra>",
           "locationmode": "ISO-3",
           "locations": [
            "DZA",
            "AGO",
            "BEN",
            "BWA",
            "BFA",
            "BDI",
            "CPV",
            "CMR",
            "CAF",
            "TCD",
            "COM",
            "COD",
            "COG",
            "CIV",
            "DJI",
            "EGY",
            "GNQ",
            "ERI",
            "SWZ",
            "ETH",
            "GAB",
            "GMB",
            "GHA",
            "GIN",
            "GNB",
            "KEN",
            "LSO",
            "LBR",
            "LBY",
            "MDG",
            "MWI",
            "MLI",
            "MRT",
            "MUS",
            "MAR",
            "MOZ",
            "NAM",
            "NER",
            "NGA",
            "RWA",
            "STP",
            "SEN",
            "SYC",
            "SLE",
            "SOM",
            "ZAF",
            "SSD",
            "SDN",
            "TZA",
            "TGO",
            "TUN",
            "UGA",
            "ZMB",
            "ZWE"
           ],
           "name": "",
           "type": "choropleth",
           "z": [
            0,
            187.94,
            399.24,
            1.5,
            436.06,
            141.51,
            0.19,
            244.08,
            393.04,
            170.27,
            2.9,
            308.39,
            231.85,
            315.07,
            14.01,
            0,
            360.95,
            33.12,
            2.32,
            57.1,
            285.74,
            142.02,
            315.76,
            381.09,
            93.9,
            83.87,
            0,
            337.57,
            0,
            45.78,
            237,
            441.01,
            49.2,
            0,
            0,
            364.83,
            14.49,
            400.25,
            314.4,
            219.81,
            8.96,
            39.51,
            0,
            409.31,
            32.1,
            2.15,
            236.14,
            33.38,
            118.94,
            384.68,
            0,
            220.62,
            222.98,
            101.89
           ]
          }
         ],
         "name": "2014"
        },
        {
         "data": [
          {
           "coloraxis": "coloraxis",
           "geo": "geo",
           "hovertemplate": "Year=2015<br>Country Code=%{location}<br>Incidences_per_1000_population_at_risk=%{z}<extra></extra>",
           "locationmode": "ISO-3",
           "locations": [
            "DZA",
            "AGO",
            "BEN",
            "BWA",
            "BFA",
            "BDI",
            "CPV",
            "CMR",
            "CAF",
            "TCD",
            "COM",
            "COD",
            "COG",
            "CIV",
            "DJI",
            "EGY",
            "GNQ",
            "ERI",
            "SWZ",
            "ETH",
            "GAB",
            "GMB",
            "GHA",
            "GIN",
            "GNB",
            "KEN",
            "LSO",
            "LBR",
            "LBY",
            "MDG",
            "MWI",
            "MLI",
            "MRT",
            "MUS",
            "MAR",
            "MOZ",
            "NAM",
            "NER",
            "NGA",
            "RWA",
            "STP",
            "SEN",
            "SYC",
            "SLE",
            "SOM",
            "ZAF",
            "SSD",
            "SDN",
            "TZA",
            "TGO",
            "TUN",
            "UGA",
            "ZMB",
            "ZWE"
           ],
           "name": "",
           "type": "choropleth",
           "z": [
            0,
            199.99,
            411.82,
            0.37,
            400.09,
            165.5,
            0.05,
            254.5,
            379.91,
            167.28,
            1.67,
            308.83,
            226.71,
            320.04,
            13.82,
            0,
            339.48,
            19.2,
            0.51,
            52.77,
            284.44,
            195.04,
            277.19,
            356.64,
            79.77,
            72.17,
            0,
            346.97,
            0,
            97.32,
            217.04,
            391.83,
            61.61,
            0,
            0,
            355.88,
            10.88,
            369.83,
            296.08,
            341.96,
            10.32,
            69.8,
            0,
            403.72,
            37.27,
            0.21,
            240.36,
            35.88,
            121.74,
            364.31,
            0,
            236.11,
            202.55,
            97.65
           ]
          }
         ],
         "name": "2015"
        },
        {
         "data": [
          {
           "coloraxis": "coloraxis",
           "geo": "geo",
           "hovertemplate": "Year=2016<br>Country Code=%{location}<br>Incidences_per_1000_population_at_risk=%{z}<extra></extra>",
           "locationmode": "ISO-3",
           "locations": [
            "DZA",
            "AGO",
            "BEN",
            "BWA",
            "BFA",
            "BDI",
            "CPV",
            "CMR",
            "CAF",
            "TCD",
            "COM",
            "COD",
            "COG",
            "CIV",
            "DJI",
            "EGY",
            "GNQ",
            "ERI",
            "SWZ",
            "ETH",
            "GAB",
            "GMB",
            "GHA",
            "GIN",
            "GNB",
            "KEN",
            "LSO",
            "LBR",
            "LBY",
            "MDG",
            "MWI",
            "MLI",
            "MRT",
            "MUS",
            "MAR",
            "MOZ",
            "NAM",
            "NER",
            "NGA",
            "RWA",
            "STP",
            "SEN",
            "SYC",
            "SLE",
            "SOM",
            "ZAF",
            "SSD",
            "SDN",
            "TZA",
            "TGO",
            "TUN",
            "UGA",
            "ZMB",
            "ZWE"
           ],
           "name": "",
           "type": "choropleth",
           "z": [
            0,
            219.99,
            421.58,
            0.81,
            401.73,
            225.74,
            0.35,
            264.31,
            362.02,
            169.93,
            1.44,
            322.77,
            233.38,
            354.66,
            19.81,
            0,
            306.97,
            25.64,
            1.12,
            41.41,
            270.67,
            116.53,
            236,
            331.47,
            71.35,
            70.38,
            0,
            386.3,
            0,
            56.58,
            210.66,
            384.22,
            71.5,
            0,
            0,
            344.82,
            22.12,
            358.74,
            281.38,
            585.54,
            11.01,
            45.66,
            0,
            391.33,
            37.26,
            0.77,
            244.55,
            41.73,
            123.57,
            324.86,
            0,
            304.41,
            181.39,
            65.78
           ]
          }
         ],
         "name": "2016"
        },
        {
         "data": [
          {
           "coloraxis": "coloraxis",
           "geo": "geo",
           "hovertemplate": "Year=2017<br>Country Code=%{location}<br>Incidences_per_1000_population_at_risk=%{z}<extra></extra>",
           "locationmode": "ISO-3",
           "locations": [
            "DZA",
            "AGO",
            "BEN",
            "BWA",
            "BFA",
            "BDI",
            "CPV",
            "CMR",
            "CAF",
            "TCD",
            "COM",
            "COD",
            "COG",
            "CIV",
            "DJI",
            "EGY",
            "GNQ",
            "ERI",
            "SWZ",
            "ETH",
            "GAB",
            "GMB",
            "GHA",
            "GIN",
            "GNB",
            "KEN",
            "LSO",
            "LBR",
            "LBY",
            "MDG",
            "MWI",
            "MLI",
            "MRT",
            "MUS",
            "MAR",
            "MOZ",
            "NAM",
            "NER",
            "NGA",
            "RWA",
            "STP",
            "SEN",
            "SYC",
            "SLE",
            "SOM",
            "ZAF",
            "SSD",
            "SDN",
            "TZA",
            "TGO",
            "TUN",
            "UGA",
            "ZMB",
            "ZWE"
           ],
           "name": "",
           "type": "choropleth",
           "z": [
            0,
            228.91,
            399.56,
            2.05,
            399.94,
            250.27,
            3.03,
            262.23,
            347.33,
            172.3,
            3.97,
            329.13,
            240.64,
            362.36,
            20.72,
            0,
            285.72,
            33.97,
            2.3,
            36.74,
            254.24,
            53.02,
            212.56,
            311.53,
            78.33,
            70.1,
            0,
            401.11,
            0,
            75.67,
            216.26,
            386.78,
            55.49,
            0,
            0,
            326.4,
            46.75,
            356.57,
            283.06,
            538.34,
            10.81,
            52.35,
            0,
            364.13,
            37.13,
            3.95,
            245.8,
            46.75,
            123.96,
            278.2,
            0,
            336.76,
            160.05,
            108.55
           ]
          }
         ],
         "name": "2017"
        }
       ],
       "layout": {
        "coloraxis": {
         "colorbar": {
          "title": {
           "text": "Incidences_per_1000_population_at_risk"
          }
         },
         "colorscale": [
          [
           0,
           "rgb(247,251,255)"
          ],
          [
           0.125,
           "rgb(222,235,247)"
          ],
          [
           0.25,
           "rgb(198,219,239)"
          ],
          [
           0.375,
           "rgb(158,202,225)"
          ],
          [
           0.5,
           "rgb(107,174,214)"
          ],
          [
           0.625,
           "rgb(66,146,198)"
          ],
          [
           0.75,
           "rgb(33,113,181)"
          ],
          [
           0.875,
           "rgb(8,81,156)"
          ],
          [
           1,
           "rgb(8,48,107)"
          ]
         ]
        },
        "geo": {
         "center": {},
         "domain": {
          "x": [
           0,
           1
          ],
          "y": [
           0,
           1
          ]
         },
         "scope": "africa"
        },
        "legend": {
         "tracegroupgap": 0
        },
        "sliders": [
         {
          "active": 0,
          "currentvalue": {
           "prefix": "Year="
          },
          "len": 0.9,
          "pad": {
           "b": 10,
           "t": 60
          },
          "steps": [
           {
            "args": [
             [
              "2007"
             ],
             {
              "frame": {
               "duration": 0,
               "redraw": true
              },
              "fromcurrent": true,
              "mode": "immediate",
              "transition": {
               "duration": 0,
               "easing": "linear"
              }
             }
            ],
            "label": "2007",
            "method": "animate"
           },
           {
            "args": [
             [
              "2008"
             ],
             {
              "frame": {
               "duration": 0,
               "redraw": true
              },
              "fromcurrent": true,
              "mode": "immediate",
              "transition": {
               "duration": 0,
               "easing": "linear"
              }
             }
            ],
            "label": "2008",
            "method": "animate"
           },
           {
            "args": [
             [
              "2009"
             ],
             {
              "frame": {
               "duration": 0,
               "redraw": true
              },
              "fromcurrent": true,
              "mode": "immediate",
              "transition": {
               "duration": 0,
               "easing": "linear"
              }
             }
            ],
            "label": "2009",
            "method": "animate"
           },
           {
            "args": [
             [
              "2010"
             ],
             {
              "frame": {
               "duration": 0,
               "redraw": true
              },
              "fromcurrent": true,
              "mode": "immediate",
              "transition": {
               "duration": 0,
               "easing": "linear"
              }
             }
            ],
            "label": "2010",
            "method": "animate"
           },
           {
            "args": [
             [
              "2011"
             ],
             {
              "frame": {
               "duration": 0,
               "redraw": true
              },
              "fromcurrent": true,
              "mode": "immediate",
              "transition": {
               "duration": 0,
               "easing": "linear"
              }
             }
            ],
            "label": "2011",
            "method": "animate"
           },
           {
            "args": [
             [
              "2012"
             ],
             {
              "frame": {
               "duration": 0,
               "redraw": true
              },
              "fromcurrent": true,
              "mode": "immediate",
              "transition": {
               "duration": 0,
               "easing": "linear"
              }
             }
            ],
            "label": "2012",
            "method": "animate"
           },
           {
            "args": [
             [
              "2013"
             ],
             {
              "frame": {
               "duration": 0,
               "redraw": true
              },
              "fromcurrent": true,
              "mode": "immediate",
              "transition": {
               "duration": 0,
               "easing": "linear"
              }
             }
            ],
            "label": "2013",
            "method": "animate"
           },
           {
            "args": [
             [
              "2014"
             ],
             {
              "frame": {
               "duration": 0,
               "redraw": true
              },
              "fromcurrent": true,
              "mode": "immediate",
              "transition": {
               "duration": 0,
               "easing": "linear"
              }
             }
            ],
            "label": "2014",
            "method": "animate"
           },
           {
            "args": [
             [
              "2015"
             ],
             {
              "frame": {
               "duration": 0,
               "redraw": true
              },
              "fromcurrent": true,
              "mode": "immediate",
              "transition": {
               "duration": 0,
               "easing": "linear"
              }
             }
            ],
            "label": "2015",
            "method": "animate"
           },
           {
            "args": [
             [
              "2016"
             ],
             {
              "frame": {
               "duration": 0,
               "redraw": true
              },
              "fromcurrent": true,
              "mode": "immediate",
              "transition": {
               "duration": 0,
               "easing": "linear"
              }
             }
            ],
            "label": "2016",
            "method": "animate"
           },
           {
            "args": [
             [
              "2017"
             ],
             {
              "frame": {
               "duration": 0,
               "redraw": true
              },
              "fromcurrent": true,
              "mode": "immediate",
              "transition": {
               "duration": 0,
               "easing": "linear"
              }
             }
            ],
            "label": "2017",
            "method": "animate"
           }
          ],
          "x": 0.1,
          "xanchor": "left",
          "y": 0,
          "yanchor": "top"
         }
        ],
        "template": {
         "data": {
          "bar": [
           {
            "error_x": {
             "color": "#2a3f5f"
            },
            "error_y": {
             "color": "#2a3f5f"
            },
            "marker": {
             "line": {
              "color": "#E5ECF6",
              "width": 0.5
             },
             "pattern": {
              "fillmode": "overlay",
              "size": 10,
              "solidity": 0.2
             }
            },
            "type": "bar"
           }
          ],
          "barpolar": [
           {
            "marker": {
             "line": {
              "color": "#E5ECF6",
              "width": 0.5
             },
             "pattern": {
              "fillmode": "overlay",
              "size": 10,
              "solidity": 0.2
             }
            },
            "type": "barpolar"
           }
          ],
          "carpet": [
           {
            "aaxis": {
             "endlinecolor": "#2a3f5f",
             "gridcolor": "white",
             "linecolor": "white",
             "minorgridcolor": "white",
             "startlinecolor": "#2a3f5f"
            },
            "baxis": {
             "endlinecolor": "#2a3f5f",
             "gridcolor": "white",
             "linecolor": "white",
             "minorgridcolor": "white",
             "startlinecolor": "#2a3f5f"
            },
            "type": "carpet"
           }
          ],
          "choropleth": [
           {
            "colorbar": {
             "outlinewidth": 0,
             "ticks": ""
            },
            "type": "choropleth"
           }
          ],
          "contour": [
           {
            "colorbar": {
             "outlinewidth": 0,
             "ticks": ""
            },
            "colorscale": [
             [
              0,
              "#0d0887"
             ],
             [
              0.1111111111111111,
              "#46039f"
             ],
             [
              0.2222222222222222,
              "#7201a8"
             ],
             [
              0.3333333333333333,
              "#9c179e"
             ],
             [
              0.4444444444444444,
              "#bd3786"
             ],
             [
              0.5555555555555556,
              "#d8576b"
             ],
             [
              0.6666666666666666,
              "#ed7953"
             ],
             [
              0.7777777777777778,
              "#fb9f3a"
             ],
             [
              0.8888888888888888,
              "#fdca26"
             ],
             [
              1,
              "#f0f921"
             ]
            ],
            "type": "contour"
           }
          ],
          "contourcarpet": [
           {
            "colorbar": {
             "outlinewidth": 0,
             "ticks": ""
            },
            "type": "contourcarpet"
           }
          ],
          "heatmap": [
           {
            "colorbar": {
             "outlinewidth": 0,
             "ticks": ""
            },
            "colorscale": [
             [
              0,
              "#0d0887"
             ],
             [
              0.1111111111111111,
              "#46039f"
             ],
             [
              0.2222222222222222,
              "#7201a8"
             ],
             [
              0.3333333333333333,
              "#9c179e"
             ],
             [
              0.4444444444444444,
              "#bd3786"
             ],
             [
              0.5555555555555556,
              "#d8576b"
             ],
             [
              0.6666666666666666,
              "#ed7953"
             ],
             [
              0.7777777777777778,
              "#fb9f3a"
             ],
             [
              0.8888888888888888,
              "#fdca26"
             ],
             [
              1,
              "#f0f921"
             ]
            ],
            "type": "heatmap"
           }
          ],
          "heatmapgl": [
           {
            "colorbar": {
             "outlinewidth": 0,
             "ticks": ""
            },
            "colorscale": [
             [
              0,
              "#0d0887"
             ],
             [
              0.1111111111111111,
              "#46039f"
             ],
             [
              0.2222222222222222,
              "#7201a8"
             ],
             [
              0.3333333333333333,
              "#9c179e"
             ],
             [
              0.4444444444444444,
              "#bd3786"
             ],
             [
              0.5555555555555556,
              "#d8576b"
             ],
             [
              0.6666666666666666,
              "#ed7953"
             ],
             [
              0.7777777777777778,
              "#fb9f3a"
             ],
             [
              0.8888888888888888,
              "#fdca26"
             ],
             [
              1,
              "#f0f921"
             ]
            ],
            "type": "heatmapgl"
           }
          ],
          "histogram": [
           {
            "marker": {
             "pattern": {
              "fillmode": "overlay",
              "size": 10,
              "solidity": 0.2
             }
            },
            "type": "histogram"
           }
          ],
          "histogram2d": [
           {
            "colorbar": {
             "outlinewidth": 0,
             "ticks": ""
            },
            "colorscale": [
             [
              0,
              "#0d0887"
             ],
             [
              0.1111111111111111,
              "#46039f"
             ],
             [
              0.2222222222222222,
              "#7201a8"
             ],
             [
              0.3333333333333333,
              "#9c179e"
             ],
             [
              0.4444444444444444,
              "#bd3786"
             ],
             [
              0.5555555555555556,
              "#d8576b"
             ],
             [
              0.6666666666666666,
              "#ed7953"
             ],
             [
              0.7777777777777778,
              "#fb9f3a"
             ],
             [
              0.8888888888888888,
              "#fdca26"
             ],
             [
              1,
              "#f0f921"
             ]
            ],
            "type": "histogram2d"
           }
          ],
          "histogram2dcontour": [
           {
            "colorbar": {
             "outlinewidth": 0,
             "ticks": ""
            },
            "colorscale": [
             [
              0,
              "#0d0887"
             ],
             [
              0.1111111111111111,
              "#46039f"
             ],
             [
              0.2222222222222222,
              "#7201a8"
             ],
             [
              0.3333333333333333,
              "#9c179e"
             ],
             [
              0.4444444444444444,
              "#bd3786"
             ],
             [
              0.5555555555555556,
              "#d8576b"
             ],
             [
              0.6666666666666666,
              "#ed7953"
             ],
             [
              0.7777777777777778,
              "#fb9f3a"
             ],
             [
              0.8888888888888888,
              "#fdca26"
             ],
             [
              1,
              "#f0f921"
             ]
            ],
            "type": "histogram2dcontour"
           }
          ],
          "mesh3d": [
           {
            "colorbar": {
             "outlinewidth": 0,
             "ticks": ""
            },
            "type": "mesh3d"
           }
          ],
          "parcoords": [
           {
            "line": {
             "colorbar": {
              "outlinewidth": 0,
              "ticks": ""
             }
            },
            "type": "parcoords"
           }
          ],
          "pie": [
           {
            "automargin": true,
            "type": "pie"
           }
          ],
          "scatter": [
           {
            "fillpattern": {
             "fillmode": "overlay",
             "size": 10,
             "solidity": 0.2
            },
            "type": "scatter"
           }
          ],
          "scatter3d": [
           {
            "line": {
             "colorbar": {
              "outlinewidth": 0,
              "ticks": ""
             }
            },
            "marker": {
             "colorbar": {
              "outlinewidth": 0,
              "ticks": ""
             }
            },
            "type": "scatter3d"
           }
          ],
          "scattercarpet": [
           {
            "marker": {
             "colorbar": {
              "outlinewidth": 0,
              "ticks": ""
             }
            },
            "type": "scattercarpet"
           }
          ],
          "scattergeo": [
           {
            "marker": {
             "colorbar": {
              "outlinewidth": 0,
              "ticks": ""
             }
            },
            "type": "scattergeo"
           }
          ],
          "scattergl": [
           {
            "marker": {
             "colorbar": {
              "outlinewidth": 0,
              "ticks": ""
             }
            },
            "type": "scattergl"
           }
          ],
          "scattermapbox": [
           {
            "marker": {
             "colorbar": {
              "outlinewidth": 0,
              "ticks": ""
             }
            },
            "type": "scattermapbox"
           }
          ],
          "scatterpolar": [
           {
            "marker": {
             "colorbar": {
              "outlinewidth": 0,
              "ticks": ""
             }
            },
            "type": "scatterpolar"
           }
          ],
          "scatterpolargl": [
           {
            "marker": {
             "colorbar": {
              "outlinewidth": 0,
              "ticks": ""
             }
            },
            "type": "scatterpolargl"
           }
          ],
          "scatterternary": [
           {
            "marker": {
             "colorbar": {
              "outlinewidth": 0,
              "ticks": ""
             }
            },
            "type": "scatterternary"
           }
          ],
          "surface": [
           {
            "colorbar": {
             "outlinewidth": 0,
             "ticks": ""
            },
            "colorscale": [
             [
              0,
              "#0d0887"
             ],
             [
              0.1111111111111111,
              "#46039f"
             ],
             [
              0.2222222222222222,
              "#7201a8"
             ],
             [
              0.3333333333333333,
              "#9c179e"
             ],
             [
              0.4444444444444444,
              "#bd3786"
             ],
             [
              0.5555555555555556,
              "#d8576b"
             ],
             [
              0.6666666666666666,
              "#ed7953"
             ],
             [
              0.7777777777777778,
              "#fb9f3a"
             ],
             [
              0.8888888888888888,
              "#fdca26"
             ],
             [
              1,
              "#f0f921"
             ]
            ],
            "type": "surface"
           }
          ],
          "table": [
           {
            "cells": {
             "fill": {
              "color": "#EBF0F8"
             },
             "line": {
              "color": "white"
             }
            },
            "header": {
             "fill": {
              "color": "#C8D4E3"
             },
             "line": {
              "color": "white"
             }
            },
            "type": "table"
           }
          ]
         },
         "layout": {
          "annotationdefaults": {
           "arrowcolor": "#2a3f5f",
           "arrowhead": 0,
           "arrowwidth": 1
          },
          "autotypenumbers": "strict",
          "coloraxis": {
           "colorbar": {
            "outlinewidth": 0,
            "ticks": ""
           }
          },
          "colorscale": {
           "diverging": [
            [
             0,
             "#8e0152"
            ],
            [
             0.1,
             "#c51b7d"
            ],
            [
             0.2,
             "#de77ae"
            ],
            [
             0.3,
             "#f1b6da"
            ],
            [
             0.4,
             "#fde0ef"
            ],
            [
             0.5,
             "#f7f7f7"
            ],
            [
             0.6,
             "#e6f5d0"
            ],
            [
             0.7,
             "#b8e186"
            ],
            [
             0.8,
             "#7fbc41"
            ],
            [
             0.9,
             "#4d9221"
            ],
            [
             1,
             "#276419"
            ]
           ],
           "sequential": [
            [
             0,
             "#0d0887"
            ],
            [
             0.1111111111111111,
             "#46039f"
            ],
            [
             0.2222222222222222,
             "#7201a8"
            ],
            [
             0.3333333333333333,
             "#9c179e"
            ],
            [
             0.4444444444444444,
             "#bd3786"
            ],
            [
             0.5555555555555556,
             "#d8576b"
            ],
            [
             0.6666666666666666,
             "#ed7953"
            ],
            [
             0.7777777777777778,
             "#fb9f3a"
            ],
            [
             0.8888888888888888,
             "#fdca26"
            ],
            [
             1,
             "#f0f921"
            ]
           ],
           "sequentialminus": [
            [
             0,
             "#0d0887"
            ],
            [
             0.1111111111111111,
             "#46039f"
            ],
            [
             0.2222222222222222,
             "#7201a8"
            ],
            [
             0.3333333333333333,
             "#9c179e"
            ],
            [
             0.4444444444444444,
             "#bd3786"
            ],
            [
             0.5555555555555556,
             "#d8576b"
            ],
            [
             0.6666666666666666,
             "#ed7953"
            ],
            [
             0.7777777777777778,
             "#fb9f3a"
            ],
            [
             0.8888888888888888,
             "#fdca26"
            ],
            [
             1,
             "#f0f921"
            ]
           ]
          },
          "colorway": [
           "#636efa",
           "#EF553B",
           "#00cc96",
           "#ab63fa",
           "#FFA15A",
           "#19d3f3",
           "#FF6692",
           "#B6E880",
           "#FF97FF",
           "#FECB52"
          ],
          "font": {
           "color": "#2a3f5f"
          },
          "geo": {
           "bgcolor": "white",
           "lakecolor": "white",
           "landcolor": "#E5ECF6",
           "showlakes": true,
           "showland": true,
           "subunitcolor": "white"
          },
          "hoverlabel": {
           "align": "left"
          },
          "hovermode": "closest",
          "mapbox": {
           "style": "light"
          },
          "paper_bgcolor": "white",
          "plot_bgcolor": "#E5ECF6",
          "polar": {
           "angularaxis": {
            "gridcolor": "white",
            "linecolor": "white",
            "ticks": ""
           },
           "bgcolor": "#E5ECF6",
           "radialaxis": {
            "gridcolor": "white",
            "linecolor": "white",
            "ticks": ""
           }
          },
          "scene": {
           "xaxis": {
            "backgroundcolor": "#E5ECF6",
            "gridcolor": "white",
            "gridwidth": 2,
            "linecolor": "white",
            "showbackground": true,
            "ticks": "",
            "zerolinecolor": "white"
           },
           "yaxis": {
            "backgroundcolor": "#E5ECF6",
            "gridcolor": "white",
            "gridwidth": 2,
            "linecolor": "white",
            "showbackground": true,
            "ticks": "",
            "zerolinecolor": "white"
           },
           "zaxis": {
            "backgroundcolor": "#E5ECF6",
            "gridcolor": "white",
            "gridwidth": 2,
            "linecolor": "white",
            "showbackground": true,
            "ticks": "",
            "zerolinecolor": "white"
           }
          },
          "shapedefaults": {
           "line": {
            "color": "#2a3f5f"
           }
          },
          "ternary": {
           "aaxis": {
            "gridcolor": "white",
            "linecolor": "white",
            "ticks": ""
           },
           "baxis": {
            "gridcolor": "white",
            "linecolor": "white",
            "ticks": ""
           },
           "bgcolor": "#E5ECF6",
           "caxis": {
            "gridcolor": "white",
            "linecolor": "white",
            "ticks": ""
           }
          },
          "title": {
           "x": 0.05
          },
          "xaxis": {
           "automargin": true,
           "gridcolor": "white",
           "linecolor": "white",
           "ticks": "",
           "title": {
            "standoff": 15
           },
           "zerolinecolor": "white",
           "zerolinewidth": 2
          },
          "yaxis": {
           "automargin": true,
           "gridcolor": "white",
           "linecolor": "white",
           "ticks": "",
           "title": {
            "standoff": 15
           },
           "zerolinecolor": "white",
           "zerolinewidth": 2
          }
         }
        },
        "title": {
         "text": "Incidence of Malaria at risk in Africa"
        },
        "updatemenus": [
         {
          "buttons": [
           {
            "args": [
             null,
             {
              "frame": {
               "duration": 500,
               "redraw": true
              },
              "fromcurrent": true,
              "mode": "immediate",
              "transition": {
               "duration": 500,
               "easing": "linear"
              }
             }
            ],
            "label": "&#9654;",
            "method": "animate"
           },
           {
            "args": [
             [
              null
             ],
             {
              "frame": {
               "duration": 0,
               "redraw": true
              },
              "fromcurrent": true,
              "mode": "immediate",
              "transition": {
               "duration": 0,
               "easing": "linear"
              }
             }
            ],
            "label": "&#9724;",
            "method": "animate"
           }
          ],
          "direction": "left",
          "pad": {
           "r": 10,
           "t": 70
          },
          "showactive": false,
          "type": "buttons",
          "x": 0.1,
          "xanchor": "right",
          "y": 0,
          "yanchor": "top"
         }
        ]
       }
      }
     },
     "metadata": {},
     "output_type": "display_data"
    }
   ],
   "source": [
    "import plotly.express as px\n",
    "fig1 = px.choropleth(df,\n",
    "                     locations=df['Country Code'],\n",
    "                     color=df['Incidences_per_1000_population_at_risk'],\n",
    "                     color_continuous_scale='Blues',\n",
    "                     locationmode='ISO-3',scope='africa',\n",
    "                     animation_frame=df['Year'],\n",
    "                     title=\"Incidence of Malaria at risk in Africa\",\n",
    "                     labels={'color':'Incidence of Malaria'})\n",
    "\n",
    "fig1.show()"
   ]
  },
  {
   "cell_type": "code",
   "execution_count": null,
   "metadata": {},
   "outputs": [
    {
     "data": {
      "application/vnd.plotly.v1+json": {
       "config": {
        "plotlyServerURL": "https://plot.ly"
       },
       "data": [
        {
         "hovertemplate": "Country=Algeria<br>Year=%{x}<br>Malaria Incidences=%{y}<extra></extra>",
         "legendgroup": "Algeria",
         "line": {
          "color": "#636efa",
          "dash": "solid"
         },
         "marker": {
          "symbol": "circle"
         },
         "mode": "lines",
         "name": "Algeria",
         "orientation": "v",
         "showlegend": true,
         "type": "scatter",
         "x": [
          2007,
          2008,
          2009,
          2010,
          2011,
          2012,
          2013,
          2014,
          2015,
          2016,
          2017
         ],
         "xaxis": "x",
         "y": [
          0.01,
          0,
          0,
          0,
          0,
          0.03,
          0,
          0,
          0,
          0,
          0
         ],
         "yaxis": "y"
        },
        {
         "hovertemplate": "Country=Angola<br>Year=%{x}<br>Malaria Incidences=%{y}<extra></extra>",
         "legendgroup": "Angola",
         "line": {
          "color": "#EF553B",
          "dash": "solid"
         },
         "marker": {
          "symbol": "circle"
         },
         "mode": "lines",
         "name": "Angola",
         "orientation": "v",
         "showlegend": true,
         "type": "scatter",
         "x": [
          2007,
          2008,
          2009,
          2010,
          2011,
          2012,
          2013,
          2014,
          2015,
          2016,
          2017
         ],
         "xaxis": "x",
         "y": [
          286.72,
          241.19,
          204.35,
          185.52,
          175.99,
          174.43,
          180.9,
          187.94,
          199.99,
          219.99,
          228.91
         ],
         "yaxis": "y"
        },
        {
         "hovertemplate": "Country=Benin<br>Year=%{x}<br>Malaria Incidences=%{y}<extra></extra>",
         "legendgroup": "Benin",
         "line": {
          "color": "#00cc96",
          "dash": "solid"
         },
         "marker": {
          "symbol": "circle"
         },
         "mode": "lines",
         "name": "Benin",
         "orientation": "v",
         "showlegend": true,
         "type": "scatter",
         "x": [
          2007,
          2008,
          2009,
          2010,
          2011,
          2012,
          2013,
          2014,
          2015,
          2016,
          2017
         ],
         "xaxis": "x",
         "y": [
          480.24,
          453.17,
          417.96,
          387.76,
          370.11,
          378.03,
          395,
          399.24,
          411.82,
          421.58,
          399.56
         ],
         "yaxis": "y"
        },
        {
         "hovertemplate": "Country=Botswana<br>Year=%{x}<br>Malaria Incidences=%{y}<extra></extra>",
         "legendgroup": "Botswana",
         "line": {
          "color": "#ab63fa",
          "dash": "solid"
         },
         "marker": {
          "symbol": "circle"
         },
         "mode": "lines",
         "name": "Botswana",
         "orientation": "v",
         "showlegend": true,
         "type": "scatter",
         "x": [
          2007,
          2008,
          2009,
          2010,
          2011,
          2012,
          2013,
          2014,
          2015,
          2016,
          2017
         ],
         "xaxis": "x",
         "y": [
          1.03,
          1.93,
          2.1,
          1.69,
          0.51,
          0.22,
          0.53,
          1.5,
          0.37,
          0.81,
          2.05
         ],
         "yaxis": "y"
        },
        {
         "hovertemplate": "Country=Burkina Faso<br>Year=%{x}<br>Malaria Incidences=%{y}<extra></extra>",
         "legendgroup": "Burkina Faso",
         "line": {
          "color": "#FFA15A",
          "dash": "solid"
         },
         "marker": {
          "symbol": "circle"
         },
         "mode": "lines",
         "name": "Burkina Faso",
         "orientation": "v",
         "showlegend": true,
         "type": "scatter",
         "x": [
          2007,
          2008,
          2009,
          2010,
          2011,
          2012,
          2013,
          2014,
          2015,
          2016,
          2017
         ],
         "xaxis": "x",
         "y": [
          503.8,
          533.39,
          552.03,
          551.24,
          539.56,
          527.54,
          487.52,
          436.06,
          400.09,
          401.73,
          399.94
         ],
         "yaxis": "y"
        },
        {
         "hovertemplate": "Country=Burundi<br>Year=%{x}<br>Malaria Incidences=%{y}<extra></extra>",
         "legendgroup": "Burundi",
         "line": {
          "color": "#19d3f3",
          "dash": "solid"
         },
         "marker": {
          "symbol": "circle"
         },
         "mode": "lines",
         "name": "Burundi",
         "orientation": "v",
         "showlegend": true,
         "type": "scatter",
         "x": [
          2007,
          2008,
          2009,
          2010,
          2011,
          2012,
          2013,
          2014,
          2015,
          2016,
          2017
         ],
         "xaxis": "x",
         "y": [
          222.92,
          222.77,
          220.65,
          210.2,
          184.15,
          153.93,
          140.59,
          141.51,
          165.5,
          225.74,
          250.27
         ],
         "yaxis": "y"
        },
        {
         "hovertemplate": "Country=Cabo Verde<br>Year=%{x}<br>Malaria Incidences=%{y}<extra></extra>",
         "legendgroup": "Cabo Verde",
         "line": {
          "color": "#FF6692",
          "dash": "solid"
         },
         "marker": {
          "symbol": "circle"
         },
         "mode": "lines",
         "name": "Cabo Verde",
         "orientation": "v",
         "showlegend": true,
         "type": "scatter",
         "x": [
          2007,
          2008,
          2009,
          2010,
          2011,
          2012,
          2013,
          2014,
          2015,
          2016,
          2017
         ],
         "xaxis": "x",
         "y": [
          0.15,
          0.28,
          0.51,
          0.37,
          0.05,
          0.01,
          0.17,
          0.19,
          0.05,
          0.35,
          3.03
         ],
         "yaxis": "y"
        },
        {
         "hovertemplate": "Country=Cameroon<br>Year=%{x}<br>Malaria Incidences=%{y}<extra></extra>",
         "legendgroup": "Cameroon",
         "line": {
          "color": "#B6E880",
          "dash": "solid"
         },
         "marker": {
          "symbol": "circle"
         },
         "mode": "lines",
         "name": "Cameroon",
         "orientation": "v",
         "showlegend": true,
         "type": "scatter",
         "x": [
          2007,
          2008,
          2009,
          2010,
          2011,
          2012,
          2013,
          2014,
          2015,
          2016,
          2017
         ],
         "xaxis": "x",
         "y": [
          386.68,
          358.72,
          322.98,
          295.53,
          265.1,
          245.13,
          243.04,
          244.08,
          254.5,
          264.31,
          262.23
         ],
         "yaxis": "y"
        },
        {
         "hovertemplate": "Country=Central African Republic<br>Year=%{x}<br>Malaria Incidences=%{y}<extra></extra>",
         "legendgroup": "Central African Republic",
         "line": {
          "color": "#FF97FF",
          "dash": "solid"
         },
         "marker": {
          "symbol": "circle"
         },
         "mode": "lines",
         "name": "Central African Republic",
         "orientation": "v",
         "showlegend": true,
         "type": "scatter",
         "x": [
          2007,
          2008,
          2009,
          2010,
          2011,
          2012,
          2013,
          2014,
          2015,
          2016,
          2017
         ],
         "xaxis": "x",
         "y": [
          471.11,
          461.79,
          448.45,
          434.51,
          419.33,
          413.09,
          406.82,
          393.04,
          379.91,
          362.02,
          347.33
         ],
         "yaxis": "y"
        },
        {
         "hovertemplate": "Country=Chad<br>Year=%{x}<br>Malaria Incidences=%{y}<extra></extra>",
         "legendgroup": "Chad",
         "line": {
          "color": "#FECB52",
          "dash": "solid"
         },
         "marker": {
          "symbol": "circle"
         },
         "mode": "lines",
         "name": "Chad",
         "orientation": "v",
         "showlegend": true,
         "type": "scatter",
         "x": [
          2007,
          2008,
          2009,
          2010,
          2011,
          2012,
          2013,
          2014,
          2015,
          2016,
          2017
         ],
         "xaxis": "x",
         "y": [
          210.71,
          215.1,
          222.91,
          225.94,
          210.48,
          195.34,
          179.35,
          170.27,
          167.28,
          169.93,
          172.3
         ],
         "yaxis": "y"
        },
        {
         "hovertemplate": "Country=Comoros<br>Year=%{x}<br>Malaria Incidences=%{y}<extra></extra>",
         "legendgroup": "Comoros",
         "line": {
          "color": "#636efa",
          "dash": "solid"
         },
         "marker": {
          "symbol": "circle"
         },
         "mode": "lines",
         "name": "Comoros",
         "orientation": "v",
         "showlegend": true,
         "type": "scatter",
         "x": [
          2007,
          2008,
          2009,
          2010,
          2011,
          2012,
          2013,
          2014,
          2015,
          2016,
          2017
         ],
         "xaxis": "x",
         "y": [
          60.65,
          59.21,
          57.81,
          52.98,
          35.18,
          68.85,
          71.69,
          2.9,
          1.67,
          1.44,
          3.97
         ],
         "yaxis": "y"
        },
        {
         "hovertemplate": "Country=Congo, Dem. Rep.<br>Year=%{x}<br>Malaria Incidences=%{y}<extra></extra>",
         "legendgroup": "Congo, Dem. Rep.",
         "line": {
          "color": "#EF553B",
          "dash": "solid"
         },
         "marker": {
          "symbol": "circle"
         },
         "mode": "lines",
         "name": "Congo, Dem. Rep.",
         "orientation": "v",
         "showlegend": true,
         "type": "scatter",
         "x": [
          2007,
          2008,
          2009,
          2010,
          2011,
          2012,
          2013,
          2014,
          2015,
          2016,
          2017
         ],
         "xaxis": "x",
         "y": [
          481.93,
          471.43,
          452.18,
          428.31,
          399.59,
          363,
          327.62,
          308.39,
          308.83,
          322.77,
          329.13
         ],
         "yaxis": "y"
        },
        {
         "hovertemplate": "Country=Congo, Rep.<br>Year=%{x}<br>Malaria Incidences=%{y}<extra></extra>",
         "legendgroup": "Congo, Rep.",
         "line": {
          "color": "#00cc96",
          "dash": "solid"
         },
         "marker": {
          "symbol": "circle"
         },
         "mode": "lines",
         "name": "Congo, Rep.",
         "orientation": "v",
         "showlegend": true,
         "type": "scatter",
         "x": [
          2007,
          2008,
          2009,
          2010,
          2011,
          2012,
          2013,
          2014,
          2015,
          2016,
          2017
         ],
         "xaxis": "x",
         "y": [
          281.83,
          249.16,
          226.32,
          220.92,
          224.38,
          224.63,
          231.03,
          231.85,
          226.71,
          233.38,
          240.64
         ],
         "yaxis": "y"
        },
        {
         "hovertemplate": "Country=Cote d'Ivoire<br>Year=%{x}<br>Malaria Incidences=%{y}<extra></extra>",
         "legendgroup": "Cote d'Ivoire",
         "line": {
          "color": "#ab63fa",
          "dash": "solid"
         },
         "marker": {
          "symbol": "circle"
         },
         "mode": "lines",
         "name": "Cote d'Ivoire",
         "orientation": "v",
         "showlegend": true,
         "type": "scatter",
         "x": [
          2007,
          2008,
          2009,
          2010,
          2011,
          2012,
          2013,
          2014,
          2015,
          2016,
          2017
         ],
         "xaxis": "x",
         "y": [
          509.98,
          510.08,
          494.48,
          469.27,
          442.11,
          396.28,
          338.87,
          315.07,
          320.04,
          354.66,
          362.36
         ],
         "yaxis": "y"
        },
        {
         "hovertemplate": "Country=Djibouti<br>Year=%{x}<br>Malaria Incidences=%{y}<extra></extra>",
         "legendgroup": "Djibouti",
         "line": {
          "color": "#FFA15A",
          "dash": "solid"
         },
         "marker": {
          "symbol": "circle"
         },
         "mode": "lines",
         "name": "Djibouti",
         "orientation": "v",
         "showlegend": true,
         "type": "scatter",
         "x": [
          2007,
          2008,
          2009,
          2010,
          2011,
          2012,
          2013,
          2014,
          2015,
          2016,
          2017
         ],
         "xaxis": "x",
         "y": [
          3.84,
          3.74,
          4.33,
          1.6,
          3.42,
          3.31,
          2.54,
          14.01,
          13.82,
          19.81,
          20.72
         ],
         "yaxis": "y"
        },
        {
         "hovertemplate": "Country=Egypt, Arab Rep.<br>Year=%{x}<br>Malaria Incidences=%{y}<extra></extra>",
         "legendgroup": "Egypt, Arab Rep.",
         "line": {
          "color": "#19d3f3",
          "dash": "solid"
         },
         "marker": {
          "symbol": "circle"
         },
         "mode": "lines",
         "name": "Egypt, Arab Rep.",
         "orientation": "v",
         "showlegend": true,
         "type": "scatter",
         "x": [
          2007,
          2008,
          2009,
          2010,
          2011,
          2012,
          2013,
          2014,
          2015,
          2016,
          2017
         ],
         "xaxis": "x",
         "y": [
          0,
          0,
          0,
          0,
          0,
          0,
          0,
          0,
          0,
          0,
          0
         ],
         "yaxis": "y"
        },
        {
         "hovertemplate": "Country=Equatorial Guinea<br>Year=%{x}<br>Malaria Incidences=%{y}<extra></extra>",
         "legendgroup": "Equatorial Guinea",
         "line": {
          "color": "#FF6692",
          "dash": "solid"
         },
         "marker": {
          "symbol": "circle"
         },
         "mode": "lines",
         "name": "Equatorial Guinea",
         "orientation": "v",
         "showlegend": true,
         "type": "scatter",
         "x": [
          2007,
          2008,
          2009,
          2010,
          2011,
          2012,
          2013,
          2014,
          2015,
          2016,
          2017
         ],
         "xaxis": "x",
         "y": [
          398.15,
          378.24,
          351.29,
          339.99,
          342.4,
          357.75,
          365.75,
          360.95,
          339.48,
          306.97,
          285.72
         ],
         "yaxis": "y"
        },
        {
         "hovertemplate": "Country=Eritrea<br>Year=%{x}<br>Malaria Incidences=%{y}<extra></extra>",
         "legendgroup": "Eritrea",
         "line": {
          "color": "#B6E880",
          "dash": "solid"
         },
         "marker": {
          "symbol": "circle"
         },
         "mode": "lines",
         "name": "Eritrea",
         "orientation": "v",
         "showlegend": true,
         "type": "scatter",
         "x": [
          2007,
          2008,
          2009,
          2010,
          2011,
          2012,
          2013,
          2014,
          2015,
          2016,
          2017
         ],
         "xaxis": "x",
         "y": [
          12.54,
          6.78,
          8.86,
          26.33,
          23.86,
          16.15,
          15.03,
          33.12,
          19.2,
          25.64,
          33.97
         ],
         "yaxis": "y"
        },
        {
         "hovertemplate": "Country=Eswatini<br>Year=%{x}<br>Malaria Incidences=%{y}<extra></extra>",
         "legendgroup": "Eswatini",
         "line": {
          "color": "#FF97FF",
          "dash": "solid"
         },
         "marker": {
          "symbol": "circle"
         },
         "mode": "lines",
         "name": "Eswatini",
         "orientation": "v",
         "showlegend": true,
         "type": "scatter",
         "x": [
          2007,
          2008,
          2009,
          2010,
          2011,
          2012,
          2013,
          2014,
          2015,
          2016,
          2017
         ],
         "xaxis": "x",
         "y": [
          0.29,
          0.2,
          0.36,
          0.9,
          1.83,
          1.86,
          3.16,
          2.32,
          0.51,
          1.12,
          2.3
         ],
         "yaxis": "y"
        },
        {
         "hovertemplate": "Country=Ethiopia<br>Year=%{x}<br>Malaria Incidences=%{y}<extra></extra>",
         "legendgroup": "Ethiopia",
         "line": {
          "color": "#FECB52",
          "dash": "solid"
         },
         "marker": {
          "symbol": "circle"
         },
         "mode": "lines",
         "name": "Ethiopia",
         "orientation": "v",
         "showlegend": true,
         "type": "scatter",
         "x": [
          2007,
          2008,
          2009,
          2010,
          2011,
          2012,
          2013,
          2014,
          2015,
          2016,
          2017
         ],
         "xaxis": "x",
         "y": [
          121.69,
          90.66,
          123.35,
          128.4,
          116.13,
          116.19,
          111.6,
          57.1,
          52.77,
          41.41,
          36.74
         ],
         "yaxis": "y"
        },
        {
         "hovertemplate": "Country=Gabon<br>Year=%{x}<br>Malaria Incidences=%{y}<extra></extra>",
         "legendgroup": "Gabon",
         "line": {
          "color": "#636efa",
          "dash": "solid"
         },
         "marker": {
          "symbol": "circle"
         },
         "mode": "lines",
         "name": "Gabon",
         "orientation": "v",
         "showlegend": true,
         "type": "scatter",
         "x": [
          2007,
          2008,
          2009,
          2010,
          2011,
          2012,
          2013,
          2014,
          2015,
          2016,
          2017
         ],
         "xaxis": "x",
         "y": [
          110.66,
          118.87,
          145.95,
          177.82,
          212.72,
          245.53,
          272.83,
          285.74,
          284.44,
          270.67,
          254.24
         ],
         "yaxis": "y"
        },
        {
         "hovertemplate": "Country=Gambia, The<br>Year=%{x}<br>Malaria Incidences=%{y}<extra></extra>",
         "legendgroup": "Gambia, The",
         "line": {
          "color": "#EF553B",
          "dash": "solid"
         },
         "marker": {
          "symbol": "circle"
         },
         "mode": "lines",
         "name": "Gambia, The",
         "orientation": "v",
         "showlegend": true,
         "type": "scatter",
         "x": [
          2007,
          2008,
          2009,
          2010,
          2011,
          2012,
          2013,
          2014,
          2015,
          2016,
          2017
         ],
         "xaxis": "x",
         "y": [
          316.01,
          306.84,
          297.98,
          289.27,
          257.26,
          274.82,
          236.99,
          142.02,
          195.04,
          116.53,
          53.02
         ],
         "yaxis": "y"
        },
        {
         "hovertemplate": "Country=Ghana<br>Year=%{x}<br>Malaria Incidences=%{y}<extra></extra>",
         "legendgroup": "Ghana",
         "line": {
          "color": "#00cc96",
          "dash": "solid"
         },
         "marker": {
          "symbol": "circle"
         },
         "mode": "lines",
         "name": "Ghana",
         "orientation": "v",
         "showlegend": true,
         "type": "scatter",
         "x": [
          2007,
          2008,
          2009,
          2010,
          2011,
          2012,
          2013,
          2014,
          2015,
          2016,
          2017
         ],
         "xaxis": "x",
         "y": [
          322.33,
          333.72,
          351.39,
          364.15,
          379.52,
          374.29,
          349.28,
          315.76,
          277.19,
          236,
          212.56
         ],
         "yaxis": "y"
        },
        {
         "hovertemplate": "Country=Guinea<br>Year=%{x}<br>Malaria Incidences=%{y}<extra></extra>",
         "legendgroup": "Guinea",
         "line": {
          "color": "#ab63fa",
          "dash": "solid"
         },
         "marker": {
          "symbol": "circle"
         },
         "mode": "lines",
         "name": "Guinea",
         "orientation": "v",
         "showlegend": true,
         "type": "scatter",
         "x": [
          2007,
          2008,
          2009,
          2010,
          2011,
          2012,
          2013,
          2014,
          2015,
          2016,
          2017
         ],
         "xaxis": "x",
         "y": [
          343.69,
          370.17,
          398.14,
          414.66,
          426.9,
          427.8,
          408.08,
          381.09,
          356.64,
          331.47,
          311.53
         ],
         "yaxis": "y"
        },
        {
         "hovertemplate": "Country=Guinea-Bissau<br>Year=%{x}<br>Malaria Incidences=%{y}<extra></extra>",
         "legendgroup": "Guinea-Bissau",
         "line": {
          "color": "#FFA15A",
          "dash": "solid"
         },
         "marker": {
          "symbol": "circle"
         },
         "mode": "lines",
         "name": "Guinea-Bissau",
         "orientation": "v",
         "showlegend": true,
         "type": "scatter",
         "x": [
          2007,
          2008,
          2009,
          2010,
          2011,
          2012,
          2013,
          2014,
          2015,
          2016,
          2017
         ],
         "xaxis": "x",
         "y": [
          72.81,
          89.02,
          113.8,
          134.37,
          140.55,
          128.75,
          113.39,
          93.9,
          79.77,
          71.35,
          78.33
         ],
         "yaxis": "y"
        },
        {
         "hovertemplate": "Country=Kenya<br>Year=%{x}<br>Malaria Incidences=%{y}<extra></extra>",
         "legendgroup": "Kenya",
         "line": {
          "color": "#19d3f3",
          "dash": "solid"
         },
         "marker": {
          "symbol": "circle"
         },
         "mode": "lines",
         "name": "Kenya",
         "orientation": "v",
         "showlegend": true,
         "type": "scatter",
         "x": [
          2007,
          2008,
          2009,
          2010,
          2011,
          2012,
          2013,
          2014,
          2015,
          2016,
          2017
         ],
         "xaxis": "x",
         "y": [
          78.02,
          67.68,
          67.94,
          67.71,
          67.86,
          73.36,
          82.48,
          83.87,
          72.17,
          70.38,
          70.1
         ],
         "yaxis": "y"
        },
        {
         "hovertemplate": "Country=Lesotho<br>Year=%{x}<br>Malaria Incidences=%{y}<extra></extra>",
         "legendgroup": "Lesotho",
         "line": {
          "color": "#FF6692",
          "dash": "solid"
         },
         "marker": {
          "symbol": "circle"
         },
         "mode": "lines",
         "name": "Lesotho",
         "orientation": "v",
         "showlegend": true,
         "type": "scatter",
         "x": [
          2007,
          2008,
          2009,
          2010,
          2011,
          2012,
          2013,
          2014,
          2015,
          2016,
          2017
         ],
         "xaxis": "x",
         "y": [
          0,
          0,
          0,
          0,
          0,
          0,
          0,
          0,
          0,
          0,
          0
         ],
         "yaxis": "y"
        },
        {
         "hovertemplate": "Country=Liberia<br>Year=%{x}<br>Malaria Incidences=%{y}<extra></extra>",
         "legendgroup": "Liberia",
         "line": {
          "color": "#B6E880",
          "dash": "solid"
         },
         "marker": {
          "symbol": "circle"
         },
         "mode": "lines",
         "name": "Liberia",
         "orientation": "v",
         "showlegend": true,
         "type": "scatter",
         "x": [
          2007,
          2008,
          2009,
          2010,
          2011,
          2012,
          2013,
          2014,
          2015,
          2016,
          2017
         ],
         "xaxis": "x",
         "y": [
          383.18,
          383.33,
          368.81,
          345.77,
          330.41,
          307.9,
          317.28,
          337.57,
          346.97,
          386.3,
          401.11
         ],
         "yaxis": "y"
        },
        {
         "hovertemplate": "Country=Libya<br>Year=%{x}<br>Malaria Incidences=%{y}<extra></extra>",
         "legendgroup": "Libya",
         "line": {
          "color": "#FF97FF",
          "dash": "solid"
         },
         "marker": {
          "symbol": "circle"
         },
         "mode": "lines",
         "name": "Libya",
         "orientation": "v",
         "showlegend": true,
         "type": "scatter",
         "x": [
          2007,
          2008,
          2009,
          2010,
          2011,
          2012,
          2013,
          2014,
          2015,
          2016,
          2017
         ],
         "xaxis": "x",
         "y": [
          0,
          0,
          0,
          0,
          0,
          0,
          0,
          0,
          0,
          0,
          0
         ],
         "yaxis": "y"
        },
        {
         "hovertemplate": "Country=Madagascar<br>Year=%{x}<br>Malaria Incidences=%{y}<extra></extra>",
         "legendgroup": "Madagascar",
         "line": {
          "color": "#FECB52",
          "dash": "solid"
         },
         "marker": {
          "symbol": "circle"
         },
         "mode": "lines",
         "name": "Madagascar",
         "orientation": "v",
         "showlegend": true,
         "type": "scatter",
         "x": [
          2007,
          2008,
          2009,
          2010,
          2011,
          2012,
          2013,
          2014,
          2015,
          2016,
          2017
         ],
         "xaxis": "x",
         "y": [
          22.78,
          23.47,
          42.92,
          42.24,
          36.55,
          71.36,
          65.21,
          45.78,
          97.32,
          56.58,
          75.67
         ],
         "yaxis": "y"
        },
        {
         "hovertemplate": "Country=Malawi<br>Year=%{x}<br>Malaria Incidences=%{y}<extra></extra>",
         "legendgroup": "Malawi",
         "line": {
          "color": "#636efa",
          "dash": "solid"
         },
         "marker": {
          "symbol": "circle"
         },
         "mode": "lines",
         "name": "Malawi",
         "orientation": "v",
         "showlegend": true,
         "type": "scatter",
         "x": [
          2007,
          2008,
          2009,
          2010,
          2011,
          2012,
          2013,
          2014,
          2015,
          2016,
          2017
         ],
         "xaxis": "x",
         "y": [
          370.08,
          392,
          394.29,
          386.02,
          362.78,
          314.02,
          267.86,
          237,
          217.04,
          210.66,
          216.26
         ],
         "yaxis": "y"
        },
        {
         "hovertemplate": "Country=Mali<br>Year=%{x}<br>Malaria Incidences=%{y}<extra></extra>",
         "legendgroup": "Mali",
         "line": {
          "color": "#EF553B",
          "dash": "solid"
         },
         "marker": {
          "symbol": "circle"
         },
         "mode": "lines",
         "name": "Mali",
         "orientation": "v",
         "showlegend": true,
         "type": "scatter",
         "x": [
          2007,
          2008,
          2009,
          2010,
          2011,
          2012,
          2013,
          2014,
          2015,
          2016,
          2017
         ],
         "xaxis": "x",
         "y": [
          388.81,
          379.06,
          374.56,
          383.6,
          404.73,
          435.65,
          452.82,
          441.01,
          391.83,
          384.22,
          386.78
         ],
         "yaxis": "y"
        },
        {
         "hovertemplate": "Country=Mauritania<br>Year=%{x}<br>Malaria Incidences=%{y}<extra></extra>",
         "legendgroup": "Mauritania",
         "line": {
          "color": "#00cc96",
          "dash": "solid"
         },
         "marker": {
          "symbol": "circle"
         },
         "mode": "lines",
         "name": "Mauritania",
         "orientation": "v",
         "showlegend": true,
         "type": "scatter",
         "x": [
          2007,
          2008,
          2009,
          2010,
          2011,
          2012,
          2013,
          2014,
          2015,
          2016,
          2017
         ],
         "xaxis": "x",
         "y": [
          70.77,
          61.14,
          31.64,
          38.83,
          47.58,
          28.42,
          33.22,
          49.2,
          61.61,
          71.5,
          55.49
         ],
         "yaxis": "y"
        },
        {
         "hovertemplate": "Country=Mauritius<br>Year=%{x}<br>Malaria Incidences=%{y}<extra></extra>",
         "legendgroup": "Mauritius",
         "line": {
          "color": "#ab63fa",
          "dash": "solid"
         },
         "marker": {
          "symbol": "circle"
         },
         "mode": "lines",
         "name": "Mauritius",
         "orientation": "v",
         "showlegend": true,
         "type": "scatter",
         "x": [
          2007,
          2008,
          2009,
          2010,
          2011,
          2012,
          2013,
          2014,
          2015,
          2016,
          2017
         ],
         "xaxis": "x",
         "y": [
          0,
          0,
          0,
          0,
          0,
          0,
          0,
          0,
          0,
          0,
          0
         ],
         "yaxis": "y"
        },
        {
         "hovertemplate": "Country=Morocco<br>Year=%{x}<br>Malaria Incidences=%{y}<extra></extra>",
         "legendgroup": "Morocco",
         "line": {
          "color": "#FFA15A",
          "dash": "solid"
         },
         "marker": {
          "symbol": "circle"
         },
         "mode": "lines",
         "name": "Morocco",
         "orientation": "v",
         "showlegend": true,
         "type": "scatter",
         "x": [
          2007,
          2008,
          2009,
          2010,
          2011,
          2012,
          2013,
          2014,
          2015,
          2016,
          2017
         ],
         "xaxis": "x",
         "y": [
          0,
          0,
          0,
          0,
          0,
          0,
          0,
          0,
          0,
          0,
          0
         ],
         "yaxis": "y"
        },
        {
         "hovertemplate": "Country=Mozambique<br>Year=%{x}<br>Malaria Incidences=%{y}<extra></extra>",
         "legendgroup": "Mozambique",
         "line": {
          "color": "#19d3f3",
          "dash": "solid"
         },
         "marker": {
          "symbol": "circle"
         },
         "mode": "lines",
         "name": "Mozambique",
         "orientation": "v",
         "showlegend": true,
         "type": "scatter",
         "x": [
          2007,
          2008,
          2009,
          2010,
          2011,
          2012,
          2013,
          2014,
          2015,
          2016,
          2017
         ],
         "xaxis": "x",
         "y": [
          399.45,
          399.79,
          402.3,
          398.41,
          389.92,
          381.78,
          376.98,
          364.83,
          355.88,
          344.82,
          326.4
         ],
         "yaxis": "y"
        },
        {
         "hovertemplate": "Country=Namibia<br>Year=%{x}<br>Malaria Incidences=%{y}<extra></extra>",
         "legendgroup": "Namibia",
         "line": {
          "color": "#FF6692",
          "dash": "solid"
         },
         "marker": {
          "symbol": "circle"
         },
         "mode": "lines",
         "name": "Namibia",
         "orientation": "v",
         "showlegend": true,
         "type": "scatter",
         "x": [
          2007,
          2008,
          2009,
          2010,
          2011,
          2012,
          2013,
          2014,
          2015,
          2016,
          2017
         ],
         "xaxis": "x",
         "y": [
          12.97,
          7.46,
          3.36,
          1.54,
          2.13,
          3.36,
          4.55,
          14.49,
          10.88,
          22.12,
          46.75
         ],
         "yaxis": "y"
        },
        {
         "hovertemplate": "Country=Niger<br>Year=%{x}<br>Malaria Incidences=%{y}<extra></extra>",
         "legendgroup": "Niger",
         "line": {
          "color": "#B6E880",
          "dash": "solid"
         },
         "marker": {
          "symbol": "circle"
         },
         "mode": "lines",
         "name": "Niger",
         "orientation": "v",
         "showlegend": true,
         "type": "scatter",
         "x": [
          2007,
          2008,
          2009,
          2010,
          2011,
          2012,
          2013,
          2014,
          2015,
          2016,
          2017
         ],
         "xaxis": "x",
         "y": [
          386.68,
          409.1,
          419.1,
          425.64,
          427.88,
          430.51,
          420.49,
          400.25,
          369.83,
          358.74,
          356.57
         ],
         "yaxis": "y"
        },
        {
         "hovertemplate": "Country=Nigeria<br>Year=%{x}<br>Malaria Incidences=%{y}<extra></extra>",
         "legendgroup": "Nigeria",
         "line": {
          "color": "#FF97FF",
          "dash": "solid"
         },
         "marker": {
          "symbol": "circle"
         },
         "mode": "lines",
         "name": "Nigeria",
         "orientation": "v",
         "showlegend": true,
         "type": "scatter",
         "x": [
          2007,
          2008,
          2009,
          2010,
          2011,
          2012,
          2013,
          2014,
          2015,
          2016,
          2017
         ],
         "xaxis": "x",
         "y": [
          421.33,
          424.66,
          416.59,
          398.9,
          372.56,
          347.74,
          328.65,
          314.4,
          296.08,
          281.38,
          283.06
         ],
         "yaxis": "y"
        },
        {
         "hovertemplate": "Country=Rwanda<br>Year=%{x}<br>Malaria Incidences=%{y}<extra></extra>",
         "legendgroup": "Rwanda",
         "line": {
          "color": "#FECB52",
          "dash": "solid"
         },
         "marker": {
          "symbol": "circle"
         },
         "mode": "lines",
         "name": "Rwanda",
         "orientation": "v",
         "showlegend": true,
         "type": "scatter",
         "x": [
          2007,
          2008,
          2009,
          2010,
          2011,
          2012,
          2013,
          2014,
          2015,
          2016,
          2017
         ],
         "xaxis": "x",
         "y": [
          90.64,
          72.03,
          158.16,
          126.31,
          39.29,
          71.46,
          121.45,
          219.81,
          341.96,
          585.54,
          538.34
         ],
         "yaxis": "y"
        },
        {
         "hovertemplate": "Country=Sao Tome and Principe<br>Year=%{x}<br>Malaria Incidences=%{y}<extra></extra>",
         "legendgroup": "Sao Tome and Principe",
         "line": {
          "color": "#636efa",
          "dash": "solid"
         },
         "marker": {
          "symbol": "circle"
         },
         "mode": "lines",
         "name": "Sao Tome and Principe",
         "orientation": "v",
         "showlegend": true,
         "type": "scatter",
         "x": [
          2007,
          2008,
          2009,
          2010,
          2011,
          2012,
          2013,
          2014,
          2015,
          2016,
          2017
         ],
         "xaxis": "x",
         "y": [
          14.56,
          36.57,
          35.15,
          15.19,
          45.75,
          56.8,
          48.12,
          8.96,
          10.32,
          11.01,
          10.81
         ],
         "yaxis": "y"
        },
        {
         "hovertemplate": "Country=Senegal<br>Year=%{x}<br>Malaria Incidences=%{y}<extra></extra>",
         "legendgroup": "Senegal",
         "line": {
          "color": "#EF553B",
          "dash": "solid"
         },
         "marker": {
          "symbol": "circle"
         },
         "mode": "lines",
         "name": "Senegal",
         "orientation": "v",
         "showlegend": true,
         "type": "scatter",
         "x": [
          2007,
          2008,
          2009,
          2010,
          2011,
          2012,
          2013,
          2014,
          2015,
          2016,
          2017
         ],
         "xaxis": "x",
         "y": [
          101.91,
          86.42,
          57.12,
          59.28,
          49.91,
          56.92,
          67.9,
          39.51,
          69.8,
          45.66,
          52.35
         ],
         "yaxis": "y"
        },
        {
         "hovertemplate": "Country=Seychelles<br>Year=%{x}<br>Malaria Incidences=%{y}<extra></extra>",
         "legendgroup": "Seychelles",
         "line": {
          "color": "#00cc96",
          "dash": "solid"
         },
         "marker": {
          "symbol": "circle"
         },
         "mode": "lines",
         "name": "Seychelles",
         "orientation": "v",
         "showlegend": true,
         "type": "scatter",
         "x": [
          2007,
          2008,
          2009,
          2010,
          2011,
          2012,
          2013,
          2014,
          2015,
          2016,
          2017
         ],
         "xaxis": "x",
         "y": [
          0,
          0,
          0,
          0,
          0,
          0,
          0,
          0,
          0,
          0,
          0
         ],
         "yaxis": "y"
        },
        {
         "hovertemplate": "Country=Sierra Leone<br>Year=%{x}<br>Malaria Incidences=%{y}<extra></extra>",
         "legendgroup": "Sierra Leone",
         "line": {
          "color": "#ab63fa",
          "dash": "solid"
         },
         "marker": {
          "symbol": "circle"
         },
         "mode": "lines",
         "name": "Sierra Leone",
         "orientation": "v",
         "showlegend": true,
         "type": "scatter",
         "x": [
          2007,
          2008,
          2009,
          2010,
          2011,
          2012,
          2013,
          2014,
          2015,
          2016,
          2017
         ],
         "xaxis": "x",
         "y": [
          379.94,
          413.85,
          442.15,
          458.74,
          453.65,
          447.47,
          432.7,
          409.31,
          403.72,
          391.33,
          364.13
         ],
         "yaxis": "y"
        },
        {
         "hovertemplate": "Country=Somalia<br>Year=%{x}<br>Malaria Incidences=%{y}<extra></extra>",
         "legendgroup": "Somalia",
         "line": {
          "color": "#FFA15A",
          "dash": "solid"
         },
         "marker": {
          "symbol": "circle"
         },
         "mode": "lines",
         "name": "Somalia",
         "orientation": "v",
         "showlegend": true,
         "type": "scatter",
         "x": [
          2007,
          2008,
          2009,
          2010,
          2011,
          2012,
          2013,
          2014,
          2015,
          2016,
          2017
         ],
         "xaxis": "x",
         "y": [
          100.56,
          63.1,
          38.44,
          29.59,
          24.35,
          24.45,
          28.05,
          32.1,
          37.27,
          37.26,
          37.13
         ],
         "yaxis": "y"
        },
        {
         "hovertemplate": "Country=South Africa<br>Year=%{x}<br>Malaria Incidences=%{y}<extra></extra>",
         "legendgroup": "South Africa",
         "line": {
          "color": "#19d3f3",
          "dash": "solid"
         },
         "marker": {
          "symbol": "circle"
         },
         "mode": "lines",
         "name": "South Africa",
         "orientation": "v",
         "showlegend": true,
         "type": "scatter",
         "x": [
          2007,
          2008,
          2009,
          2010,
          2011,
          2012,
          2013,
          2014,
          2015,
          2016,
          2017
         ],
         "xaxis": "x",
         "y": [
          1.29,
          1.57,
          1.2,
          1.57,
          1.9,
          1.25,
          1.61,
          2.15,
          0.21,
          0.77,
          3.95
         ],
         "yaxis": "y"
        },
        {
         "hovertemplate": "Country=South Sudan<br>Year=%{x}<br>Malaria Incidences=%{y}<extra></extra>",
         "legendgroup": "South Sudan",
         "line": {
          "color": "#FF6692",
          "dash": "solid"
         },
         "marker": {
          "symbol": "circle"
         },
         "mode": "lines",
         "name": "South Sudan",
         "orientation": "v",
         "showlegend": true,
         "type": "scatter",
         "x": [
          2007,
          2008,
          2009,
          2010,
          2011,
          2012,
          2013,
          2014,
          2015,
          2016,
          2017
         ],
         "xaxis": "x",
         "y": [
          276.75,
          267.14,
          255.07,
          243.97,
          235.87,
          232.68,
          234.38,
          236.14,
          240.36,
          244.55,
          245.8
         ],
         "yaxis": "y"
        },
        {
         "hovertemplate": "Country=Sudan<br>Year=%{x}<br>Malaria Incidences=%{y}<extra></extra>",
         "legendgroup": "Sudan",
         "line": {
          "color": "#B6E880",
          "dash": "solid"
         },
         "marker": {
          "symbol": "circle"
         },
         "mode": "lines",
         "name": "Sudan",
         "orientation": "v",
         "showlegend": true,
         "type": "scatter",
         "x": [
          2007,
          2008,
          2009,
          2010,
          2011,
          2012,
          2013,
          2014,
          2015,
          2016,
          2017
         ],
         "xaxis": "x",
         "y": [
          41.08,
          35.05,
          32.29,
          30.66,
          29.97,
          30.16,
          31.45,
          33.38,
          35.88,
          41.73,
          46.75
         ],
         "yaxis": "y"
        },
        {
         "hovertemplate": "Country=Tanzania<br>Year=%{x}<br>Malaria Incidences=%{y}<extra></extra>",
         "legendgroup": "Tanzania",
         "line": {
          "color": "#FF97FF",
          "dash": "solid"
         },
         "marker": {
          "symbol": "circle"
         },
         "mode": "lines",
         "name": "Tanzania",
         "orientation": "v",
         "showlegend": true,
         "type": "scatter",
         "x": [
          2007,
          2008,
          2009,
          2010,
          2011,
          2012,
          2013,
          2014,
          2015,
          2016,
          2017
         ],
         "xaxis": "x",
         "y": [
          184.53,
          171,
          157.11,
          145.46,
          132.48,
          116.25,
          111.78,
          118.94,
          121.74,
          123.57,
          123.96
         ],
         "yaxis": "y"
        },
        {
         "hovertemplate": "Country=Togo<br>Year=%{x}<br>Malaria Incidences=%{y}<extra></extra>",
         "legendgroup": "Togo",
         "line": {
          "color": "#FECB52",
          "dash": "solid"
         },
         "marker": {
          "symbol": "circle"
         },
         "mode": "lines",
         "name": "Togo",
         "orientation": "v",
         "showlegend": true,
         "type": "scatter",
         "x": [
          2007,
          2008,
          2009,
          2010,
          2011,
          2012,
          2013,
          2014,
          2015,
          2016,
          2017
         ],
         "xaxis": "x",
         "y": [
          434.49,
          379.9,
          326.88,
          308.88,
          313.4,
          349.7,
          385.39,
          384.68,
          364.31,
          324.86,
          278.2
         ],
         "yaxis": "y"
        },
        {
         "hovertemplate": "Country=Tunisia<br>Year=%{x}<br>Malaria Incidences=%{y}<extra></extra>",
         "legendgroup": "Tunisia",
         "line": {
          "color": "#636efa",
          "dash": "solid"
         },
         "marker": {
          "symbol": "circle"
         },
         "mode": "lines",
         "name": "Tunisia",
         "orientation": "v",
         "showlegend": true,
         "type": "scatter",
         "x": [
          2007,
          2008,
          2009,
          2010,
          2011,
          2012,
          2013,
          2014,
          2015,
          2016,
          2017
         ],
         "xaxis": "x",
         "y": [
          0,
          0,
          0,
          0,
          0,
          0,
          0,
          0,
          0,
          0,
          0
         ],
         "yaxis": "y"
        },
        {
         "hovertemplate": "Country=Uganda<br>Year=%{x}<br>Malaria Incidences=%{y}<extra></extra>",
         "legendgroup": "Uganda",
         "line": {
          "color": "#EF553B",
          "dash": "solid"
         },
         "marker": {
          "symbol": "circle"
         },
         "mode": "lines",
         "name": "Uganda",
         "orientation": "v",
         "showlegend": true,
         "type": "scatter",
         "x": [
          2007,
          2008,
          2009,
          2010,
          2011,
          2012,
          2013,
          2014,
          2015,
          2016,
          2017
         ],
         "xaxis": "x",
         "y": [
          377.94,
          410.46,
          433.79,
          417.35,
          385.7,
          331.77,
          254.24,
          220.62,
          236.11,
          304.41,
          336.76
         ],
         "yaxis": "y"
        },
        {
         "hovertemplate": "Country=Zambia<br>Year=%{x}<br>Malaria Incidences=%{y}<extra></extra>",
         "legendgroup": "Zambia",
         "line": {
          "color": "#00cc96",
          "dash": "solid"
         },
         "marker": {
          "symbol": "circle"
         },
         "mode": "lines",
         "name": "Zambia",
         "orientation": "v",
         "showlegend": true,
         "type": "scatter",
         "x": [
          2007,
          2008,
          2009,
          2010,
          2011,
          2012,
          2013,
          2014,
          2015,
          2016,
          2017
         ],
         "xaxis": "x",
         "y": [
          195.74,
          176.72,
          172,
          177.02,
          186.7,
          203.08,
          225.77,
          222.98,
          202.55,
          181.39,
          160.05
         ],
         "yaxis": "y"
        },
        {
         "hovertemplate": "Country=Zimbabwe<br>Year=%{x}<br>Malaria Incidences=%{y}<extra></extra>",
         "legendgroup": "Zimbabwe",
         "line": {
          "color": "#ab63fa",
          "dash": "solid"
         },
         "marker": {
          "symbol": "circle"
         },
         "mode": "lines",
         "name": "Zimbabwe",
         "orientation": "v",
         "showlegend": true,
         "type": "scatter",
         "x": [
          2007,
          2008,
          2009,
          2010,
          2011,
          2012,
          2013,
          2014,
          2015,
          2016,
          2017
         ],
         "xaxis": "x",
         "y": [
          175.12,
          74.73,
          90.5,
          109.43,
          70.68,
          57.22,
          81.95,
          101.89,
          97.65,
          65.78,
          108.55
         ],
         "yaxis": "y"
        }
       ],
       "layout": {
        "legend": {
         "title": {
          "text": "Country"
         },
         "tracegroupgap": 0
        },
        "template": {
         "data": {
          "bar": [
           {
            "error_x": {
             "color": "#2a3f5f"
            },
            "error_y": {
             "color": "#2a3f5f"
            },
            "marker": {
             "line": {
              "color": "#E5ECF6",
              "width": 0.5
             },
             "pattern": {
              "fillmode": "overlay",
              "size": 10,
              "solidity": 0.2
             }
            },
            "type": "bar"
           }
          ],
          "barpolar": [
           {
            "marker": {
             "line": {
              "color": "#E5ECF6",
              "width": 0.5
             },
             "pattern": {
              "fillmode": "overlay",
              "size": 10,
              "solidity": 0.2
             }
            },
            "type": "barpolar"
           }
          ],
          "carpet": [
           {
            "aaxis": {
             "endlinecolor": "#2a3f5f",
             "gridcolor": "white",
             "linecolor": "white",
             "minorgridcolor": "white",
             "startlinecolor": "#2a3f5f"
            },
            "baxis": {
             "endlinecolor": "#2a3f5f",
             "gridcolor": "white",
             "linecolor": "white",
             "minorgridcolor": "white",
             "startlinecolor": "#2a3f5f"
            },
            "type": "carpet"
           }
          ],
          "choropleth": [
           {
            "colorbar": {
             "outlinewidth": 0,
             "ticks": ""
            },
            "type": "choropleth"
           }
          ],
          "contour": [
           {
            "colorbar": {
             "outlinewidth": 0,
             "ticks": ""
            },
            "colorscale": [
             [
              0,
              "#0d0887"
             ],
             [
              0.1111111111111111,
              "#46039f"
             ],
             [
              0.2222222222222222,
              "#7201a8"
             ],
             [
              0.3333333333333333,
              "#9c179e"
             ],
             [
              0.4444444444444444,
              "#bd3786"
             ],
             [
              0.5555555555555556,
              "#d8576b"
             ],
             [
              0.6666666666666666,
              "#ed7953"
             ],
             [
              0.7777777777777778,
              "#fb9f3a"
             ],
             [
              0.8888888888888888,
              "#fdca26"
             ],
             [
              1,
              "#f0f921"
             ]
            ],
            "type": "contour"
           }
          ],
          "contourcarpet": [
           {
            "colorbar": {
             "outlinewidth": 0,
             "ticks": ""
            },
            "type": "contourcarpet"
           }
          ],
          "heatmap": [
           {
            "colorbar": {
             "outlinewidth": 0,
             "ticks": ""
            },
            "colorscale": [
             [
              0,
              "#0d0887"
             ],
             [
              0.1111111111111111,
              "#46039f"
             ],
             [
              0.2222222222222222,
              "#7201a8"
             ],
             [
              0.3333333333333333,
              "#9c179e"
             ],
             [
              0.4444444444444444,
              "#bd3786"
             ],
             [
              0.5555555555555556,
              "#d8576b"
             ],
             [
              0.6666666666666666,
              "#ed7953"
             ],
             [
              0.7777777777777778,
              "#fb9f3a"
             ],
             [
              0.8888888888888888,
              "#fdca26"
             ],
             [
              1,
              "#f0f921"
             ]
            ],
            "type": "heatmap"
           }
          ],
          "heatmapgl": [
           {
            "colorbar": {
             "outlinewidth": 0,
             "ticks": ""
            },
            "colorscale": [
             [
              0,
              "#0d0887"
             ],
             [
              0.1111111111111111,
              "#46039f"
             ],
             [
              0.2222222222222222,
              "#7201a8"
             ],
             [
              0.3333333333333333,
              "#9c179e"
             ],
             [
              0.4444444444444444,
              "#bd3786"
             ],
             [
              0.5555555555555556,
              "#d8576b"
             ],
             [
              0.6666666666666666,
              "#ed7953"
             ],
             [
              0.7777777777777778,
              "#fb9f3a"
             ],
             [
              0.8888888888888888,
              "#fdca26"
             ],
             [
              1,
              "#f0f921"
             ]
            ],
            "type": "heatmapgl"
           }
          ],
          "histogram": [
           {
            "marker": {
             "pattern": {
              "fillmode": "overlay",
              "size": 10,
              "solidity": 0.2
             }
            },
            "type": "histogram"
           }
          ],
          "histogram2d": [
           {
            "colorbar": {
             "outlinewidth": 0,
             "ticks": ""
            },
            "colorscale": [
             [
              0,
              "#0d0887"
             ],
             [
              0.1111111111111111,
              "#46039f"
             ],
             [
              0.2222222222222222,
              "#7201a8"
             ],
             [
              0.3333333333333333,
              "#9c179e"
             ],
             [
              0.4444444444444444,
              "#bd3786"
             ],
             [
              0.5555555555555556,
              "#d8576b"
             ],
             [
              0.6666666666666666,
              "#ed7953"
             ],
             [
              0.7777777777777778,
              "#fb9f3a"
             ],
             [
              0.8888888888888888,
              "#fdca26"
             ],
             [
              1,
              "#f0f921"
             ]
            ],
            "type": "histogram2d"
           }
          ],
          "histogram2dcontour": [
           {
            "colorbar": {
             "outlinewidth": 0,
             "ticks": ""
            },
            "colorscale": [
             [
              0,
              "#0d0887"
             ],
             [
              0.1111111111111111,
              "#46039f"
             ],
             [
              0.2222222222222222,
              "#7201a8"
             ],
             [
              0.3333333333333333,
              "#9c179e"
             ],
             [
              0.4444444444444444,
              "#bd3786"
             ],
             [
              0.5555555555555556,
              "#d8576b"
             ],
             [
              0.6666666666666666,
              "#ed7953"
             ],
             [
              0.7777777777777778,
              "#fb9f3a"
             ],
             [
              0.8888888888888888,
              "#fdca26"
             ],
             [
              1,
              "#f0f921"
             ]
            ],
            "type": "histogram2dcontour"
           }
          ],
          "mesh3d": [
           {
            "colorbar": {
             "outlinewidth": 0,
             "ticks": ""
            },
            "type": "mesh3d"
           }
          ],
          "parcoords": [
           {
            "line": {
             "colorbar": {
              "outlinewidth": 0,
              "ticks": ""
             }
            },
            "type": "parcoords"
           }
          ],
          "pie": [
           {
            "automargin": true,
            "type": "pie"
           }
          ],
          "scatter": [
           {
            "fillpattern": {
             "fillmode": "overlay",
             "size": 10,
             "solidity": 0.2
            },
            "type": "scatter"
           }
          ],
          "scatter3d": [
           {
            "line": {
             "colorbar": {
              "outlinewidth": 0,
              "ticks": ""
             }
            },
            "marker": {
             "colorbar": {
              "outlinewidth": 0,
              "ticks": ""
             }
            },
            "type": "scatter3d"
           }
          ],
          "scattercarpet": [
           {
            "marker": {
             "colorbar": {
              "outlinewidth": 0,
              "ticks": ""
             }
            },
            "type": "scattercarpet"
           }
          ],
          "scattergeo": [
           {
            "marker": {
             "colorbar": {
              "outlinewidth": 0,
              "ticks": ""
             }
            },
            "type": "scattergeo"
           }
          ],
          "scattergl": [
           {
            "marker": {
             "colorbar": {
              "outlinewidth": 0,
              "ticks": ""
             }
            },
            "type": "scattergl"
           }
          ],
          "scattermapbox": [
           {
            "marker": {
             "colorbar": {
              "outlinewidth": 0,
              "ticks": ""
             }
            },
            "type": "scattermapbox"
           }
          ],
          "scatterpolar": [
           {
            "marker": {
             "colorbar": {
              "outlinewidth": 0,
              "ticks": ""
             }
            },
            "type": "scatterpolar"
           }
          ],
          "scatterpolargl": [
           {
            "marker": {
             "colorbar": {
              "outlinewidth": 0,
              "ticks": ""
             }
            },
            "type": "scatterpolargl"
           }
          ],
          "scatterternary": [
           {
            "marker": {
             "colorbar": {
              "outlinewidth": 0,
              "ticks": ""
             }
            },
            "type": "scatterternary"
           }
          ],
          "surface": [
           {
            "colorbar": {
             "outlinewidth": 0,
             "ticks": ""
            },
            "colorscale": [
             [
              0,
              "#0d0887"
             ],
             [
              0.1111111111111111,
              "#46039f"
             ],
             [
              0.2222222222222222,
              "#7201a8"
             ],
             [
              0.3333333333333333,
              "#9c179e"
             ],
             [
              0.4444444444444444,
              "#bd3786"
             ],
             [
              0.5555555555555556,
              "#d8576b"
             ],
             [
              0.6666666666666666,
              "#ed7953"
             ],
             [
              0.7777777777777778,
              "#fb9f3a"
             ],
             [
              0.8888888888888888,
              "#fdca26"
             ],
             [
              1,
              "#f0f921"
             ]
            ],
            "type": "surface"
           }
          ],
          "table": [
           {
            "cells": {
             "fill": {
              "color": "#EBF0F8"
             },
             "line": {
              "color": "white"
             }
            },
            "header": {
             "fill": {
              "color": "#C8D4E3"
             },
             "line": {
              "color": "white"
             }
            },
            "type": "table"
           }
          ]
         },
         "layout": {
          "annotationdefaults": {
           "arrowcolor": "#2a3f5f",
           "arrowhead": 0,
           "arrowwidth": 1
          },
          "autotypenumbers": "strict",
          "coloraxis": {
           "colorbar": {
            "outlinewidth": 0,
            "ticks": ""
           }
          },
          "colorscale": {
           "diverging": [
            [
             0,
             "#8e0152"
            ],
            [
             0.1,
             "#c51b7d"
            ],
            [
             0.2,
             "#de77ae"
            ],
            [
             0.3,
             "#f1b6da"
            ],
            [
             0.4,
             "#fde0ef"
            ],
            [
             0.5,
             "#f7f7f7"
            ],
            [
             0.6,
             "#e6f5d0"
            ],
            [
             0.7,
             "#b8e186"
            ],
            [
             0.8,
             "#7fbc41"
            ],
            [
             0.9,
             "#4d9221"
            ],
            [
             1,
             "#276419"
            ]
           ],
           "sequential": [
            [
             0,
             "#0d0887"
            ],
            [
             0.1111111111111111,
             "#46039f"
            ],
            [
             0.2222222222222222,
             "#7201a8"
            ],
            [
             0.3333333333333333,
             "#9c179e"
            ],
            [
             0.4444444444444444,
             "#bd3786"
            ],
            [
             0.5555555555555556,
             "#d8576b"
            ],
            [
             0.6666666666666666,
             "#ed7953"
            ],
            [
             0.7777777777777778,
             "#fb9f3a"
            ],
            [
             0.8888888888888888,
             "#fdca26"
            ],
            [
             1,
             "#f0f921"
            ]
           ],
           "sequentialminus": [
            [
             0,
             "#0d0887"
            ],
            [
             0.1111111111111111,
             "#46039f"
            ],
            [
             0.2222222222222222,
             "#7201a8"
            ],
            [
             0.3333333333333333,
             "#9c179e"
            ],
            [
             0.4444444444444444,
             "#bd3786"
            ],
            [
             0.5555555555555556,
             "#d8576b"
            ],
            [
             0.6666666666666666,
             "#ed7953"
            ],
            [
             0.7777777777777778,
             "#fb9f3a"
            ],
            [
             0.8888888888888888,
             "#fdca26"
            ],
            [
             1,
             "#f0f921"
            ]
           ]
          },
          "colorway": [
           "#636efa",
           "#EF553B",
           "#00cc96",
           "#ab63fa",
           "#FFA15A",
           "#19d3f3",
           "#FF6692",
           "#B6E880",
           "#FF97FF",
           "#FECB52"
          ],
          "font": {
           "color": "#2a3f5f"
          },
          "geo": {
           "bgcolor": "white",
           "lakecolor": "white",
           "landcolor": "#E5ECF6",
           "showlakes": true,
           "showland": true,
           "subunitcolor": "white"
          },
          "hoverlabel": {
           "align": "left"
          },
          "hovermode": "closest",
          "mapbox": {
           "style": "light"
          },
          "paper_bgcolor": "white",
          "plot_bgcolor": "#E5ECF6",
          "polar": {
           "angularaxis": {
            "gridcolor": "white",
            "linecolor": "white",
            "ticks": ""
           },
           "bgcolor": "#E5ECF6",
           "radialaxis": {
            "gridcolor": "white",
            "linecolor": "white",
            "ticks": ""
           }
          },
          "scene": {
           "xaxis": {
            "backgroundcolor": "#E5ECF6",
            "gridcolor": "white",
            "gridwidth": 2,
            "linecolor": "white",
            "showbackground": true,
            "ticks": "",
            "zerolinecolor": "white"
           },
           "yaxis": {
            "backgroundcolor": "#E5ECF6",
            "gridcolor": "white",
            "gridwidth": 2,
            "linecolor": "white",
            "showbackground": true,
            "ticks": "",
            "zerolinecolor": "white"
           },
           "zaxis": {
            "backgroundcolor": "#E5ECF6",
            "gridcolor": "white",
            "gridwidth": 2,
            "linecolor": "white",
            "showbackground": true,
            "ticks": "",
            "zerolinecolor": "white"
           }
          },
          "shapedefaults": {
           "line": {
            "color": "#2a3f5f"
           }
          },
          "ternary": {
           "aaxis": {
            "gridcolor": "white",
            "linecolor": "white",
            "ticks": ""
           },
           "baxis": {
            "gridcolor": "white",
            "linecolor": "white",
            "ticks": ""
           },
           "bgcolor": "#E5ECF6",
           "caxis": {
            "gridcolor": "white",
            "linecolor": "white",
            "ticks": ""
           }
          },
          "title": {
           "x": 0.05
          },
          "xaxis": {
           "automargin": true,
           "gridcolor": "white",
           "linecolor": "white",
           "ticks": "",
           "title": {
            "standoff": 15
           },
           "zerolinecolor": "white",
           "zerolinewidth": 2
          },
          "yaxis": {
           "automargin": true,
           "gridcolor": "white",
           "linecolor": "white",
           "ticks": "",
           "title": {
            "standoff": 15
           },
           "zerolinecolor": "white",
           "zerolinewidth": 2
          }
         }
        },
        "title": {
         "text": "Trend of Malaria Incidences over the Years"
        },
        "xaxis": {
         "anchor": "y",
         "domain": [
          0,
          1
         ],
         "title": {
          "text": "Year"
         }
        },
        "yaxis": {
         "anchor": "x",
         "domain": [
          0,
          1
         ],
         "title": {
          "text": "Malaria Incidences"
         }
        }
       }
      }
     },
     "metadata": {},
     "output_type": "display_data"
    }
   ],
   "source": [
    "fig2 = px.line(df, x='Year', y='Incidences_per_1000_population_at_risk', \n",
    "               color='Country', title='Trend of Malaria Incidences over the Years',\n",
    "               labels={'Year': 'Year', 'Incidences_per_1000_population_at_risk': 'Malaria Incidences'})\n",
    "\n",
    "# Show the plot\n",
    "fig2.show()"
   ]
  },
  {
   "cell_type": "code",
   "execution_count": null,
   "metadata": {},
   "outputs": [
    {
     "data": {
      "text/plain": [
       "Index(['Country', 'Year', 'Country Code',\n",
       "       'Incidences_per_1000_population_at_risk', 'Reported_cases',\n",
       "       '%_using_IBNs', '%_of_children_under_age_5_with_fever',\n",
       "       '%_of_pregnant_women_using_IPT', '%_of_rural_population',\n",
       "       'annual_%_growth_of_rural_population', '%_of_urban_population',\n",
       "       'annual_%_growth_of_urban_population',\n",
       "       '%_using_atleast_basic_drinking_water_services',\n",
       "       '%_of_rural_using_atleast_basic_drinking_water_services',\n",
       "       '%_of_urban_using_atleast_basic_drinking_water_services',\n",
       "       '%_using_atleast_basic_sanity_services',\n",
       "       '%_of_rural_using_atleast_basic_sanity_services',\n",
       "       '%_of_urban_using_atleast_basic_sanity_services', 'latitude',\n",
       "       'longitude', 'geometry', '%_of_total_population'],\n",
       "      dtype='object')"
      ]
     },
     "execution_count": 207,
     "metadata": {},
     "output_type": "execute_result"
    }
   ],
   "source": [
    "df.columns"
   ]
  },
  {
   "cell_type": "code",
   "execution_count": null,
   "metadata": {},
   "outputs": [
    {
     "data": {
      "application/vnd.plotly.v1+json": {
       "config": {
        "plotlyServerURL": "https://plot.ly"
       },
       "data": [
        {
         "alignmentgroup": "True",
         "bingroup": "x",
         "hovertemplate": "Incidences_per_1000_population_at_risk=%{x}<br>count=%{y}<extra></extra>",
         "legendgroup": "",
         "marker": {
          "color": "#636efa",
          "pattern": {
           "shape": ""
          }
         },
         "name": "",
         "nbinsx": 20,
         "offsetgroup": "",
         "orientation": "v",
         "showlegend": false,
         "type": "histogram",
         "x": [
          0.01,
          286.72,
          480.24,
          1.03,
          503.8,
          222.92,
          0.15,
          386.68,
          471.11,
          210.71,
          60.65,
          481.93,
          281.83,
          509.98,
          3.84,
          0,
          398.15,
          12.54,
          0.29,
          121.69,
          110.66,
          316.01,
          322.33,
          343.69,
          72.81,
          78.02,
          0,
          383.18,
          0,
          22.78,
          370.08,
          388.81,
          70.77,
          0,
          0,
          399.45,
          12.97,
          386.68,
          421.33,
          90.64,
          14.56,
          101.91,
          0,
          379.94,
          100.56,
          1.29,
          276.75,
          41.08,
          184.53,
          434.49,
          0,
          377.94,
          195.74,
          175.12,
          0,
          241.19,
          453.17,
          1.93,
          533.39,
          222.77,
          0.28,
          358.72,
          461.79,
          59.21,
          215.1,
          471.43,
          249.16,
          510.08,
          3.74,
          0,
          378.24,
          6.78,
          0.2,
          90.66,
          118.87,
          306.84,
          333.72,
          370.17,
          89.02,
          67.68,
          0,
          383.33,
          0,
          23.47,
          392,
          379.06,
          61.14,
          0,
          0,
          399.79,
          7.46,
          409.1,
          424.66,
          72.03,
          36.57,
          86.42,
          0,
          413.85,
          63.1,
          1.57,
          267.14,
          35.05,
          171,
          379.9,
          0,
          410.46,
          176.72,
          74.73,
          0,
          204.35,
          417.96,
          2.1,
          552.03,
          220.65,
          0.51,
          322.98,
          448.45,
          222.91,
          57.81,
          452.18,
          226.32,
          494.48,
          4.33,
          0,
          351.29,
          8.86,
          0.36,
          123.35,
          145.95,
          297.98,
          351.39,
          398.14,
          113.8,
          67.94,
          0,
          368.81,
          0,
          42.92,
          394.29,
          374.56,
          31.64,
          0,
          0,
          402.3,
          3.36,
          419.1,
          416.59,
          158.16,
          35.15,
          57.12,
          0,
          442.15,
          38.44,
          1.2,
          255.07,
          32.29,
          157.11,
          326.88,
          0,
          433.79,
          172,
          90.5,
          0,
          185.52,
          387.76,
          1.69,
          551.24,
          210.2,
          0.37,
          295.53,
          434.51,
          225.94,
          52.98,
          428.31,
          220.92,
          469.27,
          1.6,
          0,
          339.99,
          26.33,
          0.9,
          128.4,
          177.82,
          289.27,
          364.15,
          414.66,
          134.37,
          67.71,
          0,
          345.77,
          0,
          42.24,
          386.02,
          383.6,
          38.83,
          0,
          0,
          398.41,
          1.54,
          425.64,
          398.9,
          126.31,
          15.19,
          59.28,
          0,
          458.74,
          29.59,
          1.57,
          243.97,
          30.66,
          145.46,
          308.88,
          0,
          417.35,
          177.02,
          109.43,
          0,
          175.99,
          370.11,
          0.51,
          539.56,
          184.15,
          0.05,
          265.1,
          419.33,
          210.48,
          35.18,
          399.59,
          224.38,
          442.11,
          3.42,
          0,
          342.4,
          23.86,
          1.83,
          116.13,
          212.72,
          257.26,
          379.52,
          426.9,
          140.55,
          67.86,
          0,
          330.41,
          0,
          36.55,
          362.78,
          404.73,
          47.58,
          0,
          0,
          389.92,
          2.13,
          427.88,
          372.56,
          39.29,
          45.75,
          49.91,
          0,
          453.65,
          24.35,
          1.9,
          235.87,
          29.97,
          132.48,
          313.4,
          0,
          385.7,
          186.7,
          70.68,
          0.03,
          174.43,
          378.03,
          0.22,
          527.54,
          153.93,
          0.01,
          245.13,
          413.09,
          195.34,
          68.85,
          363,
          224.63,
          396.28,
          3.31,
          0,
          357.75,
          16.15,
          1.86,
          116.19,
          245.53,
          274.82,
          374.29,
          427.8,
          128.75,
          73.36,
          0,
          307.9,
          0,
          71.36,
          314.02,
          435.65,
          28.42,
          0,
          0,
          381.78,
          3.36,
          430.51,
          347.74,
          71.46,
          56.8,
          56.92,
          0,
          447.47,
          24.45,
          1.25,
          232.68,
          30.16,
          116.25,
          349.7,
          0,
          331.77,
          203.08,
          57.22,
          0,
          180.9,
          395,
          0.53,
          487.52,
          140.59,
          0.17,
          243.04,
          406.82,
          179.35,
          71.69,
          327.62,
          231.03,
          338.87,
          2.54,
          0,
          365.75,
          15.03,
          3.16,
          111.6,
          272.83,
          236.99,
          349.28,
          408.08,
          113.39,
          82.48,
          0,
          317.28,
          0,
          65.21,
          267.86,
          452.82,
          33.22,
          0,
          0,
          376.98,
          4.55,
          420.49,
          328.65,
          121.45,
          48.12,
          67.9,
          0,
          432.7,
          28.05,
          1.61,
          234.38,
          31.45,
          111.78,
          385.39,
          0,
          254.24,
          225.77,
          81.95,
          0,
          187.94,
          399.24,
          1.5,
          436.06,
          141.51,
          0.19,
          244.08,
          393.04,
          170.27,
          2.9,
          308.39,
          231.85,
          315.07,
          14.01,
          0,
          360.95,
          33.12,
          2.32,
          57.1,
          285.74,
          142.02,
          315.76,
          381.09,
          93.9,
          83.87,
          0,
          337.57,
          0,
          45.78,
          237,
          441.01,
          49.2,
          0,
          0,
          364.83,
          14.49,
          400.25,
          314.4,
          219.81,
          8.96,
          39.51,
          0,
          409.31,
          32.1,
          2.15,
          236.14,
          33.38,
          118.94,
          384.68,
          0,
          220.62,
          222.98,
          101.89,
          0,
          199.99,
          411.82,
          0.37,
          400.09,
          165.5,
          0.05,
          254.5,
          379.91,
          167.28,
          1.67,
          308.83,
          226.71,
          320.04,
          13.82,
          0,
          339.48,
          19.2,
          0.51,
          52.77,
          284.44,
          195.04,
          277.19,
          356.64,
          79.77,
          72.17,
          0,
          346.97,
          0,
          97.32,
          217.04,
          391.83,
          61.61,
          0,
          0,
          355.88,
          10.88,
          369.83,
          296.08,
          341.96,
          10.32,
          69.8,
          0,
          403.72,
          37.27,
          0.21,
          240.36,
          35.88,
          121.74,
          364.31,
          0,
          236.11,
          202.55,
          97.65,
          0,
          219.99,
          421.58,
          0.81,
          401.73,
          225.74,
          0.35,
          264.31,
          362.02,
          169.93,
          1.44,
          322.77,
          233.38,
          354.66,
          19.81,
          0,
          306.97,
          25.64,
          1.12,
          41.41,
          270.67,
          116.53,
          236,
          331.47,
          71.35,
          70.38,
          0,
          386.3,
          0,
          56.58,
          210.66,
          384.22,
          71.5,
          0,
          0,
          344.82,
          22.12,
          358.74,
          281.38,
          585.54,
          11.01,
          45.66,
          0,
          391.33,
          37.26,
          0.77,
          244.55,
          41.73,
          123.57,
          324.86,
          0,
          304.41,
          181.39,
          65.78,
          0,
          228.91,
          399.56,
          2.05,
          399.94,
          250.27,
          3.03,
          262.23,
          347.33,
          172.3,
          3.97,
          329.13,
          240.64,
          362.36,
          20.72,
          0,
          285.72,
          33.97,
          2.3,
          36.74,
          254.24,
          53.02,
          212.56,
          311.53,
          78.33,
          70.1,
          0,
          401.11,
          0,
          75.67,
          216.26,
          386.78,
          55.49,
          0,
          0,
          326.4,
          46.75,
          356.57,
          283.06,
          538.34,
          10.81,
          52.35,
          0,
          364.13,
          37.13,
          3.95,
          245.8,
          46.75,
          123.96,
          278.2,
          0,
          336.76,
          160.05,
          108.55
         ],
         "xaxis": "x",
         "yaxis": "y"
        }
       ],
       "layout": {
        "barmode": "relative",
        "legend": {
         "tracegroupgap": 0
        },
        "template": {
         "data": {
          "bar": [
           {
            "error_x": {
             "color": "#2a3f5f"
            },
            "error_y": {
             "color": "#2a3f5f"
            },
            "marker": {
             "line": {
              "color": "#E5ECF6",
              "width": 0.5
             },
             "pattern": {
              "fillmode": "overlay",
              "size": 10,
              "solidity": 0.2
             }
            },
            "type": "bar"
           }
          ],
          "barpolar": [
           {
            "marker": {
             "line": {
              "color": "#E5ECF6",
              "width": 0.5
             },
             "pattern": {
              "fillmode": "overlay",
              "size": 10,
              "solidity": 0.2
             }
            },
            "type": "barpolar"
           }
          ],
          "carpet": [
           {
            "aaxis": {
             "endlinecolor": "#2a3f5f",
             "gridcolor": "white",
             "linecolor": "white",
             "minorgridcolor": "white",
             "startlinecolor": "#2a3f5f"
            },
            "baxis": {
             "endlinecolor": "#2a3f5f",
             "gridcolor": "white",
             "linecolor": "white",
             "minorgridcolor": "white",
             "startlinecolor": "#2a3f5f"
            },
            "type": "carpet"
           }
          ],
          "choropleth": [
           {
            "colorbar": {
             "outlinewidth": 0,
             "ticks": ""
            },
            "type": "choropleth"
           }
          ],
          "contour": [
           {
            "colorbar": {
             "outlinewidth": 0,
             "ticks": ""
            },
            "colorscale": [
             [
              0,
              "#0d0887"
             ],
             [
              0.1111111111111111,
              "#46039f"
             ],
             [
              0.2222222222222222,
              "#7201a8"
             ],
             [
              0.3333333333333333,
              "#9c179e"
             ],
             [
              0.4444444444444444,
              "#bd3786"
             ],
             [
              0.5555555555555556,
              "#d8576b"
             ],
             [
              0.6666666666666666,
              "#ed7953"
             ],
             [
              0.7777777777777778,
              "#fb9f3a"
             ],
             [
              0.8888888888888888,
              "#fdca26"
             ],
             [
              1,
              "#f0f921"
             ]
            ],
            "type": "contour"
           }
          ],
          "contourcarpet": [
           {
            "colorbar": {
             "outlinewidth": 0,
             "ticks": ""
            },
            "type": "contourcarpet"
           }
          ],
          "heatmap": [
           {
            "colorbar": {
             "outlinewidth": 0,
             "ticks": ""
            },
            "colorscale": [
             [
              0,
              "#0d0887"
             ],
             [
              0.1111111111111111,
              "#46039f"
             ],
             [
              0.2222222222222222,
              "#7201a8"
             ],
             [
              0.3333333333333333,
              "#9c179e"
             ],
             [
              0.4444444444444444,
              "#bd3786"
             ],
             [
              0.5555555555555556,
              "#d8576b"
             ],
             [
              0.6666666666666666,
              "#ed7953"
             ],
             [
              0.7777777777777778,
              "#fb9f3a"
             ],
             [
              0.8888888888888888,
              "#fdca26"
             ],
             [
              1,
              "#f0f921"
             ]
            ],
            "type": "heatmap"
           }
          ],
          "heatmapgl": [
           {
            "colorbar": {
             "outlinewidth": 0,
             "ticks": ""
            },
            "colorscale": [
             [
              0,
              "#0d0887"
             ],
             [
              0.1111111111111111,
              "#46039f"
             ],
             [
              0.2222222222222222,
              "#7201a8"
             ],
             [
              0.3333333333333333,
              "#9c179e"
             ],
             [
              0.4444444444444444,
              "#bd3786"
             ],
             [
              0.5555555555555556,
              "#d8576b"
             ],
             [
              0.6666666666666666,
              "#ed7953"
             ],
             [
              0.7777777777777778,
              "#fb9f3a"
             ],
             [
              0.8888888888888888,
              "#fdca26"
             ],
             [
              1,
              "#f0f921"
             ]
            ],
            "type": "heatmapgl"
           }
          ],
          "histogram": [
           {
            "marker": {
             "pattern": {
              "fillmode": "overlay",
              "size": 10,
              "solidity": 0.2
             }
            },
            "type": "histogram"
           }
          ],
          "histogram2d": [
           {
            "colorbar": {
             "outlinewidth": 0,
             "ticks": ""
            },
            "colorscale": [
             [
              0,
              "#0d0887"
             ],
             [
              0.1111111111111111,
              "#46039f"
             ],
             [
              0.2222222222222222,
              "#7201a8"
             ],
             [
              0.3333333333333333,
              "#9c179e"
             ],
             [
              0.4444444444444444,
              "#bd3786"
             ],
             [
              0.5555555555555556,
              "#d8576b"
             ],
             [
              0.6666666666666666,
              "#ed7953"
             ],
             [
              0.7777777777777778,
              "#fb9f3a"
             ],
             [
              0.8888888888888888,
              "#fdca26"
             ],
             [
              1,
              "#f0f921"
             ]
            ],
            "type": "histogram2d"
           }
          ],
          "histogram2dcontour": [
           {
            "colorbar": {
             "outlinewidth": 0,
             "ticks": ""
            },
            "colorscale": [
             [
              0,
              "#0d0887"
             ],
             [
              0.1111111111111111,
              "#46039f"
             ],
             [
              0.2222222222222222,
              "#7201a8"
             ],
             [
              0.3333333333333333,
              "#9c179e"
             ],
             [
              0.4444444444444444,
              "#bd3786"
             ],
             [
              0.5555555555555556,
              "#d8576b"
             ],
             [
              0.6666666666666666,
              "#ed7953"
             ],
             [
              0.7777777777777778,
              "#fb9f3a"
             ],
             [
              0.8888888888888888,
              "#fdca26"
             ],
             [
              1,
              "#f0f921"
             ]
            ],
            "type": "histogram2dcontour"
           }
          ],
          "mesh3d": [
           {
            "colorbar": {
             "outlinewidth": 0,
             "ticks": ""
            },
            "type": "mesh3d"
           }
          ],
          "parcoords": [
           {
            "line": {
             "colorbar": {
              "outlinewidth": 0,
              "ticks": ""
             }
            },
            "type": "parcoords"
           }
          ],
          "pie": [
           {
            "automargin": true,
            "type": "pie"
           }
          ],
          "scatter": [
           {
            "fillpattern": {
             "fillmode": "overlay",
             "size": 10,
             "solidity": 0.2
            },
            "type": "scatter"
           }
          ],
          "scatter3d": [
           {
            "line": {
             "colorbar": {
              "outlinewidth": 0,
              "ticks": ""
             }
            },
            "marker": {
             "colorbar": {
              "outlinewidth": 0,
              "ticks": ""
             }
            },
            "type": "scatter3d"
           }
          ],
          "scattercarpet": [
           {
            "marker": {
             "colorbar": {
              "outlinewidth": 0,
              "ticks": ""
             }
            },
            "type": "scattercarpet"
           }
          ],
          "scattergeo": [
           {
            "marker": {
             "colorbar": {
              "outlinewidth": 0,
              "ticks": ""
             }
            },
            "type": "scattergeo"
           }
          ],
          "scattergl": [
           {
            "marker": {
             "colorbar": {
              "outlinewidth": 0,
              "ticks": ""
             }
            },
            "type": "scattergl"
           }
          ],
          "scattermapbox": [
           {
            "marker": {
             "colorbar": {
              "outlinewidth": 0,
              "ticks": ""
             }
            },
            "type": "scattermapbox"
           }
          ],
          "scatterpolar": [
           {
            "marker": {
             "colorbar": {
              "outlinewidth": 0,
              "ticks": ""
             }
            },
            "type": "scatterpolar"
           }
          ],
          "scatterpolargl": [
           {
            "marker": {
             "colorbar": {
              "outlinewidth": 0,
              "ticks": ""
             }
            },
            "type": "scatterpolargl"
           }
          ],
          "scatterternary": [
           {
            "marker": {
             "colorbar": {
              "outlinewidth": 0,
              "ticks": ""
             }
            },
            "type": "scatterternary"
           }
          ],
          "surface": [
           {
            "colorbar": {
             "outlinewidth": 0,
             "ticks": ""
            },
            "colorscale": [
             [
              0,
              "#0d0887"
             ],
             [
              0.1111111111111111,
              "#46039f"
             ],
             [
              0.2222222222222222,
              "#7201a8"
             ],
             [
              0.3333333333333333,
              "#9c179e"
             ],
             [
              0.4444444444444444,
              "#bd3786"
             ],
             [
              0.5555555555555556,
              "#d8576b"
             ],
             [
              0.6666666666666666,
              "#ed7953"
             ],
             [
              0.7777777777777778,
              "#fb9f3a"
             ],
             [
              0.8888888888888888,
              "#fdca26"
             ],
             [
              1,
              "#f0f921"
             ]
            ],
            "type": "surface"
           }
          ],
          "table": [
           {
            "cells": {
             "fill": {
              "color": "#EBF0F8"
             },
             "line": {
              "color": "white"
             }
            },
            "header": {
             "fill": {
              "color": "#C8D4E3"
             },
             "line": {
              "color": "white"
             }
            },
            "type": "table"
           }
          ]
         },
         "layout": {
          "annotationdefaults": {
           "arrowcolor": "#2a3f5f",
           "arrowhead": 0,
           "arrowwidth": 1
          },
          "autotypenumbers": "strict",
          "coloraxis": {
           "colorbar": {
            "outlinewidth": 0,
            "ticks": ""
           }
          },
          "colorscale": {
           "diverging": [
            [
             0,
             "#8e0152"
            ],
            [
             0.1,
             "#c51b7d"
            ],
            [
             0.2,
             "#de77ae"
            ],
            [
             0.3,
             "#f1b6da"
            ],
            [
             0.4,
             "#fde0ef"
            ],
            [
             0.5,
             "#f7f7f7"
            ],
            [
             0.6,
             "#e6f5d0"
            ],
            [
             0.7,
             "#b8e186"
            ],
            [
             0.8,
             "#7fbc41"
            ],
            [
             0.9,
             "#4d9221"
            ],
            [
             1,
             "#276419"
            ]
           ],
           "sequential": [
            [
             0,
             "#0d0887"
            ],
            [
             0.1111111111111111,
             "#46039f"
            ],
            [
             0.2222222222222222,
             "#7201a8"
            ],
            [
             0.3333333333333333,
             "#9c179e"
            ],
            [
             0.4444444444444444,
             "#bd3786"
            ],
            [
             0.5555555555555556,
             "#d8576b"
            ],
            [
             0.6666666666666666,
             "#ed7953"
            ],
            [
             0.7777777777777778,
             "#fb9f3a"
            ],
            [
             0.8888888888888888,
             "#fdca26"
            ],
            [
             1,
             "#f0f921"
            ]
           ],
           "sequentialminus": [
            [
             0,
             "#0d0887"
            ],
            [
             0.1111111111111111,
             "#46039f"
            ],
            [
             0.2222222222222222,
             "#7201a8"
            ],
            [
             0.3333333333333333,
             "#9c179e"
            ],
            [
             0.4444444444444444,
             "#bd3786"
            ],
            [
             0.5555555555555556,
             "#d8576b"
            ],
            [
             0.6666666666666666,
             "#ed7953"
            ],
            [
             0.7777777777777778,
             "#fb9f3a"
            ],
            [
             0.8888888888888888,
             "#fdca26"
            ],
            [
             1,
             "#f0f921"
            ]
           ]
          },
          "colorway": [
           "#636efa",
           "#EF553B",
           "#00cc96",
           "#ab63fa",
           "#FFA15A",
           "#19d3f3",
           "#FF6692",
           "#B6E880",
           "#FF97FF",
           "#FECB52"
          ],
          "font": {
           "color": "#2a3f5f"
          },
          "geo": {
           "bgcolor": "white",
           "lakecolor": "white",
           "landcolor": "#E5ECF6",
           "showlakes": true,
           "showland": true,
           "subunitcolor": "white"
          },
          "hoverlabel": {
           "align": "left"
          },
          "hovermode": "closest",
          "mapbox": {
           "style": "light"
          },
          "paper_bgcolor": "white",
          "plot_bgcolor": "#E5ECF6",
          "polar": {
           "angularaxis": {
            "gridcolor": "white",
            "linecolor": "white",
            "ticks": ""
           },
           "bgcolor": "#E5ECF6",
           "radialaxis": {
            "gridcolor": "white",
            "linecolor": "white",
            "ticks": ""
           }
          },
          "scene": {
           "xaxis": {
            "backgroundcolor": "#E5ECF6",
            "gridcolor": "white",
            "gridwidth": 2,
            "linecolor": "white",
            "showbackground": true,
            "ticks": "",
            "zerolinecolor": "white"
           },
           "yaxis": {
            "backgroundcolor": "#E5ECF6",
            "gridcolor": "white",
            "gridwidth": 2,
            "linecolor": "white",
            "showbackground": true,
            "ticks": "",
            "zerolinecolor": "white"
           },
           "zaxis": {
            "backgroundcolor": "#E5ECF6",
            "gridcolor": "white",
            "gridwidth": 2,
            "linecolor": "white",
            "showbackground": true,
            "ticks": "",
            "zerolinecolor": "white"
           }
          },
          "shapedefaults": {
           "line": {
            "color": "#2a3f5f"
           }
          },
          "ternary": {
           "aaxis": {
            "gridcolor": "white",
            "linecolor": "white",
            "ticks": ""
           },
           "baxis": {
            "gridcolor": "white",
            "linecolor": "white",
            "ticks": ""
           },
           "bgcolor": "#E5ECF6",
           "caxis": {
            "gridcolor": "white",
            "linecolor": "white",
            "ticks": ""
           }
          },
          "title": {
           "x": 0.05
          },
          "xaxis": {
           "automargin": true,
           "gridcolor": "white",
           "linecolor": "white",
           "ticks": "",
           "title": {
            "standoff": 15
           },
           "zerolinecolor": "white",
           "zerolinewidth": 2
          },
          "yaxis": {
           "automargin": true,
           "gridcolor": "white",
           "linecolor": "white",
           "ticks": "",
           "title": {
            "standoff": 15
           },
           "zerolinecolor": "white",
           "zerolinewidth": 2
          }
         }
        },
        "title": {
         "text": "Distribution of Malaria Incidences per 1000 Population at Risk"
        },
        "xaxis": {
         "anchor": "y",
         "domain": [
          0,
          1
         ],
         "title": {
          "text": "Incidences_per_1000_population_at_risk"
         }
        },
        "yaxis": {
         "anchor": "x",
         "domain": [
          0,
          1
         ],
         "title": {
          "text": "count"
         }
        }
       }
      }
     },
     "metadata": {},
     "output_type": "display_data"
    },
    {
     "data": {
      "application/vnd.plotly.v1+json": {
       "config": {
        "plotlyServerURL": "https://plot.ly"
       },
       "data": [
        {
         "alignmentgroup": "True",
         "bingroup": "x",
         "hovertemplate": "%_using_IBNs=%{x}<br>count=%{y}<extra></extra>",
         "legendgroup": "",
         "marker": {
          "color": "#636efa",
          "pattern": {
           "shape": ""
          }
         },
         "name": "",
         "nbinsx": 20,
         "offsetgroup": "",
         "orientation": "v",
         "showlegend": false,
         "type": "histogram",
         "x": [
          0,
          18,
          71.2,
          30.9,
          61.35,
          46.33,
          0,
          37.9,
          36.4,
          23.1,
          41.1,
          6,
          43.4,
          48.45,
          19.9,
          0,
          23,
          34.65,
          1,
          33,
          46.95,
          47.63,
          41.45,
          5,
          58.05,
          49.78,
          0,
          36.22,
          0,
          64.35,
          54.22,
          64.63,
          25.4,
          0,
          0,
          7,
          11,
          55.58,
          26.64,
          67.5,
          58.55,
          47.89,
          0,
          41.78,
          0,
          0,
          35.55,
          25.3,
          54.12,
          56.53,
          0,
          52.97,
          29,
          15.7,
          0,
          21.87,
          71.2,
          30.9,
          61.35,
          46.33,
          0,
          37.9,
          36.4,
          41.1,
          23.1,
          33.3,
          43.4,
          48.45,
          19.9,
          0,
          23,
          48.9,
          1.25,
          36.13,
          55.1,
          47.63,
          28,
          4.5,
          58.05,
          49.78,
          0,
          36.22,
          0,
          64.35,
          54.22,
          64.63,
          25.4,
          0,
          0,
          22.8,
          16.87,
          55.58,
          6,
          56,
          58.55,
          47.89,
          0,
          26,
          0,
          0,
          35.55,
          25.3,
          26,
          56.53,
          0,
          52.97,
          41,
          15.7,
          0,
          21.87,
          71.2,
          30.9,
          61.35,
          46.33,
          0,
          37.9,
          36.4,
          23.1,
          41.1,
          33.3,
          43.4,
          48.45,
          19.9,
          0,
          23,
          34.65,
          1.25,
          36.13,
          46.95,
          47.63,
          41.45,
          25.85,
          58.05,
          46.7,
          0,
          26,
          0,
          46,
          54.22,
          64.63,
          25.4,
          0,
          0,
          28.35,
          34,
          43,
          26.64,
          67.5,
          56,
          29,
          0,
          41.78,
          0,
          0,
          25.3,
          25.3,
          54.12,
          56.53,
          0,
          32.8,
          43.52,
          17.3,
          0,
          21.87,
          71.2,
          30.9,
          47.4,
          45.3,
          0,
          37.9,
          36.4,
          9.8,
          41.1,
          38.1,
          43.4,
          48.45,
          19.9,
          0,
          23,
          20.4,
          1.5,
          36.13,
          46.95,
          33.3,
          41.45,
          25.85,
          35.5,
          42.2,
          0,
          36.22,
          0,
          64.35,
          39.4,
          45.6,
          25.4,
          0,
          0,
          28.35,
          16.87,
          63.7,
          29.4,
          69.6,
          58.55,
          47.89,
          0,
          30.3,
          0,
          0,
          35.55,
          25.3,
          63.6,
          57.1,
          0,
          52.97,
          50,
          15.7,
          0,
          25.9,
          71.2,
          30.9,
          61.35,
          46.33,
          0,
          21,
          36.4,
          23.1,
          41.1,
          33.3,
          43.4,
          48.45,
          19.9,
          0,
          23,
          34.65,
          1.25,
          30.1,
          46.95,
          47.63,
          39,
          25.85,
          58.05,
          49.78,
          0,
          37.1,
          0,
          76.5,
          54.22,
          64.63,
          18.7,
          0,
          0,
          35.7,
          16.87,
          55.58,
          16.4,
          69.6,
          58.55,
          34.5,
          0,
          41.78,
          0,
          0,
          35.55,
          25.3,
          54.12,
          56.53,
          0,
          42.8,
          43.52,
          9.7,
          0,
          21.87,
          69.7,
          30.9,
          61.35,
          53.8,
          0,
          37.9,
          36.4,
          23.1,
          41.1,
          33.3,
          26.3,
          37.2,
          19.9,
          0,
          23,
          34.65,
          1.25,
          36.13,
          38.8,
          47.63,
          41.45,
          26,
          58.05,
          49.78,
          0,
          36.22,
          0,
          64.35,
          56,
          64.63,
          25.4,
          0,
          0,
          28.35,
          16.87,
          20.1,
          26.64,
          67.5,
          58.55,
          47.89,
          0,
          41.78,
          0,
          0,
          35.55,
          25.3,
          72,
          56.53,
          0,
          52.97,
          57,
          15.7,
          0,
          21.87,
          71.2,
          30.9,
          61.35,
          46.33,
          0,
          37.9,
          36.4,
          23.1,
          41.1,
          33.3,
          43.4,
          48.45,
          19.9,
          0,
          23,
          34.65,
          1.25,
          36.13,
          46.95,
          47.2,
          41.45,
          25.85,
          58.05,
          49.78,
          0,
          38.1,
          0,
          61.5,
          54.22,
          69,
          25.4,
          0,
          0,
          28.35,
          5.6,
          55.58,
          16.6,
          74.1,
          58.55,
          45.8,
          0,
          49,
          0,
          0,
          45.8,
          25.3,
          54.12,
          56.53,
          0,
          52.97,
          43.52,
          15.7,
          0,
          21.87,
          72.7,
          30.9,
          75.3,
          46.33,
          0,
          54.8,
          36.4,
          23.1,
          41.1,
          55.8,
          43.4,
          48.45,
          19.9,
          0,
          23,
          34.65,
          1.25,
          36.13,
          46.95,
          47.63,
          46.6,
          25.85,
          80.6,
          54.1,
          0,
          36.22,
          0,
          64.35,
          65.5,
          64.63,
          25.4,
          0,
          0,
          28.35,
          16.87,
          55.58,
          25.4,
          67.5,
          61.1,
          43.2,
          0,
          41.78,
          0,
          0,
          35.55,
          25.3,
          54.12,
          42.8,
          0,
          52.97,
          40.6,
          26.8,
          0,
          21.87,
          71.2,
          30.9,
          61.35,
          46.33,
          0,
          37.9,
          36.4,
          36.4,
          41.1,
          33.3,
          60.5,
          48.45,
          19.9,
          0,
          23,
          34.65,
          1.25,
          45.3,
          46.95,
          47.63,
          41.45,
          25.85,
          58.05,
          56.1,
          0,
          36.22,
          0,
          64.35,
          54.22,
          79.3,
          32.1,
          0,
          0,
          47.9,
          16.87,
          95.5,
          43.6,
          67.7,
          58.55,
          55.4,
          0,
          41.78,
          0,
          0,
          35.55,
          25.3,
          54.12,
          56.53,
          0,
          74.3,
          43.52,
          9,
          0,
          21.7,
          71.2,
          30.9,
          61.35,
          46.33,
          0,
          37.9,
          36.4,
          23.1,
          41.1,
          33.3,
          43.4,
          59.7,
          19.9,
          0,
          23,
          34.65,
          1.25,
          36.13,
          46.95,
          47.63,
          52.2,
          67.9,
          58.05,
          49.78,
          0,
          43.7,
          0,
          73.4,
          42.7,
          64.63,
          25.4,
          0,
          0,
          28.35,
          16.87,
          55.58,
          26.64,
          67.5,
          58.55,
          66.6,
          0,
          44.1,
          0,
          0,
          35.55,
          25.3,
          54.4,
          56.53,
          0,
          62,
          43.52,
          15.7,
          0,
          21.87,
          71.2,
          30.9,
          61.35,
          39.9,
          0,
          37.9,
          36.4,
          23.1,
          41.1,
          33.3,
          43.4,
          48.45,
          19.9,
          0,
          23,
          34.65,
          1.25,
          36.13,
          46.95,
          62.4,
          41.45,
          25.85,
          58.05,
          49.78,
          0,
          36.22,
          0,
          64.35,
          67.5,
          64.63,
          25.4,
          0,
          0,
          28.35,
          16.87,
          55.58,
          49.1,
          68,
          58.55,
          60.7,
          0,
          59.5,
          0,
          0,
          35.55,
          25.3,
          54.6,
          69.7,
          0,
          52.97,
          43.52,
          15.7
         ],
         "xaxis": "x",
         "yaxis": "y"
        }
       ],
       "layout": {
        "barmode": "relative",
        "legend": {
         "tracegroupgap": 0
        },
        "template": {
         "data": {
          "bar": [
           {
            "error_x": {
             "color": "#2a3f5f"
            },
            "error_y": {
             "color": "#2a3f5f"
            },
            "marker": {
             "line": {
              "color": "#E5ECF6",
              "width": 0.5
             },
             "pattern": {
              "fillmode": "overlay",
              "size": 10,
              "solidity": 0.2
             }
            },
            "type": "bar"
           }
          ],
          "barpolar": [
           {
            "marker": {
             "line": {
              "color": "#E5ECF6",
              "width": 0.5
             },
             "pattern": {
              "fillmode": "overlay",
              "size": 10,
              "solidity": 0.2
             }
            },
            "type": "barpolar"
           }
          ],
          "carpet": [
           {
            "aaxis": {
             "endlinecolor": "#2a3f5f",
             "gridcolor": "white",
             "linecolor": "white",
             "minorgridcolor": "white",
             "startlinecolor": "#2a3f5f"
            },
            "baxis": {
             "endlinecolor": "#2a3f5f",
             "gridcolor": "white",
             "linecolor": "white",
             "minorgridcolor": "white",
             "startlinecolor": "#2a3f5f"
            },
            "type": "carpet"
           }
          ],
          "choropleth": [
           {
            "colorbar": {
             "outlinewidth": 0,
             "ticks": ""
            },
            "type": "choropleth"
           }
          ],
          "contour": [
           {
            "colorbar": {
             "outlinewidth": 0,
             "ticks": ""
            },
            "colorscale": [
             [
              0,
              "#0d0887"
             ],
             [
              0.1111111111111111,
              "#46039f"
             ],
             [
              0.2222222222222222,
              "#7201a8"
             ],
             [
              0.3333333333333333,
              "#9c179e"
             ],
             [
              0.4444444444444444,
              "#bd3786"
             ],
             [
              0.5555555555555556,
              "#d8576b"
             ],
             [
              0.6666666666666666,
              "#ed7953"
             ],
             [
              0.7777777777777778,
              "#fb9f3a"
             ],
             [
              0.8888888888888888,
              "#fdca26"
             ],
             [
              1,
              "#f0f921"
             ]
            ],
            "type": "contour"
           }
          ],
          "contourcarpet": [
           {
            "colorbar": {
             "outlinewidth": 0,
             "ticks": ""
            },
            "type": "contourcarpet"
           }
          ],
          "heatmap": [
           {
            "colorbar": {
             "outlinewidth": 0,
             "ticks": ""
            },
            "colorscale": [
             [
              0,
              "#0d0887"
             ],
             [
              0.1111111111111111,
              "#46039f"
             ],
             [
              0.2222222222222222,
              "#7201a8"
             ],
             [
              0.3333333333333333,
              "#9c179e"
             ],
             [
              0.4444444444444444,
              "#bd3786"
             ],
             [
              0.5555555555555556,
              "#d8576b"
             ],
             [
              0.6666666666666666,
              "#ed7953"
             ],
             [
              0.7777777777777778,
              "#fb9f3a"
             ],
             [
              0.8888888888888888,
              "#fdca26"
             ],
             [
              1,
              "#f0f921"
             ]
            ],
            "type": "heatmap"
           }
          ],
          "heatmapgl": [
           {
            "colorbar": {
             "outlinewidth": 0,
             "ticks": ""
            },
            "colorscale": [
             [
              0,
              "#0d0887"
             ],
             [
              0.1111111111111111,
              "#46039f"
             ],
             [
              0.2222222222222222,
              "#7201a8"
             ],
             [
              0.3333333333333333,
              "#9c179e"
             ],
             [
              0.4444444444444444,
              "#bd3786"
             ],
             [
              0.5555555555555556,
              "#d8576b"
             ],
             [
              0.6666666666666666,
              "#ed7953"
             ],
             [
              0.7777777777777778,
              "#fb9f3a"
             ],
             [
              0.8888888888888888,
              "#fdca26"
             ],
             [
              1,
              "#f0f921"
             ]
            ],
            "type": "heatmapgl"
           }
          ],
          "histogram": [
           {
            "marker": {
             "pattern": {
              "fillmode": "overlay",
              "size": 10,
              "solidity": 0.2
             }
            },
            "type": "histogram"
           }
          ],
          "histogram2d": [
           {
            "colorbar": {
             "outlinewidth": 0,
             "ticks": ""
            },
            "colorscale": [
             [
              0,
              "#0d0887"
             ],
             [
              0.1111111111111111,
              "#46039f"
             ],
             [
              0.2222222222222222,
              "#7201a8"
             ],
             [
              0.3333333333333333,
              "#9c179e"
             ],
             [
              0.4444444444444444,
              "#bd3786"
             ],
             [
              0.5555555555555556,
              "#d8576b"
             ],
             [
              0.6666666666666666,
              "#ed7953"
             ],
             [
              0.7777777777777778,
              "#fb9f3a"
             ],
             [
              0.8888888888888888,
              "#fdca26"
             ],
             [
              1,
              "#f0f921"
             ]
            ],
            "type": "histogram2d"
           }
          ],
          "histogram2dcontour": [
           {
            "colorbar": {
             "outlinewidth": 0,
             "ticks": ""
            },
            "colorscale": [
             [
              0,
              "#0d0887"
             ],
             [
              0.1111111111111111,
              "#46039f"
             ],
             [
              0.2222222222222222,
              "#7201a8"
             ],
             [
              0.3333333333333333,
              "#9c179e"
             ],
             [
              0.4444444444444444,
              "#bd3786"
             ],
             [
              0.5555555555555556,
              "#d8576b"
             ],
             [
              0.6666666666666666,
              "#ed7953"
             ],
             [
              0.7777777777777778,
              "#fb9f3a"
             ],
             [
              0.8888888888888888,
              "#fdca26"
             ],
             [
              1,
              "#f0f921"
             ]
            ],
            "type": "histogram2dcontour"
           }
          ],
          "mesh3d": [
           {
            "colorbar": {
             "outlinewidth": 0,
             "ticks": ""
            },
            "type": "mesh3d"
           }
          ],
          "parcoords": [
           {
            "line": {
             "colorbar": {
              "outlinewidth": 0,
              "ticks": ""
             }
            },
            "type": "parcoords"
           }
          ],
          "pie": [
           {
            "automargin": true,
            "type": "pie"
           }
          ],
          "scatter": [
           {
            "fillpattern": {
             "fillmode": "overlay",
             "size": 10,
             "solidity": 0.2
            },
            "type": "scatter"
           }
          ],
          "scatter3d": [
           {
            "line": {
             "colorbar": {
              "outlinewidth": 0,
              "ticks": ""
             }
            },
            "marker": {
             "colorbar": {
              "outlinewidth": 0,
              "ticks": ""
             }
            },
            "type": "scatter3d"
           }
          ],
          "scattercarpet": [
           {
            "marker": {
             "colorbar": {
              "outlinewidth": 0,
              "ticks": ""
             }
            },
            "type": "scattercarpet"
           }
          ],
          "scattergeo": [
           {
            "marker": {
             "colorbar": {
              "outlinewidth": 0,
              "ticks": ""
             }
            },
            "type": "scattergeo"
           }
          ],
          "scattergl": [
           {
            "marker": {
             "colorbar": {
              "outlinewidth": 0,
              "ticks": ""
             }
            },
            "type": "scattergl"
           }
          ],
          "scattermapbox": [
           {
            "marker": {
             "colorbar": {
              "outlinewidth": 0,
              "ticks": ""
             }
            },
            "type": "scattermapbox"
           }
          ],
          "scatterpolar": [
           {
            "marker": {
             "colorbar": {
              "outlinewidth": 0,
              "ticks": ""
             }
            },
            "type": "scatterpolar"
           }
          ],
          "scatterpolargl": [
           {
            "marker": {
             "colorbar": {
              "outlinewidth": 0,
              "ticks": ""
             }
            },
            "type": "scatterpolargl"
           }
          ],
          "scatterternary": [
           {
            "marker": {
             "colorbar": {
              "outlinewidth": 0,
              "ticks": ""
             }
            },
            "type": "scatterternary"
           }
          ],
          "surface": [
           {
            "colorbar": {
             "outlinewidth": 0,
             "ticks": ""
            },
            "colorscale": [
             [
              0,
              "#0d0887"
             ],
             [
              0.1111111111111111,
              "#46039f"
             ],
             [
              0.2222222222222222,
              "#7201a8"
             ],
             [
              0.3333333333333333,
              "#9c179e"
             ],
             [
              0.4444444444444444,
              "#bd3786"
             ],
             [
              0.5555555555555556,
              "#d8576b"
             ],
             [
              0.6666666666666666,
              "#ed7953"
             ],
             [
              0.7777777777777778,
              "#fb9f3a"
             ],
             [
              0.8888888888888888,
              "#fdca26"
             ],
             [
              1,
              "#f0f921"
             ]
            ],
            "type": "surface"
           }
          ],
          "table": [
           {
            "cells": {
             "fill": {
              "color": "#EBF0F8"
             },
             "line": {
              "color": "white"
             }
            },
            "header": {
             "fill": {
              "color": "#C8D4E3"
             },
             "line": {
              "color": "white"
             }
            },
            "type": "table"
           }
          ]
         },
         "layout": {
          "annotationdefaults": {
           "arrowcolor": "#2a3f5f",
           "arrowhead": 0,
           "arrowwidth": 1
          },
          "autotypenumbers": "strict",
          "coloraxis": {
           "colorbar": {
            "outlinewidth": 0,
            "ticks": ""
           }
          },
          "colorscale": {
           "diverging": [
            [
             0,
             "#8e0152"
            ],
            [
             0.1,
             "#c51b7d"
            ],
            [
             0.2,
             "#de77ae"
            ],
            [
             0.3,
             "#f1b6da"
            ],
            [
             0.4,
             "#fde0ef"
            ],
            [
             0.5,
             "#f7f7f7"
            ],
            [
             0.6,
             "#e6f5d0"
            ],
            [
             0.7,
             "#b8e186"
            ],
            [
             0.8,
             "#7fbc41"
            ],
            [
             0.9,
             "#4d9221"
            ],
            [
             1,
             "#276419"
            ]
           ],
           "sequential": [
            [
             0,
             "#0d0887"
            ],
            [
             0.1111111111111111,
             "#46039f"
            ],
            [
             0.2222222222222222,
             "#7201a8"
            ],
            [
             0.3333333333333333,
             "#9c179e"
            ],
            [
             0.4444444444444444,
             "#bd3786"
            ],
            [
             0.5555555555555556,
             "#d8576b"
            ],
            [
             0.6666666666666666,
             "#ed7953"
            ],
            [
             0.7777777777777778,
             "#fb9f3a"
            ],
            [
             0.8888888888888888,
             "#fdca26"
            ],
            [
             1,
             "#f0f921"
            ]
           ],
           "sequentialminus": [
            [
             0,
             "#0d0887"
            ],
            [
             0.1111111111111111,
             "#46039f"
            ],
            [
             0.2222222222222222,
             "#7201a8"
            ],
            [
             0.3333333333333333,
             "#9c179e"
            ],
            [
             0.4444444444444444,
             "#bd3786"
            ],
            [
             0.5555555555555556,
             "#d8576b"
            ],
            [
             0.6666666666666666,
             "#ed7953"
            ],
            [
             0.7777777777777778,
             "#fb9f3a"
            ],
            [
             0.8888888888888888,
             "#fdca26"
            ],
            [
             1,
             "#f0f921"
            ]
           ]
          },
          "colorway": [
           "#636efa",
           "#EF553B",
           "#00cc96",
           "#ab63fa",
           "#FFA15A",
           "#19d3f3",
           "#FF6692",
           "#B6E880",
           "#FF97FF",
           "#FECB52"
          ],
          "font": {
           "color": "#2a3f5f"
          },
          "geo": {
           "bgcolor": "white",
           "lakecolor": "white",
           "landcolor": "#E5ECF6",
           "showlakes": true,
           "showland": true,
           "subunitcolor": "white"
          },
          "hoverlabel": {
           "align": "left"
          },
          "hovermode": "closest",
          "mapbox": {
           "style": "light"
          },
          "paper_bgcolor": "white",
          "plot_bgcolor": "#E5ECF6",
          "polar": {
           "angularaxis": {
            "gridcolor": "white",
            "linecolor": "white",
            "ticks": ""
           },
           "bgcolor": "#E5ECF6",
           "radialaxis": {
            "gridcolor": "white",
            "linecolor": "white",
            "ticks": ""
           }
          },
          "scene": {
           "xaxis": {
            "backgroundcolor": "#E5ECF6",
            "gridcolor": "white",
            "gridwidth": 2,
            "linecolor": "white",
            "showbackground": true,
            "ticks": "",
            "zerolinecolor": "white"
           },
           "yaxis": {
            "backgroundcolor": "#E5ECF6",
            "gridcolor": "white",
            "gridwidth": 2,
            "linecolor": "white",
            "showbackground": true,
            "ticks": "",
            "zerolinecolor": "white"
           },
           "zaxis": {
            "backgroundcolor": "#E5ECF6",
            "gridcolor": "white",
            "gridwidth": 2,
            "linecolor": "white",
            "showbackground": true,
            "ticks": "",
            "zerolinecolor": "white"
           }
          },
          "shapedefaults": {
           "line": {
            "color": "#2a3f5f"
           }
          },
          "ternary": {
           "aaxis": {
            "gridcolor": "white",
            "linecolor": "white",
            "ticks": ""
           },
           "baxis": {
            "gridcolor": "white",
            "linecolor": "white",
            "ticks": ""
           },
           "bgcolor": "#E5ECF6",
           "caxis": {
            "gridcolor": "white",
            "linecolor": "white",
            "ticks": ""
           }
          },
          "title": {
           "x": 0.05
          },
          "xaxis": {
           "automargin": true,
           "gridcolor": "white",
           "linecolor": "white",
           "ticks": "",
           "title": {
            "standoff": 15
           },
           "zerolinecolor": "white",
           "zerolinewidth": 2
          },
          "yaxis": {
           "automargin": true,
           "gridcolor": "white",
           "linecolor": "white",
           "ticks": "",
           "title": {
            "standoff": 15
           },
           "zerolinecolor": "white",
           "zerolinewidth": 2
          }
         }
        },
        "title": {
         "text": "Distribution of Percentage of People Using Insecticide-Treated Bed Nets"
        },
        "xaxis": {
         "anchor": "y",
         "domain": [
          0,
          1
         ],
         "title": {
          "text": "%_using_IBNs"
         }
        },
        "yaxis": {
         "anchor": "x",
         "domain": [
          0,
          1
         ],
         "title": {
          "text": "count"
         }
        }
       }
      }
     },
     "metadata": {},
     "output_type": "display_data"
    },
    {
     "data": {
      "application/vnd.plotly.v1+json": {
       "config": {
        "plotlyServerURL": "https://plot.ly"
       },
       "data": [
        {
         "alignmentgroup": "True",
         "bingroup": "x",
         "hovertemplate": "%_of_rural_population=%{x}<br>count=%{y}<extra></extra>",
         "legendgroup": "",
         "marker": {
          "color": "#636efa",
          "pattern": {
           "shape": ""
          }
         },
         "name": "",
         "nbinsx": 20,
         "offsetgroup": "",
         "orientation": "v",
         "showlegend": false,
         "type": "histogram",
         "x": [
          34.65,
          42.48,
          58.44,
          42.07,
          77,
          90.14,
          40.64,
          50.25,
          61.66,
          78.13,
          72.13,
          61.53,
          38.11,
          53.93,
          23.15,
          56.92,
          38.9,
          66.98,
          78.17,
          83.88,
          16.26,
          46.52,
          51.33,
          67.18,
          61.07,
          77.58,
          76.7,
          53.26,
          22.56,
          69.96,
          84.76,
          66.39,
          56.11,
          58.11,
          43.68,
          69.64,
          61.4,
          83.77,
          59.18,
          83.08,
          38.48,
          57.46,
          47.72,
          62.31,
          65.6,
          39.38,
          82.58,
          67.13,
          73.88,
          63.88,
          34.19,
          82.1,
          62.12,
          66.26,
          33.9,
          41.72,
          57.93,
          40.56,
          76.47,
          89.88,
          39.81,
          49.65,
          61.49,
          72.11,
          78.1,
          61.02,
          37.65,
          53.51,
          23.1,
          56.94,
          37.26,
          66,
          77.95,
          83.49,
          15.64,
          45.79,
          50.65,
          66.89,
          60.67,
          77.2,
          76.2,
          52.91,
          22.37,
          69.33,
          84.67,
          65.6,
          55.21,
          58.22,
          43.11,
          69.17,
          60.4,
          83.77,
          58.3,
          83.07,
          37.32,
          57.05,
          47.38,
          61.92,
          63.99,
          38.85,
          82.44,
          67.08,
          73.22,
          63.41,
          33.91,
          81.62,
          61.63,
          66.44,
          33.17,
          40.97,
          57.42,
          39.06,
          75.92,
          89.62,
          38.98,
          49.05,
          61.31,
          78.07,
          72.08,
          60.51,
          37.2,
          53.09,
          23.06,
          56.96,
          35.64,
          65.41,
          77.74,
          83.09,
          15.05,
          45.06,
          49.97,
          66.61,
          60.28,
          76.82,
          75.71,
          52.55,
          22.16,
          68.7,
          84.57,
          64.8,
          54.31,
          58.33,
          42.55,
          68.67,
          59.4,
          83.77,
          57.41,
          83.07,
          36.18,
          56.64,
          47.03,
          61.53,
          62.35,
          38.31,
          82.3,
          67.01,
          72.56,
          62.94,
          33.62,
          81.12,
          61.14,
          66.62,
          32.46,
          40.22,
          56.91,
          37.59,
          75.37,
          89.36,
          38.18,
          48.44,
          61.1,
          78.01,
          72.03,
          59.99,
          36.74,
          52.67,
          23,
          56.98,
          34.06,
          64.82,
          77.52,
          82.68,
          14.47,
          44.34,
          49.29,
          66.32,
          59.89,
          76.43,
          75.2,
          52.19,
          21.95,
          68.06,
          84.46,
          64,
          53.41,
          58.44,
          41.98,
          68.17,
          58.38,
          83.78,
          56.52,
          83.07,
          35.05,
          56.23,
          46.66,
          61.14,
          60.69,
          37.78,
          82.14,
          66.91,
          71.89,
          62.47,
          33.34,
          80.62,
          60.64,
          66.8,
          31.76,
          39.47,
          56.39,
          36.14,
          74.8,
          89.08,
          37.68,
          47.84,
          60.86,
          77.95,
          71.96,
          59.46,
          36.29,
          52.25,
          22.94,
          57,
          32.51,
          64.23,
          77.3,
          82.26,
          13.91,
          43.62,
          48.61,
          66.03,
          59.49,
          76.03,
          74.69,
          51.81,
          21.72,
          67.42,
          84.33,
          63.2,
          52.51,
          58.56,
          41.42,
          67.66,
          57.36,
          83.78,
          55.63,
          83.06,
          33.94,
          55.81,
          46.28,
          60.75,
          59,
          37.25,
          81.97,
          66.79,
          71.2,
          61.97,
          33.06,
          80.1,
          60.15,
          66.98,
          31.08,
          38.73,
          55.87,
          35.23,
          74.23,
          88.81,
          37.18,
          47.23,
          60.61,
          77.86,
          71.88,
          58.92,
          35.83,
          51.83,
          22.86,
          57.05,
          31,
          63.46,
          77.15,
          81.84,
          13.37,
          42.9,
          47.93,
          65.74,
          59.09,
          75.62,
          74.3,
          51.42,
          21.49,
          66.77,
          84.19,
          62.4,
          51.6,
          58.67,
          40.86,
          67.15,
          56.31,
          83.79,
          54.75,
          83.06,
          32.84,
          55.4,
          45.88,
          60.36,
          58.44,
          36.73,
          81.78,
          66.65,
          70.51,
          61.45,
          32.78,
          79.58,
          59.65,
          67.17,
          30.42,
          38,
          55.36,
          34.43,
          73.65,
          88.52,
          36.68,
          46.63,
          60.34,
          77.75,
          71.78,
          58.37,
          35.37,
          51.41,
          22.78,
          57.11,
          30.46,
          62.88,
          77,
          81.42,
          12.84,
          42.18,
          47.25,
          65.45,
          58.69,
          75.21,
          73.9,
          51.01,
          21.24,
          66.12,
          84.03,
          61.6,
          50.69,
          58.78,
          40.3,
          66.64,
          55.24,
          83.79,
          53.88,
          83.05,
          31.79,
          54.98,
          45.46,
          59.96,
          57.88,
          36.21,
          81.58,
          66.49,
          69.8,
          60.94,
          32.51,
          79.04,
          59.13,
          67.35,
          29.78,
          37.27,
          54.83,
          33.63,
          73.07,
          88.22,
          36.19,
          46.02,
          60.04,
          77.63,
          71.66,
          57.82,
          34.92,
          50.99,
          22.69,
          57.16,
          29.92,
          62.2,
          76.85,
          81,
          12.35,
          41.47,
          46.58,
          65.16,
          58.28,
          74.78,
          73.5,
          50.6,
          20.99,
          65.47,
          83.87,
          60.8,
          49.8,
          58.89,
          39.74,
          66.12,
          54.17,
          83.78,
          53.02,
          83.03,
          30.79,
          54.56,
          45.03,
          59.57,
          57.32,
          35.69,
          81.37,
          66.31,
          69.1,
          60.42,
          32.23,
          78.5,
          58.62,
          67.5,
          29.15,
          36.55,
          54.3,
          32.85,
          72.47,
          87.92,
          35.7,
          45.42,
          59.72,
          77.48,
          71.53,
          57.26,
          34.46,
          50.56,
          22.58,
          57.21,
          29.38,
          61.72,
          76.7,
          80.57,
          11.88,
          40.77,
          45.91,
          64.86,
          57.88,
          74.34,
          73.09,
          50.18,
          20.73,
          64.81,
          83.69,
          60.01,
          48.91,
          59,
          39.19,
          65.6,
          53.1,
          83.75,
          52.16,
          83,
          29.83,
          54.14,
          44.6,
          59.17,
          56.75,
          35.17,
          81.15,
          66.11,
          68.38,
          59.9,
          31.94,
          77.94,
          58.09,
          67.61,
          28.54,
          35.85,
          53.77,
          32.07,
          71.87,
          87.61,
          35.22,
          44.82,
          59.38,
          77.32,
          71.38,
          56.69,
          34,
          50.12,
          22.47,
          57.27,
          28.86,
          61.15,
          76.54,
          80.13,
          11.44,
          40.08,
          45.25,
          64.54,
          57.47,
          73.89,
          72.68,
          49.75,
          20.46,
          64.14,
          83.49,
          59.22,
          48.04,
          59.09,
          38.64,
          65.07,
          52.04,
          83.71,
          51.32,
          82.94,
          28.91,
          53.7,
          44.17,
          58.77,
          56.18,
          34.66,
          80.91,
          65.88,
          67.67,
          59.37,
          31.65,
          77.38,
          57.56,
          67.7,
          27.95,
          35.16,
          53.23,
          31.3,
          71.26,
          87.29,
          34.74,
          44.22,
          59.02,
          77.14,
          71.22,
          56.12,
          33.54,
          49.67,
          22.35,
          57.29,
          28.35,
          60.38,
          76.37,
          79.69,
          11.02,
          39.4,
          44.59,
          64.21,
          57.05,
          73.44,
          72.27,
          49.3,
          20.18,
          63.48,
          83.29,
          58.43,
          47.18,
          59.16,
          38.09,
          64.54,
          50.99,
          83.65,
          50.48,
          82.87,
          28.03,
          53.26,
          43.74,
          58.36,
          55.61,
          34.15,
          80.65,
          65.63,
          66.95,
          58.84,
          31.36,
          76.8,
          57.02,
          67.76
         ],
         "xaxis": "x",
         "yaxis": "y"
        }
       ],
       "layout": {
        "barmode": "relative",
        "legend": {
         "tracegroupgap": 0
        },
        "template": {
         "data": {
          "bar": [
           {
            "error_x": {
             "color": "#2a3f5f"
            },
            "error_y": {
             "color": "#2a3f5f"
            },
            "marker": {
             "line": {
              "color": "#E5ECF6",
              "width": 0.5
             },
             "pattern": {
              "fillmode": "overlay",
              "size": 10,
              "solidity": 0.2
             }
            },
            "type": "bar"
           }
          ],
          "barpolar": [
           {
            "marker": {
             "line": {
              "color": "#E5ECF6",
              "width": 0.5
             },
             "pattern": {
              "fillmode": "overlay",
              "size": 10,
              "solidity": 0.2
             }
            },
            "type": "barpolar"
           }
          ],
          "carpet": [
           {
            "aaxis": {
             "endlinecolor": "#2a3f5f",
             "gridcolor": "white",
             "linecolor": "white",
             "minorgridcolor": "white",
             "startlinecolor": "#2a3f5f"
            },
            "baxis": {
             "endlinecolor": "#2a3f5f",
             "gridcolor": "white",
             "linecolor": "white",
             "minorgridcolor": "white",
             "startlinecolor": "#2a3f5f"
            },
            "type": "carpet"
           }
          ],
          "choropleth": [
           {
            "colorbar": {
             "outlinewidth": 0,
             "ticks": ""
            },
            "type": "choropleth"
           }
          ],
          "contour": [
           {
            "colorbar": {
             "outlinewidth": 0,
             "ticks": ""
            },
            "colorscale": [
             [
              0,
              "#0d0887"
             ],
             [
              0.1111111111111111,
              "#46039f"
             ],
             [
              0.2222222222222222,
              "#7201a8"
             ],
             [
              0.3333333333333333,
              "#9c179e"
             ],
             [
              0.4444444444444444,
              "#bd3786"
             ],
             [
              0.5555555555555556,
              "#d8576b"
             ],
             [
              0.6666666666666666,
              "#ed7953"
             ],
             [
              0.7777777777777778,
              "#fb9f3a"
             ],
             [
              0.8888888888888888,
              "#fdca26"
             ],
             [
              1,
              "#f0f921"
             ]
            ],
            "type": "contour"
           }
          ],
          "contourcarpet": [
           {
            "colorbar": {
             "outlinewidth": 0,
             "ticks": ""
            },
            "type": "contourcarpet"
           }
          ],
          "heatmap": [
           {
            "colorbar": {
             "outlinewidth": 0,
             "ticks": ""
            },
            "colorscale": [
             [
              0,
              "#0d0887"
             ],
             [
              0.1111111111111111,
              "#46039f"
             ],
             [
              0.2222222222222222,
              "#7201a8"
             ],
             [
              0.3333333333333333,
              "#9c179e"
             ],
             [
              0.4444444444444444,
              "#bd3786"
             ],
             [
              0.5555555555555556,
              "#d8576b"
             ],
             [
              0.6666666666666666,
              "#ed7953"
             ],
             [
              0.7777777777777778,
              "#fb9f3a"
             ],
             [
              0.8888888888888888,
              "#fdca26"
             ],
             [
              1,
              "#f0f921"
             ]
            ],
            "type": "heatmap"
           }
          ],
          "heatmapgl": [
           {
            "colorbar": {
             "outlinewidth": 0,
             "ticks": ""
            },
            "colorscale": [
             [
              0,
              "#0d0887"
             ],
             [
              0.1111111111111111,
              "#46039f"
             ],
             [
              0.2222222222222222,
              "#7201a8"
             ],
             [
              0.3333333333333333,
              "#9c179e"
             ],
             [
              0.4444444444444444,
              "#bd3786"
             ],
             [
              0.5555555555555556,
              "#d8576b"
             ],
             [
              0.6666666666666666,
              "#ed7953"
             ],
             [
              0.7777777777777778,
              "#fb9f3a"
             ],
             [
              0.8888888888888888,
              "#fdca26"
             ],
             [
              1,
              "#f0f921"
             ]
            ],
            "type": "heatmapgl"
           }
          ],
          "histogram": [
           {
            "marker": {
             "pattern": {
              "fillmode": "overlay",
              "size": 10,
              "solidity": 0.2
             }
            },
            "type": "histogram"
           }
          ],
          "histogram2d": [
           {
            "colorbar": {
             "outlinewidth": 0,
             "ticks": ""
            },
            "colorscale": [
             [
              0,
              "#0d0887"
             ],
             [
              0.1111111111111111,
              "#46039f"
             ],
             [
              0.2222222222222222,
              "#7201a8"
             ],
             [
              0.3333333333333333,
              "#9c179e"
             ],
             [
              0.4444444444444444,
              "#bd3786"
             ],
             [
              0.5555555555555556,
              "#d8576b"
             ],
             [
              0.6666666666666666,
              "#ed7953"
             ],
             [
              0.7777777777777778,
              "#fb9f3a"
             ],
             [
              0.8888888888888888,
              "#fdca26"
             ],
             [
              1,
              "#f0f921"
             ]
            ],
            "type": "histogram2d"
           }
          ],
          "histogram2dcontour": [
           {
            "colorbar": {
             "outlinewidth": 0,
             "ticks": ""
            },
            "colorscale": [
             [
              0,
              "#0d0887"
             ],
             [
              0.1111111111111111,
              "#46039f"
             ],
             [
              0.2222222222222222,
              "#7201a8"
             ],
             [
              0.3333333333333333,
              "#9c179e"
             ],
             [
              0.4444444444444444,
              "#bd3786"
             ],
             [
              0.5555555555555556,
              "#d8576b"
             ],
             [
              0.6666666666666666,
              "#ed7953"
             ],
             [
              0.7777777777777778,
              "#fb9f3a"
             ],
             [
              0.8888888888888888,
              "#fdca26"
             ],
             [
              1,
              "#f0f921"
             ]
            ],
            "type": "histogram2dcontour"
           }
          ],
          "mesh3d": [
           {
            "colorbar": {
             "outlinewidth": 0,
             "ticks": ""
            },
            "type": "mesh3d"
           }
          ],
          "parcoords": [
           {
            "line": {
             "colorbar": {
              "outlinewidth": 0,
              "ticks": ""
             }
            },
            "type": "parcoords"
           }
          ],
          "pie": [
           {
            "automargin": true,
            "type": "pie"
           }
          ],
          "scatter": [
           {
            "fillpattern": {
             "fillmode": "overlay",
             "size": 10,
             "solidity": 0.2
            },
            "type": "scatter"
           }
          ],
          "scatter3d": [
           {
            "line": {
             "colorbar": {
              "outlinewidth": 0,
              "ticks": ""
             }
            },
            "marker": {
             "colorbar": {
              "outlinewidth": 0,
              "ticks": ""
             }
            },
            "type": "scatter3d"
           }
          ],
          "scattercarpet": [
           {
            "marker": {
             "colorbar": {
              "outlinewidth": 0,
              "ticks": ""
             }
            },
            "type": "scattercarpet"
           }
          ],
          "scattergeo": [
           {
            "marker": {
             "colorbar": {
              "outlinewidth": 0,
              "ticks": ""
             }
            },
            "type": "scattergeo"
           }
          ],
          "scattergl": [
           {
            "marker": {
             "colorbar": {
              "outlinewidth": 0,
              "ticks": ""
             }
            },
            "type": "scattergl"
           }
          ],
          "scattermapbox": [
           {
            "marker": {
             "colorbar": {
              "outlinewidth": 0,
              "ticks": ""
             }
            },
            "type": "scattermapbox"
           }
          ],
          "scatterpolar": [
           {
            "marker": {
             "colorbar": {
              "outlinewidth": 0,
              "ticks": ""
             }
            },
            "type": "scatterpolar"
           }
          ],
          "scatterpolargl": [
           {
            "marker": {
             "colorbar": {
              "outlinewidth": 0,
              "ticks": ""
             }
            },
            "type": "scatterpolargl"
           }
          ],
          "scatterternary": [
           {
            "marker": {
             "colorbar": {
              "outlinewidth": 0,
              "ticks": ""
             }
            },
            "type": "scatterternary"
           }
          ],
          "surface": [
           {
            "colorbar": {
             "outlinewidth": 0,
             "ticks": ""
            },
            "colorscale": [
             [
              0,
              "#0d0887"
             ],
             [
              0.1111111111111111,
              "#46039f"
             ],
             [
              0.2222222222222222,
              "#7201a8"
             ],
             [
              0.3333333333333333,
              "#9c179e"
             ],
             [
              0.4444444444444444,
              "#bd3786"
             ],
             [
              0.5555555555555556,
              "#d8576b"
             ],
             [
              0.6666666666666666,
              "#ed7953"
             ],
             [
              0.7777777777777778,
              "#fb9f3a"
             ],
             [
              0.8888888888888888,
              "#fdca26"
             ],
             [
              1,
              "#f0f921"
             ]
            ],
            "type": "surface"
           }
          ],
          "table": [
           {
            "cells": {
             "fill": {
              "color": "#EBF0F8"
             },
             "line": {
              "color": "white"
             }
            },
            "header": {
             "fill": {
              "color": "#C8D4E3"
             },
             "line": {
              "color": "white"
             }
            },
            "type": "table"
           }
          ]
         },
         "layout": {
          "annotationdefaults": {
           "arrowcolor": "#2a3f5f",
           "arrowhead": 0,
           "arrowwidth": 1
          },
          "autotypenumbers": "strict",
          "coloraxis": {
           "colorbar": {
            "outlinewidth": 0,
            "ticks": ""
           }
          },
          "colorscale": {
           "diverging": [
            [
             0,
             "#8e0152"
            ],
            [
             0.1,
             "#c51b7d"
            ],
            [
             0.2,
             "#de77ae"
            ],
            [
             0.3,
             "#f1b6da"
            ],
            [
             0.4,
             "#fde0ef"
            ],
            [
             0.5,
             "#f7f7f7"
            ],
            [
             0.6,
             "#e6f5d0"
            ],
            [
             0.7,
             "#b8e186"
            ],
            [
             0.8,
             "#7fbc41"
            ],
            [
             0.9,
             "#4d9221"
            ],
            [
             1,
             "#276419"
            ]
           ],
           "sequential": [
            [
             0,
             "#0d0887"
            ],
            [
             0.1111111111111111,
             "#46039f"
            ],
            [
             0.2222222222222222,
             "#7201a8"
            ],
            [
             0.3333333333333333,
             "#9c179e"
            ],
            [
             0.4444444444444444,
             "#bd3786"
            ],
            [
             0.5555555555555556,
             "#d8576b"
            ],
            [
             0.6666666666666666,
             "#ed7953"
            ],
            [
             0.7777777777777778,
             "#fb9f3a"
            ],
            [
             0.8888888888888888,
             "#fdca26"
            ],
            [
             1,
             "#f0f921"
            ]
           ],
           "sequentialminus": [
            [
             0,
             "#0d0887"
            ],
            [
             0.1111111111111111,
             "#46039f"
            ],
            [
             0.2222222222222222,
             "#7201a8"
            ],
            [
             0.3333333333333333,
             "#9c179e"
            ],
            [
             0.4444444444444444,
             "#bd3786"
            ],
            [
             0.5555555555555556,
             "#d8576b"
            ],
            [
             0.6666666666666666,
             "#ed7953"
            ],
            [
             0.7777777777777778,
             "#fb9f3a"
            ],
            [
             0.8888888888888888,
             "#fdca26"
            ],
            [
             1,
             "#f0f921"
            ]
           ]
          },
          "colorway": [
           "#636efa",
           "#EF553B",
           "#00cc96",
           "#ab63fa",
           "#FFA15A",
           "#19d3f3",
           "#FF6692",
           "#B6E880",
           "#FF97FF",
           "#FECB52"
          ],
          "font": {
           "color": "#2a3f5f"
          },
          "geo": {
           "bgcolor": "white",
           "lakecolor": "white",
           "landcolor": "#E5ECF6",
           "showlakes": true,
           "showland": true,
           "subunitcolor": "white"
          },
          "hoverlabel": {
           "align": "left"
          },
          "hovermode": "closest",
          "mapbox": {
           "style": "light"
          },
          "paper_bgcolor": "white",
          "plot_bgcolor": "#E5ECF6",
          "polar": {
           "angularaxis": {
            "gridcolor": "white",
            "linecolor": "white",
            "ticks": ""
           },
           "bgcolor": "#E5ECF6",
           "radialaxis": {
            "gridcolor": "white",
            "linecolor": "white",
            "ticks": ""
           }
          },
          "scene": {
           "xaxis": {
            "backgroundcolor": "#E5ECF6",
            "gridcolor": "white",
            "gridwidth": 2,
            "linecolor": "white",
            "showbackground": true,
            "ticks": "",
            "zerolinecolor": "white"
           },
           "yaxis": {
            "backgroundcolor": "#E5ECF6",
            "gridcolor": "white",
            "gridwidth": 2,
            "linecolor": "white",
            "showbackground": true,
            "ticks": "",
            "zerolinecolor": "white"
           },
           "zaxis": {
            "backgroundcolor": "#E5ECF6",
            "gridcolor": "white",
            "gridwidth": 2,
            "linecolor": "white",
            "showbackground": true,
            "ticks": "",
            "zerolinecolor": "white"
           }
          },
          "shapedefaults": {
           "line": {
            "color": "#2a3f5f"
           }
          },
          "ternary": {
           "aaxis": {
            "gridcolor": "white",
            "linecolor": "white",
            "ticks": ""
           },
           "baxis": {
            "gridcolor": "white",
            "linecolor": "white",
            "ticks": ""
           },
           "bgcolor": "#E5ECF6",
           "caxis": {
            "gridcolor": "white",
            "linecolor": "white",
            "ticks": ""
           }
          },
          "title": {
           "x": 0.05
          },
          "xaxis": {
           "automargin": true,
           "gridcolor": "white",
           "linecolor": "white",
           "ticks": "",
           "title": {
            "standoff": 15
           },
           "zerolinecolor": "white",
           "zerolinewidth": 2
          },
          "yaxis": {
           "automargin": true,
           "gridcolor": "white",
           "linecolor": "white",
           "ticks": "",
           "title": {
            "standoff": 15
           },
           "zerolinecolor": "white",
           "zerolinewidth": 2
          }
         }
        },
        "title": {
         "text": "Distribution of Percentage of Rural Population"
        },
        "xaxis": {
         "anchor": "y",
         "domain": [
          0,
          1
         ],
         "title": {
          "text": "%_of_rural_population"
         }
        },
        "yaxis": {
         "anchor": "x",
         "domain": [
          0,
          1
         ],
         "title": {
          "text": "count"
         }
        }
       }
      }
     },
     "metadata": {},
     "output_type": "display_data"
    }
   ],
   "source": [
    "import plotly.express as px\n",
    "\n",
    "# Create a histogram for the 'Incidences_per_1000_population_at_risk' variable\n",
    "fig1 = px.histogram(df, x='Incidences_per_1000_population_at_risk', nbins=20,\n",
    "                    title='Distribution of Malaria Incidences per 1000 Population at Risk')\n",
    "fig1.show()\n",
    "\n",
    "# Create a histogram for the '%_using_IBNs' variable\n",
    "fig2 = px.histogram(df, x='%_using_IBNs', nbins=20,\n",
    "                    title='Distribution of Percentage of People Using Insecticide-Treated Bed Nets')\n",
    "fig2.show()\n",
    "\n",
    "# Create a histogram for the '%_of_rural_population' variable\n",
    "fig3 = px.histogram(df, x='%_of_rural_population', nbins=20,\n",
    "                    title='Distribution of Percentage of Rural Population')\n",
    "fig3.show()\n",
    "\n",
    "# Add more histograms for other variables as needed...\n",
    "\n"
   ]
  },
  {
   "cell_type": "code",
   "execution_count": null,
   "metadata": {},
   "outputs": [
    {
     "data": {
      "application/vnd.plotly.v1+json": {
       "config": {
        "plotlyServerURL": "https://plot.ly"
       },
       "data": [
        {
         "hovertemplate": "Year=%{x}<br>Average Malaria Incidences=%{y}<extra></extra>",
         "legendgroup": "",
         "line": {
          "color": "#636efa",
          "dash": "solid"
         },
         "marker": {
          "symbol": "circle"
         },
         "mode": "lines",
         "name": "",
         "orientation": "v",
         "showlegend": false,
         "type": "scatter",
         "x": [
          2007,
          2008,
          2009,
          2010,
          2011,
          2012,
          2013,
          2014,
          2015,
          2016,
          2017
         ],
         "xaxis": "x",
         "y": [
          194.5998148148148,
          189.1238888888889,
          187.76944444444442,
          184.33037037037036,
          177.4662962962963,
          175.1901851851852,
          171.40944444444446,
          163.64666666666668,
          163.6501851851852,
          165.63407407407408,
          163.2559259259259
         ],
         "yaxis": "y"
        }
       ],
       "layout": {
        "legend": {
         "tracegroupgap": 0
        },
        "template": {
         "data": {
          "bar": [
           {
            "error_x": {
             "color": "#2a3f5f"
            },
            "error_y": {
             "color": "#2a3f5f"
            },
            "marker": {
             "line": {
              "color": "#E5ECF6",
              "width": 0.5
             },
             "pattern": {
              "fillmode": "overlay",
              "size": 10,
              "solidity": 0.2
             }
            },
            "type": "bar"
           }
          ],
          "barpolar": [
           {
            "marker": {
             "line": {
              "color": "#E5ECF6",
              "width": 0.5
             },
             "pattern": {
              "fillmode": "overlay",
              "size": 10,
              "solidity": 0.2
             }
            },
            "type": "barpolar"
           }
          ],
          "carpet": [
           {
            "aaxis": {
             "endlinecolor": "#2a3f5f",
             "gridcolor": "white",
             "linecolor": "white",
             "minorgridcolor": "white",
             "startlinecolor": "#2a3f5f"
            },
            "baxis": {
             "endlinecolor": "#2a3f5f",
             "gridcolor": "white",
             "linecolor": "white",
             "minorgridcolor": "white",
             "startlinecolor": "#2a3f5f"
            },
            "type": "carpet"
           }
          ],
          "choropleth": [
           {
            "colorbar": {
             "outlinewidth": 0,
             "ticks": ""
            },
            "type": "choropleth"
           }
          ],
          "contour": [
           {
            "colorbar": {
             "outlinewidth": 0,
             "ticks": ""
            },
            "colorscale": [
             [
              0,
              "#0d0887"
             ],
             [
              0.1111111111111111,
              "#46039f"
             ],
             [
              0.2222222222222222,
              "#7201a8"
             ],
             [
              0.3333333333333333,
              "#9c179e"
             ],
             [
              0.4444444444444444,
              "#bd3786"
             ],
             [
              0.5555555555555556,
              "#d8576b"
             ],
             [
              0.6666666666666666,
              "#ed7953"
             ],
             [
              0.7777777777777778,
              "#fb9f3a"
             ],
             [
              0.8888888888888888,
              "#fdca26"
             ],
             [
              1,
              "#f0f921"
             ]
            ],
            "type": "contour"
           }
          ],
          "contourcarpet": [
           {
            "colorbar": {
             "outlinewidth": 0,
             "ticks": ""
            },
            "type": "contourcarpet"
           }
          ],
          "heatmap": [
           {
            "colorbar": {
             "outlinewidth": 0,
             "ticks": ""
            },
            "colorscale": [
             [
              0,
              "#0d0887"
             ],
             [
              0.1111111111111111,
              "#46039f"
             ],
             [
              0.2222222222222222,
              "#7201a8"
             ],
             [
              0.3333333333333333,
              "#9c179e"
             ],
             [
              0.4444444444444444,
              "#bd3786"
             ],
             [
              0.5555555555555556,
              "#d8576b"
             ],
             [
              0.6666666666666666,
              "#ed7953"
             ],
             [
              0.7777777777777778,
              "#fb9f3a"
             ],
             [
              0.8888888888888888,
              "#fdca26"
             ],
             [
              1,
              "#f0f921"
             ]
            ],
            "type": "heatmap"
           }
          ],
          "heatmapgl": [
           {
            "colorbar": {
             "outlinewidth": 0,
             "ticks": ""
            },
            "colorscale": [
             [
              0,
              "#0d0887"
             ],
             [
              0.1111111111111111,
              "#46039f"
             ],
             [
              0.2222222222222222,
              "#7201a8"
             ],
             [
              0.3333333333333333,
              "#9c179e"
             ],
             [
              0.4444444444444444,
              "#bd3786"
             ],
             [
              0.5555555555555556,
              "#d8576b"
             ],
             [
              0.6666666666666666,
              "#ed7953"
             ],
             [
              0.7777777777777778,
              "#fb9f3a"
             ],
             [
              0.8888888888888888,
              "#fdca26"
             ],
             [
              1,
              "#f0f921"
             ]
            ],
            "type": "heatmapgl"
           }
          ],
          "histogram": [
           {
            "marker": {
             "pattern": {
              "fillmode": "overlay",
              "size": 10,
              "solidity": 0.2
             }
            },
            "type": "histogram"
           }
          ],
          "histogram2d": [
           {
            "colorbar": {
             "outlinewidth": 0,
             "ticks": ""
            },
            "colorscale": [
             [
              0,
              "#0d0887"
             ],
             [
              0.1111111111111111,
              "#46039f"
             ],
             [
              0.2222222222222222,
              "#7201a8"
             ],
             [
              0.3333333333333333,
              "#9c179e"
             ],
             [
              0.4444444444444444,
              "#bd3786"
             ],
             [
              0.5555555555555556,
              "#d8576b"
             ],
             [
              0.6666666666666666,
              "#ed7953"
             ],
             [
              0.7777777777777778,
              "#fb9f3a"
             ],
             [
              0.8888888888888888,
              "#fdca26"
             ],
             [
              1,
              "#f0f921"
             ]
            ],
            "type": "histogram2d"
           }
          ],
          "histogram2dcontour": [
           {
            "colorbar": {
             "outlinewidth": 0,
             "ticks": ""
            },
            "colorscale": [
             [
              0,
              "#0d0887"
             ],
             [
              0.1111111111111111,
              "#46039f"
             ],
             [
              0.2222222222222222,
              "#7201a8"
             ],
             [
              0.3333333333333333,
              "#9c179e"
             ],
             [
              0.4444444444444444,
              "#bd3786"
             ],
             [
              0.5555555555555556,
              "#d8576b"
             ],
             [
              0.6666666666666666,
              "#ed7953"
             ],
             [
              0.7777777777777778,
              "#fb9f3a"
             ],
             [
              0.8888888888888888,
              "#fdca26"
             ],
             [
              1,
              "#f0f921"
             ]
            ],
            "type": "histogram2dcontour"
           }
          ],
          "mesh3d": [
           {
            "colorbar": {
             "outlinewidth": 0,
             "ticks": ""
            },
            "type": "mesh3d"
           }
          ],
          "parcoords": [
           {
            "line": {
             "colorbar": {
              "outlinewidth": 0,
              "ticks": ""
             }
            },
            "type": "parcoords"
           }
          ],
          "pie": [
           {
            "automargin": true,
            "type": "pie"
           }
          ],
          "scatter": [
           {
            "fillpattern": {
             "fillmode": "overlay",
             "size": 10,
             "solidity": 0.2
            },
            "type": "scatter"
           }
          ],
          "scatter3d": [
           {
            "line": {
             "colorbar": {
              "outlinewidth": 0,
              "ticks": ""
             }
            },
            "marker": {
             "colorbar": {
              "outlinewidth": 0,
              "ticks": ""
             }
            },
            "type": "scatter3d"
           }
          ],
          "scattercarpet": [
           {
            "marker": {
             "colorbar": {
              "outlinewidth": 0,
              "ticks": ""
             }
            },
            "type": "scattercarpet"
           }
          ],
          "scattergeo": [
           {
            "marker": {
             "colorbar": {
              "outlinewidth": 0,
              "ticks": ""
             }
            },
            "type": "scattergeo"
           }
          ],
          "scattergl": [
           {
            "marker": {
             "colorbar": {
              "outlinewidth": 0,
              "ticks": ""
             }
            },
            "type": "scattergl"
           }
          ],
          "scattermapbox": [
           {
            "marker": {
             "colorbar": {
              "outlinewidth": 0,
              "ticks": ""
             }
            },
            "type": "scattermapbox"
           }
          ],
          "scatterpolar": [
           {
            "marker": {
             "colorbar": {
              "outlinewidth": 0,
              "ticks": ""
             }
            },
            "type": "scatterpolar"
           }
          ],
          "scatterpolargl": [
           {
            "marker": {
             "colorbar": {
              "outlinewidth": 0,
              "ticks": ""
             }
            },
            "type": "scatterpolargl"
           }
          ],
          "scatterternary": [
           {
            "marker": {
             "colorbar": {
              "outlinewidth": 0,
              "ticks": ""
             }
            },
            "type": "scatterternary"
           }
          ],
          "surface": [
           {
            "colorbar": {
             "outlinewidth": 0,
             "ticks": ""
            },
            "colorscale": [
             [
              0,
              "#0d0887"
             ],
             [
              0.1111111111111111,
              "#46039f"
             ],
             [
              0.2222222222222222,
              "#7201a8"
             ],
             [
              0.3333333333333333,
              "#9c179e"
             ],
             [
              0.4444444444444444,
              "#bd3786"
             ],
             [
              0.5555555555555556,
              "#d8576b"
             ],
             [
              0.6666666666666666,
              "#ed7953"
             ],
             [
              0.7777777777777778,
              "#fb9f3a"
             ],
             [
              0.8888888888888888,
              "#fdca26"
             ],
             [
              1,
              "#f0f921"
             ]
            ],
            "type": "surface"
           }
          ],
          "table": [
           {
            "cells": {
             "fill": {
              "color": "#EBF0F8"
             },
             "line": {
              "color": "white"
             }
            },
            "header": {
             "fill": {
              "color": "#C8D4E3"
             },
             "line": {
              "color": "white"
             }
            },
            "type": "table"
           }
          ]
         },
         "layout": {
          "annotationdefaults": {
           "arrowcolor": "#2a3f5f",
           "arrowhead": 0,
           "arrowwidth": 1
          },
          "autotypenumbers": "strict",
          "coloraxis": {
           "colorbar": {
            "outlinewidth": 0,
            "ticks": ""
           }
          },
          "colorscale": {
           "diverging": [
            [
             0,
             "#8e0152"
            ],
            [
             0.1,
             "#c51b7d"
            ],
            [
             0.2,
             "#de77ae"
            ],
            [
             0.3,
             "#f1b6da"
            ],
            [
             0.4,
             "#fde0ef"
            ],
            [
             0.5,
             "#f7f7f7"
            ],
            [
             0.6,
             "#e6f5d0"
            ],
            [
             0.7,
             "#b8e186"
            ],
            [
             0.8,
             "#7fbc41"
            ],
            [
             0.9,
             "#4d9221"
            ],
            [
             1,
             "#276419"
            ]
           ],
           "sequential": [
            [
             0,
             "#0d0887"
            ],
            [
             0.1111111111111111,
             "#46039f"
            ],
            [
             0.2222222222222222,
             "#7201a8"
            ],
            [
             0.3333333333333333,
             "#9c179e"
            ],
            [
             0.4444444444444444,
             "#bd3786"
            ],
            [
             0.5555555555555556,
             "#d8576b"
            ],
            [
             0.6666666666666666,
             "#ed7953"
            ],
            [
             0.7777777777777778,
             "#fb9f3a"
            ],
            [
             0.8888888888888888,
             "#fdca26"
            ],
            [
             1,
             "#f0f921"
            ]
           ],
           "sequentialminus": [
            [
             0,
             "#0d0887"
            ],
            [
             0.1111111111111111,
             "#46039f"
            ],
            [
             0.2222222222222222,
             "#7201a8"
            ],
            [
             0.3333333333333333,
             "#9c179e"
            ],
            [
             0.4444444444444444,
             "#bd3786"
            ],
            [
             0.5555555555555556,
             "#d8576b"
            ],
            [
             0.6666666666666666,
             "#ed7953"
            ],
            [
             0.7777777777777778,
             "#fb9f3a"
            ],
            [
             0.8888888888888888,
             "#fdca26"
            ],
            [
             1,
             "#f0f921"
            ]
           ]
          },
          "colorway": [
           "#636efa",
           "#EF553B",
           "#00cc96",
           "#ab63fa",
           "#FFA15A",
           "#19d3f3",
           "#FF6692",
           "#B6E880",
           "#FF97FF",
           "#FECB52"
          ],
          "font": {
           "color": "#2a3f5f"
          },
          "geo": {
           "bgcolor": "white",
           "lakecolor": "white",
           "landcolor": "#E5ECF6",
           "showlakes": true,
           "showland": true,
           "subunitcolor": "white"
          },
          "hoverlabel": {
           "align": "left"
          },
          "hovermode": "closest",
          "mapbox": {
           "style": "light"
          },
          "paper_bgcolor": "white",
          "plot_bgcolor": "#E5ECF6",
          "polar": {
           "angularaxis": {
            "gridcolor": "white",
            "linecolor": "white",
            "ticks": ""
           },
           "bgcolor": "#E5ECF6",
           "radialaxis": {
            "gridcolor": "white",
            "linecolor": "white",
            "ticks": ""
           }
          },
          "scene": {
           "xaxis": {
            "backgroundcolor": "#E5ECF6",
            "gridcolor": "white",
            "gridwidth": 2,
            "linecolor": "white",
            "showbackground": true,
            "ticks": "",
            "zerolinecolor": "white"
           },
           "yaxis": {
            "backgroundcolor": "#E5ECF6",
            "gridcolor": "white",
            "gridwidth": 2,
            "linecolor": "white",
            "showbackground": true,
            "ticks": "",
            "zerolinecolor": "white"
           },
           "zaxis": {
            "backgroundcolor": "#E5ECF6",
            "gridcolor": "white",
            "gridwidth": 2,
            "linecolor": "white",
            "showbackground": true,
            "ticks": "",
            "zerolinecolor": "white"
           }
          },
          "shapedefaults": {
           "line": {
            "color": "#2a3f5f"
           }
          },
          "ternary": {
           "aaxis": {
            "gridcolor": "white",
            "linecolor": "white",
            "ticks": ""
           },
           "baxis": {
            "gridcolor": "white",
            "linecolor": "white",
            "ticks": ""
           },
           "bgcolor": "#E5ECF6",
           "caxis": {
            "gridcolor": "white",
            "linecolor": "white",
            "ticks": ""
           }
          },
          "title": {
           "x": 0.05
          },
          "xaxis": {
           "automargin": true,
           "gridcolor": "white",
           "linecolor": "white",
           "ticks": "",
           "title": {
            "standoff": 15
           },
           "zerolinecolor": "white",
           "zerolinewidth": 2
          },
          "yaxis": {
           "automargin": true,
           "gridcolor": "white",
           "linecolor": "white",
           "ticks": "",
           "title": {
            "standoff": 15
           },
           "zerolinecolor": "white",
           "zerolinewidth": 2
          }
         }
        },
        "title": {
         "text": "Trend of Average Malaria Incidences over the Years"
        },
        "xaxis": {
         "anchor": "y",
         "domain": [
          0,
          1
         ],
         "title": {
          "text": "Year"
         }
        },
        "yaxis": {
         "anchor": "x",
         "domain": [
          0,
          1
         ],
         "title": {
          "text": "Average Malaria Incidences"
         }
        }
       }
      }
     },
     "metadata": {},
     "output_type": "display_data"
    }
   ],
   "source": [
    "average_incidences_by_year = df.groupby('Year')['Incidences_per_1000_population_at_risk'].mean().reset_index()\n",
    "\n",
    "# Create a line plot to visualize the trend of average malaria incidences over the years\n",
    "fig3 = px.line(average_incidences_by_year, x='Year', y='Incidences_per_1000_population_at_risk',\n",
    "               title='Trend of Average Malaria Incidences over the Years',\n",
    "               labels={'Year': 'Year', 'Incidences_per_1000_population_at_risk': 'Average Malaria Incidences'})\n",
    "\n",
    "# Show the plot\n",
    "fig3.show()"
   ]
  },
  {
   "cell_type": "code",
   "execution_count": null,
   "metadata": {},
   "outputs": [
    {
     "name": "stdout",
     "output_type": "stream",
     "text": [
      "Correlation Coefficient: 0.5277680414990794\n"
     ]
    },
    {
     "data": {
      "image/png": "[encoded data removed]",
      "text/plain": [
       "<Figure size 640x480 with 1 Axes>"
      ]
     },
     "metadata": {},
     "output_type": "display_data"
    }
   ],
   "source": [
    "\n",
    "\n",
    "# Select the relevant columns for the correlation analysis\n",
    "correlation_df = df[['%_using_IBNs', 'Incidences_per_1000_population_at_risk']]\n",
    "\n",
    "# Compute the correlation coefficient (Pearson correlation)\n",
    "correlation_coefficient = correlation_df.corr().iloc[0, 1]\n",
    "\n",
    "# Print the correlation coefficient\n",
    "print(\"Correlation Coefficient:\", correlation_coefficient)\n",
    "\n",
    "# Visualize the relationship with a scatter plot\n",
    "plt.scatter(correlation_df['%_using_IBNs'], correlation_df['Incidences_per_1000_population_at_risk'])\n",
    "plt.xlabel('% of People Using Insecticide-Treated Bed Nets')\n",
    "plt.ylabel('Malaria Incidences per 1000 Population at Risk')\n",
    "plt.title('Correlation between Use of Insecticide-Treated Bed Nets and Malaria Incidences')\n",
    "plt.show()\n"
   ]
  },
  {
   "cell_type": "code",
   "execution_count": null,
   "metadata": {},
   "outputs": [
    {
     "name": "stdout",
     "output_type": "stream",
     "text": [
      "Correlation Coefficient: -0.25811190356866726\n"
     ]
    },
    {
     "data": {
      "image/png": "[encoded data removed]",
      "text/plain": [
       "<Figure size 640x480 with 1 Axes>"
      ]
     },
     "metadata": {},
     "output_type": "display_data"
    }
   ],
   "source": [
    "# Remove leading and trailing spaces from column name\n",
    "correlation_df = df[['%_of_rural_using_atleast_basic_drinking_water_services', 'Incidences_per_1000_population_at_risk']]\n",
    "\n",
    "# Compute the correlation coefficient (Pearson correlation)\n",
    "correlation_coefficient = correlation_df.corr().iloc[0, 1]\n",
    "\n",
    "# Print the correlation coefficient\n",
    "print(\"Correlation Coefficient:\", correlation_coefficient)\n",
    "\n",
    "# Visualize the relationship with a scatter plot\n",
    "plt.scatter(correlation_df['%_of_rural_using_atleast_basic_drinking_water_services'], correlation_df['Incidences_per_1000_population_at_risk'])\n",
    "plt.xlabel('% of People Using Safely Managed Drinking Water Services (Rural)')\n",
    "plt.ylabel('Malaria Incidences per 1000 Population at Risk')\n",
    "plt.title('Correlation between Access to Safe Drinking Water Services (Rural) and Malaria Incidences')\n",
    "plt.show()"
   ]
  },
  {
   "cell_type": "code",
   "execution_count": null,
   "metadata": {},
   "outputs": [
    {
     "data": {
      "application/vnd.plotly.v1+json": {
       "config": {
        "plotlyServerURL": "https://plot.ly"
       },
       "data": [
        {
         "alignmentgroup": "True",
         "hovertemplate": "Year=%{x}<br>Incidences_per_1000_population_at_risk=%{y}<extra></extra>",
         "legendgroup": "",
         "marker": {
          "color": "#636efa"
         },
         "name": "",
         "notched": false,
         "offsetgroup": "",
         "orientation": "v",
         "showlegend": false,
         "type": "box",
         "x": [
          2007,
          2007,
          2007,
          2007,
          2007,
          2007,
          2007,
          2007,
          2007,
          2007,
          2007,
          2007,
          2007,
          2007,
          2007,
          2007,
          2007,
          2007,
          2007,
          2007,
          2007,
          2007,
          2007,
          2007,
          2007,
          2007,
          2007,
          2007,
          2007,
          2007,
          2007,
          2007,
          2007,
          2007,
          2007,
          2007,
          2007,
          2007,
          2007,
          2007,
          2007,
          2007,
          2007,
          2007,
          2007,
          2007,
          2007,
          2007,
          2007,
          2007,
          2007,
          2007,
          2007,
          2007,
          2008,
          2008,
          2008,
          2008,
          2008,
          2008,
          2008,
          2008,
          2008,
          2008,
          2008,
          2008,
          2008,
          2008,
          2008,
          2008,
          2008,
          2008,
          2008,
          2008,
          2008,
          2008,
          2008,
          2008,
          2008,
          2008,
          2008,
          2008,
          2008,
          2008,
          2008,
          2008,
          2008,
          2008,
          2008,
          2008,
          2008,
          2008,
          2008,
          2008,
          2008,
          2008,
          2008,
          2008,
          2008,
          2008,
          2008,
          2008,
          2008,
          2008,
          2008,
          2008,
          2008,
          2008,
          2009,
          2009,
          2009,
          2009,
          2009,
          2009,
          2009,
          2009,
          2009,
          2009,
          2009,
          2009,
          2009,
          2009,
          2009,
          2009,
          2009,
          2009,
          2009,
          2009,
          2009,
          2009,
          2009,
          2009,
          2009,
          2009,
          2009,
          2009,
          2009,
          2009,
          2009,
          2009,
          2009,
          2009,
          2009,
          2009,
          2009,
          2009,
          2009,
          2009,
          2009,
          2009,
          2009,
          2009,
          2009,
          2009,
          2009,
          2009,
          2009,
          2009,
          2009,
          2009,
          2009,
          2009,
          2010,
          2010,
          2010,
          2010,
          2010,
          2010,
          2010,
          2010,
          2010,
          2010,
          2010,
          2010,
          2010,
          2010,
          2010,
          2010,
          2010,
          2010,
          2010,
          2010,
          2010,
          2010,
          2010,
          2010,
          2010,
          2010,
          2010,
          2010,
          2010,
          2010,
          2010,
          2010,
          2010,
          2010,
          2010,
          2010,
          2010,
          2010,
          2010,
          2010,
          2010,
          2010,
          2010,
          2010,
          2010,
          2010,
          2010,
          2010,
          2010,
          2010,
          2010,
          2010,
          2010,
          2010,
          2011,
          2011,
          2011,
          2011,
          2011,
          2011,
          2011,
          2011,
          2011,
          2011,
          2011,
          2011,
          2011,
          2011,
          2011,
          2011,
          2011,
          2011,
          2011,
          2011,
          2011,
          2011,
          2011,
          2011,
          2011,
          2011,
          2011,
          2011,
          2011,
          2011,
          2011,
          2011,
          2011,
          2011,
          2011,
          2011,
          2011,
          2011,
          2011,
          2011,
          2011,
          2011,
          2011,
          2011,
          2011,
          2011,
          2011,
          2011,
          2011,
          2011,
          2011,
          2011,
          2011,
          2011,
          2012,
          2012,
          2012,
          2012,
          2012,
          2012,
          2012,
          2012,
          2012,
          2012,
          2012,
          2012,
          2012,
          2012,
          2012,
          2012,
          2012,
          2012,
          2012,
          2012,
          2012,
          2012,
          2012,
          2012,
          2012,
          2012,
          2012,
          2012,
          2012,
          2012,
          2012,
          2012,
          2012,
          2012,
          2012,
          2012,
          2012,
          2012,
          2012,
          2012,
          2012,
          2012,
          2012,
          2012,
          2012,
          2012,
          2012,
          2012,
          2012,
          2012,
          2012,
          2012,
          2012,
          2012,
          2013,
          2013,
          2013,
          2013,
          2013,
          2013,
          2013,
          2013,
          2013,
          2013,
          2013,
          2013,
          2013,
          2013,
          2013,
          2013,
          2013,
          2013,
          2013,
          2013,
          2013,
          2013,
          2013,
          2013,
          2013,
          2013,
          2013,
          2013,
          2013,
          2013,
          2013,
          2013,
          2013,
          2013,
          2013,
          2013,
          2013,
          2013,
          2013,
          2013,
          2013,
          2013,
          2013,
          2013,
          2013,
          2013,
          2013,
          2013,
          2013,
          2013,
          2013,
          2013,
          2013,
          2013,
          2014,
          2014,
          2014,
          2014,
          2014,
          2014,
          2014,
          2014,
          2014,
          2014,
          2014,
          2014,
          2014,
          2014,
          2014,
          2014,
          2014,
          2014,
          2014,
          2014,
          2014,
          2014,
          2014,
          2014,
          2014,
          2014,
          2014,
          2014,
          2014,
          2014,
          2014,
          2014,
          2014,
          2014,
          2014,
          2014,
          2014,
          2014,
          2014,
          2014,
          2014,
          2014,
          2014,
          2014,
          2014,
          2014,
          2014,
          2014,
          2014,
          2014,
          2014,
          2014,
          2014,
          2014,
          2015,
          2015,
          2015,
          2015,
          2015,
          2015,
          2015,
          2015,
          2015,
          2015,
          2015,
          2015,
          2015,
          2015,
          2015,
          2015,
          2015,
          2015,
          2015,
          2015,
          2015,
          2015,
          2015,
          2015,
          2015,
          2015,
          2015,
          2015,
          2015,
          2015,
          2015,
          2015,
          2015,
          2015,
          2015,
          2015,
          2015,
          2015,
          2015,
          2015,
          2015,
          2015,
          2015,
          2015,
          2015,
          2015,
          2015,
          2015,
          2015,
          2015,
          2015,
          2015,
          2015,
          2015,
          2016,
          2016,
          2016,
          2016,
          2016,
          2016,
          2016,
          2016,
          2016,
          2016,
          2016,
          2016,
          2016,
          2016,
          2016,
          2016,
          2016,
          2016,
          2016,
          2016,
          2016,
          2016,
          2016,
          2016,
          2016,
          2016,
          2016,
          2016,
          2016,
          2016,
          2016,
          2016,
          2016,
          2016,
          2016,
          2016,
          2016,
          2016,
          2016,
          2016,
          2016,
          2016,
          2016,
          2016,
          2016,
          2016,
          2016,
          2016,
          2016,
          2016,
          2016,
          2016,
          2016,
          2016,
          2017,
          2017,
          2017,
          2017,
          2017,
          2017,
          2017,
          2017,
          2017,
          2017,
          2017,
          2017,
          2017,
          2017,
          2017,
          2017,
          2017,
          2017,
          2017,
          2017,
          2017,
          2017,
          2017,
          2017,
          2017,
          2017,
          2017,
          2017,
          2017,
          2017,
          2017,
          2017,
          2017,
          2017,
          2017,
          2017,
          2017,
          2017,
          2017,
          2017,
          2017,
          2017,
          2017,
          2017,
          2017,
          2017,
          2017,
          2017,
          2017,
          2017,
          2017,
          2017,
          2017,
          2017
         ],
         "x0": " ",
         "xaxis": "x",
         "y": [
          0.01,
          286.72,
          480.24,
          1.03,
          503.8,
          222.92,
          0.15,
          386.68,
          471.11,
          210.71,
          60.65,
          481.93,
          281.83,
          509.98,
          3.84,
          0,
          398.15,
          12.54,
          0.29,
          121.69,
          110.66,
          316.01,
          322.33,
          343.69,
          72.81,
          78.02,
          0,
          383.18,
          0,
          22.78,
          370.08,
          388.81,
          70.77,
          0,
          0,
          399.45,
          12.97,
          386.68,
          421.33,
          90.64,
          14.56,
          101.91,
          0,
          379.94,
          100.56,
          1.29,
          276.75,
          41.08,
          184.53,
          434.49,
          0,
          377.94,
          195.74,
          175.12,
          0,
          241.19,
          453.17,
          1.93,
          533.39,
          222.77,
          0.28,
          358.72,
          461.79,
          59.21,
          215.1,
          471.43,
          249.16,
          510.08,
          3.74,
          0,
          378.24,
          6.78,
          0.2,
          90.66,
          118.87,
          306.84,
          333.72,
          370.17,
          89.02,
          67.68,
          0,
          383.33,
          0,
          23.47,
          392,
          379.06,
          61.14,
          0,
          0,
          399.79,
          7.46,
          409.1,
          424.66,
          72.03,
          36.57,
          86.42,
          0,
          413.85,
          63.1,
          1.57,
          267.14,
          35.05,
          171,
          379.9,
          0,
          410.46,
          176.72,
          74.73,
          0,
          204.35,
          417.96,
          2.1,
          552.03,
          220.65,
          0.51,
          322.98,
          448.45,
          222.91,
          57.81,
          452.18,
          226.32,
          494.48,
          4.33,
          0,
          351.29,
          8.86,
          0.36,
          123.35,
          145.95,
          297.98,
          351.39,
          398.14,
          113.8,
          67.94,
          0,
          368.81,
          0,
          42.92,
          394.29,
          374.56,
          31.64,
          0,
          0,
          402.3,
          3.36,
          419.1,
          416.59,
          158.16,
          35.15,
          57.12,
          0,
          442.15,
          38.44,
          1.2,
          255.07,
          32.29,
          157.11,
          326.88,
          0,
          433.79,
          172,
          90.5,
          0,
          185.52,
          387.76,
          1.69,
          551.24,
          210.2,
          0.37,
          295.53,
          434.51,
          225.94,
          52.98,
          428.31,
          220.92,
          469.27,
          1.6,
          0,
          339.99,
          26.33,
          0.9,
          128.4,
          177.82,
          289.27,
          364.15,
          414.66,
          134.37,
          67.71,
          0,
          345.77,
          0,
          42.24,
          386.02,
          383.6,
          38.83,
          0,
          0,
          398.41,
          1.54,
          425.64,
          398.9,
          126.31,
          15.19,
          59.28,
          0,
          458.74,
          29.59,
          1.57,
          243.97,
          30.66,
          145.46,
          308.88,
          0,
          417.35,
          177.02,
          109.43,
          0,
          175.99,
          370.11,
          0.51,
          539.56,
          184.15,
          0.05,
          265.1,
          419.33,
          210.48,
          35.18,
          399.59,
          224.38,
          442.11,
          3.42,
          0,
          342.4,
          23.86,
          1.83,
          116.13,
          212.72,
          257.26,
          379.52,
          426.9,
          140.55,
          67.86,
          0,
          330.41,
          0,
          36.55,
          362.78,
          404.73,
          47.58,
          0,
          0,
          389.92,
          2.13,
          427.88,
          372.56,
          39.29,
          45.75,
          49.91,
          0,
          453.65,
          24.35,
          1.9,
          235.87,
          29.97,
          132.48,
          313.4,
          0,
          385.7,
          186.7,
          70.68,
          0.03,
          174.43,
          378.03,
          0.22,
          527.54,
          153.93,
          0.01,
          245.13,
          413.09,
          195.34,
          68.85,
          363,
          224.63,
          396.28,
          3.31,
          0,
          357.75,
          16.15,
          1.86,
          116.19,
          245.53,
          274.82,
          374.29,
          427.8,
          128.75,
          73.36,
          0,
          307.9,
          0,
          71.36,
          314.02,
          435.65,
          28.42,
          0,
          0,
          381.78,
          3.36,
          430.51,
          347.74,
          71.46,
          56.8,
          56.92,
          0,
          447.47,
          24.45,
          1.25,
          232.68,
          30.16,
          116.25,
          349.7,
          0,
          331.77,
          203.08,
          57.22,
          0,
          180.9,
          395,
          0.53,
          487.52,
          140.59,
          0.17,
          243.04,
          406.82,
          179.35,
          71.69,
          327.62,
          231.03,
          338.87,
          2.54,
          0,
          365.75,
          15.03,
          3.16,
          111.6,
          272.83,
          236.99,
          349.28,
          408.08,
          113.39,
          82.48,
          0,
          317.28,
          0,
          65.21,
          267.86,
          452.82,
          33.22,
          0,
          0,
          376.98,
          4.55,
          420.49,
          328.65,
          121.45,
          48.12,
          67.9,
          0,
          432.7,
          28.05,
          1.61,
          234.38,
          31.45,
          111.78,
          385.39,
          0,
          254.24,
          225.77,
          81.95,
          0,
          187.94,
          399.24,
          1.5,
          436.06,
          141.51,
          0.19,
          244.08,
          393.04,
          170.27,
          2.9,
          308.39,
          231.85,
          315.07,
          14.01,
          0,
          360.95,
          33.12,
          2.32,
          57.1,
          285.74,
          142.02,
          315.76,
          381.09,
          93.9,
          83.87,
          0,
          337.57,
          0,
          45.78,
          237,
          441.01,
          49.2,
          0,
          0,
          364.83,
          14.49,
          400.25,
          314.4,
          219.81,
          8.96,
          39.51,
          0,
          409.31,
          32.1,
          2.15,
          236.14,
          33.38,
          118.94,
          384.68,
          0,
          220.62,
          222.98,
          101.89,
          0,
          199.99,
          411.82,
          0.37,
          400.09,
          165.5,
          0.05,
          254.5,
          379.91,
          167.28,
          1.67,
          308.83,
          226.71,
          320.04,
          13.82,
          0,
          339.48,
          19.2,
          0.51,
          52.77,
          284.44,
          195.04,
          277.19,
          356.64,
          79.77,
          72.17,
          0,
          346.97,
          0,
          97.32,
          217.04,
          391.83,
          61.61,
          0,
          0,
          355.88,
          10.88,
          369.83,
          296.08,
          341.96,
          10.32,
          69.8,
          0,
          403.72,
          37.27,
          0.21,
          240.36,
          35.88,
          121.74,
          364.31,
          0,
          236.11,
          202.55,
          97.65,
          0,
          219.99,
          421.58,
          0.81,
          401.73,
          225.74,
          0.35,
          264.31,
          362.02,
          169.93,
          1.44,
          322.77,
          233.38,
          354.66,
          19.81,
          0,
          306.97,
          25.64,
          1.12,
          41.41,
          270.67,
          116.53,
          236,
          331.47,
          71.35,
          70.38,
          0,
          386.3,
          0,
          56.58,
          210.66,
          384.22,
          71.5,
          0,
          0,
          344.82,
          22.12,
          358.74,
          281.38,
          585.54,
          11.01,
          45.66,
          0,
          391.33,
          37.26,
          0.77,
          244.55,
          41.73,
          123.57,
          324.86,
          0,
          304.41,
          181.39,
          65.78,
          0,
          228.91,
          399.56,
          2.05,
          399.94,
          250.27,
          3.03,
          262.23,
          347.33,
          172.3,
          3.97,
          329.13,
          240.64,
          362.36,
          20.72,
          0,
          285.72,
          33.97,
          2.3,
          36.74,
          254.24,
          53.02,
          212.56,
          311.53,
          78.33,
          70.1,
          0,
          401.11,
          0,
          75.67,
          216.26,
          386.78,
          55.49,
          0,
          0,
          326.4,
          46.75,
          356.57,
          283.06,
          538.34,
          10.81,
          52.35,
          0,
          364.13,
          37.13,
          3.95,
          245.8,
          46.75,
          123.96,
          278.2,
          0,
          336.76,
          160.05,
          108.55
         ],
         "y0": " ",
         "yaxis": "y"
        }
       ],
       "layout": {
        "boxmode": "group",
        "legend": {
         "tracegroupgap": 0
        },
        "template": {
         "data": {
          "bar": [
           {
            "error_x": {
             "color": "#2a3f5f"
            },
            "error_y": {
             "color": "#2a3f5f"
            },
            "marker": {
             "line": {
              "color": "#E5ECF6",
              "width": 0.5
             },
             "pattern": {
              "fillmode": "overlay",
              "size": 10,
              "solidity": 0.2
             }
            },
            "type": "bar"
           }
          ],
          "barpolar": [
           {
            "marker": {
             "line": {
              "color": "#E5ECF6",
              "width": 0.5
             },
             "pattern": {
              "fillmode": "overlay",
              "size": 10,
              "solidity": 0.2
             }
            },
            "type": "barpolar"
           }
          ],
          "carpet": [
           {
            "aaxis": {
             "endlinecolor": "#2a3f5f",
             "gridcolor": "white",
             "linecolor": "white",
             "minorgridcolor": "white",
             "startlinecolor": "#2a3f5f"
            },
            "baxis": {
             "endlinecolor": "#2a3f5f",
             "gridcolor": "white",
             "linecolor": "white",
             "minorgridcolor": "white",
             "startlinecolor": "#2a3f5f"
            },
            "type": "carpet"
           }
          ],
          "choropleth": [
           {
            "colorbar": {
             "outlinewidth": 0,
             "ticks": ""
            },
            "type": "choropleth"
           }
          ],
          "contour": [
           {
            "colorbar": {
             "outlinewidth": 0,
             "ticks": ""
            },
            "colorscale": [
             [
              0,
              "#0d0887"
             ],
             [
              0.1111111111111111,
              "#46039f"
             ],
             [
              0.2222222222222222,
              "#7201a8"
             ],
             [
              0.3333333333333333,
              "#9c179e"
             ],
             [
              0.4444444444444444,
              "#bd3786"
             ],
             [
              0.5555555555555556,
              "#d8576b"
             ],
             [
              0.6666666666666666,
              "#ed7953"
             ],
             [
              0.7777777777777778,
              "#fb9f3a"
             ],
             [
              0.8888888888888888,
              "#fdca26"
             ],
             [
              1,
              "#f0f921"
             ]
            ],
            "type": "contour"
           }
          ],
          "contourcarpet": [
           {
            "colorbar": {
             "outlinewidth": 0,
             "ticks": ""
            },
            "type": "contourcarpet"
           }
          ],
          "heatmap": [
           {
            "colorbar": {
             "outlinewidth": 0,
             "ticks": ""
            },
            "colorscale": [
             [
              0,
              "#0d0887"
             ],
             [
              0.1111111111111111,
              "#46039f"
             ],
             [
              0.2222222222222222,
              "#7201a8"
             ],
             [
              0.3333333333333333,
              "#9c179e"
             ],
             [
              0.4444444444444444,
              "#bd3786"
             ],
             [
              0.5555555555555556,
              "#d8576b"
             ],
             [
              0.6666666666666666,
              "#ed7953"
             ],
             [
              0.7777777777777778,
              "#fb9f3a"
             ],
             [
              0.8888888888888888,
              "#fdca26"
             ],
             [
              1,
              "#f0f921"
             ]
            ],
            "type": "heatmap"
           }
          ],
          "heatmapgl": [
           {
            "colorbar": {
             "outlinewidth": 0,
             "ticks": ""
            },
            "colorscale": [
             [
              0,
              "#0d0887"
             ],
             [
              0.1111111111111111,
              "#46039f"
             ],
             [
              0.2222222222222222,
              "#7201a8"
             ],
             [
              0.3333333333333333,
              "#9c179e"
             ],
             [
              0.4444444444444444,
              "#bd3786"
             ],
             [
              0.5555555555555556,
              "#d8576b"
             ],
             [
              0.6666666666666666,
              "#ed7953"
             ],
             [
              0.7777777777777778,
              "#fb9f3a"
             ],
             [
              0.8888888888888888,
              "#fdca26"
             ],
             [
              1,
              "#f0f921"
             ]
            ],
            "type": "heatmapgl"
           }
          ],
          "histogram": [
           {
            "marker": {
             "pattern": {
              "fillmode": "overlay",
              "size": 10,
              "solidity": 0.2
             }
            },
            "type": "histogram"
           }
          ],
          "histogram2d": [
           {
            "colorbar": {
             "outlinewidth": 0,
             "ticks": ""
            },
            "colorscale": [
             [
              0,
              "#0d0887"
             ],
             [
              0.1111111111111111,
              "#46039f"
             ],
             [
              0.2222222222222222,
              "#7201a8"
             ],
             [
              0.3333333333333333,
              "#9c179e"
             ],
             [
              0.4444444444444444,
              "#bd3786"
             ],
             [
              0.5555555555555556,
              "#d8576b"
             ],
             [
              0.6666666666666666,
              "#ed7953"
             ],
             [
              0.7777777777777778,
              "#fb9f3a"
             ],
             [
              0.8888888888888888,
              "#fdca26"
             ],
             [
              1,
              "#f0f921"
             ]
            ],
            "type": "histogram2d"
           }
          ],
          "histogram2dcontour": [
           {
            "colorbar": {
             "outlinewidth": 0,
             "ticks": ""
            },
            "colorscale": [
             [
              0,
              "#0d0887"
             ],
             [
              0.1111111111111111,
              "#46039f"
             ],
             [
              0.2222222222222222,
              "#7201a8"
             ],
             [
              0.3333333333333333,
              "#9c179e"
             ],
             [
              0.4444444444444444,
              "#bd3786"
             ],
             [
              0.5555555555555556,
              "#d8576b"
             ],
             [
              0.6666666666666666,
              "#ed7953"
             ],
             [
              0.7777777777777778,
              "#fb9f3a"
             ],
             [
              0.8888888888888888,
              "#fdca26"
             ],
             [
              1,
              "#f0f921"
             ]
            ],
            "type": "histogram2dcontour"
           }
          ],
          "mesh3d": [
           {
            "colorbar": {
             "outlinewidth": 0,
             "ticks": ""
            },
            "type": "mesh3d"
           }
          ],
          "parcoords": [
           {
            "line": {
             "colorbar": {
              "outlinewidth": 0,
              "ticks": ""
             }
            },
            "type": "parcoords"
           }
          ],
          "pie": [
           {
            "automargin": true,
            "type": "pie"
           }
          ],
          "scatter": [
           {
            "fillpattern": {
             "fillmode": "overlay",
             "size": 10,
             "solidity": 0.2
            },
            "type": "scatter"
           }
          ],
          "scatter3d": [
           {
            "line": {
             "colorbar": {
              "outlinewidth": 0,
              "ticks": ""
             }
            },
            "marker": {
             "colorbar": {
              "outlinewidth": 0,
              "ticks": ""
             }
            },
            "type": "scatter3d"
           }
          ],
          "scattercarpet": [
           {
            "marker": {
             "colorbar": {
              "outlinewidth": 0,
              "ticks": ""
             }
            },
            "type": "scattercarpet"
           }
          ],
          "scattergeo": [
           {
            "marker": {
             "colorbar": {
              "outlinewidth": 0,
              "ticks": ""
             }
            },
            "type": "scattergeo"
           }
          ],
          "scattergl": [
           {
            "marker": {
             "colorbar": {
              "outlinewidth": 0,
              "ticks": ""
             }
            },
            "type": "scattergl"
           }
          ],
          "scattermapbox": [
           {
            "marker": {
             "colorbar": {
              "outlinewidth": 0,
              "ticks": ""
             }
            },
            "type": "scattermapbox"
           }
          ],
          "scatterpolar": [
           {
            "marker": {
             "colorbar": {
              "outlinewidth": 0,
              "ticks": ""
             }
            },
            "type": "scatterpolar"
           }
          ],
          "scatterpolargl": [
           {
            "marker": {
             "colorbar": {
              "outlinewidth": 0,
              "ticks": ""
             }
            },
            "type": "scatterpolargl"
           }
          ],
          "scatterternary": [
           {
            "marker": {
             "colorbar": {
              "outlinewidth": 0,
              "ticks": ""
             }
            },
            "type": "scatterternary"
           }
          ],
          "surface": [
           {
            "colorbar": {
             "outlinewidth": 0,
             "ticks": ""
            },
            "colorscale": [
             [
              0,
              "#0d0887"
             ],
             [
              0.1111111111111111,
              "#46039f"
             ],
             [
              0.2222222222222222,
              "#7201a8"
             ],
             [
              0.3333333333333333,
              "#9c179e"
             ],
             [
              0.4444444444444444,
              "#bd3786"
             ],
             [
              0.5555555555555556,
              "#d8576b"
             ],
             [
              0.6666666666666666,
              "#ed7953"
             ],
             [
              0.7777777777777778,
              "#fb9f3a"
             ],
             [
              0.8888888888888888,
              "#fdca26"
             ],
             [
              1,
              "#f0f921"
             ]
            ],
            "type": "surface"
           }
          ],
          "table": [
           {
            "cells": {
             "fill": {
              "color": "#EBF0F8"
             },
             "line": {
              "color": "white"
             }
            },
            "header": {
             "fill": {
              "color": "#C8D4E3"
             },
             "line": {
              "color": "white"
             }
            },
            "type": "table"
           }
          ]
         },
         "layout": {
          "annotationdefaults": {
           "arrowcolor": "#2a3f5f",
           "arrowhead": 0,
           "arrowwidth": 1
          },
          "autotypenumbers": "strict",
          "coloraxis": {
           "colorbar": {
            "outlinewidth": 0,
            "ticks": ""
           }
          },
          "colorscale": {
           "diverging": [
            [
             0,
             "#8e0152"
            ],
            [
             0.1,
             "#c51b7d"
            ],
            [
             0.2,
             "#de77ae"
            ],
            [
             0.3,
             "#f1b6da"
            ],
            [
             0.4,
             "#fde0ef"
            ],
            [
             0.5,
             "#f7f7f7"
            ],
            [
             0.6,
             "#e6f5d0"
            ],
            [
             0.7,
             "#b8e186"
            ],
            [
             0.8,
             "#7fbc41"
            ],
            [
             0.9,
             "#4d9221"
            ],
            [
             1,
             "#276419"
            ]
           ],
           "sequential": [
            [
             0,
             "#0d0887"
            ],
            [
             0.1111111111111111,
             "#46039f"
            ],
            [
             0.2222222222222222,
             "#7201a8"
            ],
            [
             0.3333333333333333,
             "#9c179e"
            ],
            [
             0.4444444444444444,
             "#bd3786"
            ],
            [
             0.5555555555555556,
             "#d8576b"
            ],
            [
             0.6666666666666666,
             "#ed7953"
            ],
            [
             0.7777777777777778,
             "#fb9f3a"
            ],
            [
             0.8888888888888888,
             "#fdca26"
            ],
            [
             1,
             "#f0f921"
            ]
           ],
           "sequentialminus": [
            [
             0,
             "#0d0887"
            ],
            [
             0.1111111111111111,
             "#46039f"
            ],
            [
             0.2222222222222222,
             "#7201a8"
            ],
            [
             0.3333333333333333,
             "#9c179e"
            ],
            [
             0.4444444444444444,
             "#bd3786"
            ],
            [
             0.5555555555555556,
             "#d8576b"
            ],
            [
             0.6666666666666666,
             "#ed7953"
            ],
            [
             0.7777777777777778,
             "#fb9f3a"
            ],
            [
             0.8888888888888888,
             "#fdca26"
            ],
            [
             1,
             "#f0f921"
            ]
           ]
          },
          "colorway": [
           "#636efa",
           "#EF553B",
           "#00cc96",
           "#ab63fa",
           "#FFA15A",
           "#19d3f3",
           "#FF6692",
           "#B6E880",
           "#FF97FF",
           "#FECB52"
          ],
          "font": {
           "color": "#2a3f5f"
          },
          "geo": {
           "bgcolor": "white",
           "lakecolor": "white",
           "landcolor": "#E5ECF6",
           "showlakes": true,
           "showland": true,
           "subunitcolor": "white"
          },
          "hoverlabel": {
           "align": "left"
          },
          "hovermode": "closest",
          "mapbox": {
           "style": "light"
          },
          "paper_bgcolor": "white",
          "plot_bgcolor": "#E5ECF6",
          "polar": {
           "angularaxis": {
            "gridcolor": "white",
            "linecolor": "white",
            "ticks": ""
           },
           "bgcolor": "#E5ECF6",
           "radialaxis": {
            "gridcolor": "white",
            "linecolor": "white",
            "ticks": ""
           }
          },
          "scene": {
           "xaxis": {
            "backgroundcolor": "#E5ECF6",
            "gridcolor": "white",
            "gridwidth": 2,
            "linecolor": "white",
            "showbackground": true,
            "ticks": "",
            "zerolinecolor": "white"
           },
           "yaxis": {
            "backgroundcolor": "#E5ECF6",
            "gridcolor": "white",
            "gridwidth": 2,
            "linecolor": "white",
            "showbackground": true,
            "ticks": "",
            "zerolinecolor": "white"
           },
           "zaxis": {
            "backgroundcolor": "#E5ECF6",
            "gridcolor": "white",
            "gridwidth": 2,
            "linecolor": "white",
            "showbackground": true,
            "ticks": "",
            "zerolinecolor": "white"
           }
          },
          "shapedefaults": {
           "line": {
            "color": "#2a3f5f"
           }
          },
          "ternary": {
           "aaxis": {
            "gridcolor": "white",
            "linecolor": "white",
            "ticks": ""
           },
           "baxis": {
            "gridcolor": "white",
            "linecolor": "white",
            "ticks": ""
           },
           "bgcolor": "#E5ECF6",
           "caxis": {
            "gridcolor": "white",
            "linecolor": "white",
            "ticks": ""
           }
          },
          "title": {
           "x": 0.05
          },
          "xaxis": {
           "automargin": true,
           "gridcolor": "white",
           "linecolor": "white",
           "ticks": "",
           "title": {
            "standoff": 15
           },
           "zerolinecolor": "white",
           "zerolinewidth": 2
          },
          "yaxis": {
           "automargin": true,
           "gridcolor": "white",
           "linecolor": "white",
           "ticks": "",
           "title": {
            "standoff": 15
           },
           "zerolinecolor": "white",
           "zerolinewidth": 2
          }
         }
        },
        "title": {
         "text": "Boxplot of Malaria Incidences per 1000 Population at Risk Across Years"
        },
        "xaxis": {
         "anchor": "y",
         "domain": [
          0,
          1
         ],
         "title": {
          "text": "Year"
         }
        },
        "yaxis": {
         "anchor": "x",
         "domain": [
          0,
          1
         ],
         "title": {
          "text": "Incidences_per_1000_population_at_risk"
         }
        }
       }
      }
     },
     "metadata": {},
     "output_type": "display_data"
    },
    {
     "data": {
      "application/vnd.plotly.v1+json": {
       "config": {
        "plotlyServerURL": "https://plot.ly"
       },
       "data": [
        {
         "alignmentgroup": "True",
         "hovertemplate": "Country=%{x}<br>Incidences_per_1000_population_at_risk=%{y}<extra></extra>",
         "legendgroup": "",
         "marker": {
          "color": "#636efa"
         },
         "name": "",
         "notched": false,
         "offsetgroup": "",
         "orientation": "v",
         "showlegend": false,
         "type": "box",
         "x": [
          "Algeria",
          "Angola",
          "Benin",
          "Botswana",
          "Burkina Faso",
          "Burundi",
          "Cabo Verde",
          "Cameroon",
          "Central African Republic",
          "Chad",
          "Comoros",
          "Congo, Dem. Rep.",
          "Congo, Rep.",
          "Cote d'Ivoire",
          "Djibouti",
          "Egypt, Arab Rep.",
          "Equatorial Guinea",
          "Eritrea",
          "Eswatini",
          "Ethiopia",
          "Gabon",
          "Gambia, The",
          "Ghana",
          "Guinea",
          "Guinea-Bissau",
          "Kenya",
          "Lesotho",
          "Liberia",
          "Libya",
          "Madagascar",
          "Malawi",
          "Mali",
          "Mauritania",
          "Mauritius",
          "Morocco",
          "Mozambique",
          "Namibia",
          "Niger",
          "Nigeria",
          "Rwanda",
          "Sao Tome and Principe",
          "Senegal",
          "Seychelles",
          "Sierra Leone",
          "Somalia",
          "South Africa",
          "South Sudan",
          "Sudan",
          "Tanzania",
          "Togo",
          "Tunisia",
          "Uganda",
          "Zambia",
          "Zimbabwe",
          "Algeria",
          "Angola",
          "Benin",
          "Botswana",
          "Burkina Faso",
          "Burundi",
          "Cabo Verde",
          "Cameroon",
          "Central African Republic",
          "Comoros",
          "Chad",
          "Congo, Dem. Rep.",
          "Congo, Rep.",
          "Cote d'Ivoire",
          "Djibouti",
          "Egypt, Arab Rep.",
          "Equatorial Guinea",
          "Eritrea",
          "Eswatini",
          "Ethiopia",
          "Gabon",
          "Gambia, The",
          "Ghana",
          "Guinea",
          "Guinea-Bissau",
          "Kenya",
          "Lesotho",
          "Liberia",
          "Libya",
          "Madagascar",
          "Malawi",
          "Mali",
          "Mauritania",
          "Mauritius",
          "Morocco",
          "Mozambique",
          "Namibia",
          "Niger",
          "Nigeria",
          "Rwanda",
          "Sao Tome and Principe",
          "Senegal",
          "Seychelles",
          "Sierra Leone",
          "Somalia",
          "South Africa",
          "South Sudan",
          "Sudan",
          "Tanzania",
          "Togo",
          "Tunisia",
          "Uganda",
          "Zambia",
          "Zimbabwe",
          "Algeria",
          "Angola",
          "Benin",
          "Botswana",
          "Burkina Faso",
          "Burundi",
          "Cabo Verde",
          "Cameroon",
          "Central African Republic",
          "Chad",
          "Comoros",
          "Congo, Dem. Rep.",
          "Congo, Rep.",
          "Cote d'Ivoire",
          "Djibouti",
          "Egypt, Arab Rep.",
          "Equatorial Guinea",
          "Eritrea",
          "Eswatini",
          "Ethiopia",
          "Gabon",
          "Gambia, The",
          "Ghana",
          "Guinea",
          "Guinea-Bissau",
          "Kenya",
          "Lesotho",
          "Liberia",
          "Libya",
          "Madagascar",
          "Malawi",
          "Mali",
          "Mauritania",
          "Mauritius",
          "Morocco",
          "Mozambique",
          "Namibia",
          "Niger",
          "Nigeria",
          "Rwanda",
          "Sao Tome and Principe",
          "Senegal",
          "Seychelles",
          "Sierra Leone",
          "Somalia",
          "South Africa",
          "South Sudan",
          "Sudan",
          "Tanzania",
          "Togo",
          "Tunisia",
          "Uganda",
          "Zambia",
          "Zimbabwe",
          "Algeria",
          "Angola",
          "Benin",
          "Botswana",
          "Burkina Faso",
          "Burundi",
          "Cabo Verde",
          "Cameroon",
          "Central African Republic",
          "Chad",
          "Comoros",
          "Congo, Dem. Rep.",
          "Congo, Rep.",
          "Cote d'Ivoire",
          "Djibouti",
          "Egypt, Arab Rep.",
          "Equatorial Guinea",
          "Eritrea",
          "Eswatini",
          "Ethiopia",
          "Gabon",
          "Gambia, The",
          "Ghana",
          "Guinea",
          "Guinea-Bissau",
          "Kenya",
          "Lesotho",
          "Liberia",
          "Libya",
          "Madagascar",
          "Malawi",
          "Mali",
          "Mauritania",
          "Mauritius",
          "Morocco",
          "Mozambique",
          "Namibia",
          "Niger",
          "Nigeria",
          "Rwanda",
          "Sao Tome and Principe",
          "Senegal",
          "Seychelles",
          "Sierra Leone",
          "Somalia",
          "South Africa",
          "South Sudan",
          "Sudan",
          "Tanzania",
          "Togo",
          "Tunisia",
          "Uganda",
          "Zambia",
          "Zimbabwe",
          "Algeria",
          "Angola",
          "Benin",
          "Botswana",
          "Burkina Faso",
          "Burundi",
          "Cabo Verde",
          "Cameroon",
          "Central African Republic",
          "Chad",
          "Comoros",
          "Congo, Dem. Rep.",
          "Congo, Rep.",
          "Cote d'Ivoire",
          "Djibouti",
          "Egypt, Arab Rep.",
          "Equatorial Guinea",
          "Eritrea",
          "Eswatini",
          "Ethiopia",
          "Gabon",
          "Gambia, The",
          "Ghana",
          "Guinea",
          "Guinea-Bissau",
          "Kenya",
          "Lesotho",
          "Liberia",
          "Libya",
          "Madagascar",
          "Malawi",
          "Mali",
          "Mauritania",
          "Mauritius",
          "Morocco",
          "Mozambique",
          "Namibia",
          "Niger",
          "Nigeria",
          "Rwanda",
          "Sao Tome and Principe",
          "Senegal",
          "Seychelles",
          "Sierra Leone",
          "Somalia",
          "South Africa",
          "South Sudan",
          "Sudan",
          "Tanzania",
          "Togo",
          "Tunisia",
          "Uganda",
          "Zambia",
          "Zimbabwe",
          "Algeria",
          "Angola",
          "Benin",
          "Botswana",
          "Burkina Faso",
          "Burundi",
          "Cabo Verde",
          "Cameroon",
          "Central African Republic",
          "Chad",
          "Comoros",
          "Congo, Dem. Rep.",
          "Congo, Rep.",
          "Cote d'Ivoire",
          "Djibouti",
          "Egypt, Arab Rep.",
          "Equatorial Guinea",
          "Eritrea",
          "Eswatini",
          "Ethiopia",
          "Gabon",
          "Gambia, The",
          "Ghana",
          "Guinea",
          "Guinea-Bissau",
          "Kenya",
          "Lesotho",
          "Liberia",
          "Libya",
          "Madagascar",
          "Malawi",
          "Mali",
          "Mauritania",
          "Mauritius",
          "Morocco",
          "Mozambique",
          "Namibia",
          "Niger",
          "Nigeria",
          "Rwanda",
          "Sao Tome and Principe",
          "Senegal",
          "Seychelles",
          "Sierra Leone",
          "Somalia",
          "South Africa",
          "South Sudan",
          "Sudan",
          "Tanzania",
          "Togo",
          "Tunisia",
          "Uganda",
          "Zambia",
          "Zimbabwe",
          "Algeria",
          "Angola",
          "Benin",
          "Botswana",
          "Burkina Faso",
          "Burundi",
          "Cabo Verde",
          "Cameroon",
          "Central African Republic",
          "Chad",
          "Comoros",
          "Congo, Dem. Rep.",
          "Congo, Rep.",
          "Cote d'Ivoire",
          "Djibouti",
          "Egypt, Arab Rep.",
          "Equatorial Guinea",
          "Eritrea",
          "Eswatini",
          "Ethiopia",
          "Gabon",
          "Gambia, The",
          "Ghana",
          "Guinea",
          "Guinea-Bissau",
          "Kenya",
          "Lesotho",
          "Liberia",
          "Libya",
          "Madagascar",
          "Malawi",
          "Mali",
          "Mauritania",
          "Mauritius",
          "Morocco",
          "Mozambique",
          "Namibia",
          "Niger",
          "Nigeria",
          "Rwanda",
          "Sao Tome and Principe",
          "Senegal",
          "Seychelles",
          "Sierra Leone",
          "Somalia",
          "South Africa",
          "South Sudan",
          "Sudan",
          "Tanzania",
          "Togo",
          "Tunisia",
          "Uganda",
          "Zambia",
          "Zimbabwe",
          "Algeria",
          "Angola",
          "Benin",
          "Botswana",
          "Burkina Faso",
          "Burundi",
          "Cabo Verde",
          "Cameroon",
          "Central African Republic",
          "Chad",
          "Comoros",
          "Congo, Dem. Rep.",
          "Congo, Rep.",
          "Cote d'Ivoire",
          "Djibouti",
          "Egypt, Arab Rep.",
          "Equatorial Guinea",
          "Eritrea",
          "Eswatini",
          "Ethiopia",
          "Gabon",
          "Gambia, The",
          "Ghana",
          "Guinea",
          "Guinea-Bissau",
          "Kenya",
          "Lesotho",
          "Liberia",
          "Libya",
          "Madagascar",
          "Malawi",
          "Mali",
          "Mauritania",
          "Mauritius",
          "Morocco",
          "Mozambique",
          "Namibia",
          "Niger",
          "Nigeria",
          "Rwanda",
          "Sao Tome and Principe",
          "Senegal",
          "Seychelles",
          "Sierra Leone",
          "Somalia",
          "South Africa",
          "South Sudan",
          "Sudan",
          "Tanzania",
          "Togo",
          "Tunisia",
          "Uganda",
          "Zambia",
          "Zimbabwe",
          "Algeria",
          "Angola",
          "Benin",
          "Botswana",
          "Burkina Faso",
          "Burundi",
          "Cabo Verde",
          "Cameroon",
          "Central African Republic",
          "Chad",
          "Comoros",
          "Congo, Dem. Rep.",
          "Congo, Rep.",
          "Cote d'Ivoire",
          "Djibouti",
          "Egypt, Arab Rep.",
          "Equatorial Guinea",
          "Eritrea",
          "Eswatini",
          "Ethiopia",
          "Gabon",
          "Gambia, The",
          "Ghana",
          "Guinea",
          "Guinea-Bissau",
          "Kenya",
          "Lesotho",
          "Liberia",
          "Libya",
          "Madagascar",
          "Malawi",
          "Mali",
          "Mauritania",
          "Mauritius",
          "Morocco",
          "Mozambique",
          "Namibia",
          "Niger",
          "Nigeria",
          "Rwanda",
          "Sao Tome and Principe",
          "Senegal",
          "Seychelles",
          "Sierra Leone",
          "Somalia",
          "South Africa",
          "South Sudan",
          "Sudan",
          "Tanzania",
          "Togo",
          "Tunisia",
          "Uganda",
          "Zambia",
          "Zimbabwe",
          "Algeria",
          "Angola",
          "Benin",
          "Botswana",
          "Burkina Faso",
          "Burundi",
          "Cabo Verde",
          "Cameroon",
          "Central African Republic",
          "Chad",
          "Comoros",
          "Congo, Dem. Rep.",
          "Congo, Rep.",
          "Cote d'Ivoire",
          "Djibouti",
          "Egypt, Arab Rep.",
          "Equatorial Guinea",
          "Eritrea",
          "Eswatini",
          "Ethiopia",
          "Gabon",
          "Gambia, The",
          "Ghana",
          "Guinea",
          "Guinea-Bissau",
          "Kenya",
          "Lesotho",
          "Liberia",
          "Libya",
          "Madagascar",
          "Malawi",
          "Mali",
          "Mauritania",
          "Mauritius",
          "Morocco",
          "Mozambique",
          "Namibia",
          "Niger",
          "Nigeria",
          "Rwanda",
          "Sao Tome and Principe",
          "Senegal",
          "Seychelles",
          "Sierra Leone",
          "Somalia",
          "South Africa",
          "South Sudan",
          "Sudan",
          "Tanzania",
          "Togo",
          "Tunisia",
          "Uganda",
          "Zambia",
          "Zimbabwe",
          "Algeria",
          "Angola",
          "Benin",
          "Botswana",
          "Burkina Faso",
          "Burundi",
          "Cabo Verde",
          "Cameroon",
          "Central African Republic",
          "Chad",
          "Comoros",
          "Congo, Dem. Rep.",
          "Congo, Rep.",
          "Cote d'Ivoire",
          "Djibouti",
          "Egypt, Arab Rep.",
          "Equatorial Guinea",
          "Eritrea",
          "Eswatini",
          "Ethiopia",
          "Gabon",
          "Gambia, The",
          "Ghana",
          "Guinea",
          "Guinea-Bissau",
          "Kenya",
          "Lesotho",
          "Liberia",
          "Libya",
          "Madagascar",
          "Malawi",
          "Mali",
          "Mauritania",
          "Mauritius",
          "Morocco",
          "Mozambique",
          "Namibia",
          "Niger",
          "Nigeria",
          "Rwanda",
          "Sao Tome and Principe",
          "Senegal",
          "Seychelles",
          "Sierra Leone",
          "Somalia",
          "South Africa",
          "South Sudan",
          "Sudan",
          "Tanzania",
          "Togo",
          "Tunisia",
          "Uganda",
          "Zambia",
          "Zimbabwe"
         ],
         "x0": " ",
         "xaxis": "x",
         "y": [
          0.01,
          286.72,
          480.24,
          1.03,
          503.8,
          222.92,
          0.15,
          386.68,
          471.11,
          210.71,
          60.65,
          481.93,
          281.83,
          509.98,
          3.84,
          0,
          398.15,
          12.54,
          0.29,
          121.69,
          110.66,
          316.01,
          322.33,
          343.69,
          72.81,
          78.02,
          0,
          383.18,
          0,
          22.78,
          370.08,
          388.81,
          70.77,
          0,
          0,
          399.45,
          12.97,
          386.68,
          421.33,
          90.64,
          14.56,
          101.91,
          0,
          379.94,
          100.56,
          1.29,
          276.75,
          41.08,
          184.53,
          434.49,
          0,
          377.94,
          195.74,
          175.12,
          0,
          241.19,
          453.17,
          1.93,
          533.39,
          222.77,
          0.28,
          358.72,
          461.79,
          59.21,
          215.1,
          471.43,
          249.16,
          510.08,
          3.74,
          0,
          378.24,
          6.78,
          0.2,
          90.66,
          118.87,
          306.84,
          333.72,
          370.17,
          89.02,
          67.68,
          0,
          383.33,
          0,
          23.47,
          392,
          379.06,
          61.14,
          0,
          0,
          399.79,
          7.46,
          409.1,
          424.66,
          72.03,
          36.57,
          86.42,
          0,
          413.85,
          63.1,
          1.57,
          267.14,
          35.05,
          171,
          379.9,
          0,
          410.46,
          176.72,
          74.73,
          0,
          204.35,
          417.96,
          2.1,
          552.03,
          220.65,
          0.51,
          322.98,
          448.45,
          222.91,
          57.81,
          452.18,
          226.32,
          494.48,
          4.33,
          0,
          351.29,
          8.86,
          0.36,
          123.35,
          145.95,
          297.98,
          351.39,
          398.14,
          113.8,
          67.94,
          0,
          368.81,
          0,
          42.92,
          394.29,
          374.56,
          31.64,
          0,
          0,
          402.3,
          3.36,
          419.1,
          416.59,
          158.16,
          35.15,
          57.12,
          0,
          442.15,
          38.44,
          1.2,
          255.07,
          32.29,
          157.11,
          326.88,
          0,
          433.79,
          172,
          90.5,
          0,
          185.52,
          387.76,
          1.69,
          551.24,
          210.2,
          0.37,
          295.53,
          434.51,
          225.94,
          52.98,
          428.31,
          220.92,
          469.27,
          1.6,
          0,
          339.99,
          26.33,
          0.9,
          128.4,
          177.82,
          289.27,
          364.15,
          414.66,
          134.37,
          67.71,
          0,
          345.77,
          0,
          42.24,
          386.02,
          383.6,
          38.83,
          0,
          0,
          398.41,
          1.54,
          425.64,
          398.9,
          126.31,
          15.19,
          59.28,
          0,
          458.74,
          29.59,
          1.57,
          243.97,
          30.66,
          145.46,
          308.88,
          0,
          417.35,
          177.02,
          109.43,
          0,
          175.99,
          370.11,
          0.51,
          539.56,
          184.15,
          0.05,
          265.1,
          419.33,
          210.48,
          35.18,
          399.59,
          224.38,
          442.11,
          3.42,
          0,
          342.4,
          23.86,
          1.83,
          116.13,
          212.72,
          257.26,
          379.52,
          426.9,
          140.55,
          67.86,
          0,
          330.41,
          0,
          36.55,
          362.78,
          404.73,
          47.58,
          0,
          0,
          389.92,
          2.13,
          427.88,
          372.56,
          39.29,
          45.75,
          49.91,
          0,
          453.65,
          24.35,
          1.9,
          235.87,
          29.97,
          132.48,
          313.4,
          0,
          385.7,
          186.7,
          70.68,
          0.03,
          174.43,
          378.03,
          0.22,
          527.54,
          153.93,
          0.01,
          245.13,
          413.09,
          195.34,
          68.85,
          363,
          224.63,
          396.28,
          3.31,
          0,
          357.75,
          16.15,
          1.86,
          116.19,
          245.53,
          274.82,
          374.29,
          427.8,
          128.75,
          73.36,
          0,
          307.9,
          0,
          71.36,
          314.02,
          435.65,
          28.42,
          0,
          0,
          381.78,
          3.36,
          430.51,
          347.74,
          71.46,
          56.8,
          56.92,
          0,
          447.47,
          24.45,
          1.25,
          232.68,
          30.16,
          116.25,
          349.7,
          0,
          331.77,
          203.08,
          57.22,
          0,
          180.9,
          395,
          0.53,
          487.52,
          140.59,
          0.17,
          243.04,
          406.82,
          179.35,
          71.69,
          327.62,
          231.03,
          338.87,
          2.54,
          0,
          365.75,
          15.03,
          3.16,
          111.6,
          272.83,
          236.99,
          349.28,
          408.08,
          113.39,
          82.48,
          0,
          317.28,
          0,
          65.21,
          267.86,
          452.82,
          33.22,
          0,
          0,
          376.98,
          4.55,
          420.49,
          328.65,
          121.45,
          48.12,
          67.9,
          0,
          432.7,
          28.05,
          1.61,
          234.38,
          31.45,
          111.78,
          385.39,
          0,
          254.24,
          225.77,
          81.95,
          0,
          187.94,
          399.24,
          1.5,
          436.06,
          141.51,
          0.19,
          244.08,
          393.04,
          170.27,
          2.9,
          308.39,
          231.85,
          315.07,
          14.01,
          0,
          360.95,
          33.12,
          2.32,
          57.1,
          285.74,
          142.02,
          315.76,
          381.09,
          93.9,
          83.87,
          0,
          337.57,
          0,
          45.78,
          237,
          441.01,
          49.2,
          0,
          0,
          364.83,
          14.49,
          400.25,
          314.4,
          219.81,
          8.96,
          39.51,
          0,
          409.31,
          32.1,
          2.15,
          236.14,
          33.38,
          118.94,
          384.68,
          0,
          220.62,
          222.98,
          101.89,
          0,
          199.99,
          411.82,
          0.37,
          400.09,
          165.5,
          0.05,
          254.5,
          379.91,
          167.28,
          1.67,
          308.83,
          226.71,
          320.04,
          13.82,
          0,
          339.48,
          19.2,
          0.51,
          52.77,
          284.44,
          195.04,
          277.19,
          356.64,
          79.77,
          72.17,
          0,
          346.97,
          0,
          97.32,
          217.04,
          391.83,
          61.61,
          0,
          0,
          355.88,
          10.88,
          369.83,
          296.08,
          341.96,
          10.32,
          69.8,
          0,
          403.72,
          37.27,
          0.21,
          240.36,
          35.88,
          121.74,
          364.31,
          0,
          236.11,
          202.55,
          97.65,
          0,
          219.99,
          421.58,
          0.81,
          401.73,
          225.74,
          0.35,
          264.31,
          362.02,
          169.93,
          1.44,
          322.77,
          233.38,
          354.66,
          19.81,
          0,
          306.97,
          25.64,
          1.12,
          41.41,
          270.67,
          116.53,
          236,
          331.47,
          71.35,
          70.38,
          0,
          386.3,
          0,
          56.58,
          210.66,
          384.22,
          71.5,
          0,
          0,
          344.82,
          22.12,
          358.74,
          281.38,
          585.54,
          11.01,
          45.66,
          0,
          391.33,
          37.26,
          0.77,
          244.55,
          41.73,
          123.57,
          324.86,
          0,
          304.41,
          181.39,
          65.78,
          0,
          228.91,
          399.56,
          2.05,
          399.94,
          250.27,
          3.03,
          262.23,
          347.33,
          172.3,
          3.97,
          329.13,
          240.64,
          362.36,
          20.72,
          0,
          285.72,
          33.97,
          2.3,
          36.74,
          254.24,
          53.02,
          212.56,
          311.53,
          78.33,
          70.1,
          0,
          401.11,
          0,
          75.67,
          216.26,
          386.78,
          55.49,
          0,
          0,
          326.4,
          46.75,
          356.57,
          283.06,
          538.34,
          10.81,
          52.35,
          0,
          364.13,
          37.13,
          3.95,
          245.8,
          46.75,
          123.96,
          278.2,
          0,
          336.76,
          160.05,
          108.55
         ],
         "y0": " ",
         "yaxis": "y"
        }
       ],
       "layout": {
        "boxmode": "group",
        "legend": {
         "tracegroupgap": 0
        },
        "template": {
         "data": {
          "bar": [
           {
            "error_x": {
             "color": "#2a3f5f"
            },
            "error_y": {
             "color": "#2a3f5f"
            },
            "marker": {
             "line": {
              "color": "#E5ECF6",
              "width": 0.5
             },
             "pattern": {
              "fillmode": "overlay",
              "size": 10,
              "solidity": 0.2
             }
            },
            "type": "bar"
           }
          ],
          "barpolar": [
           {
            "marker": {
             "line": {
              "color": "#E5ECF6",
              "width": 0.5
             },
             "pattern": {
              "fillmode": "overlay",
              "size": 10,
              "solidity": 0.2
             }
            },
            "type": "barpolar"
           }
          ],
          "carpet": [
           {
            "aaxis": {
             "endlinecolor": "#2a3f5f",
             "gridcolor": "white",
             "linecolor": "white",
             "minorgridcolor": "white",
             "startlinecolor": "#2a3f5f"
            },
            "baxis": {
             "endlinecolor": "#2a3f5f",
             "gridcolor": "white",
             "linecolor": "white",
             "minorgridcolor": "white",
             "startlinecolor": "#2a3f5f"
            },
            "type": "carpet"
           }
          ],
          "choropleth": [
           {
            "colorbar": {
             "outlinewidth": 0,
             "ticks": ""
            },
            "type": "choropleth"
           }
          ],
          "contour": [
           {
            "colorbar": {
             "outlinewidth": 0,
             "ticks": ""
            },
            "colorscale": [
             [
              0,
              "#0d0887"
             ],
             [
              0.1111111111111111,
              "#46039f"
             ],
             [
              0.2222222222222222,
              "#7201a8"
             ],
             [
              0.3333333333333333,
              "#9c179e"
             ],
             [
              0.4444444444444444,
              "#bd3786"
             ],
             [
              0.5555555555555556,
              "#d8576b"
             ],
             [
              0.6666666666666666,
              "#ed7953"
             ],
             [
              0.7777777777777778,
              "#fb9f3a"
             ],
             [
              0.8888888888888888,
              "#fdca26"
             ],
             [
              1,
              "#f0f921"
             ]
            ],
            "type": "contour"
           }
          ],
          "contourcarpet": [
           {
            "colorbar": {
             "outlinewidth": 0,
             "ticks": ""
            },
            "type": "contourcarpet"
           }
          ],
          "heatmap": [
           {
            "colorbar": {
             "outlinewidth": 0,
             "ticks": ""
            },
            "colorscale": [
             [
              0,
              "#0d0887"
             ],
             [
              0.1111111111111111,
              "#46039f"
             ],
             [
              0.2222222222222222,
              "#7201a8"
             ],
             [
              0.3333333333333333,
              "#9c179e"
             ],
             [
              0.4444444444444444,
              "#bd3786"
             ],
             [
              0.5555555555555556,
              "#d8576b"
             ],
             [
              0.6666666666666666,
              "#ed7953"
             ],
             [
              0.7777777777777778,
              "#fb9f3a"
             ],
             [
              0.8888888888888888,
              "#fdca26"
             ],
             [
              1,
              "#f0f921"
             ]
            ],
            "type": "heatmap"
           }
          ],
          "heatmapgl": [
           {
            "colorbar": {
             "outlinewidth": 0,
             "ticks": ""
            },
            "colorscale": [
             [
              0,
              "#0d0887"
             ],
             [
              0.1111111111111111,
              "#46039f"
             ],
             [
              0.2222222222222222,
              "#7201a8"
             ],
             [
              0.3333333333333333,
              "#9c179e"
             ],
             [
              0.4444444444444444,
              "#bd3786"
             ],
             [
              0.5555555555555556,
              "#d8576b"
             ],
             [
              0.6666666666666666,
              "#ed7953"
             ],
             [
              0.7777777777777778,
              "#fb9f3a"
             ],
             [
              0.8888888888888888,
              "#fdca26"
             ],
             [
              1,
              "#f0f921"
             ]
            ],
            "type": "heatmapgl"
           }
          ],
          "histogram": [
           {
            "marker": {
             "pattern": {
              "fillmode": "overlay",
              "size": 10,
              "solidity": 0.2
             }
            },
            "type": "histogram"
           }
          ],
          "histogram2d": [
           {
            "colorbar": {
             "outlinewidth": 0,
             "ticks": ""
            },
            "colorscale": [
             [
              0,
              "#0d0887"
             ],
             [
              0.1111111111111111,
              "#46039f"
             ],
             [
              0.2222222222222222,
              "#7201a8"
             ],
             [
              0.3333333333333333,
              "#9c179e"
             ],
             [
              0.4444444444444444,
              "#bd3786"
             ],
             [
              0.5555555555555556,
              "#d8576b"
             ],
             [
              0.6666666666666666,
              "#ed7953"
             ],
             [
              0.7777777777777778,
              "#fb9f3a"
             ],
             [
              0.8888888888888888,
              "#fdca26"
             ],
             [
              1,
              "#f0f921"
             ]
            ],
            "type": "histogram2d"
           }
          ],
          "histogram2dcontour": [
           {
            "colorbar": {
             "outlinewidth": 0,
             "ticks": ""
            },
            "colorscale": [
             [
              0,
              "#0d0887"
             ],
             [
              0.1111111111111111,
              "#46039f"
             ],
             [
              0.2222222222222222,
              "#7201a8"
             ],
             [
              0.3333333333333333,
              "#9c179e"
             ],
             [
              0.4444444444444444,
              "#bd3786"
             ],
             [
              0.5555555555555556,
              "#d8576b"
             ],
             [
              0.6666666666666666,
              "#ed7953"
             ],
             [
              0.7777777777777778,
              "#fb9f3a"
             ],
             [
              0.8888888888888888,
              "#fdca26"
             ],
             [
              1,
              "#f0f921"
             ]
            ],
            "type": "histogram2dcontour"
           }
          ],
          "mesh3d": [
           {
            "colorbar": {
             "outlinewidth": 0,
             "ticks": ""
            },
            "type": "mesh3d"
           }
          ],
          "parcoords": [
           {
            "line": {
             "colorbar": {
              "outlinewidth": 0,
              "ticks": ""
             }
            },
            "type": "parcoords"
           }
          ],
          "pie": [
           {
            "automargin": true,
            "type": "pie"
           }
          ],
          "scatter": [
           {
            "fillpattern": {
             "fillmode": "overlay",
             "size": 10,
             "solidity": 0.2
            },
            "type": "scatter"
           }
          ],
          "scatter3d": [
           {
            "line": {
             "colorbar": {
              "outlinewidth": 0,
              "ticks": ""
             }
            },
            "marker": {
             "colorbar": {
              "outlinewidth": 0,
              "ticks": ""
             }
            },
            "type": "scatter3d"
           }
          ],
          "scattercarpet": [
           {
            "marker": {
             "colorbar": {
              "outlinewidth": 0,
              "ticks": ""
             }
            },
            "type": "scattercarpet"
           }
          ],
          "scattergeo": [
           {
            "marker": {
             "colorbar": {
              "outlinewidth": 0,
              "ticks": ""
             }
            },
            "type": "scattergeo"
           }
          ],
          "scattergl": [
           {
            "marker": {
             "colorbar": {
              "outlinewidth": 0,
              "ticks": ""
             }
            },
            "type": "scattergl"
           }
          ],
          "scattermapbox": [
           {
            "marker": {
             "colorbar": {
              "outlinewidth": 0,
              "ticks": ""
             }
            },
            "type": "scattermapbox"
           }
          ],
          "scatterpolar": [
           {
            "marker": {
             "colorbar": {
              "outlinewidth": 0,
              "ticks": ""
             }
            },
            "type": "scatterpolar"
           }
          ],
          "scatterpolargl": [
           {
            "marker": {
             "colorbar": {
              "outlinewidth": 0,
              "ticks": ""
             }
            },
            "type": "scatterpolargl"
           }
          ],
          "scatterternary": [
           {
            "marker": {
             "colorbar": {
              "outlinewidth": 0,
              "ticks": ""
             }
            },
            "type": "scatterternary"
           }
          ],
          "surface": [
           {
            "colorbar": {
             "outlinewidth": 0,
             "ticks": ""
            },
            "colorscale": [
             [
              0,
              "#0d0887"
             ],
             [
              0.1111111111111111,
              "#46039f"
             ],
             [
              0.2222222222222222,
              "#7201a8"
             ],
             [
              0.3333333333333333,
              "#9c179e"
             ],
             [
              0.4444444444444444,
              "#bd3786"
             ],
             [
              0.5555555555555556,
              "#d8576b"
             ],
             [
              0.6666666666666666,
              "#ed7953"
             ],
             [
              0.7777777777777778,
              "#fb9f3a"
             ],
             [
              0.8888888888888888,
              "#fdca26"
             ],
             [
              1,
              "#f0f921"
             ]
            ],
            "type": "surface"
           }
          ],
          "table": [
           {
            "cells": {
             "fill": {
              "color": "#EBF0F8"
             },
             "line": {
              "color": "white"
             }
            },
            "header": {
             "fill": {
              "color": "#C8D4E3"
             },
             "line": {
              "color": "white"
             }
            },
            "type": "table"
           }
          ]
         },
         "layout": {
          "annotationdefaults": {
           "arrowcolor": "#2a3f5f",
           "arrowhead": 0,
           "arrowwidth": 1
          },
          "autotypenumbers": "strict",
          "coloraxis": {
           "colorbar": {
            "outlinewidth": 0,
            "ticks": ""
           }
          },
          "colorscale": {
           "diverging": [
            [
             0,
             "#8e0152"
            ],
            [
             0.1,
             "#c51b7d"
            ],
            [
             0.2,
             "#de77ae"
            ],
            [
             0.3,
             "#f1b6da"
            ],
            [
             0.4,
             "#fde0ef"
            ],
            [
             0.5,
             "#f7f7f7"
            ],
            [
             0.6,
             "#e6f5d0"
            ],
            [
             0.7,
             "#b8e186"
            ],
            [
             0.8,
             "#7fbc41"
            ],
            [
             0.9,
             "#4d9221"
            ],
            [
             1,
             "#276419"
            ]
           ],
           "sequential": [
            [
             0,
             "#0d0887"
            ],
            [
             0.1111111111111111,
             "#46039f"
            ],
            [
             0.2222222222222222,
             "#7201a8"
            ],
            [
             0.3333333333333333,
             "#9c179e"
            ],
            [
             0.4444444444444444,
             "#bd3786"
            ],
            [
             0.5555555555555556,
             "#d8576b"
            ],
            [
             0.6666666666666666,
             "#ed7953"
            ],
            [
             0.7777777777777778,
             "#fb9f3a"
            ],
            [
             0.8888888888888888,
             "#fdca26"
            ],
            [
             1,
             "#f0f921"
            ]
           ],
           "sequentialminus": [
            [
             0,
             "#0d0887"
            ],
            [
             0.1111111111111111,
             "#46039f"
            ],
            [
             0.2222222222222222,
             "#7201a8"
            ],
            [
             0.3333333333333333,
             "#9c179e"
            ],
            [
             0.4444444444444444,
             "#bd3786"
            ],
            [
             0.5555555555555556,
             "#d8576b"
            ],
            [
             0.6666666666666666,
             "#ed7953"
            ],
            [
             0.7777777777777778,
             "#fb9f3a"
            ],
            [
             0.8888888888888888,
             "#fdca26"
            ],
            [
             1,
             "#f0f921"
            ]
           ]
          },
          "colorway": [
           "#636efa",
           "#EF553B",
           "#00cc96",
           "#ab63fa",
           "#FFA15A",
           "#19d3f3",
           "#FF6692",
           "#B6E880",
           "#FF97FF",
           "#FECB52"
          ],
          "font": {
           "color": "#2a3f5f"
          },
          "geo": {
           "bgcolor": "white",
           "lakecolor": "white",
           "landcolor": "#E5ECF6",
           "showlakes": true,
           "showland": true,
           "subunitcolor": "white"
          },
          "hoverlabel": {
           "align": "left"
          },
          "hovermode": "closest",
          "mapbox": {
           "style": "light"
          },
          "paper_bgcolor": "white",
          "plot_bgcolor": "#E5ECF6",
          "polar": {
           "angularaxis": {
            "gridcolor": "white",
            "linecolor": "white",
            "ticks": ""
           },
           "bgcolor": "#E5ECF6",
           "radialaxis": {
            "gridcolor": "white",
            "linecolor": "white",
            "ticks": ""
           }
          },
          "scene": {
           "xaxis": {
            "backgroundcolor": "#E5ECF6",
            "gridcolor": "white",
            "gridwidth": 2,
            "linecolor": "white",
            "showbackground": true,
            "ticks": "",
            "zerolinecolor": "white"
           },
           "yaxis": {
            "backgroundcolor": "#E5ECF6",
            "gridcolor": "white",
            "gridwidth": 2,
            "linecolor": "white",
            "showbackground": true,
            "ticks": "",
            "zerolinecolor": "white"
           },
           "zaxis": {
            "backgroundcolor": "#E5ECF6",
            "gridcolor": "white",
            "gridwidth": 2,
            "linecolor": "white",
            "showbackground": true,
            "ticks": "",
            "zerolinecolor": "white"
           }
          },
          "shapedefaults": {
           "line": {
            "color": "#2a3f5f"
           }
          },
          "ternary": {
           "aaxis": {
            "gridcolor": "white",
            "linecolor": "white",
            "ticks": ""
           },
           "baxis": {
            "gridcolor": "white",
            "linecolor": "white",
            "ticks": ""
           },
           "bgcolor": "#E5ECF6",
           "caxis": {
            "gridcolor": "white",
            "linecolor": "white",
            "ticks": ""
           }
          },
          "title": {
           "x": 0.05
          },
          "xaxis": {
           "automargin": true,
           "gridcolor": "white",
           "linecolor": "white",
           "ticks": "",
           "title": {
            "standoff": 15
           },
           "zerolinecolor": "white",
           "zerolinewidth": 2
          },
          "yaxis": {
           "automargin": true,
           "gridcolor": "white",
           "linecolor": "white",
           "ticks": "",
           "title": {
            "standoff": 15
           },
           "zerolinecolor": "white",
           "zerolinewidth": 2
          }
         }
        },
        "title": {
         "text": "Boxplot of Malaria Incidences per 1000 Population at Risk Across Countries"
        },
        "xaxis": {
         "anchor": "y",
         "domain": [
          0,
          1
         ],
         "title": {
          "text": "Country"
         }
        },
        "yaxis": {
         "anchor": "x",
         "domain": [
          0,
          1
         ],
         "title": {
          "text": "Incidences_per_1000_population_at_risk"
         }
        }
       }
      }
     },
     "metadata": {},
     "output_type": "display_data"
    }
   ],
   "source": [
    "import plotly.express as px\n",
    "\n",
    "# Boxplot for \"Incidences_per_1000_population_at_risk\" across different years\n",
    "fig_year = px.box(df, x='Year', y='Incidences_per_1000_population_at_risk',\n",
    "                  title='Boxplot of Malaria Incidences per 1000 Population at Risk Across Years')\n",
    "fig_year.show()\n",
    "\n",
    "# Boxplot for \"Incidences_per_1000_population_at_risk\" across different countries\n",
    "fig_country = px.box(df, x='Country', y='Incidences_per_1000_population_at_risk',\n",
    "                     title='Boxplot of Malaria Incidences per 1000 Population at Risk Across Countries')\n",
    "fig_country.show()\n"
   ]
  },
  {
   "cell_type": "code",
   "execution_count": null,
   "metadata": {},
   "outputs": [
    {
     "data": {
      "application/vnd.plotly.v1+json": {
       "config": {
        "plotlyServerURL": "https://plot.ly"
       },
       "data": [
        {
         "hovertemplate": "Annual Growth Rate of Rural Population=%{x}<br>Annual Growth Rate of Urban Population=%{y}<extra></extra>",
         "legendgroup": "",
         "marker": {
          "color": "#636efa",
          "symbol": "circle"
         },
         "mode": "markers",
         "name": "",
         "orientation": "v",
         "showlegend": false,
         "type": "scatter",
         "x": [
          -0.6,
          1.91,
          1.99,
          -1.44,
          2.16,
          3.02,
          -0.78,
          1.55,
          1.69,
          3.35,
          2.39,
          2.45,
          2.26,
          1.42,
          1.16,
          1.74,
          0.43,
          1.22,
          0.73,
          2.49,
          -0.91,
          1.44,
          1.26,
          1.82,
          1.8,
          2.29,
          -0.78,
          3.26,
          0.67,
          2.01,
          2.69,
          2.17,
          1.29,
          0.65,
          -0.14,
          2.51,
          0.17,
          3.76,
          1.16,
          2.51,
          -0.18,
          1.93,
          -0.15,
          2.1,
          7.09,
          -0.07,
          4.87,
          2.1,
          1.96,
          1.97,
          0.18,
          2.58,
          1.89,
          1.1,
          -0.55,
          1.91,
          1.95,
          -1.55,
          2.32,
          3.02,
          -0.86,
          1.54,
          1.51,
          2.38,
          3.28,
          2.47,
          2.24,
          1.46,
          1.15,
          1.81,
          0.33,
          0.71,
          0.42,
          2.27,
          -0.8,
          1.39,
          1.24,
          1.87,
          1.83,
          2.28,
          -0.63,
          3.48,
          0.53,
          1.96,
          2.75,
          2.13,
          1.27,
          0.55,
          -0.12,
          2.07,
          0.18,
          3.78,
          1.15,
          2.66,
          -0.2,
          1.96,
          1.54,
          1.75,
          0.34,
          -0.04,
          4.78,
          2.06,
          1.95,
          1.98,
          0.22,
          2.56,
          1.93,
          1.28,
          -0.45,
          1.88,
          1.92,
          -1.79,
          2.31,
          3,
          -0.88,
          1.53,
          1.19,
          3.27,
          2.36,
          2.47,
          2.07,
          1.5,
          1.2,
          1.9,
          0.2,
          0.96,
          0.44,
          2.28,
          -0.62,
          1.38,
          1.19,
          1.86,
          1.88,
          2.25,
          -0.5,
          3.3,
          0.31,
          1.91,
          2.75,
          2.04,
          1.27,
          0.46,
          -0.09,
          2.02,
          0.15,
          3.81,
          1.13,
          2.67,
          -0.37,
          1.99,
          -0.35,
          1.61,
          0.19,
          0.01,
          4.36,
          2.05,
          1.96,
          1.97,
          0.22,
          2.56,
          2.02,
          1.46,
          -0.37,
          1.83,
          1.91,
          -2.14,
          2.29,
          2.96,
          -0.86,
          1.51,
          0.78,
          3.27,
          2.34,
          2.46,
          1.82,
          1.54,
          1.24,
          2.02,
          0.02,
          0.7,
          0.41,
          2.29,
          -0.46,
          1.37,
          1.11,
          1.83,
          1.92,
          2.22,
          -0.4,
          2.89,
          0.06,
          1.86,
          2.73,
          1.92,
          1.25,
          0.43,
          -0.05,
          2.01,
          0.08,
          3.85,
          1.11,
          2.58,
          -0.65,
          2.01,
          2.01,
          1.62,
          0.04,
          0.06,
          3.73,
          2.08,
          1.98,
          1.94,
          0.2,
          2.56,
          2.1,
          1.63,
          -0.28,
          1.76,
          1.89,
          -2.53,
          2.26,
          2.9,
          -0.07,
          1.48,
          0.35,
          3.28,
          2.32,
          2.45,
          1.55,
          1.58,
          1.31,
          2.15,
          -0.17,
          0.44,
          0.39,
          2.31,
          -0.28,
          1.38,
          1.03,
          1.78,
          1.95,
          2.17,
          -0.27,
          2.46,
          -0.23,
          1.81,
          2.71,
          1.79,
          1.24,
          0.35,
          0,
          2,
          0.01,
          3.88,
          1.1,
          2.49,
          -0.95,
          2.03,
          -3.45,
          1.63,
          -0.1,
          0.12,
          3.12,
          2.13,
          1.99,
          1.88,
          0.15,
          2.54,
          2.2,
          1.81,
          -0.21,
          1.71,
          1.88,
          -1.34,
          2.23,
          2.85,
          -0.06,
          1.46,
          -0.01,
          3.26,
          2.3,
          2.43,
          1.32,
          1.63,
          1.36,
          2.31,
          -0.37,
          0.33,
          0.48,
          2.31,
          -0.19,
          1.36,
          0.96,
          1.76,
          1.98,
          2.13,
          0.03,
          2.14,
          -0.48,
          1.77,
          2.69,
          1.68,
          1.21,
          0.47,
          0.03,
          2,
          -0.11,
          3.9,
          1.09,
          2.45,
          -1.2,
          2.04,
          0.11,
          1.6,
          1.75,
          0.16,
          2.61,
          2.15,
          1.99,
          1.83,
          0.12,
          2.52,
          2.26,
          1.97,
          -0.15,
          1.64,
          1.86,
          -1.19,
          2.2,
          2.81,
          -0.06,
          1.43,
          -0.2,
          3.21,
          2.27,
          2.4,
          1.18,
          1.66,
          1.36,
          2.36,
          2.52,
          0.18,
          0.5,
          2.32,
          -0.2,
          1.35,
          0.91,
          1.79,
          1.98,
          2.06,
          0.13,
          1.9,
          -0.59,
          1.73,
          2.66,
          1.61,
          1.18,
          0.41,
          0.04,
          2,
          -0.16,
          3.91,
          1.07,
          2.45,
          -1.31,
          2.05,
          0.94,
          1.58,
          1.74,
          0.18,
          2.12,
          2.16,
          1.99,
          1.79,
          0.12,
          2.56,
          2.28,
          2.05,
          -0.11,
          1.56,
          1.83,
          -1.08,
          2.16,
          2.8,
          -0.09,
          1.4,
          -0.13,
          3.14,
          2.22,
          2.37,
          1.14,
          1.68,
          1.32,
          2.35,
          2.39,
          0.02,
          0.56,
          2.28,
          -0.32,
          1.33,
          0.86,
          1.9,
          1.95,
          1.99,
          0.19,
          1.77,
          -0.54,
          1.7,
          2.61,
          1.6,
          1.14,
          0.37,
          0.01,
          2.02,
          -0.18,
          3.89,
          1.05,
          2.46,
          -1.34,
          2.05,
          0.6,
          1.54,
          1.74,
          0.14,
          1.65,
          2.14,
          1.98,
          1.75,
          0.15,
          2.66,
          2.24,
          1.98,
          -0.08,
          1.5,
          1.8,
          -0.84,
          2.12,
          2.81,
          -0.12,
          1.37,
          0.12,
          3.04,
          2.16,
          2.33,
          1.16,
          1.68,
          1.23,
          2.3,
          2.24,
          -0.14,
          0.62,
          2.22,
          -0.52,
          1.31,
          0.83,
          2.02,
          1.91,
          1.91,
          0.21,
          1.71,
          -0.37,
          1.68,
          2.54,
          1.62,
          1.1,
          0.32,
          -0.03,
          2.04,
          -0.19,
          3.85,
          1.02,
          2.5,
          -1.29,
          2.02,
          1.27,
          1.51,
          1.75,
          0.07,
          1.23,
          2.1,
          1.97,
          1.69,
          0.16,
          2.79,
          2.17,
          1.84,
          -0.07,
          1.44,
          1.77,
          -0.56,
          2.08,
          2.82,
          -0.15,
          1.33,
          0.41,
          2.93,
          2.1,
          2.29,
          1.2,
          1.67,
          1.15,
          2.24,
          2.12,
          -0.29,
          0.69,
          2.16,
          -0.74,
          1.28,
          0.79,
          2.15,
          1.86,
          1.82,
          0.21,
          1.66,
          -0.17,
          1.66,
          2.48,
          1.65,
          1.06,
          0.22,
          -0.09,
          2.07,
          -0.17,
          3.81,
          0.99,
          2.54,
          -1.24,
          2,
          0.37,
          1.49,
          1.77,
          0,
          0.79,
          2.05,
          1.95,
          1.63,
          0.19,
          2.93,
          2.09,
          1.68,
          -0.05,
          1.38,
          1.74,
          -0.35,
          2.04,
          2.82,
          -0.17,
          1.29,
          0.67,
          2.84,
          2.04,
          2.24,
          1.21,
          1.66,
          1.06,
          2.14,
          2,
          -0.45,
          0.75,
          2.11,
          -0.92,
          1.25,
          0.76,
          2.25,
          1.81,
          1.74,
          0.22,
          1.59,
          -0.01,
          1.64,
          2.42,
          1.66,
          1.01,
          0.21,
          -0.14,
          2.08,
          -0.15,
          3.77,
          0.97,
          2.56,
          -1.2,
          1.97,
          0.25,
          1.46,
          1.78,
          -0.07,
          0.41,
          2.02,
          1.93,
          1.58,
          0.2,
          3.01,
          2.01,
          1.55
         ],
         "xaxis": "x",
         "y": [
          2.71,
          5.01,
          4.09,
          4.8,
          5.91,
          5.82,
          2.66,
          3.96,
          2.3,
          3.55,
          2.41,
          4.57,
          4.17,
          3.11,
          1.42,
          1.76,
          7.4,
          5.62,
          0.26,
          4.1,
          3.68,
          4.37,
          3.99,
          3.1,
          3.44,
          4.46,
          1.95,
          4.65,
          1.72,
          4.97,
          3.4,
          5.69,
          4.92,
          0.19,
          2.18,
          3.38,
          4.36,
          3.73,
          4.8,
          2.54,
          4.74,
          3.61,
          1.12,
          3.74,
          -4.65,
          2.18,
          5.79,
          2.34,
          5.32,
          4,
          1.44,
          5.84,
          3.96,
          0.28,
          2.78,
          5.02,
          4.05,
          4.7,
          5.34,
          5.84,
          2.6,
          3.96,
          2.21,
          2.47,
          3.47,
          4.6,
          4.16,
          3.15,
          1.4,
          1.73,
          7.31,
          5.12,
          1.68,
          5.16,
          3.81,
          4.33,
          3.97,
          3.15,
          3.48,
          4.45,
          2.1,
          4.87,
          1.65,
          4.92,
          3.45,
          5.66,
          4.91,
          0.09,
          2.2,
          4.28,
          4.38,
          3.75,
          4.79,
          2.69,
          4.72,
          3.65,
          2.87,
          3.4,
          7.39,
          2.22,
          5.72,
          2.3,
          5.32,
          4.01,
          1.49,
          5.83,
          4.01,
          0.46,
          2.82,
          4.99,
          4.02,
          4.44,
          5.32,
          5.81,
          2.56,
          3.94,
          1.98,
          3.46,
          2.53,
          4.63,
          4.01,
          3.18,
          1.45,
          1.82,
          7.16,
          3.55,
          1.69,
          5.15,
          3.97,
          4.3,
          3.91,
          3.15,
          3.51,
          4.42,
          2.22,
          4.73,
          1.5,
          4.86,
          3.54,
          5.55,
          4.89,
          0,
          2.23,
          4.33,
          4.33,
          3.79,
          4.77,
          2.7,
          4.55,
          3.67,
          1.06,
          3.26,
          7.21,
          2.26,
          5.36,
          2.39,
          5.32,
          3.99,
          1.49,
          5.82,
          4.08,
          0.64,
          2.87,
          4.93,
          4,
          4.1,
          5.29,
          5.79,
          2.53,
          3.93,
          1.67,
          3.57,
          2.6,
          4.64,
          3.77,
          3.23,
          1.56,
          1.94,
          6.99,
          3.3,
          1.67,
          5.17,
          4.14,
          4.31,
          3.84,
          3.12,
          3.56,
          4.38,
          2.33,
          4.36,
          1.31,
          4.81,
          3.61,
          5.4,
          4.88,
          -0.03,
          2.27,
          4.33,
          4.27,
          3.82,
          4.74,
          2.61,
          4.28,
          3.69,
          3.48,
          3.26,
          7.07,
          2.31,
          4.82,
          2.52,
          5.34,
          3.97,
          1.46,
          5.83,
          4.18,
          0.81,
          2.91,
          4.87,
          3.99,
          3.72,
          5.27,
          5.74,
          2.06,
          3.91,
          1.32,
          3.68,
          2.66,
          4.66,
          3.51,
          3.27,
          1.68,
          2.07,
          6.8,
          3.04,
          1.65,
          5.19,
          4.31,
          4.31,
          3.76,
          3.07,
          3.6,
          4.37,
          2.45,
          3.98,
          1.09,
          4.75,
          3.68,
          5.24,
          4.87,
          -0.11,
          2.31,
          4.33,
          4.19,
          3.85,
          4.7,
          2.52,
          3.97,
          3.71,
          -1.91,
          3.28,
          6.93,
          2.37,
          4.29,
          2.66,
          5.35,
          4,
          1.42,
          5.81,
          4.27,
          0.99,
          2.94,
          4.81,
          3.98,
          2.6,
          5.24,
          5.68,
          2.07,
          3.88,
          1.05,
          3.77,
          2.71,
          4.66,
          3.31,
          3.31,
          1.78,
          2.09,
          6.61,
          2.03,
          1.33,
          5.2,
          4.42,
          4.3,
          3.68,
          3.05,
          3.63,
          4.35,
          2.1,
          3.71,
          0.91,
          4.7,
          3.75,
          5.1,
          4.85,
          0.01,
          2.35,
          4.32,
          4.2,
          3.87,
          4.64,
          2.49,
          3.73,
          3.72,
          1.72,
          3.25,
          4.06,
          2.42,
          3.86,
          2.78,
          5.36,
          4,
          1.39,
          5.79,
          4.36,
          1.15,
          2.96,
          4.74,
          3.96,
          2.35,
          5.2,
          5.67,
          2.07,
          3.86,
          0.96,
          3.83,
          2.76,
          4.65,
          3.18,
          3.35,
          1.84,
          2.14,
          5.08,
          1.33,
          1.35,
          5.09,
          4.38,
          4.28,
          3.61,
          3.08,
          3.64,
          4.32,
          2.2,
          3.51,
          0.86,
          4.65,
          3.81,
          5,
          4.8,
          -0.05,
          2.35,
          4.32,
          4.15,
          3.88,
          4.59,
          2.48,
          3.48,
          3.73,
          2.61,
          3.22,
          4.04,
          2.43,
          3.44,
          2.88,
          5.35,
          3.96,
          1.38,
          5.82,
          4.4,
          1.23,
          2.96,
          4.67,
          3.95,
          2.46,
          5.17,
          5.67,
          2.04,
          3.83,
          1.11,
          3.85,
          2.79,
          4.64,
          3.15,
          3.37,
          1.85,
          2.13,
          4.94,
          0.64,
          1.4,
          5.05,
          4.17,
          4.24,
          3.56,
          3.18,
          3.62,
          4.27,
          2.26,
          3.42,
          0.98,
          4.62,
          3.84,
          4.96,
          4.73,
          -0.09,
          2.33,
          4.34,
          4.13,
          3.97,
          4.52,
          2.6,
          3.34,
          3.73,
          2.35,
          3.19,
          4.04,
          2.39,
          3.05,
          2.95,
          5.32,
          3.92,
          1.41,
          5.92,
          4.38,
          1.29,
          2.93,
          4.57,
          3.94,
          2.7,
          5.13,
          5.69,
          2.01,
          3.79,
          1.44,
          3.86,
          2.81,
          4.62,
          3.18,
          3.4,
          1.82,
          2.08,
          4.8,
          -0.06,
          1.47,
          4.99,
          3.87,
          4.2,
          3.51,
          3.36,
          3.58,
          4.21,
          2.28,
          3.41,
          1.21,
          4.58,
          3.88,
          4.94,
          4.64,
          -0.14,
          2.28,
          4.36,
          4.12,
          4.05,
          4.45,
          2.76,
          3.25,
          3.74,
          3.01,
          3.16,
          4.06,
          2.33,
          2.72,
          3.01,
          5.28,
          3.87,
          1.47,
          6.05,
          4.33,
          1.3,
          2.91,
          4.48,
          3.92,
          2.98,
          5.09,
          5.71,
          1.96,
          3.76,
          1.83,
          3.86,
          2.83,
          4.6,
          3.24,
          3.42,
          1.78,
          2.02,
          4.65,
          -0.76,
          1.58,
          4.94,
          3.54,
          4.15,
          3.46,
          3.55,
          3.54,
          4.15,
          2.28,
          3.4,
          1.48,
          4.55,
          3.89,
          4.94,
          4.55,
          -0.15,
          2.23,
          4.39,
          4.08,
          4.12,
          4.38,
          2.91,
          3.18,
          3.75,
          2.11,
          3.14,
          4.09,
          2.25,
          2.35,
          3.07,
          5.24,
          3.83,
          1.53,
          6.18,
          4.26,
          1.27,
          2.87,
          4.39,
          3.91,
          3.19,
          5.03,
          5.72,
          1.92,
          3.72,
          2.16,
          3.87,
          2.85,
          4.57,
          3.26,
          3.44,
          1.75,
          2.03,
          4.49,
          -1.46,
          1.67,
          4.87,
          3.27,
          4.1,
          3.42,
          3.7,
          3.5,
          4.09,
          2.29,
          3.36,
          1.7,
          4.52,
          3.92,
          4.92,
          4.46,
          -0.08,
          2.18,
          4.4,
          4.03,
          4.21,
          4.31,
          3.04,
          3.11,
          3.76,
          1.99,
          3.14,
          4.11,
          2.18,
          2.04,
          3.12,
          5.2,
          3.79,
          1.57,
          6.25,
          4.21,
          1.28
         ],
         "yaxis": "y"
        }
       ],
       "layout": {
        "legend": {
         "tracegroupgap": 0
        },
        "template": {
         "data": {
          "bar": [
           {
            "error_x": {
             "color": "#2a3f5f"
            },
            "error_y": {
             "color": "#2a3f5f"
            },
            "marker": {
             "line": {
              "color": "#E5ECF6",
              "width": 0.5
             },
             "pattern": {
              "fillmode": "overlay",
              "size": 10,
              "solidity": 0.2
             }
            },
            "type": "bar"
           }
          ],
          "barpolar": [
           {
            "marker": {
             "line": {
              "color": "#E5ECF6",
              "width": 0.5
             },
             "pattern": {
              "fillmode": "overlay",
              "size": 10,
              "solidity": 0.2
             }
            },
            "type": "barpolar"
           }
          ],
          "carpet": [
           {
            "aaxis": {
             "endlinecolor": "#2a3f5f",
             "gridcolor": "white",
             "linecolor": "white",
             "minorgridcolor": "white",
             "startlinecolor": "#2a3f5f"
            },
            "baxis": {
             "endlinecolor": "#2a3f5f",
             "gridcolor": "white",
             "linecolor": "white",
             "minorgridcolor": "white",
             "startlinecolor": "#2a3f5f"
            },
            "type": "carpet"
           }
          ],
          "choropleth": [
           {
            "colorbar": {
             "outlinewidth": 0,
             "ticks": ""
            },
            "type": "choropleth"
           }
          ],
          "contour": [
           {
            "colorbar": {
             "outlinewidth": 0,
             "ticks": ""
            },
            "colorscale": [
             [
              0,
              "#0d0887"
             ],
             [
              0.1111111111111111,
              "#46039f"
             ],
             [
              0.2222222222222222,
              "#7201a8"
             ],
             [
              0.3333333333333333,
              "#9c179e"
             ],
             [
              0.4444444444444444,
              "#bd3786"
             ],
             [
              0.5555555555555556,
              "#d8576b"
             ],
             [
              0.6666666666666666,
              "#ed7953"
             ],
             [
              0.7777777777777778,
              "#fb9f3a"
             ],
             [
              0.8888888888888888,
              "#fdca26"
             ],
             [
              1,
              "#f0f921"
             ]
            ],
            "type": "contour"
           }
          ],
          "contourcarpet": [
           {
            "colorbar": {
             "outlinewidth": 0,
             "ticks": ""
            },
            "type": "contourcarpet"
           }
          ],
          "heatmap": [
           {
            "colorbar": {
             "outlinewidth": 0,
             "ticks": ""
            },
            "colorscale": [
             [
              0,
              "#0d0887"
             ],
             [
              0.1111111111111111,
              "#46039f"
             ],
             [
              0.2222222222222222,
              "#7201a8"
             ],
             [
              0.3333333333333333,
              "#9c179e"
             ],
             [
              0.4444444444444444,
              "#bd3786"
             ],
             [
              0.5555555555555556,
              "#d8576b"
             ],
             [
              0.6666666666666666,
              "#ed7953"
             ],
             [
              0.7777777777777778,
              "#fb9f3a"
             ],
             [
              0.8888888888888888,
              "#fdca26"
             ],
             [
              1,
              "#f0f921"
             ]
            ],
            "type": "heatmap"
           }
          ],
          "heatmapgl": [
           {
            "colorbar": {
             "outlinewidth": 0,
             "ticks": ""
            },
            "colorscale": [
             [
              0,
              "#0d0887"
             ],
             [
              0.1111111111111111,
              "#46039f"
             ],
             [
              0.2222222222222222,
              "#7201a8"
             ],
             [
              0.3333333333333333,
              "#9c179e"
             ],
             [
              0.4444444444444444,
              "#bd3786"
             ],
             [
              0.5555555555555556,
              "#d8576b"
             ],
             [
              0.6666666666666666,
              "#ed7953"
             ],
             [
              0.7777777777777778,
              "#fb9f3a"
             ],
             [
              0.8888888888888888,
              "#fdca26"
             ],
             [
              1,
              "#f0f921"
             ]
            ],
            "type": "heatmapgl"
           }
          ],
          "histogram": [
           {
            "marker": {
             "pattern": {
              "fillmode": "overlay",
              "size": 10,
              "solidity": 0.2
             }
            },
            "type": "histogram"
           }
          ],
          "histogram2d": [
           {
            "colorbar": {
             "outlinewidth": 0,
             "ticks": ""
            },
            "colorscale": [
             [
              0,
              "#0d0887"
             ],
             [
              0.1111111111111111,
              "#46039f"
             ],
             [
              0.2222222222222222,
              "#7201a8"
             ],
             [
              0.3333333333333333,
              "#9c179e"
             ],
             [
              0.4444444444444444,
              "#bd3786"
             ],
             [
              0.5555555555555556,
              "#d8576b"
             ],
             [
              0.6666666666666666,
              "#ed7953"
             ],
             [
              0.7777777777777778,
              "#fb9f3a"
             ],
             [
              0.8888888888888888,
              "#fdca26"
             ],
             [
              1,
              "#f0f921"
             ]
            ],
            "type": "histogram2d"
           }
          ],
          "histogram2dcontour": [
           {
            "colorbar": {
             "outlinewidth": 0,
             "ticks": ""
            },
            "colorscale": [
             [
              0,
              "#0d0887"
             ],
             [
              0.1111111111111111,
              "#46039f"
             ],
             [
              0.2222222222222222,
              "#7201a8"
             ],
             [
              0.3333333333333333,
              "#9c179e"
             ],
             [
              0.4444444444444444,
              "#bd3786"
             ],
             [
              0.5555555555555556,
              "#d8576b"
             ],
             [
              0.6666666666666666,
              "#ed7953"
             ],
             [
              0.7777777777777778,
              "#fb9f3a"
             ],
             [
              0.8888888888888888,
              "#fdca26"
             ],
             [
              1,
              "#f0f921"
             ]
            ],
            "type": "histogram2dcontour"
           }
          ],
          "mesh3d": [
           {
            "colorbar": {
             "outlinewidth": 0,
             "ticks": ""
            },
            "type": "mesh3d"
           }
          ],
          "parcoords": [
           {
            "line": {
             "colorbar": {
              "outlinewidth": 0,
              "ticks": ""
             }
            },
            "type": "parcoords"
           }
          ],
          "pie": [
           {
            "automargin": true,
            "type": "pie"
           }
          ],
          "scatter": [
           {
            "fillpattern": {
             "fillmode": "overlay",
             "size": 10,
             "solidity": 0.2
            },
            "type": "scatter"
           }
          ],
          "scatter3d": [
           {
            "line": {
             "colorbar": {
              "outlinewidth": 0,
              "ticks": ""
             }
            },
            "marker": {
             "colorbar": {
              "outlinewidth": 0,
              "ticks": ""
             }
            },
            "type": "scatter3d"
           }
          ],
          "scattercarpet": [
           {
            "marker": {
             "colorbar": {
              "outlinewidth": 0,
              "ticks": ""
             }
            },
            "type": "scattercarpet"
           }
          ],
          "scattergeo": [
           {
            "marker": {
             "colorbar": {
              "outlinewidth": 0,
              "ticks": ""
             }
            },
            "type": "scattergeo"
           }
          ],
          "scattergl": [
           {
            "marker": {
             "colorbar": {
              "outlinewidth": 0,
              "ticks": ""
             }
            },
            "type": "scattergl"
           }
          ],
          "scattermapbox": [
           {
            "marker": {
             "colorbar": {
              "outlinewidth": 0,
              "ticks": ""
             }
            },
            "type": "scattermapbox"
           }
          ],
          "scatterpolar": [
           {
            "marker": {
             "colorbar": {
              "outlinewidth": 0,
              "ticks": ""
             }
            },
            "type": "scatterpolar"
           }
          ],
          "scatterpolargl": [
           {
            "marker": {
             "colorbar": {
              "outlinewidth": 0,
              "ticks": ""
             }
            },
            "type": "scatterpolargl"
           }
          ],
          "scatterternary": [
           {
            "marker": {
             "colorbar": {
              "outlinewidth": 0,
              "ticks": ""
             }
            },
            "type": "scatterternary"
           }
          ],
          "surface": [
           {
            "colorbar": {
             "outlinewidth": 0,
             "ticks": ""
            },
            "colorscale": [
             [
              0,
              "#0d0887"
             ],
             [
              0.1111111111111111,
              "#46039f"
             ],
             [
              0.2222222222222222,
              "#7201a8"
             ],
             [
              0.3333333333333333,
              "#9c179e"
             ],
             [
              0.4444444444444444,
              "#bd3786"
             ],
             [
              0.5555555555555556,
              "#d8576b"
             ],
             [
              0.6666666666666666,
              "#ed7953"
             ],
             [
              0.7777777777777778,
              "#fb9f3a"
             ],
             [
              0.8888888888888888,
              "#fdca26"
             ],
             [
              1,
              "#f0f921"
             ]
            ],
            "type": "surface"
           }
          ],
          "table": [
           {
            "cells": {
             "fill": {
              "color": "#EBF0F8"
             },
             "line": {
              "color": "white"
             }
            },
            "header": {
             "fill": {
              "color": "#C8D4E3"
             },
             "line": {
              "color": "white"
             }
            },
            "type": "table"
           }
          ]
         },
         "layout": {
          "annotationdefaults": {
           "arrowcolor": "#2a3f5f",
           "arrowhead": 0,
           "arrowwidth": 1
          },
          "autotypenumbers": "strict",
          "coloraxis": {
           "colorbar": {
            "outlinewidth": 0,
            "ticks": ""
           }
          },
          "colorscale": {
           "diverging": [
            [
             0,
             "#8e0152"
            ],
            [
             0.1,
             "#c51b7d"
            ],
            [
             0.2,
             "#de77ae"
            ],
            [
             0.3,
             "#f1b6da"
            ],
            [
             0.4,
             "#fde0ef"
            ],
            [
             0.5,
             "#f7f7f7"
            ],
            [
             0.6,
             "#e6f5d0"
            ],
            [
             0.7,
             "#b8e186"
            ],
            [
             0.8,
             "#7fbc41"
            ],
            [
             0.9,
             "#4d9221"
            ],
            [
             1,
             "#276419"
            ]
           ],
           "sequential": [
            [
             0,
             "#0d0887"
            ],
            [
             0.1111111111111111,
             "#46039f"
            ],
            [
             0.2222222222222222,
             "#7201a8"
            ],
            [
             0.3333333333333333,
             "#9c179e"
            ],
            [
             0.4444444444444444,
             "#bd3786"
            ],
            [
             0.5555555555555556,
             "#d8576b"
            ],
            [
             0.6666666666666666,
             "#ed7953"
            ],
            [
             0.7777777777777778,
             "#fb9f3a"
            ],
            [
             0.8888888888888888,
             "#fdca26"
            ],
            [
             1,
             "#f0f921"
            ]
           ],
           "sequentialminus": [
            [
             0,
             "#0d0887"
            ],
            [
             0.1111111111111111,
             "#46039f"
            ],
            [
             0.2222222222222222,
             "#7201a8"
            ],
            [
             0.3333333333333333,
             "#9c179e"
            ],
            [
             0.4444444444444444,
             "#bd3786"
            ],
            [
             0.5555555555555556,
             "#d8576b"
            ],
            [
             0.6666666666666666,
             "#ed7953"
            ],
            [
             0.7777777777777778,
             "#fb9f3a"
            ],
            [
             0.8888888888888888,
             "#fdca26"
            ],
            [
             1,
             "#f0f921"
            ]
           ]
          },
          "colorway": [
           "#636efa",
           "#EF553B",
           "#00cc96",
           "#ab63fa",
           "#FFA15A",
           "#19d3f3",
           "#FF6692",
           "#B6E880",
           "#FF97FF",
           "#FECB52"
          ],
          "font": {
           "color": "#2a3f5f"
          },
          "geo": {
           "bgcolor": "white",
           "lakecolor": "white",
           "landcolor": "#E5ECF6",
           "showlakes": true,
           "showland": true,
           "subunitcolor": "white"
          },
          "hoverlabel": {
           "align": "left"
          },
          "hovermode": "closest",
          "mapbox": {
           "style": "light"
          },
          "paper_bgcolor": "white",
          "plot_bgcolor": "#E5ECF6",
          "polar": {
           "angularaxis": {
            "gridcolor": "white",
            "linecolor": "white",
            "ticks": ""
           },
           "bgcolor": "#E5ECF6",
           "radialaxis": {
            "gridcolor": "white",
            "linecolor": "white",
            "ticks": ""
           }
          },
          "scene": {
           "xaxis": {
            "backgroundcolor": "#E5ECF6",
            "gridcolor": "white",
            "gridwidth": 2,
            "linecolor": "white",
            "showbackground": true,
            "ticks": "",
            "zerolinecolor": "white"
           },
           "yaxis": {
            "backgroundcolor": "#E5ECF6",
            "gridcolor": "white",
            "gridwidth": 2,
            "linecolor": "white",
            "showbackground": true,
            "ticks": "",
            "zerolinecolor": "white"
           },
           "zaxis": {
            "backgroundcolor": "#E5ECF6",
            "gridcolor": "white",
            "gridwidth": 2,
            "linecolor": "white",
            "showbackground": true,
            "ticks": "",
            "zerolinecolor": "white"
           }
          },
          "shapedefaults": {
           "line": {
            "color": "#2a3f5f"
           }
          },
          "ternary": {
           "aaxis": {
            "gridcolor": "white",
            "linecolor": "white",
            "ticks": ""
           },
           "baxis": {
            "gridcolor": "white",
            "linecolor": "white",
            "ticks": ""
           },
           "bgcolor": "#E5ECF6",
           "caxis": {
            "gridcolor": "white",
            "linecolor": "white",
            "ticks": ""
           }
          },
          "title": {
           "x": 0.05
          },
          "xaxis": {
           "automargin": true,
           "gridcolor": "white",
           "linecolor": "white",
           "ticks": "",
           "title": {
            "standoff": 15
           },
           "zerolinecolor": "white",
           "zerolinewidth": 2
          },
          "yaxis": {
           "automargin": true,
           "gridcolor": "white",
           "linecolor": "white",
           "ticks": "",
           "title": {
            "standoff": 15
           },
           "zerolinecolor": "white",
           "zerolinewidth": 2
          }
         }
        },
        "title": {
         "text": "Relationship between Annual Growth Rates of Rural and Urban Populations"
        },
        "xaxis": {
         "anchor": "y",
         "domain": [
          0,
          1
         ],
         "title": {
          "text": "Annual Growth Rate of Rural Population"
         }
        },
        "yaxis": {
         "anchor": "x",
         "domain": [
          0,
          1
         ],
         "title": {
          "text": "Annual Growth Rate of Urban Population"
         }
        }
       }
      }
     },
     "metadata": {},
     "output_type": "display_data"
    }
   ],
   "source": [
    "import plotly.express as px\n",
    "\n",
    "# Create a scatter plot to explore the relationship between annual growth rates of rural and urban populations\n",
    "fig = px.scatter(df, x='annual_%_growth_of_rural_population', y='annual_%_growth_of_urban_population',\n",
    "                 title='Relationship between Annual Growth Rates of Rural and Urban Populations',\n",
    "                 labels={'annual_%_growth_of_rural_population': 'Annual Growth Rate of Rural Population',\n",
    "                         'annual_%_growth_of_urban_population': 'Annual Growth Rate of Urban Population'})\n",
    "\n",
    "# Show the scatter plot\n",
    "fig.show()\n"
   ]
  },
  {
   "cell_type": "code",
   "execution_count": null,
   "metadata": {},
   "outputs": [
    {
     "name": "stdout",
     "output_type": "stream",
     "text": [
      "                                     OLS Regression Results                                    \n",
      "===============================================================================================\n",
      "Dep. Variable:     annual_%_growth_of_urban_population   R-squared:                       0.120\n",
      "Model:                                             OLS   Adj. R-squared:                  0.118\n",
      "Method:                                  Least Squares   F-statistic:                     80.65\n",
      "Date:                                 Fri, 04 Aug 2023   Prob (F-statistic):           3.57e-18\n",
      "Time:                                         15:06:26   Log-Likelihood:                -1041.1\n",
      "No. Observations:                                  594   AIC:                             2086.\n",
      "Df Residuals:                                      592   BIC:                             2095.\n",
      "Df Model:                                            1                                         \n",
      "Covariance Type:                             nonrobust                                         \n",
      "=======================================================================================================\n",
      "                                          coef    std err          t      P>|t|      [0.025      0.975]\n",
      "-------------------------------------------------------------------------------------------------------\n",
      "const                                   2.9008      0.087     33.271      0.000       2.730       3.072\n",
      "annual_%_growth_of_rural_population     0.4288      0.048      8.980      0.000       0.335       0.523\n",
      "==============================================================================\n",
      "Omnibus:                      118.869   Durbin-Watson:                   2.150\n",
      "Prob(Omnibus):                  0.000   Jarque-Bera (JB):              818.944\n",
      "Skew:                          -0.684   Prob(JB):                    1.47e-178\n",
      "Kurtosis:                       8.587   Cond. No.                         3.30\n",
      "==============================================================================\n",
      "\n",
      "Notes:\n",
      "[1] Standard Errors assume that the covariance matrix of the errors is correctly specified.\n"
     ]
    }
   ],
   "source": [
    "import statsmodels.api as sm\n",
    "\n",
    "# Define the independent variable (X) and dependent variable (y)\n",
    "X = df['annual_%_growth_of_rural_population']\n",
    "y = df['annual_%_growth_of_urban_population']\n",
    "\n",
    "# Add a constant term to the independent variable (X) for the intercept term in the regression model\n",
    "X = sm.add_constant(X)\n",
    "\n",
    "# Fit the linear regression model\n",
    "model = sm.OLS(y, X).fit()\n",
    "\n",
    "# Print the summary of the regression model\n",
    "print(model.summary())\n"
   ]
  },
  {
   "cell_type": "code",
   "execution_count": null,
   "metadata": {},
   "outputs": [
    {
     "name": "stdout",
     "output_type": "stream",
     "text": [
      "Investigate whether access to basic drinking water services is associated with the incidence of malaria.\n",
      "Correlation Coefficient: -0.4695916121323202\n"
     ]
    }
   ],
   "source": [
    "print(\"Investigate whether access to basic drinking water services is associated with the incidence of malaria.\")\n",
    "correlation_df = df[['%_using_atleast_basic_drinking_water_services', 'Incidences_per_1000_population_at_risk']]\n",
    "\n",
    "# Compute the correlation coefficient (Pearson correlation)\n",
    "correlation_coefficient = correlation_df.corr().iloc[0, 1]\n",
    "\n",
    "print(\"Correlation Coefficient:\", correlation_coefficient)\n"
   ]
  },
  {
   "cell_type": "code",
   "execution_count": null,
   "metadata": {},
   "outputs": [
    {
     "name": "stdout",
     "output_type": "stream",
     "text": [
      "\n",
      "Correlation Coefficient (Rural): -0.25811190356866726\n"
     ]
    }
   ],
   "source": [
    "print(\"\")\n",
    "# Select the relevant columns for the correlation analysis\n",
    "correlation_df_rural = df[['%_of_rural_using_atleast_basic_drinking_water_services', 'Incidences_per_1000_population_at_risk']]\n",
    "\n",
    "# Compute the correlation coefficient (Pearson correlation) for rural areas\n",
    "correlation_coefficient_rural = correlation_df_rural.corr().iloc[0, 1]\n",
    "\n",
    "print(\"Correlation Coefficient (Rural):\", correlation_coefficient_rural)\n"
   ]
  },
  {
   "cell_type": "code",
   "execution_count": null,
   "metadata": {},
   "outputs": [
    {
     "name": "stdout",
     "output_type": "stream",
     "text": [
      "Mann-Whitney U Statistic: 11880.0\n",
      "P-value: 1.3969334780505478e-12\n"
     ]
    }
   ],
   "source": [
    "from scipy.stats import mannwhitneyu\n",
    "\n",
    "# Separate the data for rural areas with access and without access to basic drinking water services\n",
    "rural_with_access = df[df['%_of_rural_using_atleast_basic_drinking_water_services'] > 0]\n",
    "rural_without_access = df[df['%_of_rural_using_atleast_basic_drinking_water_services'] == 0]\n",
    "\n",
    "# Extract the incidence data for the two groups\n",
    "incidences_with_access = rural_with_access['Incidences_per_1000_population_at_risk']\n",
    "incidences_without_access = rural_without_access['Incidences_per_1000_population_at_risk']\n",
    "\n",
    "# Perform the Mann-Whitney U test\n",
    "statistic, p_value = mannwhitneyu(incidences_with_access, incidences_without_access, alternative='two-sided')\n",
    "\n",
    "print(\"Mann-Whitney U Statistic:\", statistic)\n",
    "print(\"P-value:\", p_value)\n"
   ]
  },
  {
   "cell_type": "code",
   "execution_count": null,
   "metadata": {},
   "outputs": [],
   "source": []
  }
 ],
 "metadata": {
  "kernelspec": {
   "display_name": "Python 3",
   "language": "python",
   "name": "python3"
  },
  "language_info": {
   "codemirror_mode": {
    "name": "ipython",
    "version": 3
   },
   "file_extension": ".py",
   "mimetype": "text/x-python",
   "name": "python",
   "nbconvert_exporter": "python",
   "pygments_lexer": "ipython3",
   "version": "3.11.2"
  }
 },
 "nbformat": 4,
 "nbformat_minor": 2
}
